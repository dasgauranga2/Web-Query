{
 "cells": [
  {
   "cell_type": "code",
   "execution_count": 1,
   "metadata": {},
   "outputs": [],
   "source": [
    "import json\n",
    "import pandas as pd\n",
    "from transformers import T5Tokenizer"
   ]
  },
  {
   "cell_type": "code",
   "execution_count": 2,
   "metadata": {},
   "outputs": [],
   "source": [
    "tokenizer = T5Tokenizer.from_pretrained('t5-small')"
   ]
  },
  {
   "cell_type": "code",
   "execution_count": null,
   "metadata": {},
   "outputs": [],
   "source": []
  },
  {
   "cell_type": "code",
   "execution_count": null,
   "metadata": {},
   "outputs": [],
   "source": []
  },
  {
   "cell_type": "code",
   "execution_count": 3,
   "metadata": {},
   "outputs": [],
   "source": [
    "result = []"
   ]
  },
  {
   "cell_type": "code",
   "execution_count": 4,
   "metadata": {},
   "outputs": [],
   "source": [
    "with open('squad_train.json', \"r\") as fh:\n",
    "    source = json.load(fh)\n",
    "    for article in source[\"data\"]:\n",
    "        for para in article[\"paragraphs\"]:\n",
    "            context = para[\"context\"].replace(\"''\", '\" ').replace(\"``\", '\" ')\n",
    "            context_tokens = tokenizer.tokenize(context.lower())\n",
    "            \n",
    "            for qa in para[\"qas\"]:\n",
    "                ques = qa[\"question\"].replace(\"''\", '\" ').replace(\"``\", '\" ')\n",
    "                ques_tokens = tokenizer.tokenize(ques.lower())\n",
    "\n",
    "                for answer in qa[\"answers\"]:\n",
    "                    answer_text = answer[\"text\"]\n",
    "                    \n",
    "                    start = answer[\"answer_start\"]\n",
    "                    end = start + len(answer_text)\n",
    "                    \n",
    "                    if len(context_tokens) < 100 and len(ques_tokens) < 30:\n",
    "                        txt = \"context : \" + context.lower() + \" question : \" + ques.lower()\n",
    "                        ans = answer_text.lower()\n",
    "                        result.append([txt,ans])\n",
    "                    else:\n",
    "                        #s_context = context[:end+150]\n",
    "                        i = end-1\n",
    "                        while i < len(context) and context[i] != '.' and context[i] != '?':\n",
    "                            i = i+1\n",
    "                        s_context = context[:i+1]\n",
    "                        \n",
    "                        s_context_tokens = tokenizer.tokenize(s_context)\n",
    "                        if len(s_context_tokens) < 100 and len(ques_tokens) < 30:\n",
    "                            txt = \"context : \" + s_context.lower() + \" question : \" + ques.lower()\n",
    "                            ans = answer_text.lower()\n",
    "                            result.append([txt,ans])"
   ]
  },
  {
   "cell_type": "code",
   "execution_count": 5,
   "metadata": {},
   "outputs": [
    {
     "data": {
      "text/plain": [
       "51045"
      ]
     },
     "execution_count": 5,
     "metadata": {},
     "output_type": "execute_result"
    }
   ],
   "source": [
    "len(result)"
   ]
  },
  {
   "cell_type": "code",
   "execution_count": null,
   "metadata": {},
   "outputs": [],
   "source": []
  },
  {
   "cell_type": "code",
   "execution_count": null,
   "metadata": {},
   "outputs": [],
   "source": []
  },
  {
   "cell_type": "code",
   "execution_count": 6,
   "metadata": {},
   "outputs": [
    {
     "data": {
      "text/plain": [
       "['context : educational psychology can in part be understood through its relationship with other disciplines. it is informed primarily by psychology, bearing a relationship to that discipline analogous to the relationship between medicine and biology. question : how is the method of educational psychology have some relation to medicine and biology?',\n",
       " 'discipline analogous']"
      ]
     },
     "execution_count": 6,
     "metadata": {},
     "output_type": "execute_result"
    }
   ],
   "source": [
    "result[40000]"
   ]
  },
  {
   "cell_type": "code",
   "execution_count": null,
   "metadata": {},
   "outputs": [],
   "source": []
  },
  {
   "cell_type": "code",
   "execution_count": null,
   "metadata": {},
   "outputs": [],
   "source": []
  },
  {
   "cell_type": "code",
   "execution_count": 7,
   "metadata": {},
   "outputs": [],
   "source": [
    "train_df = pd.DataFrame(result , columns = ['Text', 'Answer'])"
   ]
  },
  {
   "cell_type": "code",
   "execution_count": 8,
   "metadata": {},
   "outputs": [],
   "source": [
    "train_df.to_csv('squad.csv', index=False)"
   ]
  },
  {
   "cell_type": "code",
   "execution_count": null,
   "metadata": {},
   "outputs": [],
   "source": []
  },
  {
   "cell_type": "code",
   "execution_count": null,
   "metadata": {},
   "outputs": [],
   "source": []
  }
 ],
 "metadata": {
  "kernelspec": {
   "display_name": "Python 3",
   "language": "python",
   "name": "python3"
  },
  "language_info": {
   "codemirror_mode": {
    "name": "ipython",
    "version": 3
   },
   "file_extension": ".py",
   "mimetype": "text/x-python",
   "name": "python",
   "nbconvert_exporter": "python",
   "pygments_lexer": "ipython3",
   "version": "3.8.3"
  }
 },
 "nbformat": 4,
 "nbformat_minor": 4
}

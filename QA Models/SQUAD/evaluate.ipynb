{
 "cells": [
  {
   "cell_type": "code",
   "execution_count": 1,
   "metadata": {},
   "outputs": [],
   "source": [
    "import torch\n",
    "import torch.nn as nn\n",
    "import torch.optim as optim\n",
    "\n",
    "import torchtext\n",
    "from torchtext.data import Field, BucketIterator\n",
    "\n",
    "import spacy\n",
    "import numpy as np\n",
    "\n",
    "import random\n",
    "import math\n",
    "import time\n",
    "from torchtext import data\n",
    "from transformers import T5Tokenizer, T5Model"
   ]
  },
  {
   "cell_type": "code",
   "execution_count": 2,
   "metadata": {},
   "outputs": [],
   "source": [
    "tokenizer = T5Tokenizer.from_pretrained('t5-small')"
   ]
  },
  {
   "cell_type": "code",
   "execution_count": 3,
   "metadata": {},
   "outputs": [
    {
     "name": "stdout",
     "output_type": "stream",
     "text": [
      "['▁Hello', '▁world', '▁how', '▁are', '▁you', '?']\n"
     ]
    }
   ],
   "source": [
    "tokens = tokenizer.tokenize('Hello world how are you?')\n",
    "\n",
    "print(tokens)"
   ]
  },
  {
   "cell_type": "code",
   "execution_count": 4,
   "metadata": {},
   "outputs": [
    {
     "name": "stdout",
     "output_type": "stream",
     "text": [
      "[8774, 296, 149, 33, 25, 58]\n"
     ]
    }
   ],
   "source": [
    "indexes = tokenizer.convert_tokens_to_ids(tokens)\n",
    "\n",
    "print(indexes)"
   ]
  },
  {
   "cell_type": "code",
   "execution_count": 5,
   "metadata": {},
   "outputs": [
    {
     "name": "stdout",
     "output_type": "stream",
     "text": [
      "<pad> </s> <pad> <unk>\n"
     ]
    }
   ],
   "source": [
    "init_token = tokenizer.pad_token\n",
    "eos_token = tokenizer.eos_token\n",
    "pad_token = tokenizer.pad_token\n",
    "unk_token = tokenizer.unk_token\n",
    "\n",
    "print(init_token, eos_token, pad_token, unk_token)"
   ]
  },
  {
   "cell_type": "code",
   "execution_count": 6,
   "metadata": {},
   "outputs": [
    {
     "name": "stdout",
     "output_type": "stream",
     "text": [
      "0 1 0 2\n"
     ]
    }
   ],
   "source": [
    "init_token_idx = tokenizer.convert_tokens_to_ids(init_token)\n",
    "eos_token_idx = tokenizer.convert_tokens_to_ids(eos_token)\n",
    "pad_token_idx = tokenizer.convert_tokens_to_ids(pad_token)\n",
    "unk_token_idx = tokenizer.convert_tokens_to_ids(unk_token)\n",
    "\n",
    "print(init_token_idx, eos_token_idx, pad_token_idx, unk_token_idx)"
   ]
  },
  {
   "cell_type": "code",
   "execution_count": 7,
   "metadata": {},
   "outputs": [
    {
     "name": "stdout",
     "output_type": "stream",
     "text": [
      "512\n"
     ]
    }
   ],
   "source": [
    "max_input_length = tokenizer.max_model_input_sizes['t5-small']\n",
    "\n",
    "print(max_input_length)"
   ]
  },
  {
   "cell_type": "code",
   "execution_count": 8,
   "metadata": {},
   "outputs": [],
   "source": [
    "def tokenize_and_cut(sentence):\n",
    "    tokens = tokenizer.tokenize(sentence) \n",
    "    tokens = tokens[:max_input_length-2]\n",
    "    return tokens"
   ]
  },
  {
   "cell_type": "code",
   "execution_count": 9,
   "metadata": {},
   "outputs": [],
   "source": [
    "SRC = data.Field(batch_first = True,\n",
    "                  use_vocab = False,\n",
    "                  tokenize = tokenize_and_cut,\n",
    "                  preprocessing = tokenizer.convert_tokens_to_ids,\n",
    "                  init_token = init_token_idx,\n",
    "                  eos_token = eos_token_idx,\n",
    "                  pad_token = pad_token_idx,\n",
    "                  unk_token = unk_token_idx)\n",
    "\n",
    "TRG = data.Field(batch_first = True,\n",
    "                  use_vocab = False,\n",
    "                  tokenize = tokenize_and_cut,\n",
    "                  preprocessing = tokenizer.convert_tokens_to_ids,\n",
    "                  init_token = init_token_idx,\n",
    "                  eos_token = eos_token_idx,\n",
    "                  pad_token = pad_token_idx,\n",
    "                  unk_token = unk_token_idx)"
   ]
  },
  {
   "cell_type": "code",
   "execution_count": 10,
   "metadata": {},
   "outputs": [],
   "source": [
    "fields = [('src', SRC), ('trg', TRG)]"
   ]
  },
  {
   "cell_type": "code",
   "execution_count": 11,
   "metadata": {},
   "outputs": [],
   "source": [
    "train_data = data.TabularDataset.splits(\n",
    "                path = '',\n",
    "                train = 'squad.csv',\n",
    "                format = 'csv',\n",
    "                fields = fields,\n",
    "                skip_header = True)\n",
    "\n",
    "train_data , valid_data = train_data[0].split(split_ratio=0.96,\n",
    "                                             random_state = random.seed(12))"
   ]
  },
  {
   "cell_type": "code",
   "execution_count": 12,
   "metadata": {},
   "outputs": [
    {
     "name": "stdout",
     "output_type": "stream",
     "text": [
      "49003\n",
      "2042\n"
     ]
    }
   ],
   "source": [
    "print(len(train_data.examples))\n",
    "print(len(valid_data.examples))"
   ]
  },
  {
   "cell_type": "code",
   "execution_count": 13,
   "metadata": {},
   "outputs": [
    {
     "name": "stdout",
     "output_type": "stream",
     "text": [
      "{'src': [2625, 3, 10, 788, 12, 8, 5919, 13, 1668, 11, 165, 20187, 16595, 6, 3, 11390, 208, 1632, 8, 167, 359, 1668, 2050, 11, 5752, 859, 8, 9026, 7, 117, 2459, 8, 2488, 13, 3, 11390, 208, 6886, 1827, 96, 15247, 121, 147, 8, 3825, 844, 5, 48, 22277, 5012, 13999, 45, 3, 9, 17952, 13, 1435, 16246, 7064, 447, 384, 9026, 7, 1928, 15, 26, 544, 16, 46, 1941, 12, 993, 8, 5383, 10312, 11, 4405, 8, 7596, 13, 8, 1322, 5, 48, 7021, 1597, 8, 166, 779, 3119, 16, 8, 3, 4502, 31, 11, 47, 8, 166, 14538, 607, 13, 1044, 18, 27818, 5, 822, 3, 10, 125, 686, 13, 789, 764, 45, 8, 17952, 13, 1435, 16246, 11015, 75, 384, 58], 'trg': [166, 14538, 607, 13, 1044, 18, 27818]}\n"
     ]
    }
   ],
   "source": [
    "print(vars(train_data.examples[10000]))"
   ]
  },
  {
   "cell_type": "code",
   "execution_count": 14,
   "metadata": {},
   "outputs": [
    {
     "name": "stdout",
     "output_type": "stream",
     "text": [
      "['▁context', '▁', ':', '▁due', '▁to', '▁the', '▁expansion', '▁of', '▁trade', '▁and', '▁its', '▁geographical', '▁proximity', ',', '▁', 'kie', 'v', '▁became', '▁the', '▁most', '▁important', '▁trade', '▁centre', '▁and', '▁chief', '▁among', '▁the', '▁commune', 's', ';', '▁therefore', '▁the', '▁leader', '▁of', '▁', 'kie', 'v', '▁gained', '▁political', '▁\"', 'control', '\"', '▁over', '▁the', '▁surrounding', '▁areas', '.', '▁this', '▁prince', 'dom', '▁emerged', '▁from', '▁', 'a', '▁coalition', '▁of', '▁traditional', '▁patri', 'arch', 'ic', '▁family', '▁commune', 's', '▁band', 'e', 'd', '▁together', '▁in', '▁an', '▁effort', '▁to', '▁increase', '▁the', '▁applicable', '▁workforce', '▁and', '▁expand', '▁the', '▁productivity', '▁of', '▁the', '▁land', '.', '▁this', '▁union', '▁developed', '▁the', '▁first', '▁major', '▁cities', '▁in', '▁the', '▁', 'rus', \"'\", '▁and', '▁was', '▁the', '▁first', '▁notable', '▁form', '▁of', '▁self', '-', 'government', '.', '▁question', '▁', ':', '▁what', '▁type', '▁of', '▁government', '▁came', '▁from', '▁the', '▁coalition', '▁of', '▁traditional', '▁patri', 'achi', 'c', '▁family', '?']\n",
      "['▁first', '▁notable', '▁form', '▁of', '▁self', '-', 'government']\n"
     ]
    }
   ],
   "source": [
    "tokens = tokenizer.convert_ids_to_tokens(vars(train_data.examples[10000])['src'])\n",
    "\n",
    "print(tokens)\n",
    "tokens = tokenizer.convert_ids_to_tokens(vars(train_data.examples[10000])['trg'])\n",
    "\n",
    "print(tokens)"
   ]
  },
  {
   "cell_type": "code",
   "execution_count": 15,
   "metadata": {},
   "outputs": [],
   "source": [
    "class T5Network(nn.Module):\n",
    "    def __init__(self):\n",
    "        \n",
    "        super().__init__()\n",
    "        \n",
    "        self.t5 = t5 = T5Model.from_pretrained('t5-small')\n",
    "        \n",
    "        self.out = nn.Linear(t5.config.to_dict()['d_model'], t5.config.to_dict()['vocab_size'])\n",
    "                \n",
    "    def forward(self, src, trg):\n",
    "        \n",
    "        embedded = self.t5(input_ids=src, decoder_input_ids=trg)\n",
    "        \n",
    "        output = self.out(embedded[0])\n",
    "        \n",
    "        return output"
   ]
  },
  {
   "cell_type": "code",
   "execution_count": 16,
   "metadata": {},
   "outputs": [
    {
     "name": "stderr",
     "output_type": "stream",
     "text": [
      "Some weights of T5Model were not initialized from the model checkpoint at t5-small and are newly initialized: ['encoder.embed_tokens.weight', 'decoder.embed_tokens.weight']\n",
      "You should probably TRAIN this model on a down-stream task to be able to use it for predictions and inference.\n"
     ]
    },
    {
     "data": {
      "text/plain": [
       "<All keys matched successfully>"
      ]
     },
     "execution_count": 16,
     "metadata": {},
     "output_type": "execute_result"
    }
   ],
   "source": [
    "model = T5Network().cuda()\n",
    "model.load_state_dict(torch.load('model_4.pt'))"
   ]
  },
  {
   "cell_type": "code",
   "execution_count": 17,
   "metadata": {},
   "outputs": [
    {
     "name": "stdout",
     "output_type": "stream",
     "text": [
      "The model has 76,988,544 trainable parameters\n"
     ]
    }
   ],
   "source": [
    "def count_parameters(model):\n",
    "    return sum(p.numel() for p in model.parameters() if p.requires_grad)\n",
    "\n",
    "print(f'The model has {count_parameters(model):,} trainable parameters')"
   ]
  },
  {
   "cell_type": "code",
   "execution_count": null,
   "metadata": {},
   "outputs": [],
   "source": []
  },
  {
   "cell_type": "code",
   "execution_count": null,
   "metadata": {},
   "outputs": [],
   "source": []
  },
  {
   "cell_type": "code",
   "execution_count": null,
   "metadata": {},
   "outputs": [],
   "source": []
  },
  {
   "cell_type": "code",
   "execution_count": null,
   "metadata": {},
   "outputs": [],
   "source": []
  },
  {
   "cell_type": "code",
   "execution_count": 53,
   "metadata": {},
   "outputs": [],
   "source": [
    "def translate_sentence(sentence, src_field, trg_field, model, max_len = 50):\n",
    "    model.eval()\n",
    "\n",
    "    src_indexes = [init_token_idx] + sentence + [eos_token_idx]\n",
    "    src_tensor = torch.LongTensor(src_indexes).unsqueeze(0).cuda()\n",
    "\n",
    "    trg_indexes = [init_token_idx]\n",
    "\n",
    "    for i in range(max_len):\n",
    "\n",
    "        trg_tensor = torch.LongTensor(trg_indexes).unsqueeze(0).cuda()\n",
    "        \n",
    "        with torch.no_grad():\n",
    "            output = model(src_tensor, trg_tensor)\n",
    "        \n",
    "        pred_token = output.argmax(2)[:,-1].item()\n",
    "        \n",
    "        trg_indexes.append(pred_token)\n",
    "\n",
    "        if pred_token == eos_token_idx:\n",
    "            break\n",
    "            \n",
    "    return trg_indexes[1:-1]"
   ]
  },
  {
   "cell_type": "code",
   "execution_count": 54,
   "metadata": {},
   "outputs": [
    {
     "name": "stdout",
     "output_type": "stream",
     "text": [
      "SRC : ▁context ▁ : ▁during ▁the ▁last ▁three ▁decades ▁of ▁the ▁19 th ▁century ▁ a ▁proliferation ▁of ▁ anthropo logical ▁societies ▁and ▁associations ▁occurred , ▁most ▁independent , ▁most ▁publishing ▁their ▁own ▁journals , ▁and ▁all ▁international ▁in ▁membership ▁and ▁association . ▁question ▁ : ▁what ▁pro life rated ▁in ▁the ▁last ▁three ▁decades ▁of ▁the ▁19 th ▁century ?\n",
      "TRG : ▁ anthropo logical ▁societies\n",
      "PREDICTED : ▁ anthropo logical ▁societies ▁and ▁associations\n",
      "\n"
     ]
    }
   ],
   "source": [
    "src = vars(valid_data.examples[10])['src']\n",
    "trg = vars(valid_data.examples[10])['trg']\n",
    "translation = translate_sentence(src, SRC, TRG, model)\n",
    "\n",
    "print(f\"SRC : {' '.join(tokenizer.convert_ids_to_tokens(src))}\")\n",
    "print(f\"TRG : {' '.join(tokenizer.convert_ids_to_tokens(trg))}\")\n",
    "print(f\"PREDICTED : {' '.join(tokenizer.convert_ids_to_tokens(translation))}\\n\")"
   ]
  },
  {
   "cell_type": "code",
   "execution_count": null,
   "metadata": {},
   "outputs": [],
   "source": []
  },
  {
   "cell_type": "code",
   "execution_count": null,
   "metadata": {},
   "outputs": [],
   "source": []
  },
  {
   "cell_type": "code",
   "execution_count": 55,
   "metadata": {},
   "outputs": [
    {
     "name": "stdout",
     "output_type": "stream",
     "text": [
      "[2625, 3, 10, 383, 8, 336, 386, 4160, 13, 8, 957, 189, 2646, 3, 9, 27419, 13, 3, 21468, 6207, 18804, 11, 10906, 6935, 6, 167, 2547, 6, 167, 9002, 70, 293, 18178, 6, 11, 66, 1038, 16, 4757, 11, 6028, 5, 822, 3, 10, 125, 813, 4597, 4094, 16, 8, 336, 386, 4160, 13, 8, 957, 189, 2646, 58]\n"
     ]
    }
   ],
   "source": [
    "print(src)"
   ]
  },
  {
   "cell_type": "code",
   "execution_count": 56,
   "metadata": {},
   "outputs": [
    {
     "name": "stdout",
     "output_type": "stream",
     "text": [
      "['▁context', '▁', ':', '▁during', '▁the', '▁last', '▁three', '▁decades', '▁of', '▁the', '▁19', 'th', '▁century', '▁', 'a', '▁proliferation', '▁of', '▁', 'anthropo', 'logical', '▁societies', '▁and', '▁associations', '▁occurred', ',', '▁most', '▁independent', ',', '▁most', '▁publishing', '▁their', '▁own', '▁journals', ',', '▁and', '▁all', '▁international', '▁in', '▁membership', '▁and', '▁association', '.', '▁question', '▁', ':', '▁what', '▁pro', 'life', 'rated', '▁in', '▁the', '▁last', '▁three', '▁decades', '▁of', '▁the', '▁19', 'th', '▁century', '?']\n"
     ]
    }
   ],
   "source": [
    "print(tokenizer.convert_ids_to_tokens(src))"
   ]
  },
  {
   "cell_type": "code",
   "execution_count": null,
   "metadata": {},
   "outputs": [],
   "source": []
  },
  {
   "cell_type": "code",
   "execution_count": null,
   "metadata": {},
   "outputs": [],
   "source": []
  },
  {
   "cell_type": "code",
   "execution_count": 57,
   "metadata": {},
   "outputs": [],
   "source": [
    "CONTEXT = \"harry is playing with his dog. the dog is twenty years old.\"\n",
    "QUERY = \"how old is the dog ?\"\n",
    "\n",
    "text = \"context : \" + CONTEXT.lower() + \" question : \" + QUERY.lower()\n",
    "tokens = tokenizer.tokenize(text)"
   ]
  },
  {
   "cell_type": "code",
   "execution_count": 58,
   "metadata": {},
   "outputs": [
    {
     "name": "stdout",
     "output_type": "stream",
     "text": [
      "context : harry is playing with his dog. the dog is twenty years old. question : how old is the dog ?\n",
      "\n",
      "\n",
      "['▁context', '▁', ':', '▁', 'har', 'ry', '▁is', '▁playing', '▁with', '▁his', '▁dog', '.', '▁the', '▁dog', '▁is', '▁twenty', '▁years', '▁old', '.', '▁question', '▁', ':', '▁how', '▁old', '▁is', '▁the', '▁dog', '▁', '?']\n",
      "\n",
      "\n",
      "[2625, 3, 10, 3, 3272, 651, 19, 1556, 28, 112, 1782, 5, 8, 1782, 19, 6786, 203, 625, 5, 822, 3, 10, 149, 625, 19, 8, 1782, 3, 58]\n"
     ]
    }
   ],
   "source": [
    "print(text)\n",
    "print('\\n')\n",
    "print(tokens)\n",
    "print('\\n')\n",
    "print(tokenizer.convert_tokens_to_ids(tokens))"
   ]
  },
  {
   "cell_type": "code",
   "execution_count": 59,
   "metadata": {},
   "outputs": [],
   "source": [
    "pred_tokens = translate_sentence(tokenizer.convert_tokens_to_ids(tokens), SRC, TRG, model)"
   ]
  },
  {
   "cell_type": "code",
   "execution_count": 60,
   "metadata": {},
   "outputs": [
    {
     "name": "stdout",
     "output_type": "stream",
     "text": [
      "[6786]\n",
      "▁twenty\n"
     ]
    }
   ],
   "source": [
    "print(pred_tokens)\n",
    "print(' '.join(tokenizer.convert_ids_to_tokens(pred_tokens)))"
   ]
  },
  {
   "cell_type": "code",
   "execution_count": null,
   "metadata": {},
   "outputs": [],
   "source": []
  }
 ],
 "metadata": {
  "kernelspec": {
   "display_name": "Python 3",
   "language": "python",
   "name": "python3"
  },
  "language_info": {
   "codemirror_mode": {
    "name": "ipython",
    "version": 3
   },
   "file_extension": ".py",
   "mimetype": "text/x-python",
   "name": "python",
   "nbconvert_exporter": "python",
   "pygments_lexer": "ipython3",
   "version": "3.8.3"
  }
 },
 "nbformat": 4,
 "nbformat_minor": 4
}

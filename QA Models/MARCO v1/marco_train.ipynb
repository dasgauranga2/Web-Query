{
 "cells": [
  {
   "cell_type": "code",
   "execution_count": 1,
   "metadata": {},
   "outputs": [],
   "source": [
    "import torch\n",
    "import torch.nn as nn\n",
    "import torch.optim as optim\n",
    "\n",
    "import torchtext\n",
    "from torchtext.data import Field, BucketIterator\n",
    "\n",
    "import random\n",
    "import math\n",
    "import time\n",
    "from torchtext import data\n",
    "from transformers import T5Tokenizer, T5Model"
   ]
  },
  {
   "cell_type": "code",
   "execution_count": 2,
   "metadata": {},
   "outputs": [],
   "source": [
    "tokenizer = T5Tokenizer.from_pretrained('t5-small')"
   ]
  },
  {
   "cell_type": "code",
   "execution_count": 3,
   "metadata": {},
   "outputs": [
    {
     "name": "stdout",
     "output_type": "stream",
     "text": [
      "['▁Hello', '▁world', '▁how', '▁are', '▁you', '?']\n"
     ]
    }
   ],
   "source": [
    "tokens = tokenizer.tokenize('Hello world how are you?')\n",
    "\n",
    "print(tokens)"
   ]
  },
  {
   "cell_type": "code",
   "execution_count": 4,
   "metadata": {},
   "outputs": [
    {
     "name": "stdout",
     "output_type": "stream",
     "text": [
      "[8774, 296, 149, 33, 25, 58]\n"
     ]
    }
   ],
   "source": [
    "indexes = tokenizer.convert_tokens_to_ids(tokens)\n",
    "\n",
    "print(indexes)"
   ]
  },
  {
   "cell_type": "code",
   "execution_count": 5,
   "metadata": {},
   "outputs": [
    {
     "name": "stdout",
     "output_type": "stream",
     "text": [
      "<pad> </s> <pad> <unk>\n"
     ]
    }
   ],
   "source": [
    "init_token = tokenizer.pad_token\n",
    "eos_token = tokenizer.eos_token\n",
    "pad_token = tokenizer.pad_token\n",
    "unk_token = tokenizer.unk_token\n",
    "\n",
    "print(init_token, eos_token, pad_token, unk_token)"
   ]
  },
  {
   "cell_type": "code",
   "execution_count": 6,
   "metadata": {},
   "outputs": [
    {
     "name": "stdout",
     "output_type": "stream",
     "text": [
      "0 1 0 2\n"
     ]
    }
   ],
   "source": [
    "init_token_idx = tokenizer.convert_tokens_to_ids(init_token)\n",
    "eos_token_idx = tokenizer.convert_tokens_to_ids(eos_token)\n",
    "pad_token_idx = tokenizer.convert_tokens_to_ids(pad_token)\n",
    "unk_token_idx = tokenizer.convert_tokens_to_ids(unk_token)\n",
    "\n",
    "print(init_token_idx, eos_token_idx, pad_token_idx, unk_token_idx)"
   ]
  },
  {
   "cell_type": "code",
   "execution_count": 7,
   "metadata": {},
   "outputs": [
    {
     "name": "stdout",
     "output_type": "stream",
     "text": [
      "512\n"
     ]
    }
   ],
   "source": [
    "max_input_length = tokenizer.max_model_input_sizes['t5-small']\n",
    "\n",
    "print(max_input_length)"
   ]
  },
  {
   "cell_type": "code",
   "execution_count": 8,
   "metadata": {},
   "outputs": [],
   "source": [
    "def tokenize_and_cut(sentence):\n",
    "    tokens = tokenizer.tokenize(sentence) \n",
    "    tokens = tokens[:max_input_length-2]\n",
    "    return tokens"
   ]
  },
  {
   "cell_type": "code",
   "execution_count": 9,
   "metadata": {},
   "outputs": [],
   "source": [
    "SRC = data.Field(batch_first = True,\n",
    "                  use_vocab = False,\n",
    "                  tokenize = tokenize_and_cut,\n",
    "                  preprocessing = tokenizer.convert_tokens_to_ids,\n",
    "                  init_token = init_token_idx,\n",
    "                  eos_token = eos_token_idx,\n",
    "                  pad_token = pad_token_idx,\n",
    "                  unk_token = unk_token_idx)\n",
    "\n",
    "TRG = data.Field(batch_first = True,\n",
    "                  use_vocab = False,\n",
    "                  tokenize = tokenize_and_cut,\n",
    "                  preprocessing = tokenizer.convert_tokens_to_ids,\n",
    "                  init_token = init_token_idx,\n",
    "                  eos_token = eos_token_idx,\n",
    "                  pad_token = pad_token_idx,\n",
    "                  unk_token = unk_token_idx)"
   ]
  },
  {
   "cell_type": "code",
   "execution_count": 10,
   "metadata": {},
   "outputs": [],
   "source": [
    "fields = [('src', SRC), ('trg', TRG)]"
   ]
  },
  {
   "cell_type": "code",
   "execution_count": 11,
   "metadata": {},
   "outputs": [],
   "source": [
    "train_data = data.TabularDataset.splits(\n",
    "                path = '',\n",
    "                train = 'marco.csv',\n",
    "                format = 'csv',\n",
    "                fields = fields,\n",
    "                skip_header = True)\n",
    "\n",
    "train_data , valid_data = train_data[0].split(split_ratio=0.98,\n",
    "                                             random_state = random.seed(4321))"
   ]
  },
  {
   "cell_type": "code",
   "execution_count": 12,
   "metadata": {},
   "outputs": [
    {
     "name": "stdout",
     "output_type": "stream",
     "text": [
      "42464\n",
      "867\n"
     ]
    }
   ],
   "source": [
    "print(len(train_data.examples))\n",
    "print(len(valid_data.examples))"
   ]
  },
  {
   "cell_type": "code",
   "execution_count": 13,
   "metadata": {},
   "outputs": [
    {
     "name": "stdout",
     "output_type": "stream",
     "text": [
      "{'src': [2625, 3, 10, 8, 7982, 3247, 130, 2325, 13243, 19334, 5, 227, 335, 3539, 6, 3, 4606, 40, 232, 16903, 3, 9, 3805, 13243, 740, 2486, 30, 8, 5022, 13, 56, 23, 265, 8, 24025, 127, 5, 166, 6, 3, 51, 14708, 11, 3, 9441, 1306, 13243, 7, 130, 1192, 5, 728, 56, 23, 265, 141, 3, 16804, 2127, 112, 3356, 16, 3, 4606, 40, 232, 6, 3, 88, 1192, 1450, 3372, 453, 13243, 7, 5, 11417, 3, 10, 125, 13243, 7, 410, 8, 7982, 3247, 918, 11, 213], 'trg': [3, 51, 14708, 11, 3, 9441, 1306, 13243, 7, 6, 3, 4606, 40, 232, 5]}\n"
     ]
    }
   ],
   "source": [
    "print(vars(train_data.examples[10000]))"
   ]
  },
  {
   "cell_type": "code",
   "execution_count": 14,
   "metadata": {},
   "outputs": [
    {
     "name": "stdout",
     "output_type": "stream",
     "text": [
      "['▁context', '▁', ':', '▁from', '▁', 'wikipedia', ',', '▁the', '▁free', '▁', 'ency', 'clo', 'pedia', '.', '▁wind', 'ley', '▁key', '▁fossil', '▁reef', '▁ge', 'ological', '▁state', '▁park', '▁is', '▁', 'a', '▁flori', 'd', 'a', '▁state', '▁park', '▁located', '▁at', '▁mile', '▁marker', '▁8', '5.5', '▁near', '▁', 'islam', 'o', 'rada', '.', '▁it', '▁was', '▁', 'a', '▁former', '▁quarry', '▁used', '▁by', '▁', 'hen', 'ry', '▁flag', 'ler', '▁in', '▁the', '▁early', '▁1900', 's', '▁to', '▁help', '▁his', '▁building', '▁of', '▁the', '▁overseas', '▁railroad', '.', '▁following', '▁the', '▁railroad', \"'\", 's', '▁completion', ',', '▁it', '▁was', '▁', 'a', '▁source', '▁for', '▁decorative', '▁stone', '▁pieces', '▁called', '▁key', 'stone', '.', '▁query', '▁', ':', '▁where', '▁is', '▁wind', 'ley', '▁key']\n",
      "['▁wind', 'ley', '▁key', '▁fossil', '▁reef', '▁ge', 'ological', '▁state', '▁park', '▁is', '▁', 'a', '▁flori', 'd', 'a', '▁state', '▁park', '▁located', '▁at', '▁mile', '▁marker', '▁8', '5.5', '▁near', '▁', 'islam', 'o', 'rada', '.']\n"
     ]
    }
   ],
   "source": [
    "tokens = tokenizer.convert_ids_to_tokens(vars(train_data.examples[6000])['src'])\n",
    "\n",
    "print(tokens)\n",
    "tokens = tokenizer.convert_ids_to_tokens(vars(train_data.examples[6000])['trg'])\n",
    "\n",
    "print(tokens)"
   ]
  },
  {
   "cell_type": "code",
   "execution_count": 15,
   "metadata": {},
   "outputs": [],
   "source": [
    "device = torch.device('cuda')\n",
    "\n",
    "BATCH_SIZE = 20\n",
    "\n",
    "train_iterator, valid_iterator = BucketIterator.splits(\n",
    "                                (train_data, valid_data), \n",
    "                                batch_size = BATCH_SIZE,\n",
    "                                device = device,\n",
    "                                sort_key=lambda x: len(x.src))"
   ]
  },
  {
   "cell_type": "code",
   "execution_count": 16,
   "metadata": {},
   "outputs": [],
   "source": [
    "class T5Network(nn.Module):\n",
    "    def __init__(self):\n",
    "        \n",
    "        super().__init__()\n",
    "        \n",
    "        self.t5 = t5 = T5Model.from_pretrained('t5-small')\n",
    "        \n",
    "        self.out = nn.Linear(t5.config.to_dict()['d_model'], t5.config.to_dict()['vocab_size'])\n",
    "                \n",
    "    def forward(self, src, trg):\n",
    "        \n",
    "        embedded = self.t5(input_ids=src, decoder_input_ids=trg)\n",
    "        \n",
    "        output = self.out(embedded[0])\n",
    "        \n",
    "        return output"
   ]
  },
  {
   "cell_type": "code",
   "execution_count": 17,
   "metadata": {},
   "outputs": [
    {
     "name": "stderr",
     "output_type": "stream",
     "text": [
      "Some weights of T5Model were not initialized from the model checkpoint at t5-small and are newly initialized: ['encoder.embed_tokens.weight', 'decoder.embed_tokens.weight']\n",
      "You should probably TRAIN this model on a down-stream task to be able to use it for predictions and inference.\n"
     ]
    }
   ],
   "source": [
    "model = T5Network().cuda()"
   ]
  },
  {
   "cell_type": "code",
   "execution_count": 18,
   "metadata": {},
   "outputs": [
    {
     "name": "stdout",
     "output_type": "stream",
     "text": [
      "The model has 76,988,544 trainable parameters\n"
     ]
    }
   ],
   "source": [
    "def count_parameters(model):\n",
    "    return sum(p.numel() for p in model.parameters() if p.requires_grad)\n",
    "\n",
    "print(f'The model has {count_parameters(model):,} trainable parameters')"
   ]
  },
  {
   "cell_type": "code",
   "execution_count": 19,
   "metadata": {},
   "outputs": [],
   "source": [
    "LEARNING_RATE = 0.0004\n",
    "\n",
    "optimizer = torch.optim.Adam(model.parameters(), lr = LEARNING_RATE)"
   ]
  },
  {
   "cell_type": "code",
   "execution_count": 20,
   "metadata": {},
   "outputs": [],
   "source": [
    "criterion = nn.CrossEntropyLoss(ignore_index = pad_token_idx)"
   ]
  },
  {
   "cell_type": "code",
   "execution_count": 21,
   "metadata": {},
   "outputs": [],
   "source": [
    "N_EPOCHS = 4\n",
    "CLIP = 1\n",
    "\n",
    "best_valid_loss = float('inf')"
   ]
  },
  {
   "cell_type": "code",
   "execution_count": 22,
   "metadata": {},
   "outputs": [
    {
     "name": "stdout",
     "output_type": "stream",
     "text": [
      "EPOCH : 1\tTRAIN LOSS : 2.62\tVALID LOSS : 1.02\tTIME : 763.68\n",
      "\n",
      "EPOCH : 2\tTRAIN LOSS : 0.85\tVALID LOSS : 0.79\tTIME : 794.35\n",
      "\n",
      "EPOCH : 3\tTRAIN LOSS : 0.59\tVALID LOSS : 0.76\tTIME : 798.81\n",
      "\n",
      "EPOCH : 4\tTRAIN LOSS : 0.46\tVALID LOSS : 0.76\tTIME : 796.64\n",
      "\n"
     ]
    }
   ],
   "source": [
    "for epoch in range(N_EPOCHS):\n",
    "    \n",
    "    start = time.time()\n",
    "    # TRAIN \n",
    "    #########################################################################\n",
    "    model.train()\n",
    "    epoch_loss = 0\n",
    "    \n",
    "    for i, batch in enumerate(train_iterator):\n",
    "        \n",
    "        src = batch.src\n",
    "        trg = batch.trg\n",
    "        \n",
    "        optimizer.zero_grad()\n",
    "        \n",
    "        output = model(src, trg[:,:-1])\n",
    "        \n",
    "        output_dim = output.shape[-1]\n",
    "            \n",
    "        output = output.contiguous().view(-1, output_dim)\n",
    "        trg = trg[:,1:].contiguous().view(-1)\n",
    "        \n",
    "        loss = criterion(output, trg)\n",
    "        \n",
    "        loss.backward()\n",
    "        \n",
    "        torch.nn.utils.clip_grad_norm_(model.parameters(), CLIP)\n",
    "        \n",
    "        optimizer.step()\n",
    "        \n",
    "        epoch_loss += loss.item()\n",
    "        \n",
    "    train_loss = epoch_loss / len(train_iterator)\n",
    "    #########################################################################\n",
    "    \n",
    "    # VALID\n",
    "    #########################################################################\n",
    "    model.eval()\n",
    "    epoch_loss = 0\n",
    "    \n",
    "    with torch.no_grad():\n",
    "    \n",
    "        for i, batch in enumerate(valid_iterator):\n",
    "\n",
    "            src = batch.src\n",
    "            trg = batch.trg\n",
    "\n",
    "            output = model(src, trg[:,:-1])\n",
    "            \n",
    "            output_dim = output.shape[-1]\n",
    "            \n",
    "            output = output.contiguous().view(-1, output_dim)\n",
    "            trg = trg[:,1:].contiguous().view(-1)\n",
    "            \n",
    "            loss = criterion(output, trg)\n",
    "\n",
    "            epoch_loss += loss.item()\n",
    "        \n",
    "    valid_loss = epoch_loss / len(valid_iterator)\n",
    "    #########################################################################\n",
    "    end = time.time()\n",
    "    \n",
    "    print(f\"EPOCH : {epoch+1}\\tTRAIN LOSS : {train_loss:.2f}\\tVALID LOSS : {valid_loss:.2f}\\tTIME : {end-start:.2f}\\n\")\n",
    "    torch.save(model.state_dict(), f'model_{epoch+1}.pt')"
   ]
  },
  {
   "cell_type": "code",
   "execution_count": null,
   "metadata": {},
   "outputs": [],
   "source": []
  },
  {
   "cell_type": "code",
   "execution_count": null,
   "metadata": {},
   "outputs": [],
   "source": []
  },
  {
   "cell_type": "code",
   "execution_count": null,
   "metadata": {},
   "outputs": [],
   "source": []
  },
  {
   "cell_type": "code",
   "execution_count": null,
   "metadata": {},
   "outputs": [],
   "source": []
  },
  {
   "cell_type": "code",
   "execution_count": 23,
   "metadata": {},
   "outputs": [],
   "source": [
    "def translate_sentence(sentence, src_field, trg_field, model, device, max_len = 50):\n",
    "    model.eval()\n",
    "\n",
    "    src_indexes = [init_token_idx] + sentence + [eos_token_idx]\n",
    "    src_tensor = torch.LongTensor(src_indexes).unsqueeze(0).to(device)\n",
    "\n",
    "    trg_indexes = [init_token_idx]\n",
    "\n",
    "    for i in range(max_len):\n",
    "\n",
    "        trg_tensor = torch.LongTensor(trg_indexes).unsqueeze(0).to(device)\n",
    "        \n",
    "        with torch.no_grad():\n",
    "            output = model(src_tensor, trg_tensor)\n",
    "        \n",
    "        pred_token = output.argmax(2)[:,-1].item()\n",
    "        \n",
    "        trg_indexes.append(pred_token)\n",
    "\n",
    "        if pred_token == eos_token_idx:\n",
    "            break\n",
    "            \n",
    "    return trg_indexes[1:]"
   ]
  },
  {
   "cell_type": "code",
   "execution_count": 24,
   "metadata": {},
   "outputs": [
    {
     "name": "stdout",
     "output_type": "stream",
     "text": [
      "SRC : ▁context ▁ : ▁abstract . ▁ a ▁much ▁wider ▁variety ▁of ▁biological ▁functions ▁of ▁post re plic ative ▁ d n a ▁ methyl ation ▁is ▁observed ▁in ▁pro k ary o tes ▁than ▁in ▁ e uk ary o tes . ▁in ▁ e uk ary o tes ▁ d n a ▁ methyl ation ▁is ▁ primarily ▁ a ▁means ▁of ▁the ▁control ▁of ▁gene ▁expression . ▁many ▁chapters ▁of ▁this ▁book ▁are ▁ devoted ▁to ▁various ▁aspects ▁of ▁this ▁function . ▁query ▁ : ▁ d n a ▁ methyl ation ▁in ▁ e uk ary o tes\n",
      "TRG : ▁ a ▁ primarily ▁ a ▁means ▁of ▁the ▁control ▁of ▁gene ▁expression .\n",
      "PREDICTED : ▁ a ▁much ▁wider ▁variety ▁of ▁biological ▁functions ▁of ▁post re plic ative . </s>\n",
      "\n",
      "SRC : ▁context ▁ : ▁the ▁is le ▁of ▁sky e ▁is ▁located ▁on ▁the ▁west ▁coast ▁of ▁ s cot l and ▁in ▁the ▁united ▁kingdom ▁of ▁great ▁ b rita in . ▁sky e ▁is ▁one ▁of ▁the ▁most ▁visited ▁parts ▁of ▁the ▁ uk . ▁the ▁island ▁is ▁50 ▁miles ▁long ▁and ▁25 ▁miles ▁wide . ▁the ▁capital ▁is ▁port re e , ▁other ▁villages ▁include ▁du n ve gan , ▁staff in , ▁ u i g , ▁carb ost , ▁broad ford , ▁ ky le a kin ▁and ▁ arma dale . ▁query ▁ : ▁where ▁is ▁is le ▁of ▁sky e\n",
      "TRG : ▁west ▁coast ▁of ▁ s cot l and ▁in ▁the ▁united ▁kingdom ▁of ▁great ▁ b rita in .\n",
      "PREDICTED : ▁the ▁is le ▁of ▁sky e ▁is ▁located ▁on ▁the ▁west ▁coast ▁of ▁ s cot l and ▁in ▁the ▁united ▁kingdom ▁of ▁great ▁ b rita in . </s>\n",
      "\n",
      "SRC : ▁context ▁ : ▁the ▁first ▁food ▁bank ▁in ▁canada ▁opened ▁its ▁doors ▁in ▁1981 ▁in ▁the ▁city ▁of ▁ e d mont on , ▁al bert a . ▁in ▁1987 , ▁the ▁can a dian ▁food ▁bank ▁community ▁created ▁the ▁can a dian ▁association ▁of ▁food ▁banks ▁to ▁represent ▁food ▁banks ▁nationally . ▁there ▁are ▁now ▁over ▁700 ▁food ▁banks ▁and ▁ 3,000 ▁food ▁programs ▁available ▁in ▁canada . ▁in ▁2008 , ▁hunger count ▁reported ▁that ▁on ▁average , ▁70 4, 4 14 ▁individuals ▁used ▁ a ▁food ▁bank ▁per ▁month ▁query ▁ : ▁what ▁year ▁was ▁it ▁when ▁the ▁food ▁bank ▁was ▁introduced ▁to ▁canada\n",
      "TRG : ▁1981\n",
      "PREDICTED : ▁1981 </s>\n",
      "\n",
      "SRC : ▁context ▁ : ▁formal ▁tracking ▁( sur ve ill ance ) ▁of ▁aid s ▁cases ▁began ▁that ▁year ▁in ▁the ▁united ▁states . ▁in ▁1983 , ▁scientists ▁discovered ▁the ▁virus ▁that ▁causes ▁aid s . ▁the ▁virus ▁was ▁at ▁first ▁named ▁ h t l v - i i i / la v ▁( human ▁ t - cell ▁lymph o tropic ▁virus - type ▁ i i i / ly mph a den opathy - associated ▁virus ) ▁by ▁an ▁international ▁scientific ▁committee . ▁this ▁name ▁was ▁later ▁changed ▁to ▁hi v ▁( human ▁immuno de fic i ency ▁virus ). ▁query ▁ : ▁when ▁was ▁the ▁first ▁treatment ▁for ▁hi v / aid s ▁discovered\n",
      "TRG : ▁1983\n",
      "PREDICTED : ▁1983 </s>\n",
      "\n",
      "SRC : ▁context ▁ : ▁1 ▁according ▁to ▁baby center , ▁day ▁care ▁costs ▁can ▁average ▁anywhere ▁between ▁$250 ▁and ▁$1 200 ▁per ▁month . ▁2 ▁the ▁average ▁national ▁monthly ▁cost ▁of ▁child ▁care ▁is ▁$6 11. ▁3 ▁larger ▁chains ▁such ▁as ▁ kinder care ▁may ▁cost ▁more ▁than ▁ a ▁local ▁day care ▁center . ▁query ▁ : ▁average ▁cost ▁per ▁child ▁per ▁month\n",
      "TRG : ▁$6 11. ▁3\n",
      "PREDICTED : ▁between ▁$250 ▁and ▁$1 200 ▁per ▁month . </s>\n",
      "\n",
      "SRC : ▁context ▁ : ▁ n f l ▁is ▁the ▁most ▁watched ▁games ▁now ▁days ▁in ▁ america ▁ n f l ▁refer e e s ▁did ▁their ▁best ▁job ▁to ▁point ▁out ▁the ▁foul s ▁and ▁winning ▁runs ▁during ▁the ▁ n f l ▁season ▁but ▁did ▁you ▁know ▁how ▁much ▁they ▁earn ▁from ▁ a ▁match ▁or ▁annually ▁in ▁2013 ▁the ▁ n f l ▁refer e e s ▁earn ▁up to ▁$ ▁ 149 000 ▁per ▁year ▁which ▁is ▁later ▁increased ▁for ▁2014 ▁according ▁to ▁new ▁source ▁ n f l ▁refer e e ▁can ▁earn ▁$ ▁ 189 000 ▁in ▁2014 ▁annually ▁query ▁ : ▁how ▁much ▁do ▁ n f l ▁ref s ▁make\n",
      "TRG : ▁$ ▁ 149 000 ▁per ▁year\n",
      "PREDICTED : ▁$ ▁ 149 000 ▁per ▁year </s>\n",
      "\n",
      "SRC : ▁context ▁ : ▁1 ▁on ▁average , ▁ g y n e com a sti a ▁surgery ▁is ▁going ▁to ▁range ▁anywhere ▁from ▁$5,000 ▁to ▁as ▁much ▁as ▁$1 1,000 ▁without ▁any ▁sort ▁of ▁insurance ▁when ▁you ▁factor ▁in ▁all ▁the ▁mis cel lane ous ▁fees . ▁1 ▁the ▁initial ▁consultation ▁may ▁be ▁charged ▁separately ▁from ▁the ▁surgery ▁itself . ▁2 ▁in ▁case ▁of ▁complications ▁or ▁problems , ▁additional ▁expenses ▁may ▁be ▁necessary ▁for ▁extended ▁medication ▁or ▁treatment ▁of ▁complications . ▁3 ▁an esthesia ▁costs ▁around ▁$1,000 ▁to ▁$1 , 500 . ▁4 ▁on ▁average , ▁the ▁surgeon ’ s ▁fee ▁is ▁around ▁$5 , 500 . ▁query ▁ : ▁how ▁much ▁does ▁ a ▁ g y n e com a sti a ▁surgery ▁cost\n",
      "TRG : ▁$5,000 ▁to ▁as ▁much ▁as ▁$1 1,000\n",
      "PREDICTED : ▁$5,000 ▁to ▁as ▁much ▁as ▁$1 1,000 </s>\n",
      "\n",
      "SRC : ▁context ▁ : ▁while ▁sugar ▁provides ▁you ▁with ▁energy , ▁high ▁blood ▁sugar ▁levels ▁ accompanied ▁with ▁high ▁cholesterol ▁can ▁lead ▁to ▁heart ▁disease . ▁excess ▁sugar ▁stored ▁in ▁the ▁body ▁turns ▁into ▁fat ▁and ▁excess ▁weight , ▁which ▁adverse ly ▁affect s ▁your ▁body ' s ▁ability ▁to ▁process ▁fuel ▁properly . ▁this ▁problem ▁affect s ▁your ▁cardiac ▁and ▁ pulmonary ▁system . ▁query ▁ : ▁does ▁diabetes ▁affect ▁your ▁heart ▁rate\n",
      "TRG : ▁yes\n",
      "PREDICTED : ▁yes </s>\n",
      "\n",
      "SRC : ▁context ▁ : ▁no un . ▁the ▁definition ▁of ▁ a ▁learning ▁curve ▁is ▁the ▁time ▁and ▁study ▁that ▁it ▁takes ▁to ▁develop ▁knowledge ▁or ▁skills ▁ relating ▁to ▁ a ▁particular ▁subject ▁or ▁task . ▁an ▁example ▁of ▁ a ▁learning ▁curve ▁is ▁the ▁amount ▁of ▁effort ▁needed ▁to ▁learn ▁to ▁play ▁ a ▁new ▁musical ▁instrument . ▁query ▁ : ▁what ▁is ▁ a ▁learning ▁curve\n",
      "TRG : ▁the ▁time ▁and ▁study ▁that ▁it ▁takes ▁to ▁develop ▁knowledge ▁or ▁skills ▁ relating ▁to ▁ a ▁particular ▁subject ▁or ▁task .\n",
      "PREDICTED : ▁the ▁time ▁and ▁study ▁that ▁it ▁takes ▁to ▁develop ▁knowledge ▁or ▁skills ▁ relating ▁to ▁ a ▁particular ▁subject ▁or ▁task . </s>\n",
      "\n",
      "SRC : ▁context ▁ : ▁the ▁root ▁of ▁ a ▁plant ▁holds ▁it ▁upright . ▁other ▁parts ▁of ▁plant ▁such ▁as - le aves , ▁fruits ▁vegetables ▁etc . ▁( except ▁roots ), ▁are ▁hold ▁upright ▁by ▁the ▁stem . ▁part ▁of ▁ a ▁plant ▁makes ▁the ▁seeds . ▁1 ▁person ▁found ▁this ▁useful . ▁edit . ▁share ▁to : ▁1 ▁adding ▁cone ▁flowers ▁to ▁your ▁landscape ▁cone flower s ▁are ▁one ▁of ▁the ▁easiest ▁varieties ▁to ▁grow ▁in ▁your ▁landscaping . ▁2 ▁they ▁bloom ▁reliabl y ▁for ▁many ▁years ▁and ▁make ▁great ▁cut ▁flowers , ▁too . ▁query ▁ : ▁what ▁part ▁of ▁the ▁plant ▁holds ▁the ▁seeds\n",
      "TRG : ▁the ▁fruit ▁of ▁the ▁plant ▁holds ▁and ▁protect s ▁the ▁seeds .\n",
      "PREDICTED : ▁stem </s>\n",
      "\n",
      "SRC : ▁context ▁ : ▁about ▁our ▁location . ▁oak ▁island ▁is ▁ a ▁sea side ▁town ▁located ▁mostly ▁on ▁the ▁barrier ▁island ▁of ▁oak ▁island ▁( which ▁also ▁contains ▁the ▁town ▁of ▁cas well ▁beach ), ▁in ▁brun s wick ▁county , ▁north ▁car olin a . ▁query ▁ : ▁where ▁is ▁oak ▁island ▁located\n",
      "TRG : ▁brun s wick ▁county , ▁north ▁car olin a .\n",
      "PREDICTED : ▁barrier ▁island </s>\n",
      "\n",
      "SRC : ▁context ▁ : ▁ a ▁good ▁real ▁estate ▁sign ▁design ▁should ▁be ▁simple ▁ & ▁draw ▁the ▁reader ' s ▁attention ▁to ▁the ▁seller ▁as ▁efficiently ▁as ▁possible . ▁primary ▁focal ▁points ▁for ▁how ▁your ▁signs ▁are ▁ viewed ▁from ▁the ▁driver ' s ▁viewpoint ▁is ▁ a ▁crucial ▁step ▁in ▁creating ▁the ▁perfect ▁home ▁for ▁sale ▁sign . ▁however , ▁there ▁are ▁many ▁alternative ▁forms ▁of ▁realtor ▁signs ▁that ▁can ▁also ▁play ▁ a ▁role ▁in ▁the ▁successful ▁marketing ▁of ▁independent ▁agents ▁and ▁brokers . ▁we ▁have ▁included ▁some ▁of ▁the ▁other ▁sign ▁products ▁that ▁realtor s ▁will ▁use ▁to ▁promote ▁themselves . ▁query ▁ : ▁does ▁the ▁broker ▁choose ▁the ▁design ▁of ▁the ▁signs\n",
      "TRG : ▁yes\n",
      "PREDICTED : ▁yes </s>\n",
      "\n",
      "SRC : ▁context ▁ : ▁ phy l lite ▁is ▁formed ▁by ▁relatively ▁low - grade ▁meta morph ic ▁conditions ▁in ▁the ▁lower ▁part ▁of ▁the ▁green sch ist ▁fac ies . ▁parent ▁rocks ▁may ▁be ▁only ▁partially ▁meta morph o sed ▁so ▁that ▁the ▁original ▁mineral o g y ▁and ▁sediment ary ▁bedding ▁are ▁partially ▁preserved . ▁ phy l lite . ▁ phy l lite ▁is ▁ a ▁fine - g rained ▁meta morph ic ▁rock ▁formed ▁by ▁the ▁low ▁grade ▁meta morph is m ▁of ▁fine - g rained , ▁sediment ary ▁rocks , ▁such ▁as ▁ mud stone s ▁or ▁sh ales . ▁query ▁ : ▁ phy l lite ▁formed ▁under ▁which ▁meta morph ic ▁conditions\n",
      "TRG : ▁low - grade ▁meta morph ic ▁conditions\n",
      "PREDICTED : ▁ phy l lite ▁is ▁formed ▁by ▁relatively ▁low - grade ▁meta morph ic ▁conditions ▁in ▁the ▁lower ▁part ▁of ▁the ▁green sch ist ▁fauna . </s>\n",
      "\n",
      "SRC : ▁context ▁ : ▁generally , ▁retail ▁cost ▁for ▁medium ▁grade ▁tile ▁flooring ▁material ▁is ▁between ▁$1 . 50 ▁dollars ▁and ▁$3 . 0 ▁per ▁square ▁foot , ▁however ▁the ▁cost ▁of ▁tile ▁flooring ▁and ▁the ▁labor ▁involved ▁to ▁install ▁it ▁depends ▁on ▁both ▁the ▁quality ▁of ▁materials ▁and ▁the ▁area ▁of ▁the ▁country / state ▁you ▁live ▁in . ▁as ▁such , ▁installation ▁goes ▁from ▁$6 ▁per ▁square ▁foot ▁up ▁to ▁around ▁$10 ▁per ▁square ▁foot . ▁it ’ s ▁recommended ▁that ▁you ▁check ▁with ▁ a ▁few ▁contractors ▁in ▁your ▁area ▁to ▁understand ▁the ▁costs ▁before ▁starting ▁your ▁project . ▁query ▁ : ▁tile ▁floor ▁cost\n",
      "TRG : ▁$1 . 50 ▁dollars ▁and ▁$3 . 0 ▁per ▁square ▁foot\n",
      "PREDICTED : ▁$1 . 50 ▁dollars ▁and ▁$3 . 0 ▁per ▁square ▁foot . </s>\n",
      "\n",
      "SRC : ▁context ▁ : ▁what ▁is ▁too ▁much ▁sleep ? ▁when ▁your ▁baby ▁is ▁sleeping ▁13 -15 ▁hours ▁per ▁day , ▁this ▁is ▁within ▁normal ▁range s ▁for ▁ a ▁very ▁long ▁time . ▁ if ▁your ▁baby ▁is ▁sleeping ▁less , ▁this ▁may ▁or ▁may ▁not ▁be ▁enough ▁sleep . ▁depending ▁on ▁your ▁baby ’ s ▁age , ▁ a ▁typical ▁baby ▁will ▁sleep ▁11 -12 ▁hours ▁at ▁night ▁and ▁2-3 ▁hours ▁during ▁the ▁day . ▁since ▁average s ▁are ▁just ▁those , ▁your ▁baby ▁may ▁indeed ▁need ▁more ▁like ▁12 ▁hours ▁at ▁night ▁and ▁4 ▁hours ▁of ▁sleep ▁during ▁the ▁day . ▁this ▁is ▁unlikely ▁to ▁be ▁ a ▁cause ▁for ▁concern . ▁query ▁ : ▁how ▁long ▁should ▁ a ▁child ▁sleep\n",
      "TRG : ▁11 -12 ▁hours ▁at ▁night ▁and ▁2-3 ▁hours ▁during ▁the ▁day\n",
      "PREDICTED : ▁11 -12 ▁hours ▁at ▁night ▁and ▁2-3 ▁hours ▁during ▁the ▁day . </s>\n",
      "\n",
      "SRC : ▁context ▁ : ▁more ▁than ▁half ▁of ▁the ▁ 201 , 180 ▁laundry ▁attendant ▁jobs ▁in ▁the ▁united ▁states ▁were ▁in ▁dry ▁cleaning ▁and ▁laundry ▁services , ▁with ▁mean ▁wages ▁of ▁$9 . 93 ▁per ▁hour ▁or ▁$20 , 660 ▁per ▁year . ▁query ▁ : ▁how ▁much ▁does ▁ a ▁nurse ▁pay ▁for ▁dry ▁cleaning ▁in ▁ a ▁year ?\n",
      "TRG : ▁$20 , 660\n",
      "PREDICTED : ▁$9 . 93 ▁per ▁hour ▁or ▁$20 , 660 ▁per ▁year . </s>\n",
      "\n",
      "SRC : ▁context ▁ : ▁ i ▁had ▁my ▁baby ▁2 ▁months ▁ago ▁and ▁do ▁not ▁breast feed . ▁ i ▁had ▁my ▁first ▁period ▁6 ▁weeks ▁after ▁giving ▁birth ▁and ▁ i ▁should ▁have ▁had ▁ a ▁period ▁this ▁month ▁like ▁4 ▁days ▁ago ▁and ▁still ▁have n ’ t ▁ gotten ▁it . ▁ i ’ m ▁wondering ▁ if ▁its ▁normal ▁to ▁be ▁irregular ▁after ▁giving ▁birth ▁when ▁not ▁breast ▁feeding . ▁query ▁ : ▁how ▁long ▁after ▁giving ▁birth ▁do ▁you ▁have ▁ a ▁period\n",
      "TRG : ▁6 ▁weeks\n",
      "PREDICTED : ▁6 ▁weeks </s>\n",
      "\n",
      "SRC : ▁context ▁ : ▁ flex ural ▁strength ▁is ▁one ▁measure ▁of ▁the ▁ ten s ile ▁strength ▁of ▁concrete . ▁it ▁is ▁ a ▁measure ▁of ▁an ▁un - re in force d ▁concrete ▁beam ▁or ▁slab ▁to ▁resist ▁failure ▁in ▁ bending . ▁it ▁is ▁measured ▁by ▁loading ▁6 ▁ x ▁6- inch ▁( 150 ▁ x ▁150 ▁ mm ) ▁concrete ▁beam s ▁with ▁ a ▁span ▁length ▁of ▁at ▁least ▁three ▁times ▁the ▁depth . ▁query ▁ : ▁what ▁is ▁use ▁of ▁ flex ural ▁strength\n",
      "TRG : ▁it ▁is ▁ a ▁measure ▁of ▁an ▁un - re in force d ▁concrete ▁beam ▁or ▁slab ▁to ▁resist ▁failure ▁in ▁ bending .\n",
      "PREDICTED : ▁ flex ural ▁strength ▁is ▁one ▁measure ▁of ▁the ▁ ten s ile ▁strength ▁of ▁concrete . </s>\n",
      "\n",
      "SRC : ▁context ▁ : ▁at ▁sea , ▁ a ▁ship ' s ▁ com pass ▁must ▁also ▁be ▁corrected ▁for ▁errors , ▁called ▁deviation , ▁caused ▁by ▁iron ▁and ▁steel ▁in ▁its ▁structure ▁and ▁equipment . ▁the ▁ship ▁is ▁ s w ung , ▁that ▁is ▁rotate d ▁about ▁ a ▁fixed ▁point ▁while ▁its ▁heading ▁is ▁noted ▁by ▁alignment ▁with ▁fixed ▁points ▁on ▁the ▁shore . ▁ a ▁magnetic ▁ com pass ▁points ▁to ▁magnetic ▁north ▁pole , ▁which ▁is ▁approximately ▁1,000 ▁miles ▁from ▁the ▁true ▁geographic ▁north ▁pole . ▁ a ▁magnetic ▁ com pass ' s ▁user ▁can ▁determine ▁true ▁north ▁by ▁finding ▁the ▁magnetic ▁north ▁and ▁then ▁correct ing ▁for ▁variation ▁and ▁deviation . ▁query ▁ : ▁what ▁is ▁ a ▁sea ▁ com pass ▁called\n",
      "TRG : ▁deviation\n",
      "PREDICTED : ▁ a ▁magnetic ▁ com pass ▁points ▁to ▁magnetic ▁north ▁pole , ▁which ▁is ▁approximately ▁1,000 ▁miles ▁from ▁the ▁true ▁geographic ▁north ▁pole . </s>\n",
      "\n",
      "SRC : ▁context ▁ : ▁the ▁death ▁of ▁muscle ▁fiber s . ▁progressive , ▁or ▁ clo s tri dial , ▁my one cro s is ▁is ▁caused ▁by ▁the ▁an a er o bic ▁bacteria ▁of ▁the ▁ gen us ▁ clo s tri dium . ▁seen ▁in ▁deep ▁wound ▁infections , ▁progressive ▁my one cro s is ▁is ▁ accompanied ▁by ▁pain , ▁tender ness , ▁ a ▁brown ▁se rous ▁ex u date , ▁and ▁ a ▁rapid ▁accumulation ▁of ▁gas ▁within ▁the ▁muscle ▁tissue . ▁the ▁affected ▁muscle ▁turns ▁ a ▁black ish ▁green . ▁query ▁ : ▁what ▁causes ▁my one cro s is\n",
      "TRG : ▁the ▁an a er o bic ▁bacteria ▁of ▁the ▁ gen us ▁ clo s tri dium .\n",
      "PREDICTED : ▁an a er o bic ▁bacteria ▁of ▁the ▁ gen us ▁ clo s tri dium . </s>\n",
      "\n"
     ]
    }
   ],
   "source": [
    "idxs = random.sample(range(0,len(valid_data.examples)),20)\n",
    "\n",
    "for i in idxs:\n",
    "    src = vars(valid_data.examples[i])['src']\n",
    "    trg = vars(valid_data.examples[i])['trg']\n",
    "    translation = translate_sentence(src, SRC, TRG, model, device)\n",
    "\n",
    "    print(f\"SRC : {' '.join(tokenizer.convert_ids_to_tokens(src))}\")\n",
    "    print(f\"TRG : {' '.join(tokenizer.convert_ids_to_tokens(trg))}\")\n",
    "    print(f\"PREDICTED : {' '.join(tokenizer.convert_ids_to_tokens(translation))}\\n\")"
   ]
  },
  {
   "cell_type": "code",
   "execution_count": null,
   "metadata": {},
   "outputs": [],
   "source": []
  },
  {
   "cell_type": "code",
   "execution_count": null,
   "metadata": {},
   "outputs": [],
   "source": []
  }
 ],
 "metadata": {
  "kernelspec": {
   "display_name": "Python 3",
   "language": "python",
   "name": "python3"
  },
  "language_info": {
   "codemirror_mode": {
    "name": "ipython",
    "version": 3
   },
   "file_extension": ".py",
   "mimetype": "text/x-python",
   "name": "python",
   "nbconvert_exporter": "python",
   "pygments_lexer": "ipython3",
   "version": "3.8.3"
  }
 },
 "nbformat": 4,
 "nbformat_minor": 4
}

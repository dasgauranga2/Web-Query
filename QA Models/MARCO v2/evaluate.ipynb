{
 "cells": [
  {
   "cell_type": "code",
   "execution_count": 1,
   "metadata": {},
   "outputs": [],
   "source": [
    "import torch\n",
    "import torch.nn as nn\n",
    "\n",
    "import torchtext\n",
    "from torchtext.data import Field\n",
    "\n",
    "from torchtext import data\n",
    "from transformers import T5Tokenizer, T5Model"
   ]
  },
  {
   "cell_type": "code",
   "execution_count": 2,
   "metadata": {},
   "outputs": [],
   "source": [
    "tokenizer = T5Tokenizer.from_pretrained('t5-small')"
   ]
  },
  {
   "cell_type": "code",
   "execution_count": 3,
   "metadata": {},
   "outputs": [
    {
     "name": "stdout",
     "output_type": "stream",
     "text": [
      "<pad> </s> <pad> <unk>\n"
     ]
    }
   ],
   "source": [
    "init_token = tokenizer.pad_token\n",
    "eos_token = tokenizer.eos_token\n",
    "pad_token = tokenizer.pad_token\n",
    "unk_token = tokenizer.unk_token\n",
    "\n",
    "print(init_token, eos_token, pad_token, unk_token)"
   ]
  },
  {
   "cell_type": "code",
   "execution_count": 4,
   "metadata": {},
   "outputs": [
    {
     "name": "stdout",
     "output_type": "stream",
     "text": [
      "0 1 0 2\n"
     ]
    }
   ],
   "source": [
    "init_token_idx = tokenizer.convert_tokens_to_ids(init_token)\n",
    "eos_token_idx = tokenizer.convert_tokens_to_ids(eos_token)\n",
    "pad_token_idx = tokenizer.convert_tokens_to_ids(pad_token)\n",
    "unk_token_idx = tokenizer.convert_tokens_to_ids(unk_token)\n",
    "\n",
    "print(init_token_idx, eos_token_idx, pad_token_idx, unk_token_idx)"
   ]
  },
  {
   "cell_type": "code",
   "execution_count": 5,
   "metadata": {},
   "outputs": [
    {
     "name": "stdout",
     "output_type": "stream",
     "text": [
      "512\n"
     ]
    }
   ],
   "source": [
    "max_input_length = tokenizer.max_model_input_sizes['t5-small']\n",
    "\n",
    "print(max_input_length)"
   ]
  },
  {
   "cell_type": "code",
   "execution_count": 6,
   "metadata": {},
   "outputs": [],
   "source": [
    "def tokenize_and_cut(sentence):\n",
    "    tokens = tokenizer.tokenize(sentence) \n",
    "    tokens = tokens[:max_input_length-2]\n",
    "    return tokens"
   ]
  },
  {
   "cell_type": "code",
   "execution_count": 7,
   "metadata": {},
   "outputs": [],
   "source": [
    "SRC = data.Field(batch_first = True,\n",
    "                  use_vocab = False,\n",
    "                  tokenize = tokenize_and_cut,\n",
    "                  preprocessing = tokenizer.convert_tokens_to_ids,\n",
    "                  init_token = init_token_idx,\n",
    "                  eos_token = eos_token_idx,\n",
    "                  pad_token = pad_token_idx,\n",
    "                  unk_token = unk_token_idx)\n",
    "\n",
    "TRG = data.Field(batch_first = True,\n",
    "                  use_vocab = False,\n",
    "                  tokenize = tokenize_and_cut,\n",
    "                  preprocessing = tokenizer.convert_tokens_to_ids,\n",
    "                  init_token = init_token_idx,\n",
    "                  eos_token = eos_token_idx,\n",
    "                  pad_token = pad_token_idx,\n",
    "                  unk_token = unk_token_idx)"
   ]
  },
  {
   "cell_type": "code",
   "execution_count": 8,
   "metadata": {},
   "outputs": [],
   "source": [
    "class T5Network(nn.Module):\n",
    "    def __init__(self):\n",
    "        \n",
    "        super().__init__()\n",
    "        \n",
    "        self.t5 = t5 = T5Model.from_pretrained('t5-small')\n",
    "        \n",
    "        self.out = nn.Linear(t5.config.to_dict()['d_model'], t5.config.to_dict()['vocab_size'])\n",
    "                \n",
    "    def forward(self, src, trg):\n",
    "        \n",
    "        embedded = self.t5(input_ids=src, decoder_input_ids=trg)\n",
    "        \n",
    "        output = self.out(embedded[0])\n",
    "        \n",
    "        return output"
   ]
  },
  {
   "cell_type": "code",
   "execution_count": 9,
   "metadata": {},
   "outputs": [
    {
     "name": "stderr",
     "output_type": "stream",
     "text": [
      "Some weights of T5Model were not initialized from the model checkpoint at t5-small and are newly initialized: ['encoder.embed_tokens.weight', 'decoder.embed_tokens.weight']\n",
      "You should probably TRAIN this model on a down-stream task to be able to use it for predictions and inference.\n",
      "Some weights of T5Model were not initialized from the model checkpoint at t5-small and are newly initialized: ['encoder.embed_tokens.weight', 'decoder.embed_tokens.weight']\n",
      "You should probably TRAIN this model on a down-stream task to be able to use it for predictions and inference.\n",
      "Some weights of T5Model were not initialized from the model checkpoint at t5-small and are newly initialized: ['encoder.embed_tokens.weight', 'decoder.embed_tokens.weight']\n",
      "You should probably TRAIN this model on a down-stream task to be able to use it for predictions and inference.\n",
      "Some weights of T5Model were not initialized from the model checkpoint at t5-small and are newly initialized: ['encoder.embed_tokens.weight', 'decoder.embed_tokens.weight']\n",
      "You should probably TRAIN this model on a down-stream task to be able to use it for predictions and inference.\n"
     ]
    }
   ],
   "source": [
    "models = []\n",
    "\n",
    "for i in range(4):\n",
    "    new_model = T5Network().cuda()\n",
    "    new_model.load_state_dict(torch.load(f'model_{i+1}.pt'))\n",
    "    models.append(new_model)"
   ]
  },
  {
   "cell_type": "code",
   "execution_count": null,
   "metadata": {},
   "outputs": [],
   "source": []
  },
  {
   "cell_type": "code",
   "execution_count": null,
   "metadata": {},
   "outputs": [],
   "source": []
  },
  {
   "cell_type": "code",
   "execution_count": null,
   "metadata": {},
   "outputs": [],
   "source": []
  },
  {
   "cell_type": "code",
   "execution_count": null,
   "metadata": {},
   "outputs": [],
   "source": []
  },
  {
   "cell_type": "code",
   "execution_count": 10,
   "metadata": {},
   "outputs": [],
   "source": [
    "def translate_sentence(sentence, src_field, trg_field, model, max_len = 50):\n",
    "    model.eval()\n",
    "\n",
    "    src_indexes = [init_token_idx] + sentence + [eos_token_idx]\n",
    "    src_tensor = torch.LongTensor(src_indexes).unsqueeze(0).cuda()\n",
    "\n",
    "    trg_indexes = [init_token_idx]\n",
    "\n",
    "    for i in range(max_len):\n",
    "\n",
    "        trg_tensor = torch.LongTensor(trg_indexes).unsqueeze(0).cuda()\n",
    "        \n",
    "        with torch.no_grad():\n",
    "            output = model(src_tensor, trg_tensor)\n",
    "        \n",
    "        pred_token = output.argmax(2)[:,-1].item()\n",
    "        \n",
    "        trg_indexes.append(pred_token)\n",
    "\n",
    "        if pred_token == eos_token_idx:\n",
    "            break\n",
    "            \n",
    "    return trg_indexes"
   ]
  },
  {
   "cell_type": "code",
   "execution_count": null,
   "metadata": {},
   "outputs": [],
   "source": []
  },
  {
   "cell_type": "code",
   "execution_count": null,
   "metadata": {},
   "outputs": [],
   "source": []
  },
  {
   "cell_type": "code",
   "execution_count": 11,
   "metadata": {},
   "outputs": [],
   "source": [
    "#CONTEXT = 'The COVID‑19 pandemic, also known as the coronavirus pandemic, is an ongoing global pandemic of coronavirus disease 2019 (COVID‑19), caused by severe acute respiratory syndrome coronavirus 2 (SARS‑CoV‑2). The outbreak was first identified in December 2019 in Wuhan, China. The World Health Organization declared the outbreak a Public Health Emergency of International Concern on 30 January 2020 and a pandemic on 11 March. As of 24 August 2020, more than 23.4 million cases of COVID‑19 have been reported in more than 188 countries and territories, resulting in more than 808,000 deaths; more than 15.1 million people have recovered.'\n",
    "#QUERY = 'where was the outbreak first identified ?'\n",
    "#QUERY = 'when was the outbreak first identified ?'\n",
    "#QUERY = 'how many people have died from covid-19 ?'\n",
    "#QUERY = 'how many people have recovered from covid-19 ?'\n",
    "#QUERY = 'when did the world health organization declare an emergency ?'\n",
    "#QUERY = 'when did the world health organization declare a pandemic ?'\n",
    "\n",
    "#CONTEXT = 'Common symptoms include fever, cough, fatigue, shortness of breath, and loss of sense of smell. Complications may include pneumonia and acute respiratory distress syndrome. The time from exposure to onset of symptoms is typically around five days but may range from two to fourteen days. There are several vaccine candidates in development, although none have completed clinical trials to prove their safety and efficacy. There is no known specific antiviral medication, so primary treatment is currently symptomatic.'\n",
    "#QUERY = 'what are some symptoms ?'\n",
    "#QUERY = 'how many days to show symptoms ?'\n",
    "#QUERY = 'how many vaccines have completed clinical trials ?'\n",
    "#QUERY = 'are there any medication ?'\n",
    "\n",
    "#CONTEXT = 'Recommended preventive measures include hand washing, covering one\\'s mouth when coughing, maintaining distance from other people, wearing a face mask in public settings, disinfecting surfaces, increasing ventilation and air filtration indoors, and monitoring and self-isolation for people who suspect they are infected. Authorities worldwide have responded by implementing travel restrictions, lockdowns, workplace hazard controls, and facility closures in order to slow the spread of the disease. Many places have also worked to increase testing capacity and trace contacts of infected persons.'\n",
    "#QUERY = 'what are some preventive measures ?'\n",
    "#QUERY = 'how have the authorities responded ?'\n",
    "#QUERY = 'should we wear a mask ?'\n",
    "\n",
    "#CONTEXT = 'Coronaviruses are a group of related RNA viruses that cause diseases in mammals and birds. In humans and birds, they cause respiratory tract infections that can range from mild to lethal. Mild illnesses in humans include some cases of the common cold (which is also caused by other viruses, predominantly rhinoviruses), while more lethal varieties can cause SARS, MERS, and COVID-19. In cows and pigs they cause diarrhea, while in mice they cause hepatitis and encephalomyelitis. There are as yet no vaccines or antiviral drugs to prevent or treat human coronavirus infections.'\n",
    "#QUERY = 'what group does coronavirus belong to ?'\n",
    "#QUERY = 'what are lethal varities of coronavirus ?'\n",
    "#QUERY = 'how does coronavirus affect cows ?'\n",
    "#QUERY = 'are there any vaccines ?'\n",
    "#QUERY = 'how does coronavirus affect humans ?'\n",
    "\n",
    "#CONTEXT = 'Coronaviruses constitute the subfamily Orthocoronavirinae, in the family Coronaviridae, order Nidovirales, and realm Riboviria. They are enveloped viruses with a positive-sense single-stranded RNA genome and a nucleocapsid of helical symmetry. The genome size of coronaviruses ranges from approximately 26 to 32 kilobases, one of the largest among RNA viruses. They have characteristic club-shaped spikes that project from their surface, which in electron micrographs create an image reminiscent of the solar corona, from which their name derives.'\n",
    "#QUERY = 'what is the genome size of coronavirus ?'\n",
    "#QUERY = 'what family does coronavirus belong to ?'\n",
    "#QUERY = 'what subfamily does coronavirus belong to ?'\n",
    "\n",
    "text = \"context : \" + CONTEXT.lower() + \" query : \" + QUERY.lower()\n",
    "tokens = tokenizer.tokenize(text)"
   ]
  },
  {
   "cell_type": "code",
   "execution_count": 12,
   "metadata": {},
   "outputs": [
    {
     "name": "stdout",
     "output_type": "stream",
     "text": [
      "context : coronaviruses constitute the subfamily orthocoronavirinae, in the family coronaviridae, order nidovirales, and realm riboviria. they are enveloped viruses with a positive-sense single-stranded rna genome and a nucleocapsid of helical symmetry. the genome size of coronaviruses ranges from approximately 26 to 32 kilobases, one of the largest among rna viruses. they have characteristic club-shaped spikes that project from their surface, which in electron micrographs create an image reminiscent of the solar corona, from which their name derives. query : what subfamily does coronavirus belong to ?\n",
      "\n",
      "\n",
      "['▁context', '▁', ':', '▁cor', 'on', 'a', 'virus', 'e', 's', '▁constitute', '▁the', '▁sub', 'family', '▁ortho', 'cor', 'on', 'a', 'vir', 'in', 'a', 'e', ',', '▁in', '▁the', '▁family', '▁cor', 'on', 'avi', 'rid', 'a', 'e', ',', '▁order', '▁', 'n', 'i', 'd', 'o', 'vir', 'ales', ',', '▁and', '▁realm', '▁', 'rib', 'o', 'vir', 'i', 'a', '.', '▁they', '▁are', '▁envelope', 'd', '▁viruses', '▁with', '▁', 'a', '▁positive', '-', 's', 'ense', '▁single', '-', 'strand', 'e', 'd', '▁', 'r', 'n', 'a', '▁genome', '▁and', '▁', 'a', '▁nu', 'cle', 'o', 'cap', 's', 'i', 'd', '▁of', '▁', 'heli', 'cal', '▁', 'symmetry', '.', '▁the', '▁genome', '▁size', '▁of', '▁cor', 'on', 'a', 'virus', 'e', 's', '▁range', 's', '▁from', '▁approximately', '▁26', '▁to', '▁32', '▁', 'ki', 'lob', 'a', 'ses', ',', '▁one', '▁of', '▁the', '▁largest', '▁among', '▁', 'r', 'n', 'a', '▁viruses', '.', '▁they', '▁have', '▁characteristic', '▁club', '-', 'shaped', '▁spike', 's', '▁that', '▁project', '▁from', '▁their', '▁surface', ',', '▁which', '▁in', '▁electron', '▁micro', 'graph', 's', '▁create', '▁an', '▁image', '▁', 'reminiscent', '▁of', '▁the', '▁solar', '▁cor', 'on', 'a', ',', '▁from', '▁which', '▁their', '▁name', '▁der', 'ives', '.', '▁query', '▁', ':', '▁what', '▁sub', 'family', '▁does', '▁cor', 'on', 'a', 'virus', '▁belong', '▁to', '▁', '?']\n",
      "\n",
      "\n",
      "[2625, 3, 10, 4301, 106, 9, 18095, 15, 7, 11708, 8, 769, 15474, 26429, 5715, 106, 9, 5771, 77, 9, 15, 6, 16, 8, 384, 4301, 106, 2960, 4055, 9, 15, 6, 455, 3, 29, 23, 26, 32, 5771, 4529, 6, 11, 15854, 3, 6520, 32, 5771, 23, 9, 5, 79, 33, 14669, 26, 19601, 28, 3, 9, 1465, 18, 7, 5167, 712, 18, 12797, 15, 26, 3, 52, 29, 9, 22213, 11, 3, 9, 206, 2482, 32, 4010, 7, 23, 26, 13, 3, 17801, 1489, 3, 29089, 5, 8, 22213, 812, 13, 4301, 106, 9, 18095, 15, 7, 620, 7, 45, 3241, 2208, 12, 3538, 3, 2168, 11846, 9, 2260, 6, 80, 13, 8, 2015, 859, 3, 52, 29, 9, 19601, 5, 79, 43, 16115, 1886, 18, 6489, 22440, 7, 24, 516, 45, 70, 1774, 6, 84, 16, 21126, 2179, 9413, 7, 482, 46, 1023, 3, 24514, 13, 8, 3693, 4301, 106, 9, 6, 45, 84, 70, 564, 74, 8763, 5, 11417, 3, 10, 125, 769, 15474, 405, 4301, 106, 9, 18095, 13000, 12, 3, 58]\n"
     ]
    }
   ],
   "source": [
    "print(text)\n",
    "print('\\n')\n",
    "print(tokens)\n",
    "print('\\n')\n",
    "print(tokenizer.convert_tokens_to_ids(tokens))"
   ]
  },
  {
   "cell_type": "code",
   "execution_count": 13,
   "metadata": {},
   "outputs": [],
   "source": [
    "pred_tokens1 = translate_sentence(tokenizer.convert_tokens_to_ids(tokens), SRC, TRG, models[0])\n",
    "pred_tokens2 = translate_sentence(tokenizer.convert_tokens_to_ids(tokens), SRC, TRG, models[1])\n",
    "pred_tokens3 = translate_sentence(tokenizer.convert_tokens_to_ids(tokens), SRC, TRG, models[2])\n",
    "pred_tokens4 = translate_sentence(tokenizer.convert_tokens_to_ids(tokens), SRC, TRG, models[3])"
   ]
  },
  {
   "cell_type": "code",
   "execution_count": 14,
   "metadata": {},
   "outputs": [
    {
     "name": "stdout",
     "output_type": "stream",
     "text": [
      "<pad> ▁ortho cor on a vir in a e </s>\n",
      "<pad> ▁ortho cor on a vir in a e </s>\n",
      "<pad> ▁ortho cor on a vir in a e </s>\n",
      "<pad> ▁cor on a virus e s </s>\n"
     ]
    }
   ],
   "source": [
    "print(' '.join(tokenizer.convert_ids_to_tokens(pred_tokens1)))\n",
    "print(' '.join(tokenizer.convert_ids_to_tokens(pred_tokens2)))\n",
    "print(' '.join(tokenizer.convert_ids_to_tokens(pred_tokens3)))\n",
    "print(' '.join(tokenizer.convert_ids_to_tokens(pred_tokens4)))"
   ]
  },
  {
   "cell_type": "code",
   "execution_count": null,
   "metadata": {},
   "outputs": [],
   "source": []
  },
  {
   "cell_type": "code",
   "execution_count": null,
   "metadata": {},
   "outputs": [],
   "source": []
  }
 ],
 "metadata": {
  "kernelspec": {
   "display_name": "Python 3",
   "language": "python",
   "name": "python3"
  },
  "language_info": {
   "codemirror_mode": {
    "name": "ipython",
    "version": 3
   },
   "file_extension": ".py",
   "mimetype": "text/x-python",
   "name": "python",
   "nbconvert_exporter": "python",
   "pygments_lexer": "ipython3",
   "version": "3.8.3"
  }
 },
 "nbformat": 4,
 "nbformat_minor": 4
}

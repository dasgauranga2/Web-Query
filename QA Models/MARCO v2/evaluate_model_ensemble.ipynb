{
 "cells": [
  {
   "cell_type": "code",
   "execution_count": 1,
   "metadata": {},
   "outputs": [],
   "source": [
    "import torch\n",
    "import torch.nn as nn\n",
    "\n",
    "import torchtext\n",
    "from torchtext.data import Field\n",
    "\n",
    "from torchtext import data\n",
    "from transformers import T5Tokenizer, T5Model"
   ]
  },
  {
   "cell_type": "code",
   "execution_count": 2,
   "metadata": {},
   "outputs": [],
   "source": [
    "tokenizer = T5Tokenizer.from_pretrained('t5-small')"
   ]
  },
  {
   "cell_type": "code",
   "execution_count": 3,
   "metadata": {},
   "outputs": [
    {
     "name": "stdout",
     "output_type": "stream",
     "text": [
      "<pad> </s> <pad> <unk>\n"
     ]
    }
   ],
   "source": [
    "init_token = tokenizer.pad_token\n",
    "eos_token = tokenizer.eos_token\n",
    "pad_token = tokenizer.pad_token\n",
    "unk_token = tokenizer.unk_token\n",
    "\n",
    "print(init_token, eos_token, pad_token, unk_token)"
   ]
  },
  {
   "cell_type": "code",
   "execution_count": 4,
   "metadata": {},
   "outputs": [
    {
     "name": "stdout",
     "output_type": "stream",
     "text": [
      "0 1 0 2\n"
     ]
    }
   ],
   "source": [
    "init_token_idx = tokenizer.convert_tokens_to_ids(init_token)\n",
    "eos_token_idx = tokenizer.convert_tokens_to_ids(eos_token)\n",
    "pad_token_idx = tokenizer.convert_tokens_to_ids(pad_token)\n",
    "unk_token_idx = tokenizer.convert_tokens_to_ids(unk_token)\n",
    "\n",
    "print(init_token_idx, eos_token_idx, pad_token_idx, unk_token_idx)"
   ]
  },
  {
   "cell_type": "code",
   "execution_count": 5,
   "metadata": {},
   "outputs": [
    {
     "name": "stdout",
     "output_type": "stream",
     "text": [
      "512\n"
     ]
    }
   ],
   "source": [
    "max_input_length = tokenizer.max_model_input_sizes['t5-small']\n",
    "\n",
    "print(max_input_length)"
   ]
  },
  {
   "cell_type": "code",
   "execution_count": 6,
   "metadata": {},
   "outputs": [],
   "source": [
    "def tokenize_and_cut(sentence):\n",
    "    tokens = tokenizer.tokenize(sentence) \n",
    "    tokens = tokens[:max_input_length-2]\n",
    "    return tokens"
   ]
  },
  {
   "cell_type": "code",
   "execution_count": 7,
   "metadata": {},
   "outputs": [],
   "source": [
    "SRC = data.Field(batch_first = True,\n",
    "                  use_vocab = False,\n",
    "                  tokenize = tokenize_and_cut,\n",
    "                  preprocessing = tokenizer.convert_tokens_to_ids,\n",
    "                  init_token = init_token_idx,\n",
    "                  eos_token = eos_token_idx,\n",
    "                  pad_token = pad_token_idx,\n",
    "                  unk_token = unk_token_idx)\n",
    "\n",
    "TRG = data.Field(batch_first = True,\n",
    "                  use_vocab = False,\n",
    "                  tokenize = tokenize_and_cut,\n",
    "                  preprocessing = tokenizer.convert_tokens_to_ids,\n",
    "                  init_token = init_token_idx,\n",
    "                  eos_token = eos_token_idx,\n",
    "                  pad_token = pad_token_idx,\n",
    "                  unk_token = unk_token_idx)"
   ]
  },
  {
   "cell_type": "code",
   "execution_count": 8,
   "metadata": {},
   "outputs": [],
   "source": [
    "class T5Network(nn.Module):\n",
    "    def __init__(self):\n",
    "        \n",
    "        super().__init__()\n",
    "        \n",
    "        self.t5 = t5 = T5Model.from_pretrained('t5-small')\n",
    "        \n",
    "        self.out = nn.Linear(t5.config.to_dict()['d_model'], t5.config.to_dict()['vocab_size'])\n",
    "                \n",
    "    def forward(self, src, trg):\n",
    "        \n",
    "        embedded = self.t5(input_ids=src, decoder_input_ids=trg)\n",
    "        \n",
    "        output = self.out(embedded[0])\n",
    "        \n",
    "        return output"
   ]
  },
  {
   "cell_type": "code",
   "execution_count": 9,
   "metadata": {},
   "outputs": [
    {
     "name": "stderr",
     "output_type": "stream",
     "text": [
      "Some weights of T5Model were not initialized from the model checkpoint at t5-small and are newly initialized: ['encoder.embed_tokens.weight', 'decoder.embed_tokens.weight']\n",
      "You should probably TRAIN this model on a down-stream task to be able to use it for predictions and inference.\n",
      "Some weights of T5Model were not initialized from the model checkpoint at t5-small and are newly initialized: ['encoder.embed_tokens.weight', 'decoder.embed_tokens.weight']\n",
      "You should probably TRAIN this model on a down-stream task to be able to use it for predictions and inference.\n",
      "Some weights of T5Model were not initialized from the model checkpoint at t5-small and are newly initialized: ['encoder.embed_tokens.weight', 'decoder.embed_tokens.weight']\n",
      "You should probably TRAIN this model on a down-stream task to be able to use it for predictions and inference.\n",
      "Some weights of T5Model were not initialized from the model checkpoint at t5-small and are newly initialized: ['encoder.embed_tokens.weight', 'decoder.embed_tokens.weight']\n",
      "You should probably TRAIN this model on a down-stream task to be able to use it for predictions and inference.\n"
     ]
    }
   ],
   "source": [
    "models = []\n",
    "\n",
    "for i in range(4):\n",
    "    new_model = T5Network().cuda()\n",
    "    new_model.load_state_dict(torch.load(f'model_{i+1}.pt'))\n",
    "    models.append(new_model)"
   ]
  },
  {
   "cell_type": "code",
   "execution_count": null,
   "metadata": {},
   "outputs": [],
   "source": []
  },
  {
   "cell_type": "code",
   "execution_count": null,
   "metadata": {},
   "outputs": [],
   "source": []
  },
  {
   "cell_type": "code",
   "execution_count": null,
   "metadata": {},
   "outputs": [],
   "source": []
  },
  {
   "cell_type": "code",
   "execution_count": null,
   "metadata": {},
   "outputs": [],
   "source": []
  },
  {
   "cell_type": "code",
   "execution_count": 10,
   "metadata": {},
   "outputs": [],
   "source": [
    "def model_ensemble_output(models, src_tensor, trg_tensor):\n",
    "    return models[0](src_tensor, trg_tensor) + models[1](src_tensor, trg_tensor) + models[2](src_tensor, trg_tensor) + models[3](src_tensor, trg_tensor)"
   ]
  },
  {
   "cell_type": "code",
   "execution_count": 11,
   "metadata": {},
   "outputs": [],
   "source": [
    "def translate_sentence(sentence, src_field, trg_field, models, max_len = 50):\n",
    "    for m in models:\n",
    "        m.eval()\n",
    "\n",
    "    src_indexes = [init_token_idx] + sentence + [eos_token_idx]\n",
    "    src_tensor = torch.LongTensor(src_indexes).unsqueeze(0).cuda()\n",
    "\n",
    "    trg_indexes = [init_token_idx]\n",
    "\n",
    "    for i in range(max_len):\n",
    "\n",
    "        trg_tensor = torch.LongTensor(trg_indexes).unsqueeze(0).cuda()\n",
    "        \n",
    "        with torch.no_grad():\n",
    "            output = model_ensemble_output(models, src_tensor, trg_tensor)\n",
    "        pred_token = output.argmax(2)[:,-1].item()\n",
    "        \n",
    "        trg_indexes.append(pred_token)\n",
    "\n",
    "        if pred_token == eos_token_idx:\n",
    "            break\n",
    "            \n",
    "    return trg_indexes"
   ]
  },
  {
   "cell_type": "code",
   "execution_count": null,
   "metadata": {},
   "outputs": [],
   "source": []
  },
  {
   "cell_type": "code",
   "execution_count": null,
   "metadata": {},
   "outputs": [],
   "source": []
  },
  {
   "cell_type": "code",
   "execution_count": 12,
   "metadata": {},
   "outputs": [],
   "source": [
    "CONTEXT = 'The COVID‑19 pandemic, also known as the coronavirus pandemic, is an ongoing global pandemic of coronavirus disease 2019 (COVID‑19), caused by severe acute respiratory syndrome coronavirus 2 (SARS‑CoV‑2). The outbreak was first identified in December 2019 in Wuhan, China. The World Health Organization declared the outbreak a Public Health Emergency of International Concern on 30 January 2020 and a pandemic on 11 March. As of 24 August 2020, more than 23.4 million cases of COVID‑19 have been reported in more than 188 countries and territories, resulting in more than 808,000 deaths; more than 15.1 million people have recovered.'\n",
    "QUERIES = ['where was the outbreak first identified ?',\n",
    "           'when was the outbreak first identified ?',\n",
    "           'how many people have died from covid-19 ?',\n",
    "           'how many people have recovered from covid-19 ?',\n",
    "           'when did the world health organization declare an emergency ?',\n",
    "           'when did the world health organization declare a pandemic ?']\n",
    "\n",
    "# CONTEXT = 'Common symptoms include fever, cough, fatigue, shortness of breath, and loss of sense of smell. Complications may include pneumonia and acute respiratory distress syndrome. The time from exposure to onset of symptoms is typically around five days but may range from two to fourteen days. There are several vaccine candidates in development, although none have completed clinical trials to prove their safety and efficacy. There is no known specific antiviral medication, so primary treatment is currently symptomatic.'\n",
    "# QUERIES = ['what are some symptoms ?',\n",
    "#            'how many days to show symptoms ?',\n",
    "#            'how many vaccines have completed clinical trials ?',\n",
    "#            'are there any medication ?']\n",
    "\n",
    "# CONTEXT = 'Coronaviruses are a group of related RNA viruses that cause diseases in mammals and birds. In humans and birds, they cause respiratory tract infections that can range from mild to lethal. Mild illnesses in humans include some cases of the common cold (which is also caused by other viruses, predominantly rhinoviruses), while more lethal varieties can cause SARS, MERS, and COVID-19. In cows and pigs they cause diarrhea, while in mice they cause hepatitis and encephalomyelitis. There are as yet no vaccines or antiviral drugs to prevent or treat human coronavirus infections.'\n",
    "# QUERIES = ['what group does coronavirus belong to ?',\n",
    "#            'what are lethal varities of coronavirus ?',\n",
    "#            'how does coronavirus affect cows ?',\n",
    "#            'are there any vaccines ?',\n",
    "#            'how does coronavirus affect humans ?']\n",
    "\n",
    "# CONTEXT = 'Coronaviruses constitute the subfamily Orthocoronavirinae, in the family Coronaviridae, order Nidovirales, and realm Riboviria. They are enveloped viruses with a positive-sense single-stranded RNA genome and a nucleocapsid of helical symmetry. The genome size of coronaviruses ranges from approximately 26 to 32 kilobases, one of the largest among RNA viruses. They have characteristic club-shaped spikes that project from their surface, which in electron micrographs create an image reminiscent of the solar corona, from which their name derives.'\n",
    "# QUERIES = ['what is the genome size of coronavirus ?',\n",
    "#            'what family does coronavirus belong to ?',\n",
    "#            'what subfamily does coronavirus belong to ?']"
   ]
  },
  {
   "cell_type": "code",
   "execution_count": 13,
   "metadata": {},
   "outputs": [],
   "source": [
    "def str_result(tokens):\n",
    "    result = ''\n",
    "    sep_char = tokens[1][0]\n",
    "    for t in tokens[1:-1]:\n",
    "        result = result+t\n",
    "        \n",
    "    result = ' '.join(result.split(sep_char)[1:])\n",
    "    return result"
   ]
  },
  {
   "cell_type": "code",
   "execution_count": 14,
   "metadata": {},
   "outputs": [
    {
     "name": "stdout",
     "output_type": "stream",
     "text": [
      "INPUT TEXT\n",
      "context : the covid‑19 pandemic, also known as the coronavirus pandemic, is an ongoing global pandemic of coronavirus disease 2019 (covid‑19), caused by severe acute respiratory syndrome coronavirus 2 (sars‑cov‑2). the outbreak was first identified in december 2019 in wuhan, china. the world health organization declared the outbreak a public health emergency of international concern on 30 january 2020 and a pandemic on 11 march. as of 24 august 2020, more than 23.4 million cases of covid‑19 have been reported in more than 188 countries and territories, resulting in more than 808,000 deaths; more than 15.1 million people have recovered. query : where was the outbreak first identified ?\n",
      "\n",
      "INPUT TOKENS\n",
      "['▁context', '▁', ':', '▁the', '▁co', 'vid', '‐', '19', '▁pan', 'de', 'mic', ',', '▁also', '▁known', '▁as', '▁the', '▁cor', 'on', 'a', 'virus', '▁pan', 'de', 'mic', ',', '▁is', '▁an', '▁ongoing', '▁global', '▁pan', 'de', 'mic', '▁of', '▁cor', 'on', 'a', 'virus', '▁disease', '▁2019', '▁(', 'co', 'vid', '‐', '19', '),', '▁caused', '▁by', '▁severe', '▁acute', '▁respiratory', '▁syndrome', '▁cor', 'on', 'a', 'virus', '▁2', '▁(', 's', 'ar', 's', '‐', 'cov', '‐', '2).', '▁the', '▁outbreak', '▁was', '▁first', '▁identified', '▁in', '▁de', 'c', 'ember', '▁2019', '▁in', '▁', 'w', 'u', 'han', ',', '▁china', '.', '▁the', '▁world', '▁health', '▁organization', '▁declared', '▁the', '▁outbreak', '▁', 'a', '▁public', '▁health', '▁emergency', '▁of', '▁international', '▁concern', '▁on', '▁30', '▁', 'jan', 'u', 'ary', '▁2020', '▁and', '▁', 'a', '▁pan', 'de', 'mic', '▁on', '▁11', '▁march', '.', '▁as', '▁of', '▁24', '▁august', '▁2020', ',', '▁more', '▁than', '▁2', '3.4', '▁million', '▁cases', '▁of', '▁co', 'vid', '‐', '19', '▁have', '▁been', '▁reported', '▁in', '▁more', '▁than', '▁', '188', '▁countries', '▁and', '▁territories', ',', '▁', 'resulting', '▁in', '▁more', '▁than', '▁80', '8,000', '▁deaths', ';', '▁more', '▁than', '▁1', '5.1', '▁million', '▁people', '▁have', '▁recovered', '.', '▁query', '▁', ':', '▁where', '▁was', '▁the', '▁outbreak', '▁first', '▁identified', '▁', '?']\n",
      "\n",
      "[2625, 3, 10, 8, 576, 6961, 2, 2294, 2131, 221, 3113, 6, 92, 801, 38, 8, 4301, 106, 9, 18095, 2131, 221, 3113, 6, 19, 46, 4912, 1252, 2131, 221, 3113, 13, 4301, 106, 9, 18095, 1994, 1360, 41, 509, 6961, 2, 2294, 201, 2953, 57, 5274, 12498, 19944, 12398, 4301, 106, 9, 18095, 204, 41, 7, 291, 7, 2, 16745, 2, 15070, 8, 22494, 47, 166, 4313, 16, 20, 75, 18247, 1360, 16, 3, 210, 76, 2618, 6, 20576, 5, 8, 296, 533, 1470, 10126, 8, 22494, 3, 9, 452, 533, 3583, 13, 1038, 2410, 30, 604, 3, 7066, 76, 1208, 6503, 11, 3, 9, 2131, 221, 3113, 30, 850, 10556, 5, 38, 13, 997, 14663, 6503, 6, 72, 145, 204, 23204, 770, 1488, 13, 576, 6961, 2, 2294, 43, 118, 2196, 16, 72, 145, 3, 25794, 1440, 11, 23995, 6, 3, 5490, 16, 72, 145, 2775, 16235, 14319, 117, 72, 145, 209, 20519, 770, 151, 43, 16599, 5, 11417, 3, 10, 213, 47, 8, 22494, 166, 4313, 3, 58]\n",
      "\n",
      "PREDICTIONS\n",
      "in wuhan, china.\n",
      "\n",
      "\n",
      "\n",
      "INPUT TEXT\n",
      "context : the covid‑19 pandemic, also known as the coronavirus pandemic, is an ongoing global pandemic of coronavirus disease 2019 (covid‑19), caused by severe acute respiratory syndrome coronavirus 2 (sars‑cov‑2). the outbreak was first identified in december 2019 in wuhan, china. the world health organization declared the outbreak a public health emergency of international concern on 30 january 2020 and a pandemic on 11 march. as of 24 august 2020, more than 23.4 million cases of covid‑19 have been reported in more than 188 countries and territories, resulting in more than 808,000 deaths; more than 15.1 million people have recovered. query : when was the outbreak first identified ?\n",
      "\n",
      "INPUT TOKENS\n",
      "['▁context', '▁', ':', '▁the', '▁co', 'vid', '‐', '19', '▁pan', 'de', 'mic', ',', '▁also', '▁known', '▁as', '▁the', '▁cor', 'on', 'a', 'virus', '▁pan', 'de', 'mic', ',', '▁is', '▁an', '▁ongoing', '▁global', '▁pan', 'de', 'mic', '▁of', '▁cor', 'on', 'a', 'virus', '▁disease', '▁2019', '▁(', 'co', 'vid', '‐', '19', '),', '▁caused', '▁by', '▁severe', '▁acute', '▁respiratory', '▁syndrome', '▁cor', 'on', 'a', 'virus', '▁2', '▁(', 's', 'ar', 's', '‐', 'cov', '‐', '2).', '▁the', '▁outbreak', '▁was', '▁first', '▁identified', '▁in', '▁de', 'c', 'ember', '▁2019', '▁in', '▁', 'w', 'u', 'han', ',', '▁china', '.', '▁the', '▁world', '▁health', '▁organization', '▁declared', '▁the', '▁outbreak', '▁', 'a', '▁public', '▁health', '▁emergency', '▁of', '▁international', '▁concern', '▁on', '▁30', '▁', 'jan', 'u', 'ary', '▁2020', '▁and', '▁', 'a', '▁pan', 'de', 'mic', '▁on', '▁11', '▁march', '.', '▁as', '▁of', '▁24', '▁august', '▁2020', ',', '▁more', '▁than', '▁2', '3.4', '▁million', '▁cases', '▁of', '▁co', 'vid', '‐', '19', '▁have', '▁been', '▁reported', '▁in', '▁more', '▁than', '▁', '188', '▁countries', '▁and', '▁territories', ',', '▁', 'resulting', '▁in', '▁more', '▁than', '▁80', '8,000', '▁deaths', ';', '▁more', '▁than', '▁1', '5.1', '▁million', '▁people', '▁have', '▁recovered', '.', '▁query', '▁', ':', '▁when', '▁was', '▁the', '▁outbreak', '▁first', '▁identified', '▁', '?']\n",
      "\n",
      "[2625, 3, 10, 8, 576, 6961, 2, 2294, 2131, 221, 3113, 6, 92, 801, 38, 8, 4301, 106, 9, 18095, 2131, 221, 3113, 6, 19, 46, 4912, 1252, 2131, 221, 3113, 13, 4301, 106, 9, 18095, 1994, 1360, 41, 509, 6961, 2, 2294, 201, 2953, 57, 5274, 12498, 19944, 12398, 4301, 106, 9, 18095, 204, 41, 7, 291, 7, 2, 16745, 2, 15070, 8, 22494, 47, 166, 4313, 16, 20, 75, 18247, 1360, 16, 3, 210, 76, 2618, 6, 20576, 5, 8, 296, 533, 1470, 10126, 8, 22494, 3, 9, 452, 533, 3583, 13, 1038, 2410, 30, 604, 3, 7066, 76, 1208, 6503, 11, 3, 9, 2131, 221, 3113, 30, 850, 10556, 5, 38, 13, 997, 14663, 6503, 6, 72, 145, 204, 23204, 770, 1488, 13, 576, 6961, 2, 2294, 43, 118, 2196, 16, 72, 145, 3, 25794, 1440, 11, 23995, 6, 3, 5490, 16, 72, 145, 2775, 16235, 14319, 117, 72, 145, 209, 20519, 770, 151, 43, 16599, 5, 11417, 3, 10, 116, 47, 8, 22494, 166, 4313, 3, 58]\n",
      "\n",
      "PREDICTIONS\n",
      "in december 2019.\n",
      "\n",
      "\n",
      "\n",
      "INPUT TEXT\n",
      "context : the covid‑19 pandemic, also known as the coronavirus pandemic, is an ongoing global pandemic of coronavirus disease 2019 (covid‑19), caused by severe acute respiratory syndrome coronavirus 2 (sars‑cov‑2). the outbreak was first identified in december 2019 in wuhan, china. the world health organization declared the outbreak a public health emergency of international concern on 30 january 2020 and a pandemic on 11 march. as of 24 august 2020, more than 23.4 million cases of covid‑19 have been reported in more than 188 countries and territories, resulting in more than 808,000 deaths; more than 15.1 million people have recovered. query : how many people have died from covid-19 ?\n",
      "\n",
      "INPUT TOKENS\n",
      "['▁context', '▁', ':', '▁the', '▁co', 'vid', '‐', '19', '▁pan', 'de', 'mic', ',', '▁also', '▁known', '▁as', '▁the', '▁cor', 'on', 'a', 'virus', '▁pan', 'de', 'mic', ',', '▁is', '▁an', '▁ongoing', '▁global', '▁pan', 'de', 'mic', '▁of', '▁cor', 'on', 'a', 'virus', '▁disease', '▁2019', '▁(', 'co', 'vid', '‐', '19', '),', '▁caused', '▁by', '▁severe', '▁acute', '▁respiratory', '▁syndrome', '▁cor', 'on', 'a', 'virus', '▁2', '▁(', 's', 'ar', 's', '‐', 'cov', '‐', '2).', '▁the', '▁outbreak', '▁was', '▁first', '▁identified', '▁in', '▁de', 'c', 'ember', '▁2019', '▁in', '▁', 'w', 'u', 'han', ',', '▁china', '.', '▁the', '▁world', '▁health', '▁organization', '▁declared', '▁the', '▁outbreak', '▁', 'a', '▁public', '▁health', '▁emergency', '▁of', '▁international', '▁concern', '▁on', '▁30', '▁', 'jan', 'u', 'ary', '▁2020', '▁and', '▁', 'a', '▁pan', 'de', 'mic', '▁on', '▁11', '▁march', '.', '▁as', '▁of', '▁24', '▁august', '▁2020', ',', '▁more', '▁than', '▁2', '3.4', '▁million', '▁cases', '▁of', '▁co', 'vid', '‐', '19', '▁have', '▁been', '▁reported', '▁in', '▁more', '▁than', '▁', '188', '▁countries', '▁and', '▁territories', ',', '▁', 'resulting', '▁in', '▁more', '▁than', '▁80', '8,000', '▁deaths', ';', '▁more', '▁than', '▁1', '5.1', '▁million', '▁people', '▁have', '▁recovered', '.', '▁query', '▁', ':', '▁how', '▁many', '▁people', '▁have', '▁died', '▁from', '▁co', 'vid', '-19', '▁', '?']\n",
      "\n",
      "[2625, 3, 10, 8, 576, 6961, 2, 2294, 2131, 221, 3113, 6, 92, 801, 38, 8, 4301, 106, 9, 18095, 2131, 221, 3113, 6, 19, 46, 4912, 1252, 2131, 221, 3113, 13, 4301, 106, 9, 18095, 1994, 1360, 41, 509, 6961, 2, 2294, 201, 2953, 57, 5274, 12498, 19944, 12398, 4301, 106, 9, 18095, 204, 41, 7, 291, 7, 2, 16745, 2, 15070, 8, 22494, 47, 166, 4313, 16, 20, 75, 18247, 1360, 16, 3, 210, 76, 2618, 6, 20576, 5, 8, 296, 533, 1470, 10126, 8, 22494, 3, 9, 452, 533, 3583, 13, 1038, 2410, 30, 604, 3, 7066, 76, 1208, 6503, 11, 3, 9, 2131, 221, 3113, 30, 850, 10556, 5, 38, 13, 997, 14663, 6503, 6, 72, 145, 204, 23204, 770, 1488, 13, 576, 6961, 2, 2294, 43, 118, 2196, 16, 72, 145, 3, 25794, 1440, 11, 23995, 6, 3, 5490, 16, 72, 145, 2775, 16235, 14319, 117, 72, 145, 209, 20519, 770, 151, 43, 16599, 5, 11417, 3, 10, 149, 186, 151, 43, 3977, 45, 576, 6961, 4481, 3, 58]\n",
      "\n",
      "PREDICTIONS\n",
      "more than 808,000\n",
      "\n",
      "\n",
      "\n",
      "INPUT TEXT\n",
      "context : the covid‑19 pandemic, also known as the coronavirus pandemic, is an ongoing global pandemic of coronavirus disease 2019 (covid‑19), caused by severe acute respiratory syndrome coronavirus 2 (sars‑cov‑2). the outbreak was first identified in december 2019 in wuhan, china. the world health organization declared the outbreak a public health emergency of international concern on 30 january 2020 and a pandemic on 11 march. as of 24 august 2020, more than 23.4 million cases of covid‑19 have been reported in more than 188 countries and territories, resulting in more than 808,000 deaths; more than 15.1 million people have recovered. query : how many people have recovered from covid-19 ?\n",
      "\n",
      "INPUT TOKENS\n",
      "['▁context', '▁', ':', '▁the', '▁co', 'vid', '‐', '19', '▁pan', 'de', 'mic', ',', '▁also', '▁known', '▁as', '▁the', '▁cor', 'on', 'a', 'virus', '▁pan', 'de', 'mic', ',', '▁is', '▁an', '▁ongoing', '▁global', '▁pan', 'de', 'mic', '▁of', '▁cor', 'on', 'a', 'virus', '▁disease', '▁2019', '▁(', 'co', 'vid', '‐', '19', '),', '▁caused', '▁by', '▁severe', '▁acute', '▁respiratory', '▁syndrome', '▁cor', 'on', 'a', 'virus', '▁2', '▁(', 's', 'ar', 's', '‐', 'cov', '‐', '2).', '▁the', '▁outbreak', '▁was', '▁first', '▁identified', '▁in', '▁de', 'c', 'ember', '▁2019', '▁in', '▁', 'w', 'u', 'han', ',', '▁china', '.', '▁the', '▁world', '▁health', '▁organization', '▁declared', '▁the', '▁outbreak', '▁', 'a', '▁public', '▁health', '▁emergency', '▁of', '▁international', '▁concern', '▁on', '▁30', '▁', 'jan', 'u', 'ary', '▁2020', '▁and', '▁', 'a', '▁pan', 'de', 'mic', '▁on', '▁11', '▁march', '.', '▁as', '▁of', '▁24', '▁august', '▁2020', ',', '▁more', '▁than', '▁2', '3.4', '▁million', '▁cases', '▁of', '▁co', 'vid', '‐', '19', '▁have', '▁been', '▁reported', '▁in', '▁more', '▁than', '▁', '188', '▁countries', '▁and', '▁territories', ',', '▁', 'resulting', '▁in', '▁more', '▁than', '▁80', '8,000', '▁deaths', ';', '▁more', '▁than', '▁1', '5.1', '▁million', '▁people', '▁have', '▁recovered', '.', '▁query', '▁', ':', '▁how', '▁many', '▁people', '▁have', '▁recovered', '▁from', '▁co', 'vid', '-19', '▁', '?']\n",
      "\n",
      "[2625, 3, 10, 8, 576, 6961, 2, 2294, 2131, 221, 3113, 6, 92, 801, 38, 8, 4301, 106, 9, 18095, 2131, 221, 3113, 6, 19, 46, 4912, 1252, 2131, 221, 3113, 13, 4301, 106, 9, 18095, 1994, 1360, 41, 509, 6961, 2, 2294, 201, 2953, 57, 5274, 12498, 19944, 12398, 4301, 106, 9, 18095, 204, 41, 7, 291, 7, 2, 16745, 2, 15070, 8, 22494, 47, 166, 4313, 16, 20, 75, 18247, 1360, 16, 3, 210, 76, 2618, 6, 20576, 5, 8, 296, 533, 1470, 10126, 8, 22494, 3, 9, 452, 533, 3583, 13, 1038, 2410, 30, 604, 3, 7066, 76, 1208, 6503, 11, 3, 9, 2131, 221, 3113, 30, 850, 10556, 5, 38, 13, 997, 14663, 6503, 6, 72, 145, 204, 23204, 770, 1488, 13, 576, 6961, 2, 2294, 43, 118, 2196, 16, 72, 145, 3, 25794, 1440, 11, 23995, 6, 3, 5490, 16, 72, 145, 2775, 16235, 14319, 117, 72, 145, 209, 20519, 770, 151, 43, 16599, 5, 11417, 3, 10, 149, 186, 151, 43, 16599, 45, 576, 6961, 4481, 3, 58]\n",
      "\n",
      "PREDICTIONS\n",
      "more than 15.1 million people have recovered from covid-19.\n",
      "\n",
      "\n",
      "\n",
      "INPUT TEXT\n",
      "context : the covid‑19 pandemic, also known as the coronavirus pandemic, is an ongoing global pandemic of coronavirus disease 2019 (covid‑19), caused by severe acute respiratory syndrome coronavirus 2 (sars‑cov‑2). the outbreak was first identified in december 2019 in wuhan, china. the world health organization declared the outbreak a public health emergency of international concern on 30 january 2020 and a pandemic on 11 march. as of 24 august 2020, more than 23.4 million cases of covid‑19 have been reported in more than 188 countries and territories, resulting in more than 808,000 deaths; more than 15.1 million people have recovered. query : when did the world health organization declare an emergency ?\n",
      "\n",
      "INPUT TOKENS\n",
      "['▁context', '▁', ':', '▁the', '▁co', 'vid', '‐', '19', '▁pan', 'de', 'mic', ',', '▁also', '▁known', '▁as', '▁the', '▁cor', 'on', 'a', 'virus', '▁pan', 'de', 'mic', ',', '▁is', '▁an', '▁ongoing', '▁global', '▁pan', 'de', 'mic', '▁of', '▁cor', 'on', 'a', 'virus', '▁disease', '▁2019', '▁(', 'co', 'vid', '‐', '19', '),', '▁caused', '▁by', '▁severe', '▁acute', '▁respiratory', '▁syndrome', '▁cor', 'on', 'a', 'virus', '▁2', '▁(', 's', 'ar', 's', '‐', 'cov', '‐', '2).', '▁the', '▁outbreak', '▁was', '▁first', '▁identified', '▁in', '▁de', 'c', 'ember', '▁2019', '▁in', '▁', 'w', 'u', 'han', ',', '▁china', '.', '▁the', '▁world', '▁health', '▁organization', '▁declared', '▁the', '▁outbreak', '▁', 'a', '▁public', '▁health', '▁emergency', '▁of', '▁international', '▁concern', '▁on', '▁30', '▁', 'jan', 'u', 'ary', '▁2020', '▁and', '▁', 'a', '▁pan', 'de', 'mic', '▁on', '▁11', '▁march', '.', '▁as', '▁of', '▁24', '▁august', '▁2020', ',', '▁more', '▁than', '▁2', '3.4', '▁million', '▁cases', '▁of', '▁co', 'vid', '‐', '19', '▁have', '▁been', '▁reported', '▁in', '▁more', '▁than', '▁', '188', '▁countries', '▁and', '▁territories', ',', '▁', 'resulting', '▁in', '▁more', '▁than', '▁80', '8,000', '▁deaths', ';', '▁more', '▁than', '▁1', '5.1', '▁million', '▁people', '▁have', '▁recovered', '.', '▁query', '▁', ':', '▁when', '▁did', '▁the', '▁world', '▁health', '▁organization', '▁declare', '▁an', '▁emergency', '▁', '?']\n",
      "\n",
      "[2625, 3, 10, 8, 576, 6961, 2, 2294, 2131, 221, 3113, 6, 92, 801, 38, 8, 4301, 106, 9, 18095, 2131, 221, 3113, 6, 19, 46, 4912, 1252, 2131, 221, 3113, 13, 4301, 106, 9, 18095, 1994, 1360, 41, 509, 6961, 2, 2294, 201, 2953, 57, 5274, 12498, 19944, 12398, 4301, 106, 9, 18095, 204, 41, 7, 291, 7, 2, 16745, 2, 15070, 8, 22494, 47, 166, 4313, 16, 20, 75, 18247, 1360, 16, 3, 210, 76, 2618, 6, 20576, 5, 8, 296, 533, 1470, 10126, 8, 22494, 3, 9, 452, 533, 3583, 13, 1038, 2410, 30, 604, 3, 7066, 76, 1208, 6503, 11, 3, 9, 2131, 221, 3113, 30, 850, 10556, 5, 38, 13, 997, 14663, 6503, 6, 72, 145, 204, 23204, 770, 1488, 13, 576, 6961, 2, 2294, 43, 118, 2196, 16, 72, 145, 3, 25794, 1440, 11, 23995, 6, 3, 5490, 16, 72, 145, 2775, 16235, 14319, 117, 72, 145, 209, 20519, 770, 151, 43, 16599, 5, 11417, 3, 10, 116, 410, 8, 296, 533, 1470, 15884, 46, 3583, 3, 58]\n",
      "\n",
      "PREDICTIONS\n",
      "30 january 2020\n",
      "\n",
      "\n",
      "\n",
      "INPUT TEXT\n",
      "context : the covid‑19 pandemic, also known as the coronavirus pandemic, is an ongoing global pandemic of coronavirus disease 2019 (covid‑19), caused by severe acute respiratory syndrome coronavirus 2 (sars‑cov‑2). the outbreak was first identified in december 2019 in wuhan, china. the world health organization declared the outbreak a public health emergency of international concern on 30 january 2020 and a pandemic on 11 march. as of 24 august 2020, more than 23.4 million cases of covid‑19 have been reported in more than 188 countries and territories, resulting in more than 808,000 deaths; more than 15.1 million people have recovered. query : when did the world health organization declare a pandemic ?\n",
      "\n",
      "INPUT TOKENS\n",
      "['▁context', '▁', ':', '▁the', '▁co', 'vid', '‐', '19', '▁pan', 'de', 'mic', ',', '▁also', '▁known', '▁as', '▁the', '▁cor', 'on', 'a', 'virus', '▁pan', 'de', 'mic', ',', '▁is', '▁an', '▁ongoing', '▁global', '▁pan', 'de', 'mic', '▁of', '▁cor', 'on', 'a', 'virus', '▁disease', '▁2019', '▁(', 'co', 'vid', '‐', '19', '),', '▁caused', '▁by', '▁severe', '▁acute', '▁respiratory', '▁syndrome', '▁cor', 'on', 'a', 'virus', '▁2', '▁(', 's', 'ar', 's', '‐', 'cov', '‐', '2).', '▁the', '▁outbreak', '▁was', '▁first', '▁identified', '▁in', '▁de', 'c', 'ember', '▁2019', '▁in', '▁', 'w', 'u', 'han', ',', '▁china', '.', '▁the', '▁world', '▁health', '▁organization', '▁declared', '▁the', '▁outbreak', '▁', 'a', '▁public', '▁health', '▁emergency', '▁of', '▁international', '▁concern', '▁on', '▁30', '▁', 'jan', 'u', 'ary', '▁2020', '▁and', '▁', 'a', '▁pan', 'de', 'mic', '▁on', '▁11', '▁march', '.', '▁as', '▁of', '▁24', '▁august', '▁2020', ',', '▁more', '▁than', '▁2', '3.4', '▁million', '▁cases', '▁of', '▁co', 'vid', '‐', '19', '▁have', '▁been', '▁reported', '▁in', '▁more', '▁than', '▁', '188', '▁countries', '▁and', '▁territories', ',', '▁', 'resulting', '▁in', '▁more', '▁than', '▁80', '8,000', '▁deaths', ';', '▁more', '▁than', '▁1', '5.1', '▁million', '▁people', '▁have', '▁recovered', '.', '▁query', '▁', ':', '▁when', '▁did', '▁the', '▁world', '▁health', '▁organization', '▁declare', '▁', 'a', '▁pan', 'de', 'mic', '▁', '?']\n",
      "\n",
      "[2625, 3, 10, 8, 576, 6961, 2, 2294, 2131, 221, 3113, 6, 92, 801, 38, 8, 4301, 106, 9, 18095, 2131, 221, 3113, 6, 19, 46, 4912, 1252, 2131, 221, 3113, 13, 4301, 106, 9, 18095, 1994, 1360, 41, 509, 6961, 2, 2294, 201, 2953, 57, 5274, 12498, 19944, 12398, 4301, 106, 9, 18095, 204, 41, 7, 291, 7, 2, 16745, 2, 15070, 8, 22494, 47, 166, 4313, 16, 20, 75, 18247, 1360, 16, 3, 210, 76, 2618, 6, 20576, 5, 8, 296, 533, 1470, 10126, 8, 22494, 3, 9, 452, 533, 3583, 13, 1038, 2410, 30, 604, 3, 7066, 76, 1208, 6503, 11, 3, 9, 2131, 221, 3113, 30, 850, 10556, 5, 38, 13, 997, 14663, 6503, 6, 72, 145, 204, 23204, 770, 1488, 13, 576, 6961, 2, 2294, 43, 118, 2196, 16, 72, 145, 3, 25794, 1440, 11, 23995, 6, 3, 5490, 16, 72, 145, 2775, 16235, 14319, 117, 72, 145, 209, 20519, 770, 151, 43, 16599, 5, 11417, 3, 10, 116, 410, 8, 296, 533, 1470, 15884, 3, 9, 2131, 221, 3113, 3, 58]\n",
      "\n",
      "PREDICTIONS\n",
      "on 11 march.\n",
      "\n",
      "\n",
      "\n"
     ]
    }
   ],
   "source": [
    "for query in QUERIES:\n",
    "    text = \"context : \" + CONTEXT.lower() + \" query : \" + query.lower()\n",
    "    tokens = tokenizer.tokenize(text)\n",
    "    \n",
    "    print(f\"INPUT TEXT\\n{text}\\n\")\n",
    "    print(f\"INPUT TOKENS\\n{tokens}\\n\")\n",
    "    print(tokenizer.convert_tokens_to_ids(tokens))\n",
    "\n",
    "    pred_tokens = translate_sentence(tokenizer.convert_tokens_to_ids(tokens), SRC, TRG, models)\n",
    "\n",
    "    print(\"\\nPREDICTIONS\")\n",
    "    #print(' '.join(tokenizer.convert_ids_to_tokens(pred_tokens)))\n",
    "    final_result = str_result(tokenizer.convert_ids_to_tokens(pred_tokens))\n",
    "    print(final_result)\n",
    "    print('\\n\\n')"
   ]
  },
  {
   "cell_type": "code",
   "execution_count": null,
   "metadata": {},
   "outputs": [],
   "source": []
  },
  {
   "cell_type": "code",
   "execution_count": null,
   "metadata": {},
   "outputs": [],
   "source": []
  }
 ],
 "metadata": {
  "kernelspec": {
   "display_name": "Python 3",
   "language": "python",
   "name": "python3"
  },
  "language_info": {
   "codemirror_mode": {
    "name": "ipython",
    "version": 3
   },
   "file_extension": ".py",
   "mimetype": "text/x-python",
   "name": "python",
   "nbconvert_exporter": "python",
   "pygments_lexer": "ipython3",
   "version": "3.8.3"
  }
 },
 "nbformat": 4,
 "nbformat_minor": 4
}

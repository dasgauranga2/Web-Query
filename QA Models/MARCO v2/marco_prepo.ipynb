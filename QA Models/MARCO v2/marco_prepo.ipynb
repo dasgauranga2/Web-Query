{
 "cells": [
  {
   "cell_type": "code",
   "execution_count": 1,
   "metadata": {},
   "outputs": [],
   "source": [
    "import json\n",
    "import os\n",
    "from transformers import T5Tokenizer\n",
    "import pandas as pd\n",
    "import random"
   ]
  },
  {
   "cell_type": "code",
   "execution_count": 2,
   "metadata": {},
   "outputs": [],
   "source": [
    "tokenizer = T5Tokenizer.from_pretrained('t5-small')"
   ]
  },
  {
   "cell_type": "code",
   "execution_count": null,
   "metadata": {},
   "outputs": [],
   "source": []
  },
  {
   "cell_type": "code",
   "execution_count": null,
   "metadata": {},
   "outputs": [],
   "source": []
  },
  {
   "cell_type": "code",
   "execution_count": 3,
   "metadata": {},
   "outputs": [],
   "source": [
    "with open('marco2.json') as f:\n",
    "  data = json.load(f)"
   ]
  },
  {
   "cell_type": "code",
   "execution_count": 4,
   "metadata": {},
   "outputs": [
    {
     "data": {
      "text/plain": [
       "dict_keys(['answers', 'passages', 'query', 'query_id', 'query_type', 'wellFormedAnswers'])"
      ]
     },
     "execution_count": 4,
     "metadata": {},
     "output_type": "execute_result"
    }
   ],
   "source": [
    "data.keys()"
   ]
  },
  {
   "cell_type": "code",
   "execution_count": 5,
   "metadata": {},
   "outputs": [
    {
     "name": "stdout",
     "output_type": "stream",
     "text": [
      "808731\n",
      "808731\n",
      "808731\n"
     ]
    }
   ],
   "source": [
    "print(len(data['answers']))\n",
    "print(len(data['passages']))\n",
    "print(len(data['query']))"
   ]
  },
  {
   "cell_type": "code",
   "execution_count": 6,
   "metadata": {},
   "outputs": [],
   "source": [
    "result = []"
   ]
  },
  {
   "cell_type": "code",
   "execution_count": 7,
   "metadata": {},
   "outputs": [],
   "source": [
    "for key in data['answers']:\n",
    "    for p in data['passages'][key]:\n",
    "        if p['is_selected'] == 1:\n",
    "            context = p['passage_text'].lower()\n",
    "            break\n",
    "    query = data['query'][key].lower()\n",
    "    answer = data['answers'][key][0].lower()\n",
    "    txt = 'context : ' + context + ' query : ' + query\n",
    "    #q_type = data['query_type'][key]\n",
    "    \n",
    "    if answer != 'no answer present.' and len(tokenizer.tokenize(context)) < 100 and len(tokenizer.tokenize(query)) < 20 and len(tokenizer.tokenize(answer)) < 20:\n",
    "        result.append([txt, answer])\n",
    "        #lengths.append(len(tokenizer.tokenize(answer)))\n",
    "        #types.add(data['query_type'][key])"
   ]
  },
  {
   "cell_type": "code",
   "execution_count": 8,
   "metadata": {},
   "outputs": [
    {
     "data": {
      "text/plain": [
       "216111"
      ]
     },
     "execution_count": 8,
     "metadata": {},
     "output_type": "execute_result"
    }
   ],
   "source": [
    "len(result)"
   ]
  },
  {
   "cell_type": "code",
   "execution_count": 9,
   "metadata": {},
   "outputs": [],
   "source": [
    "random.shuffle(result)"
   ]
  },
  {
   "cell_type": "code",
   "execution_count": 10,
   "metadata": {},
   "outputs": [],
   "source": [
    "result = result[:120000]"
   ]
  },
  {
   "cell_type": "code",
   "execution_count": null,
   "metadata": {},
   "outputs": [],
   "source": []
  },
  {
   "cell_type": "code",
   "execution_count": null,
   "metadata": {},
   "outputs": [],
   "source": []
  },
  {
   "cell_type": "code",
   "execution_count": 11,
   "metadata": {},
   "outputs": [
    {
     "data": {
      "text/plain": [
       "[['context : wavetek meterman and later simply meterman manufactured test and measurement tools for professionals. the company was purchased by danaher corporation, which also owns fluke and amprobe. in 2008, meterman was folded into the amprobe name. wavetek meterman manufactured digital multimeters, clamp-on meters, bench test instruments, component testers, continuity testers, and temperature testers. query : is amprobe owned by fluke',\n",
       "  'yes, amprobe is owned by fluke.'],\n",
       " ['context : 1 a high-protein diet. 2  beans, cheese, eggs, meat, and nuts can be good sources of protein. 3  eat these kinds of foods in the morning and for after-school snacks. 4  it may help improve concentration and possibly make adhd medications work for longer. 5  fewer simple carbohydrates. query : what food is good for adhd',\n",
       "  'beans, cheese, eggs, meat, and nuts.'],\n",
       " ['context : the cortex, composed primarily of parenchyma cells, is the largest part of the primary root, but in most dicots (eudicots) and in gymnosperms that undergo extensive secondary growth, it is soon crushed, and its storage function assumed by other tissues. query : which part of the plant develops into the primary root?',\n",
       "  'cortex'],\n",
       " ['context : how to find iron in minecraft. community q&a. iron can be used to create a variety of items in the game and is very useful. thankfully, it is also fairly common! here are a few quick tips on how to find iron ore in the game. 1. get yourself a stone pickaxe. the stone will be necessary to break the iron blocks down in order to get the material. query : what to use iron for in minecraft',\n",
       "  'to create a variety of items in the game.'],\n",
       " ['context : restraint of trade. an illegal act that interferes with free competition in a commercial or business transaction so as to restrict the production of a product or the provision of a service, affect the cost of a product or a service, or control the market in any way to the detriment of the consumers or purchasers of the service or product. query : what is restraint of trade?',\n",
       "  'an illegal act that interferes with free competition in a commercial or business transaction.'],\n",
       " ['context : august 24, 2011. 1  closing on a house involves a series of progressive steps that culminate in a final closing event. 2  it generally takes 30 to 60 days to complete the process of closing your home loan, starting from the moment a seller accepts your offer to purchase and ending with a final one-hour meeting. query : how long does the closing meeting take',\n",
       "  'one-hour'],\n",
       " [\"context : the secretary carries out the president's foreign policies through the state department, which includes the foreign service, civil service, and u.s. agency for international development. on february 1, 2013, john kerry was sworn in as the 68th secretary of state of the united states. query : where do secretary of states get their foreign policy experience\",\n",
       "  'united states'],\n",
       " ['context : sponge cake - a light porous cake made with eggs and flour and sugar without shortening. cake - baked goods made from or based on a mixture of flour, sugar, eggs, and fat. angel cake, angel food cake - a light sponge cake made without egg yolks. jellyroll, swiss roll - thin sheet of sponge cake spread with jelly and then rolled up to make a cylindrical cake. query : what is sponge cake',\n",
       "  'a light porous cake made with eggs and flour and sugar without shortening.'],\n",
       " ['context : for example, at the michigan state university travel clinic , the cost of a rabies vaccination is at least $35 to $95 for a consultation, depending on how long it lasts; $20 for shot administration ($15 for each additional shot) and $200 each for the three required shots for a total of at least $685. query : how much do rabies shots cost at beaumont',\n",
       "  'at least $35 to $95 for a consultation'],\n",
       " ['context : foreign intangible income: the act provides domestic c corporations (that are not regulated investment companies or reits) with a reduced tax rate on “foreign-derived intangible income” (fdii) and “global intangible low-taxed income” (gilti). query : gilti tax definition',\n",
       "  'gilti means global intangible low-taxed income.'],\n",
       " ['context : blood clots in an artery (arterial thrombi) occur by a different mechanism. for those with atherosclerotic disease, plaque deposits form along the lining of the artery and grow, which causes the vessel to narrow. this disease process may cause. 1  heart attack, 2  stroke, or.  peripheral artery disease. query : what causes of blood clot in the arm',\n",
       "  'the vessel to narrow.'],\n",
       " [\"context : g-force is gravity force or simply the force due to gravity. note that one g is only equal to 9.8 m/s^2 on earth since the gravitational constant changes depending on where in the universe you're at (e.g. on another planet). query : what is a g equal to\",\n",
       "  '9.8 m/s^2'],\n",
       " [\"context : philly [philly] as a girls' name (also used as boys' name philly) is of greek derivation, and the meaning of philly is horse lover. philly is a variant form of philippa (greek). associated with greek. query : meaning of philly\",\n",
       "  'the meaning of philly is \"horse lover\".'],\n",
       " ['context : tag: which feature is the determining factor in an alligator embryo’s gender development? posted on january 25, 2018 [ans] which feature is the determining factor in an alligator embryo’s gender development? which feature is the determining factor in an alligator embryo’s gender development? -egg temperature query : what determines an alligators gender development',\n",
       "  'egg temperature determines an alligators gender developments.'],\n",
       " ['context : vitamin d is found in milk and vitamin supplements, and it can be made by the skin when it is exposed to sunlight in the summertime. but not all sunlight is created equal. above 40 degrees latitude (north of san francisco, denver, indianapolis, and philadelphia), the winter sunlight isn’t strong enough to promote vitamin d formation. query : what does milk provide',\n",
       "  'milk provides calcium and vitamin d.'],\n",
       " [\"context : upon webster's death in 1843, the unsold books and all rights to the copyright and name webster were purchased by brothers george and charles merriam, who then hired webster's son-in-law chauncey a. goodrich, a professor at yale college, to oversee revisions. query : who created webster's dictionary\",\n",
       "  'george and charles merriam.'],\n",
       " ['context : the heart is a vital organ located in the center of the chest with a slight tilt to the left. using rhythmic muscle contractions, it circulates blood through veins and arteries, which supplies tissues with oxygenated blood and disposes waste. query : heart location in human body',\n",
       "  'in the center of the chest with a slight tilt to the left.'],\n",
       " ['context : in this case, the smoke adds flavor but does nothing to actually preserve the meat or extend its storage life. you can keep the meat food safe by holding it at a temperature above 140 degrees fahrenheit for a few hours, but at room temperature it should be discarded after 2 hours. query : how long is meat good out',\n",
       "  '2 hours'],\n",
       " [\"context : author topic: niacin can help erectile dysfunction (read 2855 times) peakt. niacin can help erectile dysfunction. i guess i'm supposed to know these things, but i had no idea how important niacin was to endothelial dysfunction and, therefore, potentially to improving erectile dysfunction for many men. query : can niacin help erections\",\n",
       "  'yes, niacin can help erectile dysfunction.'],\n",
       " ['context : 2017 list of colorado local sales tax rates. colorado has state sales tax of 2.90%, and allows local governments to collect a local option sales tax of up to 8.00%. there are a total of 184 local tax jurisdictions across the state, collecting an average local tax of 3.118%. click here for a larger sales tax map, or here for a sales tax table. query : what is the sales tax in colorado',\n",
       "  '2.90%']]"
      ]
     },
     "execution_count": 11,
     "metadata": {},
     "output_type": "execute_result"
    }
   ],
   "source": [
    "result[:20]"
   ]
  },
  {
   "cell_type": "code",
   "execution_count": null,
   "metadata": {},
   "outputs": [],
   "source": []
  },
  {
   "cell_type": "code",
   "execution_count": null,
   "metadata": {},
   "outputs": [],
   "source": []
  },
  {
   "cell_type": "code",
   "execution_count": 12,
   "metadata": {},
   "outputs": [],
   "source": [
    "train_df = pd.DataFrame(result , columns = ['Text', 'Answer'])"
   ]
  },
  {
   "cell_type": "code",
   "execution_count": 13,
   "metadata": {},
   "outputs": [],
   "source": [
    "train_df.to_csv('marco2.csv', index=False)"
   ]
  },
  {
   "cell_type": "code",
   "execution_count": null,
   "metadata": {},
   "outputs": [],
   "source": []
  },
  {
   "cell_type": "code",
   "execution_count": null,
   "metadata": {},
   "outputs": [],
   "source": []
  },
  {
   "cell_type": "code",
   "execution_count": 9,
   "metadata": {},
   "outputs": [
    {
     "name": "stdout",
     "output_type": "stream",
     "text": [
      "['$43,746 for the 2014-2015 academic year.']\n",
      "[{'is_selected': 0, 'passage_text': 'the cost of attending new york university is comparable to that of other selective private institutions new york university charges tuition and registration fees on a per unit basis for 2015 2016 the tuition rate is expected to be $ 1616 per unit plus registration and service feesthe estimated total tuition for the ms program is $ 51654 the board of trustees of new york university reserves the right to alter tuition and feesfinal tuition and fees for the 2015 16 academic year will be made official by april of this yearhe board of trustees of new york university reserves the right to alter tuition and fees final tuition and fees for the 2015 16 academic year will be made official by april of this year', 'url': 'http://cusp.nyu.edu/tuition-and-fees/'}, {'is_selected': 1, 'passage_text': 'tuition for new york university is $ 43746 for the 2014 2015 academic year this is 73 % more expensive than the national average private non profit four year college tuition of $ 25240he net out of pocket total cost you end up paying or financing though student loans is known as the net price the reported new york university net price for in state students $ 34268 for the 2013 2014 academic year this net price includes housing and meal expenses', 'url': 'http://www.collegecalc.org/colleges/new-york/new-york-university/'}, {'is_selected': 0, 'passage_text': 'the cost is $ 23628 and 117 % more expensive than the average new york tuition of $ 20118 for 4 year colleges tuition ranks 172nd in new york amongst 4 year colleges for affordability and is the 16th most expensive 4 year college in the stateprice does not vary by residence the school charges an additional fees of $ 2424 in addition to tuition bringing the total effective in state tuition to $ 46170he net out of pocket total cost you end up paying or financing though student loans is known as the net price the reported new york university net price for in state students $ 34268 for the 2013 2014 academic year this net price includes housing and meal expenses', 'url': 'http://www.collegecalc.org/colleges/new-york/new-york-university/'}, {'is_selected': 0, 'passage_text': '$ 470 nonreturnable registration and services fee per point for registration after first point $ 66 the above table represents the tuition and fees for a graduate social work student enrolling in the 2015 2016 academic yearnew york university and the silver school of social work reserve the right to change its courses programs tuition and fees at any time 470 nonreturnable registration and services fee per point for registration after first point $ 66 the above table represents the tuition and fees for a graduate social work student enrolling in the 2015 2016 academic year', 'url': 'http://socialwork.nyu.edu/admissions/msw/tuition-fees.html'}, {'is_selected': 0, 'passage_text': 'at the current published rates an estimated total tuition fees and living expense price for a 4 year bachelor s degree at new york university is $ 256088 for students graduating in normal timehe net out of pocket total cost you end up paying or financing though student loans is known as the net price the reported new york university net price for in state students $ 34268 for the 2013 2014 academic year this net price includes housing and meal expenses', 'url': 'http://www.collegecalc.org/colleges/new-york/new-york-university/'}, {'is_selected': 0, 'passage_text': '$ 51958 this includes tuition and registration fees for executive masters students excluding nurse leaders fees also include a one time $ 1500 empa program fee a typical part time student enrolls in 2 courses per semester each academic yeara typical full time student enrolls in 4 courses per semester each academic year 2015 2016 tuition per credit $ 1589his includes tuition and registration fees for executive masters students excluding nurse leaders fees also include a one time $ 1500 empa program fee a typical part time student enrolls in 2 courses per semester each academic year', 'url': 'http://wagner.nyu.edu/admissions/financialaid'}, {'is_selected': 0, 'passage_text': 'all fees are payable at the time of registration the office of the bursar is located at 25 west fourth street checks and drafts are to be drawn to the order of new york university for the exact amount of the tuition and fees requiredate payment of tuition fee $ 25 late registration fee commencing with the second week of classes $ 50 late registration fee commencing with the fifth week of classes $ 100 deposit upon acceptance nonreturnable $ 500 housing deposit if applicable upon acceptance nonreturnable $ 1000', 'url': 'http://bulletin.cas.nyu.edu/page/financial.aid'}, {'is_selected': 0, 'passage_text': 'nyu students in the halcyon days when tuition was only $ 50k per year nyu students in the halcyon days when tuition was only $ 50k per year it s no secret that matriculating at nyu is breathtakingly expensivenyu will cost you your arms legs soul is not breaking newsyu students in the halcyon days when tuition was only $ 50k per year nyu students in the halcyon days when tuition was only $ 50k per year it s no secret that matriculating at nyu is breathtakingly expensive', 'url': 'http://gothamist.com/2015/03/24/nyu_expensive.php'}, {'is_selected': 0, 'passage_text': 'with this plan you budget the cost of your tuition and or housing after deducting any financial aid you will be receiving and or any payments you have made directly to nyu a nonrefundable enrollment fee of $ 50 is required when applying for the fall spring tuitionpay planate payment of tuition fee $ 25 late registration fee commencing with the second week of classes $ 50 late registration fee commencing with the fifth week of classes $ 100 deposit upon acceptance nonreturnable $ 500 housing deposit if applicable upon acceptance nonreturnable $ 1000', 'url': 'http://bulletin.cas.nyu.edu/page/financial.aid'}, {'is_selected': 0, 'passage_text': 'the net out of pocket total cost you end up paying or financing though student loans is known as the net price the reported new york university net price for in state students $ 34268 for the 2013 2014 academic year this net price includes housing and meal expenseshe net out of pocket total cost you end up paying or financing though student loans is known as the net price the reported new york university net price for in state students $ 34268 for the 2013 2014 academic year this net price includes housing and meal expenses', 'url': 'http://www.collegecalc.org/colleges/new-york/new-york-university/'}]\n",
      "{'is_selected': 1, 'passage_text': 'tuition for new york university is $ 43746 for the 2014 2015 academic year this is 73 % more expensive than the national average private non profit four year college tuition of $ 25240he net out of pocket total cost you end up paying or financing though student loans is known as the net price the reported new york university net price for in state students $ 34268 for the 2013 2014 academic year this net price includes housing and meal expenses', 'url': 'http://www.collegecalc.org/colleges/new-york/new-york-university/'}\n",
      "nyu tuition cost\n"
     ]
    }
   ],
   "source": [
    "print(data['answers']['100000'])\n",
    "print(data['passages']['100000'])\n",
    "for p in data['passages']['100000']:\n",
    "    if p['is_selected'] == 1:\n",
    "        print(p)\n",
    "print(data['query']['100000'])"
   ]
  },
  {
   "cell_type": "code",
   "execution_count": null,
   "metadata": {},
   "outputs": [],
   "source": []
  },
  {
   "cell_type": "code",
   "execution_count": null,
   "metadata": {},
   "outputs": [],
   "source": []
  }
 ],
 "metadata": {
  "kernelspec": {
   "display_name": "Python 3",
   "language": "python",
   "name": "python3"
  },
  "language_info": {
   "codemirror_mode": {
    "name": "ipython",
    "version": 3
   },
   "file_extension": ".py",
   "mimetype": "text/x-python",
   "name": "python",
   "nbconvert_exporter": "python",
   "pygments_lexer": "ipython3",
   "version": "3.8.3"
  }
 },
 "nbformat": 4,
 "nbformat_minor": 4
}

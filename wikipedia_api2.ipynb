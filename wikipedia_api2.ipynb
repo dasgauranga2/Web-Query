{
 "cells": [
  {
   "cell_type": "code",
   "execution_count": 1,
   "metadata": {},
   "outputs": [],
   "source": [
    "import wikipedia"
   ]
  },
  {
   "cell_type": "code",
   "execution_count": null,
   "metadata": {},
   "outputs": [],
   "source": []
  },
  {
   "cell_type": "code",
   "execution_count": null,
   "metadata": {},
   "outputs": [],
   "source": []
  },
  {
   "cell_type": "code",
   "execution_count": 2,
   "metadata": {},
   "outputs": [
    {
     "name": "stdout",
     "output_type": "stream",
     "text": [
      "['Python', 'Python (programming language)', 'Monty Python', 'Ball python', 'Setuptools']\n"
     ]
    }
   ],
   "source": [
    "print(wikipedia.search(\"python\", results=5))"
   ]
  },
  {
   "cell_type": "code",
   "execution_count": 3,
   "metadata": {},
   "outputs": [
    {
     "name": "stdout",
     "output_type": "stream",
     "text": [
      "Python is an interpreted, high-level, general-purpose programming language. Created by Guido van Rossum and first released in 1991, Python's design philosophy emphasizes code readability with its notable use of significant whitespace. Its language constructs and object-oriented approach aim to help programmers write clear, logical code for small and large-scale projects.Python is dynamically typed and garbage-collected. It supports multiple programming paradigms, including structured (particularly, procedural), object-oriented, and functional programming. Python is often described as a \"batteries included\" language due to its comprehensive standard library.Python was conceived in the late 1980s as a successor to the ABC language. Python 2.0, released in 2000, introduced features like list comprehensions and a garbage collection system with reference counting.\n",
      "Python 3.0, released in 2008, was a major revision of the language that is not completely backward-compatible, and much Python 2 code does not run unmodified on Python 3.\n",
      "The Python 2 language was officially discontinued in 2020 (first planned for 2015), and \"Python 2.7.18 is the last Python 2.7 release and therefore the last Python 2 release.\" No more security patches or other improvements will be released for it. With Python 2's end-of-life, only  Python 3.5.x and later are supported.\n",
      "Python interpreters are available for many operating systems. A global community of programmers develops and maintains CPython, a free and open-source reference implementation. A non-profit organization, the Python Software Foundation, manages and directs resources for Python and CPython development.\n",
      "\n",
      "\n",
      "== History ==\n",
      "\n",
      "Python was conceived in the late 1980s by Guido van Rossum at Centrum Wiskunde & Informatica (CWI) in the Netherlands as a successor to the ABC language (itself inspired by SETL), capable of exception handling and interfacing with the Amoeba operating system. Its implementation began in December 1989. Van Rossum shouldered sole responsibility for the project, as the lead developer, until 12 July 2018, when he announced his \"permanent vacation\" from his responsibilities as Python's Benevolent Dictator For Life, a title the Python community bestowed upon him to reflect his long-term commitment as the project's chief decision-maker. He now shares his leadership as a member of a five-person steering council. In January 2019, active Python core developers elected Brett Cannon, Nick Coghlan, Barry Warsaw, Carol Willing and Van Rossum to a five-member \"Steering Council\" to lead the project.Python 2.0 was released on 16 October 2000 with many major new features, including a cycle-detecting garbage collector and support for Unicode.Python 3.0 was released on 3 December 2008. It was a major revision of the language that is not completely backward-compatible. Many of its major features were backported to Python 2.6.x and 2.7.x version series.  Releases of Python 3 include the 2to3 utility, which automates (at least partially) the translation of Python 2 code to Python 3.Python 2.7's end-of-life date was initially set at 2015 then postponed to 2020 out of concern that a large body of existing code could not easily be forward-ported to Python 3.\n",
      "\n",
      "\n",
      "== Features and philosophy ==\n",
      "Python is a multi-paradigm programming language. Object-oriented programming and structured programming are fully supported, and many of its features support functional programming and aspect-oriented programming (including by metaprogramming and metaobjects (magic methods)). Many other paradigms are supported via extensions, including design by contract and logic programming.Python uses dynamic typing and a combination of reference counting and a cycle-detecting garbage collector for memory management. It also features dynamic name resolution (late binding), which binds method and variable names during program execution.\n",
      "Python's design offers some support for functional programming in the Lisp tradition. It has filter, map, and reduce functions; list comprehensions, dictionaries, sets, and generator expressions. The standard library has two modules (itertools and functools) that implement functional tools borrowed from Haskell and Standard ML.The language's core philosophy is summarized in the document The Zen of Python (PEP 20), which includes aphorisms such as:\n",
      "Beautiful is better than ugly.\n",
      "Explicit is better than implicit.\n",
      "Simple is better than complex.\n",
      "Complex is better than complicated.\n",
      "Readability counts.Rather than having all of its functionality built into its core, Python was designed to be highly extensible. This compact modularity has made it particularly popular as a means of adding programmable interfaces to existing applications. Van Rossum's vision of a small core language with a large standard library and easily extensible interpreter stemmed from his frustrations with ABC, which espoused the opposite approach.Python strives for a simpler, less-cluttered syntax and grammar while giving developers a choice in their coding methodology. In contrast to Perl's \"there is more than one way to do it\" motto, Python embraces a \"there should be one—and preferably only one—obvious way to do it\" design philosophy. Alex Martelli, a Fellow at the Python Software Foundation and Python book author, writes that \"To describe something as 'clever' is not considered a compliment in the Python culture.\"Python's developers strive to avoid premature optimization, and reject patches to non-critical parts of the CPython reference implementation that would offer marginal increases in speed at the cost of clarity. When speed is important, a Python programmer can move time-critical functions to extension modules written in languages such as C, or use PyPy, a just-in-time compiler. Cython is also available, which translates a Python script into C and makes direct C-level API calls into the Python interpreter.\n",
      "An important goal of Python's developers is keeping it fun to use. This is reflected in the language's name—a tribute to the British comedy group Monty Python—and in occasionally playful approaches to tutorials and reference materials, such as examples that refer to spam and eggs (from a famous Monty Python sketch) instead of the standard foo and bar.A common neologism in the Python community is pythonic, which can have a wide range of meanings related to program style. To say that code is pythonic is to say that it uses Python idioms well, that it is natural or shows fluency in the language, that it conforms with Python's minimalist philosophy and emphasis on readability. In contrast, code that is difficult to understand or reads like a rough transcription from another programming language is called unpythonic.\n",
      "Users and admirers of Python, especially those considered knowledgeable or experienced, are often referred to as Pythonistas.\n",
      "\n",
      "\n",
      "== Syntax and semantics ==\n",
      "\n",
      "Python is meant to be an easily readable language. Its formatting is visually uncluttered, and it often uses English keywords where other languages use punctuation. Unlike many other languages, it does not use curly brackets to delimit blocks, and semicolons after statements are optional. It has fewer syntactic exceptions and special cases than C or Pascal.\n",
      "\n",
      "\n",
      "=== Indentation ===\n",
      "\n",
      "Python uses whitespace indentation, rather than curly brackets or keywords, to delimit blocks. An increase in indentation comes after certain statements; a decrease in indentation signifies the end of the current block. Thus, the program's visual structure accurately represents the program's semantic structure. This feature is sometimes termed the off-side rule, which some other languages share, but in most languages indentation doesn't have any semantic meaning.\n",
      "\n",
      "\n",
      "=== Statements and control flow ===\n",
      "Python's statements include (among others):\n",
      "\n",
      "The assignment statement (token '=', the equals sign). This operates differently than in traditional imperative programming languages, and this fundamental mechanism (including the nature of Python's version of variables) illuminates many other features of the language. Assignment in C, e.g., x = 2, translates to \"typed variable name x receives a copy of numeric value 2\". The (right-hand) value is copied into an allocated storage location for which the (left-hand) variable name is the symbolic address. The memory allocated to the variable is large enough (potentially quite large) for the declared type. In the simplest case of Python assignment, using the same example, x = 2, translates to \"(generic) name x receives a reference to a separate, dynamically allocated object of numeric (int) type of value 2.\" This is termed binding the name to the object. Since the name's storage location doesn't contain the indicated value, it is improper to call it a variable. Names may be subsequently rebound at any time to objects of greatly varying types, including strings, procedures, complex objects with data and methods, etc. Successive assignments of a common value to multiple names, e.g., x = 2; y = 2; z = 2 result in allocating storage to (at most) three names and one numeric object, to which all three names are bound. Since a name is a generic reference holder it is unreasonable to associate a fixed data type with it. However at a given time a name will be bound to some object, which will have a type; thus there is dynamic typing.\n",
      "The if statement, which conditionally executes a block of code, along with else and elif (a contraction of else-if).\n",
      "The for statement, which iterates over an iterable object, capturing each element to a local variable for use by the attached block.\n",
      "The while statement, which executes a block of code as long as its condition is true.\n",
      "The try statement, which allows exceptions raised in its attached code block to be caught and handled by except clauses; it also ensures that clean-up code in a finally block will always be run regardless of how the block exits.\n",
      "The raise statement, used to raise a specified exception or re-raise a caught exception.\n",
      "The class statement, which executes a block of code and attaches its local namespace to a class, for use in object-oriented programming.\n",
      "The def statement, which defines a function or method.\n",
      "The with statement, from Python 2.5 released in September 2006, which encloses a code block within a context manager (for example, acquiring a lock before the block of code is run and releasing the lock afterwards, or opening a file and then closing it), allowing Resource Acquisition Is Initialization (RAII)-like behavior and replaces a common try/finally idiom.\n",
      "The break statement, exits from the loop.\n",
      "The continue statement, skips this iteration and continues with the next item.\n",
      "The pass statement, which serves as a NOP. It is syntactically needed to create an empty code block.\n",
      "The assert statement, used during debugging to check for conditions that ought to apply.\n",
      "The yield statement, which returns a value from a generator function. From Python 2.5, yield is also an operator. This form is used to implement coroutines.\n",
      "The import statement, which is used to import modules whose functions or variables can be used in the current program. There are three ways of using import: import <module name> [as <alias>] or from <module name> import * or from <module name> import <definition 1> [as <alias 1>], <definition 2> [as <alias 2>], ....\n",
      "The print statement was changed to the print() function in Python 3.Python does not support tail call optimization or first-class continuations, and, according to Guido van Rossum, it never will. However, better support for coroutine-like functionality is provided in 2.5, by extending Python's generators. Before 2.5, generators were lazy iterators; information was passed unidirectionally out of the generator. From Python 2.5, it is possible to pass information back into a generator function, and from Python 3.3, the information can be passed through multiple stack levels.\n",
      "\n",
      "\n",
      "=== Expressions ===\n",
      "Some Python expressions are similar to languages such as C and Java, while some are not:\n",
      "\n",
      "Addition, subtraction, and multiplication are the same, but the behavior of division differs. There are two types of divisions in Python. They are floor division (or integer division) // and floating point/division. Python also added the ** operator for exponentiation.\n",
      "From Python 3.5, the new @ infix operator was introduced. It is intended to be used by libraries such as NumPy for matrix multiplication.\n",
      "From Python 3.8, the syntax :=, called the 'walrus operator' was introduced. It assigns values to variables as part of a larger expression.\n",
      "In Python, == compares by value, versus Java, which compares numerics by value and objects by reference. (Value comparisons in Java on objects can be performed with the equals() method.) Python's is operator may be used to compare object identities (comparison by reference). In Python, comparisons may be chained, for example a <= b <= c.\n",
      "Python uses the words and, or, not for its boolean operators rather than the symbolic &&, ||, ! used in Java and C.\n",
      "Python has a type of expression termed a list comprehension. Python 2.4 extended list comprehensions into a more general expression termed a generator expression.\n",
      "Anonymous functions are implemented using lambda expressions; however, these are limited in that the body can only be one expression.\n",
      "Conditional expressions in Python are written as x if c else y (different in order of operands from the c ? x : y operator common to many other languages).\n",
      "Python makes a distinction between lists and tuples. Lists are written as [1, 2, 3], are mutable, and cannot be used as the keys of dictionaries (dictionary keys must be immutable in Python). Tuples are written as (1, 2, 3), are immutable and thus can be used as the keys of dictionaries, provided all elements of the tuple are immutable. The + operator can be used to concatenate two tuples, which does not directly modify their contents, but rather produces a new tuple containing the elements of both provided tuples. Thus, given the variable t initially equal to (1, 2, 3), executing t = t + (4, 5) first evaluates t + (4, 5), which yields (1, 2, 3, 4, 5), which is then assigned back to t, thereby effectively \"modifying the contents\" of t, while conforming to the immutable nature of tuple objects. Parentheses are optional for tuples in unambiguous contexts.\n",
      "Python features sequence unpacking wherein multiple expressions, each evaluating to anything that can be assigned to (a variable, a writable property, etc.), are associated in the identical manner to that forming tuple literals and, as a whole, are put on the left hand side of the equal sign in an assignment statement. The statement expects an iterable object on the right hand side of the equal sign that produces the same number of values as the provided writable expressions when iterated through, and will iterate through it, assigning each of the produced values to the corresponding expression on the left.\n",
      "Python has a \"string format\" operator %. This functions analogous to printf format strings in C, e.g. \"spam=%s eggs=%d\" % (\"blah\", 2) evaluates to \"spam=blah eggs=2\". In Python 3 and 2.6+, this was supplemented by the format() method of the str class, e.g. \"spam={0} eggs={1}\".format(\"blah\", 2). Python 3.6 added \"f-strings\": blah = \"blah\"; eggs = 2; f'spam={blah} eggs={eggs}'.\n",
      "Python has various kinds of string literals:\n",
      "Strings delimited by single or double quote marks. Unlike in Unix shells, Perl and Perl-influenced languages, single quote marks and double quote marks function identically. Both kinds of string use the backslash (\\) as an escape character. String interpolation became available in Python 3.6 as \"formatted string literals\".\n",
      "Triple-quoted strings, which begin and end with a series of three single or double quote marks. They may span multiple lines and function like here documents in shells, Perl and Ruby.\n",
      "Raw string varieties, denoted by prefixing the string literal with an r. Escape sequences are not interpreted; hence raw strings are useful where literal backslashes are common, such as regular expressions and Windows-style paths. Compare \"@-quoting\" in C#.\n",
      "Python has array index and array slicing expressions on lists, denoted as a[key], a[start:stop] or a[start:stop:step]. Indexes are zero-based, and negative indexes are relative to the end. Slices take elements from the start index up to, but not including, the stop index. The third slice parameter, called step or stride, allows elements to be skipped and reversed. Slice indexes may be omitted, for example a[:] returns a copy of the entire list. Each element of a slice is a shallow copy.In Python, a distinction between expressions and statements is rigidly enforced, in contrast to languages such as Common Lisp, Scheme, or Ruby. This leads to duplicating some functionality. For example:\n",
      "\n",
      "List comprehensions vs. for-loops\n",
      "Conditional expressions vs. if blocks\n",
      "The eval() vs. exec() built-in functions (in Python 2, exec is a statement); the former is for expressions, the latter is for statements.Statements cannot be a part of an expression, so list and other comprehensions or lambda expressions, all being expressions, cannot contain statements. A particular case of this is that an assignment statement such as a = 1 cannot form part of the conditional expression of a conditional statement. This has the advantage of avoiding a classic C error of mistaking an assignment operator = for an equality operator == in conditions: if (c = 1) { ... } is syntactically valid (but probably unintended) C code but if c = 1: ... causes a syntax error in Python.\n",
      "\n",
      "\n",
      "=== Methods ===\n",
      "Methods on objects are functions attached to the object's class; the syntax instance.method(argument) is, for normal methods and functions, syntactic sugar for Class.method(instance, argument). Python methods have an explicit self parameter to access instance data, in contrast to the implicit self (or this) in some other object-oriented programming languages (e.g., C++, Java, Objective-C, or Ruby).\n",
      "\n",
      "\n",
      "=== Typing ===\n",
      "\n",
      "Python uses duck typing and has typed objects but untyped variable names. Type constraints are not checked at compile time; rather, operations on an object may fail, signifying that the given object is not of a suitable type. Despite being dynamically typed, Python is strongly typed, forbidding operations that are not well-defined (for example, adding a number to a string) rather than silently attempting to make sense of them.\n",
      "Python allows programmers to define their own types using classes, which are most often used for object-oriented programming. New instances of classes are constructed by calling the class (for example, SpamClass() or EggsClass()), and the classes are instances of the metaclass type (itself an instance of itself), allowing metaprogramming and reflection.\n",
      "Before version 3.0, Python had two kinds of classes: old-style and new-style. The syntax of both styles is the same, the difference being whether the class object is inherited from, directly or indirectly (all new-style classes inherit from object and are instances of type). In versions of Python 2 from Python 2.2 onwards, both kinds of classes can be used. Old-style classes were eliminated in Python 3.0.\n",
      "The long term plan is to support gradual typing and from Python 3.5, the syntax of the language allows specifying static types but they are not checked in the default implementation, CPython. An experimental optional static type checker named mypy supports compile-time type checking.\n",
      "^a Not directly accessible by name \n",
      "\n",
      "\n",
      "=== Mathematics ===\n",
      "Python has the usual symbols for arithmetic operators (+, -, *, /), the floor division operator // and the remainder operator % (where the remainder can be negative,  e.g. 4 % -3 == -2). It also has ** for exponentiation, e.g. 5**3 == 125 and 9**0.5 == 3.0, and a matrix multiply operator @ . These operators work like in traditional math; with the same precedence rules, the operators infix ( + and - can also be unary to represent positive and negative numbers respectively).\n",
      "Division between integers produces floating point results. The behavior of division has changed significantly over time:\n",
      "Python 2.1 and earlier used C's division behavior. The / operator is integer division if both operands are integers, and floating-point division otherwise. Integer division rounds towards 0, e.g. 7/3 == 2 and -7/3 == -2.\n",
      "Python 2.2 changed integer division to round towards negative infinity, e.g. 7/3 == 2 and -7/3 == -3. The floor division // operator was introduced. So 7//3 == 2, -7//3 == -3, 7.5//3 == 2.0 and -7.5//3 == -3.0. Adding from __future__ import division causes a module to use Python 3.0 rules for division (see next).\n",
      "Python 3.0 changed / to always be floating-point division, e.g. 5/2 == 2.5.In Python terms, / is true division (or simply division), and // is floor division. / before version 3.0 is classic division.Rounding towards negative infinity, though different from most languages, adds consistency. For instance, it means that the equation (a + b)//b == a//b + 1 is always true. It also means that the equation b*(a//b) + a%b == a is valid for both positive and negative values of a. However, maintaining the validity of this equation means that while the result of a%b is, as expected, in the half-open interval [0, b), where b is a positive integer, it has to lie in the interval (b, 0] when b is negative.Python provides a round function for rounding a float to the nearest integer. For tie-breaking, Python 3 uses round to even: round(1.5) and round(2.5) both produce 2. Versions before 3 used round-away-from-zero: round(0.5) is 1.0, round(-0.5) is −1.0.Python allows boolean expressions with multiple equality relations in a manner that is consistent with general use in mathematics. For example, the expression a < b < c tests whether a is less than b and b is less than c.  C-derived languages interpret this expression differently: in C, the expression would first evaluate a < b, resulting in 0 or 1, and that result would then be compared with c.Python uses arbitrary-precision arithmetic for all integer operations. The Decimal type/class in the decimal module provides decimal floating point numbers to a pre-defined arbitrary precision and several rounding modes. The Fraction class in the fractions module provides arbitrary precision for rational numbers.Due to Python's extensive mathematics library, and the third-party library NumPy that further extends the native capabilities, it is frequently used as a scientific scripting language to aid in problems such as numerical data processing and manipulation.\n",
      "\n",
      "\n",
      "== Python programming examples ==\n",
      "Hello world program:\n",
      "\n",
      "Program to calculate the factorial of a positive integer:\n",
      "\n",
      "\n",
      "== Libraries ==\n",
      "Python's large standard library, commonly cited as one of its greatest strengths, provides tools suited to many tasks. For Internet-facing applications, many standard formats and protocols such as MIME and HTTP are supported. It includes modules for creating graphical user interfaces, connecting to relational databases, generating pseudorandom numbers, arithmetic with arbitrary-precision decimals, manipulating regular expressions, and unit testing.\n",
      "Some parts of the standard library are covered by specifications (for example, the Web Server Gateway Interface (WSGI) implementation wsgiref follows PEP 333), but most modules are not. They are specified by their code, internal documentation, and test suites. However, because most of the standard library is cross-platform Python code, only a few modules need altering or rewriting for variant implementations.\n",
      "As of November 2019, the Python Package Index (PyPI), the official repository for third-party Python software, contains over 200,000 packages with a wide range of functionality, including:\n",
      "\n",
      "Automation\n",
      "Data analytics\n",
      "Databases\n",
      "Documentation\n",
      "Graphical user interfaces\n",
      "Image processing\n",
      "Machine learning\n",
      "Mobile App\n",
      "Multimedia\n",
      "Networking\n",
      "Scientific computing\n",
      "System administration\n",
      "Test frameworks\n",
      "Text processing\n",
      "Web frameworks\n",
      "Web scraping\n",
      "\n",
      "\n",
      "== Development environments ==\n",
      "\n",
      "Most Python implementations (including CPython) include a read–eval–print loop (REPL), permitting them to function as a command line interpreter for which the user enters statements sequentially and receives results immediately.\n",
      "Other shells, including IDLE and IPython, add further abilities such as improved auto-completion, session state retention and syntax highlighting.\n",
      "As well as standard desktop integrated development environments, there are Web browser-based IDEs; SageMath (intended for developing science and math-related Python programs); PythonAnywhere, a browser-based IDE and hosting environment; and Canopy IDE, a commercial Python IDE emphasizing scientific computing.\n",
      "\n",
      "\n",
      "== Implementations ==\n",
      "\n",
      "\n",
      "=== Reference implementation ===\n",
      "CPython is the reference implementation of Python. It is written in C, meeting the C89 standard with several select C99 features. It compiles Python programs into an intermediate bytecode which is then executed by its virtual machine. CPython is distributed with a large standard library written in a mixture of C and native Python. It is available for many platforms, including Windows (Vista and later; supported Windows XP and older, with by now unsupported Python 2.7) and most modern Unix-like systems. Platform portability was one of its earliest priorities, in Python 1 and 2 time-frame, even supporting VMS and OS/2, while since support has been dropped for a lot of platforms.\n",
      "\n",
      "\n",
      "=== Other implementations ===\n",
      "PyPy is a fast, compliant interpreter of Python 2.7 and 3.6. Its just-in-time compiler brings a significant speed improvement over CPython but several libraries written in C cannot be used with it.Stackless Python is a significant fork of CPython that implements microthreads; it does not use the C memory stack, thus allowing massively concurrent programs. PyPy also has a stackless version.MicroPython and CircuitPython are Python 3 variants optimized for microcontrollers. This includes Lego Mindstorms EV3.\n",
      "\n",
      "\n",
      "=== Unsupported implementations ===\n",
      "Other just-in-time Python compilers have been developed, but are now unsupported:\n",
      "\n",
      "Google began a project named Unladen Swallow in 2009, with the aim of speeding up the Python interpreter five-fold by using the LLVM, and of improving its multithreading ability to scale to thousands of cores, while ordinary implementations suffer from the global interpreter lock.\n",
      "Psyco was a just-in-time specializing compiler that integrates with CPython and transforms bytecode to machine code at runtime. The emitted code is specialized for certain data types and is faster than standard Python code.In 2005, Nokia released a Python interpreter for the Series 60 mobile phones named PyS60. It includes many of the modules from the CPython implementations and some additional modules to integrate with the Symbian operating system. The project has been kept up-to-date to run on all variants of the S60 platform, and several third-party modules are available. The Nokia N900 also supports Python with GTK widget libraries, enabling programs to be written and run on the target device.\n",
      "\n",
      "\n",
      "=== Cross-compilers to other languages ===\n",
      "There are several compilers to high-level object languages, with either unrestricted Python, a restricted subset of Python, or a language similar to Python as the source language:\n",
      "\n",
      "Cython compiles Python to C and C++.\n",
      "Google's Grumpy compiles Python to Go.\n",
      "IronPython follows a similar approach in order to run Python programs on the .NET Common Language Runtime.\n",
      "Jython enables the use of the Java class library from a Python program.\n",
      "MyHDL compiles Python to VHDL.\n",
      "Nuitka compiles Python into C++.\n",
      "Numba uses LLVM to compile Python to machine code.\n",
      "Pyjs compiles Python to JavaScript.\n",
      "Pyrex (latest release in 2010) and Shed Skin (latest release in 2013) compile to C and C++ respectively.\n",
      "Pythran compiles Python to C++.\n",
      "RPython can be compiled to C, and is used to build the PyPy interpreter of Python.\n",
      "\n",
      "\n",
      "=== Performance ===\n",
      "A performance comparison of various Python implementations on a non-numerical (combinatorial) workload was presented at EuroSciPy '13. Python's performance compared to other programming languages has also been benchmarked by The Computer Language Benchmarks Game.\n",
      "\n",
      "\n",
      "== Development ==\n",
      "Python's development is conducted largely through the Python Enhancement Proposal (PEP) process, the primary mechanism for proposing major new features, collecting community input on issues and documenting Python design decisions. Python coding style is covered in PEP 8. Outstanding PEPs are reviewed and commented on by the Python community and the steering council.Enhancement of the language corresponds with development of the CPython reference implementation. The mailing list python-dev is the primary forum for the language's development. Specific issues are discussed in the Roundup bug tracker hosted at bugs.python.org. Development originally took place on a self-hosted source-code repository running Mercurial, until Python moved to GitHub in January 2017.CPython's public releases come in three types, distinguished by which part of the version number is incremented:\n",
      "\n",
      "Backward-incompatible versions, where code is expected to break and need to be manually ported. The first part of the version number is incremented. These releases happen infrequently—for example, version 3.0 was released 8 years after 2.0.\n",
      "Major or \"feature\" releases, about every 18 months, are largely compatible but introduce new features. The second part of the version number is incremented. Each major version is supported by bugfixes for several years after its release.\n",
      "Bugfix releases,  which introduce no new features, occur about every 3 months and are made when a sufficient number of bugs have been fixed upstream since the last release. Security vulnerabilities are also patched in these releases. The third and final part of the version number is incremented.Python 3.9 alpha1 was announced in November 2019 and with the adoption of a new yearly release cadence, the first release of 3.9 is slated for November 2020.Many alpha, beta, and release-candidates are also released as previews and for testing before final releases. Although there is a rough schedule for each release, they are often delayed if the code is not ready. Python's development team monitors the state of the code by running the large unit test suite during development, and using the BuildBot continuous integration system.The major academic conference on Python is PyCon. There are also special Python mentoring programmes, such as Pyladies.\n",
      "\n",
      "\n",
      "== Naming ==\n",
      "Python's name is derived from the British comedy group Monty Python, whom Python creator Guido van Rossum enjoyed while developing the language. Monty Python references appear frequently in Python code and culture; for example, the metasyntactic variables often used in Python literature are spam and eggs instead of the traditional foo and bar. The official Python documentation also contains various references to Monty Python routines.The prefix Py- is used to show that something is related to Python. Examples of the use of this prefix in names of Python applications or libraries include Pygame, a binding of SDL to Python (commonly used to create games); PyQt and PyGTK, which bind Qt and GTK to Python respectively; and PyPy, a Python implementation originally written in Python.\n",
      "\n",
      "\n",
      "== API documentation generators ==\n",
      "Python API documentation generators include:\n",
      "\n",
      "Epydoc\n",
      "HeaderDoc\n",
      "pydoc\n",
      "Sphinx\n",
      "\n",
      "\n",
      "== Uses ==\n",
      "\n",
      "Since 2003, Python has consistently ranked in the top ten most popular programming languages in the TIOBE Programming Community Index where, as of February 2020, it is the third most popular language (behind Java, and C). It was selected Programming Language of the Year in 2007, 2010, and 2018.An empirical study found that scripting languages, such as Python, are more productive than conventional languages, such as C and Java, for programming problems involving string manipulation and search in a dictionary, and determined that memory consumption was often \"better than Java and not much worse than C or C++\".Large organizations that use Python include Wikipedia, Google, Yahoo!, CERN, NASA, Facebook, Amazon, Instagram, Spotify and some smaller entities like ILM and ITA. The social news networking site Reddit is written entirely in Python.Python can serve as a scripting language for web applications, e.g., via mod_wsgi for the Apache web server. With Web Server Gateway Interface, a standard API has evolved to facilitate these applications. Web frameworks like Django, Pylons, Pyramid, TurboGears, web2py, Tornado, Flask, Bottle and Zope support developers in the design and maintenance of complex applications. Pyjs and IronPython can be used to develop the client-side of Ajax-based applications. SQLAlchemy can be used as data mapper to a relational database. Twisted is a framework to program communications between computers, and is used (for example) by Dropbox.\n",
      "Libraries such as NumPy, SciPy and Matplotlib allow the effective use of Python in scientific computing, with specialized libraries such as Biopython and Astropy providing domain-specific functionality. SageMath is a mathematical software with a notebook interface programmable in Python: its library covers many aspects of mathematics, including algebra, combinatorics, numerical mathematics, number theory, and calculus.Python has been successfully embedded in many software products as a scripting language, including in finite element method software such as Abaqus, 3D parametric modeler like FreeCAD, 3D animation packages such as 3ds Max, Blender, Cinema 4D, Lightwave, Houdini, Maya, modo, MotionBuilder, Softimage, the visual effects compositor Nuke, 2D imaging programs like GIMP, Inkscape, Scribus and Paint Shop Pro, and musical notation programs like scorewriter and capella. GNU Debugger uses Python as a pretty printer to show complex structures such as C++ containers. Esri promotes Python as the best choice for writing scripts in ArcGIS. It has also been used in several video games, and has been adopted as first of the three available programming languages in Google App Engine, the other two being Java and Go.Python is commonly used in artificial intelligence projects and machine learning projects with the help of libraries like TensorFlow, Keras, Pytorch and Scikit-learn. As a scripting language with modular architecture, simple syntax and rich text processing tools, Python is often used for natural language processing.Many operating systems include Python as a standard component. It ships with most Linux distributions, AmigaOS 4 (using Python 2.7), FreeBSD (as a package), NetBSD, OpenBSD (as a package) and macOS and can be used from the command line (terminal). Many Linux distributions use installers written in Python: Ubuntu uses the Ubiquity installer, while Red Hat Linux and Fedora use the Anaconda installer. Gentoo Linux uses Python in its package management system, Portage.\n",
      "Python is used extensively in the information security industry, including in exploit development.Most of the Sugar software for the One Laptop per Child XO, now developed at Sugar Labs, is written in Python. The Raspberry Pi single-board computer project has adopted Python as its main user-programming language.\n",
      "LibreOffice includes Python, and intends to replace Java with Python. Its Python Scripting Provider is a core feature since Version 4.0 from 7 February 2013.\n",
      "\n",
      "\n",
      "== Languages influenced by Python ==\n",
      "Python's design and philosophy have influenced many other programming languages:\n",
      "\n",
      "Boo uses indentation, a similar syntax, and a similar object model.\n",
      "Cobra uses indentation and a similar syntax, and its Acknowledgements document lists Python first among languages that influenced it.\n",
      "CoffeeScript, a programming language that cross-compiles to JavaScript, has Python-inspired syntax.\n",
      "ECMAScript/JavaScript borrowed iterators and generators from Python.\n",
      "GDScript, a scripting language very similar to Python, built-in to the Godot game engine.\n",
      "Go is designed for the \"speed of working in a dynamic language like Python\" and shares the same syntax for slicing arrays.\n",
      "Groovy was motivated by the desire to bring the Python design philosophy to Java.\n",
      "Julia was designed to be \"as usable for general programming as Python\".\n",
      "Nim uses indentation and a similar syntax.\n",
      "Ruby's creator, Yukihiro Matsumoto, has said: \"I wanted a scripting language that was more powerful than Perl, and more object-oriented than Python. That's why I decided to design my own language.\"\n",
      "Swift, a programming language developed by Apple, has some Python-inspired syntax.Python's development practices have also been emulated by other languages. For example, the practice of requiring a document describing the rationale for, and issues surrounding, a change to the language (in Python, a PEP) is also used in Tcl, Erlang, and Swift.\n",
      "\n",
      "\n",
      "== See also ==\n",
      "\n",
      "Python syntax and semantics\n",
      "pip (package manager)\n",
      "\n",
      "\n",
      "== References ==\n",
      "\n",
      "\n",
      "=== Sources ===\n",
      "\"Python for Artificial Intelligence\". Wiki.python.org. 19 July 2012. Archived from the original on 1 November 2012. Retrieved 3 December 2012.\n",
      "Paine, Jocelyn, ed. (August 2005). \"AI in Python\". AI Expert Newsletter. Amzi!. Archived from the original on 26 March 2012. Retrieved 11 February 2012.\n",
      "\"PyAIML 0.8.5 : Python Package Index\". Pypi.python.org. Retrieved 17 July 2013.\n",
      "Russell, Stuart J. & Norvig, Peter (2009). Artificial Intelligence: A Modern Approach (3rd ed.). Upper Saddle River, NJ: Prentice Hall. ISBN 978-0-13-604259-4.\n",
      "\n",
      "\n",
      "== Further reading ==\n",
      "Downey, Allen B. (May 2012). Think Python: How to Think Like a Computer Scientist (Version 1.6.6 ed.). ISBN 978-0-521-72596-5.\n",
      "Hamilton, Naomi (5 August 2008). \"The A-Z of Programming Languages: Python\". Computerworld. Archived from the original on 29 December 2008. Retrieved 31 March 2010.\n",
      "Lutz, Mark (2013). Learning Python (5th ed.). O'Reilly Media. ISBN 978-0-596-15806-4.\n",
      "Pilgrim, Mark (2004). Dive Into Python. Apress. ISBN 978-1-59059-356-1.\n",
      "Pilgrim, Mark (2009). Dive Into Python 3. Apress. ISBN 978-1-4302-2415-0.\n",
      "Summerfield, Mark (2009). Programming in Python 3 (2nd ed.). Addison-Wesley Professional. ISBN 978-0-321-68056-3.\n",
      "\n",
      "\n",
      "== External links ==\n",
      "\n",
      "Official website \n",
      "Python at Curlie\n"
     ]
    }
   ],
   "source": [
    "print(wikipedia.page(\"Python (programming language)\").content)"
   ]
  },
  {
   "cell_type": "code",
   "execution_count": 4,
   "metadata": {},
   "outputs": [
    {
     "name": "stdout",
     "output_type": "stream",
     "text": [
      "https://en.wikipedia.org/wiki/Python_(programming_language)\n"
     ]
    }
   ],
   "source": [
    "print(wikipedia.page(\"Python (programming language)\").url)"
   ]
  },
  {
   "cell_type": "code",
   "execution_count": 5,
   "metadata": {},
   "outputs": [
    {
     "name": "stdout",
     "output_type": "stream",
     "text": [
      "['http://www.computerworld.com.au/index.php/id;66665771', 'http://neopythonic.blogspot.be/2009/04/tail-recursion-elimination.html', 'http://www.amk.ca/python/writing/gvr-interview', 'http://cdsweb.cern.ch/journal/CERNBulletin/2006/31/News%20Articles/974627?ln=en', 'http://www.2ality.com/2013/02/javascript-influences.html', 'http://www.2kgames.com/civ4/blog_03.htm', 'http://archive.adaic.com/standards/83lrm/html/lrm-11-03.html#11.3', 'http://www.ainewsletter.com/newsletters/aix_0508.htm#python_ai_ai', 'http://www.artima.com/intv/pythonP.html', 'http://www.artima.com/weblogs/viewpost.jsp?thread=147358', 'http://cobra-language.com/docs/acknowledgements/', 'http://ebeab.com/2014/01/21/python-culture/', 'http://webhelp.esri.com/arcgisdesktop/9.2/index.cfm?TopicName=About_getting_started_with_writing_geoprocessing_scripts', 'http://community.eveonline.com/news/dev-blogs/stackless-python-2.7/', 'http://www.eweek.com/c/a/Application-Development/Python-Slithers-into-Systems/', 'http://www.immunitysec.com/products-immdbg.shtml', 'http://www.jasc.com/support/customercare/articles/psp9components.asp', 'http://www.linuxdevcenter.com/pub/a/linux/2001/11/29/ruby.html', 'http://www.modulecounts.com/', 'http://www.oracle.com/technetwork/articles/piotrowski-pythoncore-084049.html', 'http://shop.oreilly.com/product/9780596007973.do', 'http://www.oreilly.com/pub/a/oreilly/frank/rossum_1099.html', 'http://speakingjs.com/es5/ch03.html', 'http://www.tiobe.com/index.php/paperinfo/tpci/Python.html', 'http://www.tiobe.com/tiobe-index/', 'http://w3techs.com/technologies/details/pl-python/all/all', 'http://radio.weblogs.com/0112098/2003/08/29.html', 'http://page.mi.fu-berlin.de/prechelt/Biblio/jccpprt_computer2000.pdf', 'http://www.secnetix.de/~olli/Python/block_indentation.hawk', 'http://citeseerx.ist.psu.edu/viewdoc/summary?doi=10.1.1.38.2023', 'http://citeseerx.ist.psu.edu/viewdoc/summary?doi=10.1.1.474.6460', 'http://www.troeger.eu/teaching/pythonvm08.pdf', 'http://www.stochasticgeometry.ie/2010/04/29/python-on-the-nokia-n900/', 'http://nuitka.net/', 'http://python.net/crew/mwh/hacks/objectthink.html', 'http://python.net/~goodger/projects/pycon/2007/idiomatic/handout.html', 'http://gimp-win.sourceforge.net/faq.html', 'http://ring-lang.sourceforge.net/doc1.6/introduction.html#ring-and-other-languages', 'http://www.wayforward.net/pycontract/', 'http://arxiv.org/abs/1404.6388', 'http://boo.codehaus.org/Gotchas+for+Python+Users', 'http://www.computer.org/csdl/mags/cs/2011/02/mcs2011020009.html', 'http://doi.org/10.1109%2FMCSE.2007.58', 'http://doi.org/10.1109%2FMCSE.2011.36', 'http://wiki.ecmascript.org/doku.php?id=proposals:iterators_and_generators', 'http://effbot.org/zone/call-by-object.htm', 'http://www.erlang.org/eeps/eep-0001.html', 'http://docs.godotengine.org/en/latest/about/faq.html#what-is-gdscript-and-why-should-i-use-it', 'http://www.libreoffice.org/download/4-0-new-features-and-fixes/', 'http://mypy-lang.org/', 'http://www.nltk.org/', 'http://nondot.org/sabre', 'http://nondot.org/sabre/', 'http://www.nongnu.org/pydbc/', 'http://doc.pypy.org/en/latest/stackless.html', 'http://speed.pypy.org/', 'http://sugarlabs.org/go/Sugar', 'http://download.tensorflow.org/paper/whitepaper2015.pdf', 'http://visual.icse.us.edu.pl/methodology/why_Sage.html', 'http://www.tcl.tk/cgi-bin/tct/tip/3.html', 'https://docs.bazel.build/versions/master/skylark/language.html', 'https://python-history.blogspot.com/2009/01/brief-timeline-of-python.html', 'https://python-history.blogspot.com/2010/08/why-pythons-integer-division-floors.html', 'https://pythoninsider.blogspot.com/2020/04/python-2718-last-release-of-python-2.html', 'https://www.coresecurity.com/', 'https://www.enthought.com/products/canopy/', 'https://developers.facebook.com/blog/post/301', 'https://github.com/apple/swift-evolution/blob/master/process.md', 'https://github.com/google/grumpy', 'https://github.com/reddit-archive/reddit', 'https://books.google.com/books?id=1HxWGezDZcgC&pg=PA17', 'https://books.google.com/books?id=carqdIdfVlYC&pg=PR15', 'https://code.google.com/apis/documents/docs/1.0/developers_guide_python.html', 'https://code.google.com/p/unladen-swallow/wiki/ProjectPlan', 'https://sites.google.com/site/pydatalog/', 'https://cloudplatform.googleblog.com/2016/05/Google-supercharges-machine-learning-tasks-with-custom-chip.html', 'https://www.h2desk.com/blog/python-scientific-computing/', 'https://hackernoon.com/which-is-the-fastest-version-of-python-2ae7c61a6b2b', 'https://www.infoworld.com/article/3157745/application-development/nim-language-draws-from-best-of-python-rust-go-and-lisp.html', 'https://instagram-engineering.com/what-powers-instagram-hundreds-of-instances-dozens-of-technologies-adf2e22da2ad', 'https://www.kdnuggets.com/2018/05/poll-tools-analytics-data-science-machine-learning-results.html/2', 'https://education.lego.com/en-us/support/mindstorms-ev3/python-for-ev3', 'https://likegeeks.com/python-web-scraping/', 'https://www.linuxjournal.com/content/guido-van-rossum-stepping-down-role-pythons-benevolent-dictator-life', 'https://medium.com/@olivier.borderies/pythran-python-at-c-speed-518f26af60e8', 'https://insidetech.monster.com/training/articles/8114-15-ways-python-is-a-powerful-force-on-the-web', 'https://docs.oracle.com/javase/specs/jls/se8/html/jls-15.html#jls-15.21.1', 'https://docs.oracle.com/javase/specs/jls/se8/html/jls-15.html#jls-15.21.3', 'https://labs.spotify.com/2013/03/20/how-we-use-python-at-spotify/', 'https://stackoverflow.com/questions/5033906/in-python-should-i-use-else-after-a-return-in-an-if-block', 'https://techcrunch.com/2009/11/10/google-go-language/', 'https://ui.adsabs.harvard.edu/abs/2007CSE.....9c..10O', 'https://ui.adsabs.harvard.edu/abs/2011CSE....13b...9M', 'https://ui.adsabs.harvard.edu/abs/2014arXiv1404.6388M', 'https://engineering.ucsb.edu/~shell/che210d/python.pdf', 'https://www.stat.washington.edu/~hoytak/blog/whypython.html', 'https://catalogue.bnf.fr/ark:/12148/cb13560465c', 'https://data.bnf.fr/ark:/12148/cb13560465c', 'https://www.idref.fr/051626225', 'https://opensource.google/projects/', 'https://id.loc.gov/authorities/subjects/sh96008834', 'https://d-nb.info/gnd/4434275-5', 'https://pythran.readthedocs.io/en/latest/', 'https://benchmarksgame-team.pages.debian.net/benchmarksgame/fastest/python.html', 'https://lwn.net/Articles/627418/', 'https://lwn.net/Articles/802777/', 'https://www.theinquirer.net/inquirer/news/3035842/python-boss-guido-van-rossum-steps-down-after-30-years', 'https://archive.org/details/cprogramminglang00bria/page/206', 'https://archive.org/details/diveintopython0000pilg', 'https://archive.org/details/practicaljrubyon0000bini/page/3', 'https://archive.org/details/pythonessentialr00beaz_036', 'https://archive.org/details/pythonessentialr00beaz_036/page/n90', 'https://web.archive.org/web/20070405085722/http://radio.weblogs.com/0112098/2003/08/29.html', 'https://web.archive.org/web/20070501105422/http://www.amk.ca/python/writing/gvr-interview', 'https://web.archive.org/web/20071020082650/http://wiki.ecmascript.org/doku.php?id=proposals:iterators_and_generators', 'https://web.archive.org/web/20080319061519/http://www.jasc.com/support/customercare/articles/psp9components.asp', 'https://web.archive.org/web/20081211062108/http://boo.codehaus.org/Gotchas+for+Python+Users', 'https://web.archive.org/web/20081229095320/http://www.computerworld.com.au/index.php/id;66665771', 'https://web.archive.org/web/20090216134332/http://immunitysec.com/products-immdbg.shtml', 'https://web.archive.org/web/20090530030205/http://www.python.org/community/pycon/dc2004/papers/24/metaclasses-pycon.pdf', 'https://web.archive.org/web/20090601134342/http://www.python.org/dev/intro/', 'https://web.archive.org/web/20100715145616/http://code.google.com/apis/documents/docs/1.0/developers_guide_python.html', 'https://web.archive.org/web/20101202164144/http://www.2kgames.com/civ4/blog_03.htm', 'https://web.archive.org/web/20120326105810/http://www.ainewsletter.com/newsletters/aix_0508.htm#python_ai_ai', 'https://web.archive.org/web/20120623165941/http://cutter.rexx.com/~dkuhlman/python_book_01.html', 'https://web.archive.org/web/20121101045354/http://wiki.python.org/moin/PythonForArtificialIntelligence', 'https://web.archive.org/web/20130717070814/http://gimp-win.sourceforge.net/faq.html', 'https://web.archive.org/web/20140527204143/http://python.net/~goodger/projects/pycon/2007/idiomatic/handout.html', 'https://web.archive.org/web/20160303231513/https://www.python.org/dev/peps/pep-3000/', 'https://coffeescript.org/', 'https://curlie.org/Computers/Programming/Languages/Python', 'https://www.davekuhlman.org/python_book_01.pdf', 'https://wiki.gnome.org/action/show/Projects/Genie', 'https://julialang.org/blog/2012/02/why-we-created-julia', 'https://pypy.org/compat.html', 'https://bugs.python.org', 'https://devguide.python.org/#status-of-python-branches', 'https://docs.python.org', 'https://docs.python.org/2.6/whatsnew/2.6.html', 'https://docs.python.org/3.0/reference/datamodel.html#special-method-names', 'https://docs.python.org/3.2/tutorial/controlflow.html', 'https://docs.python.org/3.8/tutorial/floatingpoint.html#representation-error', 'https://docs.python.org/3.8/whatsnew/3.8.html', 'https://docs.python.org/3.9/whatsnew/3.9.html', 'https://docs.python.org/3/faq/general.html#why-is-it-called-python', 'https://docs.python.org/3/library/2to3.html', 'https://docs.python.org/3/library/dis.html#python-bytecode-instructions', 'https://docs.python.org/3/library/itertools.html', 'https://docs.python.org/3/library/pprint.html', 'https://docs.python.org/3/library/stdtypes.html#tuple', 'https://docs.python.org/3/library/stdtypes.html#typesseq-range', 'https://docs.python.org/3/license.html', 'https://docs.python.org/3/tutorial/datastructures.html#tuples-and-sequences', 'https://docs.python.org/3/using/unix.html', 'https://docs.python.org/devguide/', 'https://docs.python.org/extending/extending.html#reference-counts', 'https://docs.python.org/faq/design.html#why-must-self-be-used-explicitly-in-method-definitions-and-calls', 'https://docs.python.org/faq/general.html#is-python-a-good-language-for-beginning-programmers', 'https://docs.python.org/faq/general.html#why-was-python-created-in-the-first-place', 'https://docs.python.org/howto/functional.html', 'https://docs.python.org/library/functions.html#round', 'https://docs.python.org/py3k/library/functions.html#round', 'https://docs.python.org/reference/datamodel.html#new-style-and-classic-classes', 'https://docs.python.org/tutorial/appetite.html', 'https://docs.python.org/tutorial/classes.html', 'https://docs.python.org/whatsnew/2.0.html', 'https://legacy.python.org/dev/peps/pep-0373/', 'https://legacy.python.org/dev/peps/pep-0465/', 'https://mail.python.org/pipermail/python-dev/2000-August/008881.html', 'https://mail.python.org/pipermail/python-dev/2002-April/022739.html', 'https://pypi.python.org/pypi/PyAIML', 'https://wiki.python.org/moin/OrganizationsUsingPython', 'https://wiki.python.org/moin/PythonForArtificialIntelligence', 'https://www.python.org/', 'https://www.python.org/about', 'https://www.python.org/about/quotes/', 'https://www.python.org/about/success/ilm/', 'https://www.python.org/about/success/usa/', 'https://www.python.org/community/pycon/dc2004/papers/24/metaclasses-pycon.pdf', 'https://www.python.org/dev/buildbot/', 'https://www.python.org/dev/intro/', 'https://www.python.org/dev/peps/pep-0001/', 'https://www.python.org/dev/peps/pep-0006/', 'https://www.python.org/dev/peps/pep-0007/', 'https://www.python.org/dev/peps/pep-0008/', 'https://www.python.org/dev/peps/pep-0020/', 'https://www.python.org/dev/peps/pep-0237/', 'https://www.python.org/dev/peps/pep-0238/', 'https://www.python.org/dev/peps/pep-0255/', 'https://www.python.org/dev/peps/pep-0289/', 'https://www.python.org/dev/peps/pep-0308/', 'https://www.python.org/dev/peps/pep-0318/', 'https://www.python.org/dev/peps/pep-0327/', 'https://www.python.org/dev/peps/pep-0333/', 'https://www.python.org/dev/peps/pep-0342/', 'https://www.python.org/dev/peps/pep-0373/', 'https://www.python.org/dev/peps/pep-0380/', 'https://www.python.org/dev/peps/pep-0441/', 'https://www.python.org/dev/peps/pep-0465/', 'https://www.python.org/dev/peps/pep-0466/', 'https://www.python.org/dev/peps/pep-0483/', 'https://www.python.org/dev/peps/pep-0488/', 'https://www.python.org/dev/peps/pep-0498/', 'https://www.python.org/dev/peps/pep-0596/', 'https://www.python.org/dev/peps/pep-0602/', 'https://www.python.org/dev/peps/pep-3000/', 'https://www.python.org/dev/peps/pep-8100/', 'https://www.python.org/doc/sunset-python-2/', 'https://www.python.org/download/releases/2.3/mro/', 'https://www.python.org/download/releases/2.5/', 'https://www.python.org/download/releases/2.5/highlights/', 'https://www.python.org/download/releases/3.0/', 'https://www.python.org/downloads/release/python-351/', 'https://www.python.org/downloads/release/python-385/', 'https://www.python.org/downloads/release/python-390b5/', 'https://scikit-learn.org/stable/testimonials/testimonials.html', 'https://www.wikidata.org/wiki/Q28865', 'https://www.wikidata.org/wiki/Q28865#P856']\n"
     ]
    }
   ],
   "source": [
    "print(wikipedia.page(\"Python (programming language)\").references)"
   ]
  },
  {
   "cell_type": "code",
   "execution_count": 6,
   "metadata": {},
   "outputs": [
    {
     "name": "stdout",
     "output_type": "stream",
     "text": [
      "Python (programming language)\n"
     ]
    }
   ],
   "source": [
    "print(wikipedia.page(\"Python (programming language)\").title)"
   ]
  },
  {
   "cell_type": "code",
   "execution_count": 8,
   "metadata": {},
   "outputs": [
    {
     "name": "stdout",
     "output_type": "stream",
     "text": [
      "['\"Hello, World!\" program', '3ds Max', '?:', 'ABC (programming language)', 'ALGOL', 'ALGOL 68', 'APL (programming language)', 'Abaqus', 'Academic Free License', 'Academic conference', 'Ada (programming language)', 'Adversarial machine learning', 'AlexNet', 'Alex Graves (computer scientist)', 'Alex Martelli', 'Algebra', 'AlphaGo', 'Alternative terms for free software', 'Amazon (company)', 'AmigaOS 4', 'Amoeba (operating system)', 'Anaconda (installer)', 'Andrew Ng', 'Anonymous function', 'Apache Groovy', 'Apache License', 'Apache web server', 'Aphorism', 'Apple Public Source License', 'ArXiv (identifier)', 'Arbitrary-precision arithmetic', 'ArcGIS', 'Array index', 'Array slicing', 'Artificial Intelligence', 'Artificial intelligence', 'Artificial neural network', 'Artistic License', 'Aspect-oriented programming', 'Assembly language', 'Assertion (programming)', 'Associative array', 'Astropy', 'Autodesk Softimage', 'Automatic differentiation', 'Automation', 'BASIC', 'BERT (language model)', 'BNF (identifier)', 'BSD licenses', 'Backporting', 'Backward compatibility', 'Bazel (software)', 'Beerware', 'Benevolent Dictator For Life', 'Beta release', 'Bibcode (identifier)', 'Biopython', 'Blender (software)', 'Block (programming)', 'Boo (programming language)', 'Boolean value', 'Bottle (web framework)', 'Break statement', 'Bug tracker', 'BuildBot', 'Byte', 'Bytecode', 'C++', 'C89 (C version)', 'C99', 'CCP Games', 'CERN', 'CLPython', 'CLU (programming language)', 'COBOL', 'CPython', 'C (programming language)', 'C Sharp (programming language)', 'Cable theory', 'Calculus', 'Capella (notation program)', 'Centrum Wiskunde & Informatica', 'CherryPy', 'Chris Lattner', 'Cinema 4D', 'CircuitPython', 'CiteSeerX (identifier)', 'Class (computer science)', 'Cluster analysis', 'Cobra (programming language)', 'Code readability', 'CoffeeScript', 'Combinatorics', 'Command line interpreter', 'Common Development and Distribution License', 'Common Language Runtime', 'Common Lisp', 'Community of practice', 'Comparison of free and open-source software licences', 'Comparison of free geophysics software', 'Comparison of free software for audio', 'Comparison of integrated development environments', 'Comparison of open-source and closed-source software', 'Comparison of open-source configuration management software', 'Comparison of open-source operating systems', 'Comparison of open-source programming language licensing', 'Comparison of open-source wireless drivers', 'Comparison of programming languages', 'Comparison of shopping cart software', 'Comparison of source-code-hosting facilities', 'Compile time', 'Complex number', 'Computational learning theory', 'Computer file', 'Conditional (programming)', 'Continuous integration', 'Contributor License Agreement', 'Copyleft', 'Coroutine', 'Creative Commons license', 'Curlie', 'Curly bracket programming language', 'Cycle detection', 'Cython', 'D (programming language)', 'Data analytics', 'Data mapper pattern', 'Data type', 'Databases', 'Debian Free Software Guidelines', 'Definition of Free Cultural Works', 'Demis Hassabis', 'Design by contract', 'Differentiable neural computer', 'Differentiable programming', 'Digital rights management', 'Django (web framework)', 'Doi (identifier)', 'Double precision', 'Dropbox (service)', 'Duck typing', 'Dylan (programming language)', 'Dynamic programming language', 'Dynamic type', 'Dynamic typing', 'ECMAScript', 'Eclipse Public License', 'Ellipsis (programming operator)', 'End-of-life (product)', 'Epydoc', 'Eric Python IDE', 'Erlang (programming language)', 'Escape character', 'Esri', 'Exception handling', 'Exception handling syntax', 'Exponentiation', 'Expression (computer science)', 'Extensibility', 'F Sharp (programming language)', 'Facebook', 'Facial recognition system', 'Factorial', 'Fedora (operating system)', 'Filename extension', 'Finite element method', 'Firaxis Games', 'First-class continuations', 'Flask (web framework)', 'Floating point', 'Foobar', 'Foreach', 'Fork (software development)', 'Forth (programming language)', 'Fortran', 'Free-software license', 'FreeBSD', 'FreeCAD', 'Free Software Foundation', 'Free and open-source graphics device driver', 'Free and open-source software', 'Free license', 'Free software', 'Free software movement', 'Function (computing)', 'Function (programming)', 'Functional programming', 'GDScript', 'GIMP', 'GND (identifier)', 'GNU Debugger', 'GNU General Public License', 'GNU Lesser General Public License', 'GNU Manifesto', 'GTK', 'Garbage collection (computer science)', 'General-purpose programming language', 'Generational list of programming languages', 'Generator (computer programming)', 'Generator (computer science)', 'Genie (programming language)', 'Gentoo Linux', 'Geoffrey Hinton', 'GitHub', 'Global interpreter lock', 'Go (programming language)', 'Godot (game engine)', 'Google', 'Google App Engine', 'Gradient descent', 'Gradual typing', 'Graphical user interface', 'Graphical user interfaces', 'Gratis versus libre', 'Grok (web framework)', 'Groovy (programming language)', 'Guido van Rossum', 'Half-open interval', 'Handwriting recognition', 'Hardware restriction', 'Haskell (programming language)', 'HeaderDoc', 'Here document', 'High-level programming language', 'History of Python', 'History of free and open-source software', 'History of programming languages', 'Houdini (software)', 'Human image synthesis', 'Hypertext Transfer Protocol', 'IDLE', 'IDLE (Python)', 'IEEE 754', 'IPython', 'ISBN (identifier)', 'ISC license', 'ITA Software', 'Ian Goodfellow', 'Icon (programming language)', 'If-then-else', 'Image processing', 'Immutable', 'Immutable object', 'Imperative programming', 'Industrial Light & Magic', 'Infix notation', 'Information security', 'Inkscape', 'Instagram', 'Instance data', 'Integer (computer science)', 'Integrated development environment', 'Interpreted language', 'Interpreter (computing)', 'IronPython', 'Iterator', 'JavaScript', 'Java (programming language)', 'Java (software platform)', 'Jeff Dean (computer scientist)', 'Julia (programming language)', 'Just-in-time compilation', 'Jython', 'Keras', 'Kotlin (programming language)', 'LCCN (identifier)', 'LLVM', 'Lambda (programming)', 'Language binding', 'Language construct', 'Late binding', 'Lazy evaluation', 'Lego Mindstorms EV3', 'LibreOffice', 'License proliferation', 'Lightwave', 'Linux', 'Linux distribution', 'Lisp (programming language)', 'List (computer science)', 'List comprehension', 'List comprehensions', 'List of Python software', 'List of commercial open-source applications and services', 'List of formerly open-source software', 'List of formerly proprietary software', 'List of free-software events', 'List of free and open-source Android applications', 'List of free and open-source iOS applications', 'List of free and open-source software organizations', 'List of free and open-source software packages', 'List of free and open-source web applications', 'List of free software project directories', 'List of free television software', 'List of integrated development environments for Python', 'List of open-source bioinformatics software', 'List of open-source codecs', 'List of open-source health software', 'List of open-source routing platforms', 'List of open-source software for mathematics', 'List of open-source video games', 'List of programming languages', 'List of programming languages by type', 'List of trademarked open-source software', 'Lock (computer science)', 'Logic programming', 'Long-term support', 'MIME', 'MIT License', 'ML (programming language)', 'MacOS', 'Machine learning', 'Mathematical software', 'Mathematics', 'Matplotlib', 'Matrix multiplication', 'Maya (software)', 'Memory allocation', 'Memory management', 'Memristor', 'Mercurial', 'Metaclass', 'Metaobject', 'Metaprogramming', 'Metasyntactic variable', 'Method (computing)', 'Method (programming)', 'MicroPython', 'Microcontroller', 'Microsoft Open Specification Promise', 'Microsoft Windows', 'Microthread', 'Mobile App', 'Mod wsgi', 'Modo (software)', 'Modula-3', 'Modular programming', 'Modulo operation', 'Monty Python', 'MotionBuilder', 'Mozilla Public License', 'Mozilla software rebranded by Debian', 'Multi-paradigm programming language', 'Multimedia', 'Musical notation', 'MyHDL', 'N900', 'NASA', 'NOP (code)', 'Nagare (web framework)', 'Name resolution (programming languages)', 'Natural language processing', 'Neologism', 'NetBSD', 'Netherlands', 'Neural Turing machine', 'Neural machine translation', 'Neuromorphic engineering', 'Nevow', 'Nim (programming language)', 'Ninja-IDE', 'Nokia', 'Non-English-based programming languages', 'Norman Jouppi', 'Notebook interface', 'Nuitka', 'Nuke (software)', 'Null pointer', 'NumPy', 'Numba', 'Number theory', 'Numerical mathematics', \"O'Reilly Media\", 'OS/2', 'Object-oriented programming', 'Object (computer science)', 'Object language', 'Objective-C', 'Off-side rule', 'One Laptop per Child', 'Open-core model', 'Open-source-software movement', 'Open-source hardware', 'Open-source license', 'Open-source software', 'Open-source software development', 'Open-source software security', 'OpenAI Five', 'OpenBSD', 'OpenVMS', 'Operating system', 'Operator overloading', 'Optical character recognition', 'Oracle Corporation', 'Order of operations', 'Outline of free software', 'PHP', 'Package management system', 'Paint Shop Pro', 'Pascal (programming language)', 'Pattern recognition', 'Perl', 'Permissive software license', 'Peter Norvig', 'Pip (package manager)', 'Pointer (computer programming)', 'Portage (software)', 'Ported', 'Premature optimization', 'Prettyprint', 'Printf format string', 'Procedural programming', 'Programmers', 'Programming language', 'Programming language implementation', 'Programming paradigm', 'Programming paradigms', 'Project Debater', 'Prolog', 'Proprietary device driver', 'Proprietary firmware', 'Proprietary software', 'Pseudorandom number generator', 'Psyco', 'Public domain', 'PyCharm', 'PyCon', 'PyDev', 'PyGTK', 'PyPy', 'PyQt', 'PyS60', 'PyTorch', 'Pydoc', 'Pygame', 'Pyjs', 'Pyladies', 'Pylons (web framework)', 'Pylons project', 'Pyramid (web framework)', 'Pyrex (programming language)', 'PythonAnywhere', 'Python Conference', 'Python License', 'Python Package Index', 'Python Software Foundation', 'Python Software Foundation License', 'Python for S60', 'Python syntax and semantics', 'Q-learning', 'Qt (software)', 'Quixote (web framework)', 'RPython', 'R (programming language)', 'Raspberry Pi', 'Rational number', 'Raw string', 'Read–eval–print loop', 'Red Hat Linux', 'Reddit', 'Reference counting', 'Reference implementation', 'Reflection (computer science)', 'Reflective programming', 'Regression analysis', 'Regular expression', 'Relational database', 'Resource acquisition is initialization', 'Revolution OS', 'Ring-lang', 'Round to even', 'Rounding', 'Roundup (issue tracker)', 'Ruby (programming language)', 'Run-time algorithm specialization', 'Rust (programming language)', 'SCO–Linux disputes', 'SETL', 'SQL', 'SQLAlchemy', 'SUDOC (identifier)', 'SageMath', 'Scheme (programming language)', 'SciPy', 'Scientific computing', 'Scikit-learn', 'Scorewriter', 'Scribus', 'Scripting language', 'Self-hosting (web services)', 'Series 60', 'Set (computer science)', 'Shallow copy', 'Shared Source Initiative', 'Shed Skin', 'Shell script', 'Simple DirectMedia Layer', 'Simula', 'Single-board computer', 'Sleepycat License', 'Smalltalk', 'Software design', 'Software developer', 'Software license', 'Software patents and free software', 'Software release life cycle', 'Source-available software', 'Spam (Monty Python)', 'Speech recognition', 'Speech synthesis', 'Sphinx (documentation generator)', 'SpiNNaker', 'Spotify', 'Spyce (software)', 'Stack Overflow', 'Stackless Python', 'Standard ML', 'Standard library', 'Statement (computer science)', 'State–action–reward–state–action', 'String (computer science)', 'String interpolation', 'String literal', 'Strongly typed programming language', 'Structured programming', 'Stuart J. Russell', 'Sugar (software)', 'Sugar Labs', 'Swift (programming language)', 'Symbian', 'Syntactic sugar', 'Syntax highlighting', 'System administration', 'TACTIC (web framework)', 'TIOBE Programming Community Index', 'Tail call', 'Tcl', 'TensorFlow', 'Tensor processing unit', 'Test framework', 'Test suite', 'Text processing', 'The C Programming Language', 'The Cathedral and the Bazaar', 'The Computer Language Benchmarks Game', 'The Document Foundation', 'The Free Software Definition', 'The Inquirer', 'The Open Source Definition', 'There is more than one way to do it', 'This (computer programming)', 'Timeline of programming languages', 'Tornado (web server)', 'Transformer (machine learning model)', 'Trusted Computing', 'Tuple', 'TurboGears', 'Twisted (software)', 'Type system', 'Ubiquity (software)', 'Ubuntu (operating system)', 'Unary operation', 'Unicode', 'Unit test', 'Unit testing', 'Unix-like', 'Unix shell', 'Unladen Swallow', 'Unlicense', 'VHDL', 'Variable (computer science)', 'Viral license', 'Virtual machine', 'Vision processing unit', 'WTFPL', 'Watson (computer)', 'WaveNet', 'Web2py', 'Web Server Gateway Interface', 'Web application', 'Web browser', 'Web framework', 'Web scraping', 'Webware for Python', 'While loop', 'Whitespace character', 'Wikipedia', 'Windows Vista', 'Windows XP', 'Word2vec', 'Yahoo!', 'Yann LeCun', 'Yoshua Bengio', 'Yukihiro Matsumoto', 'Zen of Python', 'Zero-based', 'Zlib License', 'Zope']\n"
     ]
    }
   ],
   "source": [
    "print(wikipedia.page(\"Python (programming language)\").links)"
   ]
  },
  {
   "cell_type": "code",
   "execution_count": null,
   "metadata": {},
   "outputs": [],
   "source": []
  }
 ],
 "metadata": {
  "kernelspec": {
   "display_name": "Python 3",
   "language": "python",
   "name": "python3"
  },
  "language_info": {
   "codemirror_mode": {
    "name": "ipython",
    "version": 3
   },
   "file_extension": ".py",
   "mimetype": "text/x-python",
   "name": "python",
   "nbconvert_exporter": "python",
   "pygments_lexer": "ipython3",
   "version": "3.8.3"
  }
 },
 "nbformat": 4,
 "nbformat_minor": 4
}

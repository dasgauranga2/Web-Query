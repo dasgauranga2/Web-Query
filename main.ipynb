{
 "cells": [
  {
   "cell_type": "code",
   "execution_count": 1,
   "metadata": {},
   "outputs": [
    {
     "name": "stderr",
     "output_type": "stream",
     "text": [
      "Some weights of T5Model were not initialized from the model checkpoint at t5-small and are newly initialized: ['encoder.embed_tokens.weight', 'decoder.embed_tokens.weight']\n",
      "You should probably TRAIN this model on a down-stream task to be able to use it for predictions and inference.\n",
      "Some weights of T5Model were not initialized from the model checkpoint at t5-small and are newly initialized: ['encoder.embed_tokens.weight', 'decoder.embed_tokens.weight']\n",
      "You should probably TRAIN this model on a down-stream task to be able to use it for predictions and inference.\n",
      "Some weights of T5Model were not initialized from the model checkpoint at t5-small and are newly initialized: ['encoder.embed_tokens.weight', 'decoder.embed_tokens.weight']\n",
      "You should probably TRAIN this model on a down-stream task to be able to use it for predictions and inference.\n",
      "Some weights of T5Model were not initialized from the model checkpoint at t5-small and are newly initialized: ['encoder.embed_tokens.weight', 'decoder.embed_tokens.weight']\n",
      "You should probably TRAIN this model on a down-stream task to be able to use it for predictions and inference.\n",
      "Some weights of T5Model were not initialized from the model checkpoint at t5-small and are newly initialized: ['encoder.embed_tokens.weight', 'decoder.embed_tokens.weight']\n",
      "You should probably TRAIN this model on a down-stream task to be able to use it for predictions and inference.\n",
      "Some weights of T5Model were not initialized from the model checkpoint at t5-small and are newly initialized: ['encoder.embed_tokens.weight', 'decoder.embed_tokens.weight']\n",
      "You should probably TRAIN this model on a down-stream task to be able to use it for predictions and inference.\n",
      "Some weights of T5Model were not initialized from the model checkpoint at t5-small and are newly initialized: ['encoder.embed_tokens.weight', 'decoder.embed_tokens.weight']\n",
      "You should probably TRAIN this model on a down-stream task to be able to use it for predictions and inference.\n",
      "Some weights of T5Model were not initialized from the model checkpoint at t5-small and are newly initialized: ['encoder.embed_tokens.weight', 'decoder.embed_tokens.weight']\n",
      "You should probably TRAIN this model on a down-stream task to be able to use it for predictions and inference.\n"
     ]
    }
   ],
   "source": [
    "import wikipedia\n",
    "from qa_evaluate import qa_result\n",
    "from qnli_evaluate import para_scores"
   ]
  },
  {
   "cell_type": "code",
   "execution_count": 2,
   "metadata": {},
   "outputs": [],
   "source": [
    "def filter_para(x):\n",
    "    if len(x) < 20:\n",
    "        return False\n",
    "    if '==' in x:\n",
    "        return False\n",
    "    \n",
    "    return True"
   ]
  },
  {
   "cell_type": "code",
   "execution_count": 3,
   "metadata": {},
   "outputs": [],
   "source": [
    "def wiki_results(query):\n",
    "    search_results = wikipedia.search(query, results=4)\n",
    "    wiki_obj = wikipedia.page(search_results[0])\n",
    "    text = wiki_obj.content\n",
    "    paras = text.split('\\n')\n",
    "    paras = [para for para in paras if filter_para(para)]\n",
    "    \n",
    "    return paras"
   ]
  },
  {
   "cell_type": "code",
   "execution_count": 4,
   "metadata": {},
   "outputs": [],
   "source": [
    "def remove_dec(string):\n",
    "    splitted = string.split('.')\n",
    "    \n",
    "    final_string = splitted[0]\n",
    "    \n",
    "    for line in splitted[1:-1]:\n",
    "        if line[0].isdigit():\n",
    "            i = 0\n",
    "            while line[i].isdigit():\n",
    "                i = i+1\n",
    "            final_string = final_string+line[i:]\n",
    "        else:\n",
    "            final_string = final_string + '.' + line \n",
    "                    \n",
    "    return final_string"
   ]
  },
  {
   "cell_type": "code",
   "execution_count": null,
   "metadata": {},
   "outputs": [],
   "source": []
  },
  {
   "cell_type": "code",
   "execution_count": null,
   "metadata": {},
   "outputs": [],
   "source": []
  },
  {
   "cell_type": "code",
   "execution_count": 5,
   "metadata": {},
   "outputs": [],
   "source": [
    "KEYWORD = \"cricket\""
   ]
  },
  {
   "cell_type": "code",
   "execution_count": null,
   "metadata": {},
   "outputs": [],
   "source": []
  },
  {
   "cell_type": "code",
   "execution_count": null,
   "metadata": {},
   "outputs": [],
   "source": []
  },
  {
   "cell_type": "code",
   "execution_count": 6,
   "metadata": {},
   "outputs": [],
   "source": [
    "paras = wiki_results(KEYWORD)"
   ]
  },
  {
   "cell_type": "code",
   "execution_count": 7,
   "metadata": {},
   "outputs": [
    {
     "data": {
      "text/plain": [
       "['Cricket is a bat-and-ball game played between two teams of eleven players on a field at the centre of which is a 22-yard (20-metre) pitch with a wicket at each end, each comprising two bails balanced on three stumps. The batting side scores runs by striking the ball bowled at the wicket with the bat (and running between the wickets), while the bowling and fielding side tries to prevent this (by getting the ball to either wicket) and dismiss each batter (so they are \"out\"). Means of dismissal include being bowled, when the ball hits the stumps and dislodges the bails, and by the fielding side catching the ball after it is hit by the bat, but before it hits the ground. When ten batters have been dismissed, the innings ends and the teams swap roles. The game is adjudicated by two umpires, aided by a third umpire and match referee in international matches. They communicate with two off-field scorers who record the match\\'s statistical information.',\n",
       " 'Forms of cricket range from Twenty20, with each team batting for a single innings of 20 overs, to Test matches played over five days. Traditionally cricketers play in all-white kit, but in limited overs cricket they wear club or team colours. In addition to the basic kit, some players wear protective gear to prevent injury caused by the ball, which is a hard, solid spheroid made of compressed leather with a slightly raised sewn seam enclosing a cork core layered with tightly wound string.',\n",
       " \"The earliest reference to cricket is in South East England in the mid-16th century. It spread globally with the expansion of the British Empire, with the first international matches in the second half of the 19th century. The game's governing body is the International Cricket Council (ICC), which has over 100 members, twelve of which are full members who play Test matches. The game's rules, the Laws of Cricket, are maintained by Marylebone Cricket Club (MCC) in London. The sport is followed primarily in the Indian subcontinent, Australasia, the United Kingdom, southern Africa and the West Indies. Women's cricket, which is organised and played separately, has also achieved international standard. The most successful side playing international cricket is Australia, which has won seven One Day International trophies, including five World Cups, more than any other country and has been the top-rated Test side more than any other country.\",\n",
       " 'Cricket is one of many games in the \"club ball\" sphere that basically involve hitting a ball with a hand-held implement; others include baseball, golf, hockey, tennis, squash, badminton and table tennis. In cricket\\'s case, a key difference is the existence of a solid target structure, the wicket (originally, it is thought, a \"wicket gate\" through which sheep were herded), that the batsman must defend. The cricket historian Harry Altham identified three \"groups\" of \"club ball\" games: the \"hockey group\", in which the ball is driven to and fro between two targets (the goals); the \"golf group\", in which the ball is driven towards an undefended target (the hole); and the \"cricket group\", in which \"the ball is aimed at a mark (the wicket) and driven away from it\".It is generally believed that cricket originated as a children\\'s game in the south-eastern counties of England, sometime during the medieval period. Although there are claims for prior dates, the earliest definite reference to cricket being played comes from evidence given at a court case in Guildford on Monday, 17 January 1597 (Julian calendar; equating to 30 January 1598 in the Gregorian calendar). The case concerned ownership of a certain plot of land and the court heard the testimony of a 59-year-old coroner, John Derrick, who gave witness that:',\n",
       " 'Being a scholler in the ffree schoole of Guldeford hee and diverse of his fellows did runne and play there at creckett and other plaies.',\n",
       " 'Given Derrick\\'s age, it was about half a century earlier when he was at school and so it is certain that cricket was being played c. 1550 by boys in Surrey. The view that it was originally a children\\'s game is reinforced by Randle Cotgrave\\'s 1611 English-French dictionary in which he defined the noun \"crosse\" as \"the crooked staff wherewith boys play at cricket\" and the verb form \"crosser\" as \"to play at cricket\".One possible source for the sport\\'s name is the Old English word \"cryce\" (or \"cricc\") meaning a crutch or staff. In Samuel Johnson\\'s Dictionary, he derived cricket from \"cryce, Saxon, a stick\". In Old French, the word \"criquet\" seems to have meant a kind of club or stick. Given the strong medieval trade connections between south-east England and the County of Flanders when the latter belonged to the Duchy of Burgundy, the name may have been derived from the Middle Dutch (in use in Flanders at the time) \"krick\"(-e), meaning a stick (crook). Another possible source is the Middle Dutch word \"krickstoel\", meaning a long low stool used for kneeling in church and which resembled the long low wicket with two stumps used in early cricket. According to Heiner Gillmeister, a European language expert of Bonn University, \"cricket\" derives from the Middle Dutch phrase for hockey, met de (krik ket)sen (i.e., \"with the stick chase\"). Gillmeister has suggested that not only the name but also the sport itself may be of Flemish origin.']"
      ]
     },
     "execution_count": 7,
     "metadata": {},
     "output_type": "execute_result"
    }
   ],
   "source": [
    "paras[:6]"
   ]
  },
  {
   "cell_type": "code",
   "execution_count": 8,
   "metadata": {},
   "outputs": [],
   "source": [
    "QUERY = \"who governs cricket ?\""
   ]
  },
  {
   "cell_type": "code",
   "execution_count": null,
   "metadata": {},
   "outputs": [],
   "source": []
  },
  {
   "cell_type": "code",
   "execution_count": null,
   "metadata": {},
   "outputs": [],
   "source": []
  },
  {
   "cell_type": "code",
   "execution_count": 9,
   "metadata": {},
   "outputs": [],
   "source": [
    "max_para = None\n",
    "max_para_score = -1"
   ]
  },
  {
   "cell_type": "code",
   "execution_count": 10,
   "metadata": {},
   "outputs": [
    {
     "name": "stdout",
     "output_type": "stream",
     "text": [
      "QUESTION : who governs cricket ?\n",
      "\n",
      "PARAGRAPH\n",
      "Cricket is a bat-and-ball game played between two teams of eleven players on a field at the centre of which is a 22-yard (20-metre) pitch with a wicket at each end, each comprising two bails balanced on three stumps. The batting side scores runs by striking the ball bowled at the wicket with the bat (and running between the wickets), while the bowling and fielding side tries to prevent this (by getting the ball to either wicket) and dismiss each batter (so they are \"out\"). Means of dismissal include being bowled, when the ball hits the stumps and dislodges the bails, and by the fielding side catching the ball after it is hit by the bat, but before it hits the ground. When ten batters have been dismissed, the innings ends and the teams swap roles. The game is adjudicated by two umpires, aided by a third umpire and match referee in international matches. They communicate with two off-field scorers who record the match's statistical information.\n",
      "SCORE\n",
      "0.27220621705055237\n",
      "\n",
      "\n",
      "QUESTION : who governs cricket ?\n",
      "\n",
      "PARAGRAPH\n",
      "Forms of cricket range from Twenty20, with each team batting for a single innings of 20 overs, to Test matches played over five days. Traditionally cricketers play in all-white kit, but in limited overs cricket they wear club or team colours. In addition to the basic kit, some players wear protective gear to prevent injury caused by the ball, which is a hard, solid spheroid made of compressed leather with a slightly raised sewn seam enclosing a cork core layered with tightly wound string.\n",
      "SCORE\n",
      "0.0003170559648424387\n",
      "\n",
      "\n",
      "QUESTION : who governs cricket ?\n",
      "\n",
      "PARAGRAPH\n",
      "The earliest reference to cricket is in South East England in the mid-16th century. It spread globally with the expansion of the British Empire, with the first international matches in the second half of the 19th century. The game's governing body is the International Cricket Council (ICC), which has over 100 members, twelve of which are full members who play Test matches. The game's rules, the Laws of Cricket, are maintained by Marylebone Cricket Club (MCC) in London. The sport is followed primarily in the Indian subcontinent, Australasia, the United Kingdom, southern Africa and the West Indies. Women's cricket, which is organised and played separately, has also achieved international standard. The most successful side playing international cricket is Australia, which has won seven One Day International trophies, including five World Cups, more than any other country and has been the top-rated Test side more than any other country.\n",
      "SCORE\n",
      "0.9999111890792847\n",
      "\n",
      "\n",
      "QUESTION : who governs cricket ?\n",
      "\n",
      "PARAGRAPH\n",
      "Cricket is one of many games in the \"club ball\" sphere that basically involve hitting a ball with a hand-held implement; others include baseball, golf, hockey, tennis, squash, badminton and table tennis. In cricket's case, a key difference is the existence of a solid target structure, the wicket (originally, it is thought, a \"wicket gate\" through which sheep were herded), that the batsman must defend. The cricket historian Harry Altham identified three \"groups\" of \"club ball\" games: the \"hockey group\", in which the ball is driven to and fro between two targets (the goals); the \"golf group\", in which the ball is driven towards an undefended target (the hole); and the \"cricket group\", in which \"the ball is aimed at a mark (the wicket) and driven away from it\".It is generally believed that cricket originated as a children's game in the south-eastern counties of England, sometime during the medieval period. Although there are claims for prior dates, the earliest definite reference to cricket being played comes from evidence given at a court case in Guildford on Monday, 17 January 1597 (Julian calendar; equating to 30 January 1598 in the Gregorian calendar). The case concerned ownership of a certain plot of land and the court heard the testimony of a 59-year-old coroner, John Derrick, who gave witness that:\n",
      "SCORE\n",
      "0.0025701955892145634\n",
      "\n",
      "\n",
      "QUESTION : who governs cricket ?\n",
      "\n",
      "PARAGRAPH\n",
      "Being a scholler in the ffree schoole of Guldeford hee and diverse of his fellows did runne and play there at creckett and other plaies.\n",
      "SCORE\n",
      "0.0002132914523826912\n",
      "\n",
      "\n",
      "QUESTION : who governs cricket ?\n",
      "\n",
      "PARAGRAPH\n",
      "Given Derrick's age, it was about half a century earlier when he was at school and so it is certain that cricket was being played c. 1550 by boys in Surrey. The view that it was originally a children's game is reinforced by Randle Cotgrave's 1611 English-French dictionary in which he defined the noun \"crosse\" as \"the crooked staff wherewith boys play at cricket\" and the verb form \"crosser\" as \"to play at cricket\".One possible source for the sport's name is the Old English word \"cryce\" (or \"cricc\") meaning a crutch or staff. In Samuel Johnson's Dictionary, he derived cricket from \"cryce, Saxon, a stick\". In Old French, the word \"criquet\" seems to have meant a kind of club or stick. Given the strong medieval trade connections between south-east England and the County of Flanders when the latter belonged to the Duchy of Burgundy, the name may have been derived from the Middle Dutch (in use in Flanders at the time) \"krick\"(-e), meaning a stick (crook). Another possible source is the Middle Dutch word \"krickstoel\", meaning a long low stool used for kneeling in church and which resembled the long low wicket with two stumps used in early cricket. According to Heiner Gillmeister, a European language expert of Bonn University, \"cricket\" derives from the Middle Dutch phrase for hockey, met de (krik ket)sen (i.e., \"with the stick chase\"). Gillmeister has suggested that not only the name but also the sport itself may be of Flemish origin.\n",
      "SCORE\n",
      "0.023256078362464905\n",
      "\n",
      "\n",
      "\n",
      "MAX PARA\n",
      "The earliest reference to cricket is in South East England in the mid-16th century. It spread globally with the expansion of the British Empire, with the first international matches in the second half of the 19th century. The game's governing body is the International Cricket Council (ICC), which has over 100 members, twelve of which are full members who play Test matches. The game's rules, the Laws of Cricket, are maintained by Marylebone Cricket Club (MCC) in London. The sport is followed primarily in the Indian subcontinent, Australasia, the United Kingdom, southern Africa and the West Indies. Women's cricket, which is organised and played separately, has also achieved international standard. The most successful side playing international cricket is Australia, which has won seven One Day International trophies, including five World Cups, more than any other country and has been the top-rated Test side more than any other country.\n"
     ]
    }
   ],
   "source": [
    "for para in paras[:6]:\n",
    "    scores = para_scores(remove_dec(para), QUERY)\n",
    "    max_score = max(scores.values())\n",
    "    \n",
    "    if max_score > max_para_score:\n",
    "        max_para_score = max_score\n",
    "        max_para = para\n",
    "    \n",
    "    print(f\"PARAGRAPH\\n{para}\")\n",
    "    print(f\"SCORE\\n{max_score}\\n\\n\")\n",
    "    \n",
    "print(f\"\\nMAX PARA\\n{max_para}\")"
   ]
  },
  {
   "cell_type": "code",
   "execution_count": null,
   "metadata": {},
   "outputs": [],
   "source": []
  },
  {
   "cell_type": "code",
   "execution_count": null,
   "metadata": {},
   "outputs": [],
   "source": []
  },
  {
   "cell_type": "code",
   "execution_count": 11,
   "metadata": {},
   "outputs": [
    {
     "name": "stdout",
     "output_type": "stream",
     "text": [
      "international cricket council\n"
     ]
    }
   ],
   "source": [
    "print(qa_result(remove_dec(max_para), QUERY))"
   ]
  },
  {
   "cell_type": "code",
   "execution_count": null,
   "metadata": {},
   "outputs": [],
   "source": []
  },
  {
   "cell_type": "code",
   "execution_count": null,
   "metadata": {},
   "outputs": [],
   "source": []
  }
 ],
 "metadata": {
  "kernelspec": {
   "display_name": "Python 3",
   "language": "python",
   "name": "python3"
  },
  "language_info": {
   "codemirror_mode": {
    "name": "ipython",
    "version": 3
   },
   "file_extension": ".py",
   "mimetype": "text/x-python",
   "name": "python",
   "nbconvert_exporter": "python",
   "pygments_lexer": "ipython3",
   "version": "3.8.3"
  }
 },
 "nbformat": 4,
 "nbformat_minor": 4
}

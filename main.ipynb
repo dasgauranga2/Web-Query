{
 "cells": [
  {
   "cell_type": "code",
   "execution_count": 1,
   "metadata": {},
   "outputs": [],
   "source": [
    "import torch\n",
    "import torch.nn as nn\n",
    "import torchtext\n",
    "from torchtext import data\n",
    "from transformers import T5Tokenizer, T5Model\n",
    "import wikipedia"
   ]
  },
  {
   "cell_type": "code",
   "execution_count": 2,
   "metadata": {},
   "outputs": [],
   "source": [
    "def filter_para(x):\n",
    "    if len(x) < 20:\n",
    "        return False\n",
    "    if '==' in x:\n",
    "        return False\n",
    "    \n",
    "    return True"
   ]
  },
  {
   "cell_type": "code",
   "execution_count": 3,
   "metadata": {},
   "outputs": [],
   "source": [
    "def wiki_results(query):\n",
    "    search_results = wikipedia.search(query, results=4)\n",
    "    wiki_obj = wikipedia.page(search_results[0])\n",
    "    text = wiki_obj.content\n",
    "    paras = text.split('\\n')\n",
    "    paras = [para for para in paras if filter_para(para)]\n",
    "    \n",
    "    return paras"
   ]
  },
  {
   "cell_type": "code",
   "execution_count": 4,
   "metadata": {},
   "outputs": [],
   "source": [
    "tokenizer = T5Tokenizer.from_pretrained('t5-small')"
   ]
  },
  {
   "cell_type": "code",
   "execution_count": 5,
   "metadata": {},
   "outputs": [
    {
     "name": "stdout",
     "output_type": "stream",
     "text": [
      "<pad> </s> <pad> <unk>\n"
     ]
    }
   ],
   "source": [
    "init_token = tokenizer.pad_token\n",
    "eos_token = tokenizer.eos_token\n",
    "pad_token = tokenizer.pad_token\n",
    "unk_token = tokenizer.unk_token\n",
    "\n",
    "print(init_token, eos_token, pad_token, unk_token)"
   ]
  },
  {
   "cell_type": "code",
   "execution_count": 6,
   "metadata": {},
   "outputs": [
    {
     "name": "stdout",
     "output_type": "stream",
     "text": [
      "0 1 0 2\n"
     ]
    }
   ],
   "source": [
    "init_token_idx = tokenizer.convert_tokens_to_ids(init_token)\n",
    "eos_token_idx = tokenizer.convert_tokens_to_ids(eos_token)\n",
    "pad_token_idx = tokenizer.convert_tokens_to_ids(pad_token)\n",
    "unk_token_idx = tokenizer.convert_tokens_to_ids(unk_token)\n",
    "\n",
    "print(init_token_idx, eos_token_idx, pad_token_idx, unk_token_idx)"
   ]
  },
  {
   "cell_type": "code",
   "execution_count": 7,
   "metadata": {},
   "outputs": [
    {
     "name": "stdout",
     "output_type": "stream",
     "text": [
      "512\n"
     ]
    }
   ],
   "source": [
    "max_input_length = tokenizer.max_model_input_sizes['t5-small']\n",
    "\n",
    "print(max_input_length)"
   ]
  },
  {
   "cell_type": "code",
   "execution_count": 8,
   "metadata": {},
   "outputs": [],
   "source": [
    "def tokenize_and_cut(sentence):\n",
    "    tokens = tokenizer.tokenize(sentence) \n",
    "    tokens = tokens[:max_input_length-2]\n",
    "    return tokens"
   ]
  },
  {
   "cell_type": "code",
   "execution_count": 9,
   "metadata": {},
   "outputs": [],
   "source": [
    "SRC = data.Field(batch_first = True,\n",
    "                  use_vocab = False,\n",
    "                  tokenize = tokenize_and_cut,\n",
    "                  preprocessing = tokenizer.convert_tokens_to_ids,\n",
    "                  init_token = init_token_idx,\n",
    "                  eos_token = eos_token_idx,\n",
    "                  pad_token = pad_token_idx,\n",
    "                  unk_token = unk_token_idx)\n",
    "\n",
    "TRG = data.Field(batch_first = True,\n",
    "                  use_vocab = False,\n",
    "                  tokenize = tokenize_and_cut,\n",
    "                  preprocessing = tokenizer.convert_tokens_to_ids,\n",
    "                  init_token = init_token_idx,\n",
    "                  eos_token = eos_token_idx,\n",
    "                  pad_token = pad_token_idx,\n",
    "                  unk_token = unk_token_idx)"
   ]
  },
  {
   "cell_type": "code",
   "execution_count": 10,
   "metadata": {},
   "outputs": [],
   "source": [
    "class T5Network(nn.Module):\n",
    "    def __init__(self):\n",
    "        \n",
    "        super().__init__()\n",
    "        \n",
    "        self.t5 = t5 = T5Model.from_pretrained('t5-small')\n",
    "        \n",
    "        self.out = nn.Linear(t5.config.to_dict()['d_model'], t5.config.to_dict()['vocab_size'])\n",
    "                \n",
    "    def forward(self, src, trg):\n",
    "        \n",
    "        embedded = self.t5(input_ids=src, decoder_input_ids=trg)\n",
    "        \n",
    "        output = self.out(embedded[0])\n",
    "        \n",
    "        return output"
   ]
  },
  {
   "cell_type": "code",
   "execution_count": 11,
   "metadata": {},
   "outputs": [
    {
     "name": "stderr",
     "output_type": "stream",
     "text": [
      "Some weights of T5Model were not initialized from the model checkpoint at t5-small and are newly initialized: ['encoder.embed_tokens.weight', 'decoder.embed_tokens.weight']\n",
      "You should probably TRAIN this model on a down-stream task to be able to use it for predictions and inference.\n",
      "Some weights of T5Model were not initialized from the model checkpoint at t5-small and are newly initialized: ['encoder.embed_tokens.weight', 'decoder.embed_tokens.weight']\n",
      "You should probably TRAIN this model on a down-stream task to be able to use it for predictions and inference.\n",
      "Some weights of T5Model were not initialized from the model checkpoint at t5-small and are newly initialized: ['encoder.embed_tokens.weight', 'decoder.embed_tokens.weight']\n",
      "You should probably TRAIN this model on a down-stream task to be able to use it for predictions and inference.\n",
      "Some weights of T5Model were not initialized from the model checkpoint at t5-small and are newly initialized: ['encoder.embed_tokens.weight', 'decoder.embed_tokens.weight']\n",
      "You should probably TRAIN this model on a down-stream task to be able to use it for predictions and inference.\n"
     ]
    }
   ],
   "source": [
    "models = []\n",
    "\n",
    "for i in range(4):\n",
    "    new_model = T5Network().cuda()\n",
    "    new_model.load_state_dict(torch.load(f'model_{i+1}.pt'))\n",
    "    models.append(new_model)"
   ]
  },
  {
   "cell_type": "code",
   "execution_count": null,
   "metadata": {},
   "outputs": [],
   "source": []
  },
  {
   "cell_type": "code",
   "execution_count": null,
   "metadata": {},
   "outputs": [],
   "source": []
  },
  {
   "cell_type": "code",
   "execution_count": null,
   "metadata": {},
   "outputs": [],
   "source": []
  },
  {
   "cell_type": "code",
   "execution_count": null,
   "metadata": {},
   "outputs": [],
   "source": []
  },
  {
   "cell_type": "code",
   "execution_count": 12,
   "metadata": {},
   "outputs": [],
   "source": [
    "def translate_sentence(sentence, src_field, trg_field, models, max_len = 50):\n",
    "    for m in models:\n",
    "        m.eval()\n",
    "\n",
    "    src_indexes = [init_token_idx] + sentence + [eos_token_idx]\n",
    "    src_tensor = torch.LongTensor(src_indexes).unsqueeze(0).cuda()\n",
    "\n",
    "    trg_indexes = [init_token_idx]\n",
    "\n",
    "    for i in range(max_len):\n",
    "\n",
    "        trg_tensor = torch.LongTensor(trg_indexes).unsqueeze(0).cuda()\n",
    "        \n",
    "        with torch.no_grad():\n",
    "            output = models[0](src_tensor, trg_tensor) + models[1](src_tensor, trg_tensor) + models[2](src_tensor, trg_tensor) + models[3](src_tensor, trg_tensor)\n",
    "        \n",
    "        pred_token = output.argmax(2)[:,-1].item()\n",
    "        \n",
    "        trg_indexes.append(pred_token)\n",
    "\n",
    "        if pred_token == eos_token_idx:\n",
    "            break\n",
    "            \n",
    "    return trg_indexes"
   ]
  },
  {
   "cell_type": "code",
   "execution_count": 13,
   "metadata": {},
   "outputs": [],
   "source": [
    "def str_result(tokens):\n",
    "    result = ''\n",
    "    sep_char = tokens[1][0]\n",
    "    for t in tokens[1:-1]:\n",
    "        result = result+t\n",
    "        \n",
    "    result = ' '.join(result.split(sep_char)[1:])\n",
    "    return result"
   ]
  },
  {
   "cell_type": "code",
   "execution_count": null,
   "metadata": {},
   "outputs": [],
   "source": []
  },
  {
   "cell_type": "code",
   "execution_count": null,
   "metadata": {},
   "outputs": [],
   "source": []
  },
  {
   "cell_type": "code",
   "execution_count": 14,
   "metadata": {},
   "outputs": [],
   "source": [
    "paras = wiki_results(\"bill gates\")"
   ]
  },
  {
   "cell_type": "code",
   "execution_count": 15,
   "metadata": {},
   "outputs": [
    {
     "data": {
      "text/plain": [
       "\"Born and raised in Seattle, Washington, Gates co-founded Microsoft with childhood friend Paul Allen in 1975, in Albuquerque, New Mexico; it went on to become the world's largest personal computer software company. Gates led the company as chairman and CEO until stepping down as CEO in January 2000, but he remained chairman and became chief software architect. During the late 1990s, Gates had been criticized for his business tactics, which have been considered anti-competitive. This opinion has been upheld by numerous court rulings. In June 2006, Gates announced that he would be transitioning to a part-time role at Microsoft and full-time work at the Bill & Melinda Gates Foundation, the private charitable foundation that he and his wife, Melinda Gates, established in 2000. He gradually transferred his duties to Ray Ozzie and Craig Mundie. He stepped down as chairman of Microsoft in February 2014 and assumed a new post as technology adviser to support the newly appointed CEO Satya Nadella.Since 1987, he has been included in the Forbes list of the world's wealthiest people. From 1995 to 2017, he held the Forbes title of the richest person in the world all but four of those years. In October 2017, he was surpassed by Amazon founder and CEO Jeff Bezos, who had an estimated net worth of US$90.6 billion compared to Gates's net worth of US$89.9 billion at the time. As of August 2020, Gates had an estimated net worth of US$113.7 billion, making him the second-wealthiest person in the world, behind Bezos.Later in his career and since leaving day-to-day operations at Microsoft in 2008, Gates has pursued a number of philanthropic endeavors. He has given sizable amounts of money to various charitable organizations and scientific research programs through the Bill & Melinda Gates Foundation, reported to be the world's largest private charity. In 2009, Gates and Warren Buffett founded The Giving Pledge, whereby they and other billionaires pledge to give at least half of their wealth to philanthropy.\""
      ]
     },
     "execution_count": 15,
     "metadata": {},
     "output_type": "execute_result"
    }
   ],
   "source": [
    "paras[1]"
   ]
  },
  {
   "cell_type": "code",
   "execution_count": 16,
   "metadata": {},
   "outputs": [],
   "source": [
    "CONTEXT = paras[1]\n",
    "QUERIES = [\"where was bill gates born ?\",\n",
    "           \"when did gates step down as ceo ?\",\n",
    "           \"why was gates criticized ?\",\n",
    "           \"when did gates step down as chairman ?\",\n",
    "           \"how wealthy was gates ?\",\n",
    "           \"has gates donated to charity ?\",\n",
    "           \"what is the giving pledge ?\",\n",
    "           \"how wealthy is jeff bezos ?\",\n",
    "           \"gates's wife\",\n",
    "           \"who is the newly appointed ceo of microsoft ?\"]"
   ]
  },
  {
   "cell_type": "code",
   "execution_count": 17,
   "metadata": {},
   "outputs": [
    {
     "name": "stdout",
     "output_type": "stream",
     "text": [
      "INPUT TEXT\n",
      "context : born and raised in seattle, washington, gates co-founded microsoft with childhood friend paul allen in 1975, in albuquerque, new mexico; it went on to become the world's largest personal computer software company. gates led the company as chairman and ceo until stepping down as ceo in january 2000, but he remained chairman and became chief software architect. during the late 1990s, gates had been criticized for his business tactics, which have been considered anti-competitive. this opinion has been upheld by numerous court rulings. in june 2006, gates announced that he would be transitioning to a part-time role at microsoft and full-time work at the bill & melinda gates foundation, the private charitable foundation that he and his wife, melinda gates, established in 2000. he gradually transferred his duties to ray ozzie and craig mundie. he stepped down as chairman of microsoft in february 2014 and assumed a new post as technology adviser to support the newly appointed ceo satya nadella.since 1987, he has been included in the forbes list of the world's wealthiest people. from 1995 to 2017, he held the forbes title of the richest person in the world all but four of those years. in october 2017, he was surpassed by amazon founder and ceo jeff bezos, who had an estimated net worth of us$90.6 billion compared to gates's net worth of us$89.9 billion at the time. as of august 2020, gates had an estimated net worth of us$113.7 billion, making him the second-wealthiest person in the world, behind bezos.later in his career and since leaving day-to-day operations at microsoft in 2008, gates has pursued a number of philanthropic endeavors. he has given sizable amounts of money to various charitable organizations and scientific research programs through the bill & melinda gates foundation, reported to be the world's largest private charity. in 2009, gates and warren buffett founded the giving pledge, whereby they and other billionaires pledge to give at least half of their wealth to philanthropy. query : where was bill gates born ?\n",
      "\n",
      "INPUT TOKENS\n",
      "['▁context', '▁', ':', '▁born', '▁and', '▁raised', '▁in', '▁sea', 'ttle', ',', '▁wash', 'ington', ',', '▁gates', '▁co', '-', 'founded', '▁', 'microsoft', '▁with', '▁childhood', '▁friend', '▁pa', 'ul', '▁allen', '▁in', '▁1975', ',', '▁in', '▁alb', 'u', 'que', 'r', 'que', ',', '▁new', '▁me', 'x', 'ico', ';', '▁it', '▁went', '▁on', '▁to', '▁become', '▁the', '▁world', \"'\", 's', '▁largest', '▁personal', '▁computer', '▁software', '▁company', '.', '▁gates', '▁led', '▁the', '▁company', '▁as', '▁chairman', '▁and', '▁ce', 'o', '▁until', '▁', 'stepping', '▁down', '▁as', '▁ce', 'o', '▁in', '▁', 'jan', 'u', 'ary', '▁2000', ',', '▁but', '▁', 'he', '▁', 'remained', '▁chairman', '▁and', '▁became', '▁chief', '▁software', '▁architect', '.', '▁during', '▁the', '▁late', '▁1990', 's', ',', '▁gates', '▁had', '▁been', '▁', 'criticized', '▁for', '▁his', '▁business', '▁tactics', ',', '▁which', '▁have', '▁been', '▁considered', '▁anti', '-', 'com', 'petit', 'ive', '.', '▁this', '▁opinion', '▁has', '▁been', '▁up', 'held', '▁by', '▁numerous', '▁court', '▁ruling', 's', '.', '▁in', '▁', 'jun', 'e', '▁2006', ',', '▁gates', '▁announced', '▁that', '▁', 'he', '▁would', '▁be', '▁transition', 'ing', '▁to', '▁', 'a', '▁part', '-', 'time', '▁role', '▁at', '▁', 'microsoft', '▁and', '▁full', '-', 'time', '▁work', '▁at', '▁the', '▁bill', '▁', '&', '▁me', 'lind', 'a', '▁gates', '▁foundation', ',', '▁the', '▁private', '▁charitable', '▁foundation', '▁that', '▁', 'he', '▁and', '▁his', '▁wife', ',', '▁me', 'lind', 'a', '▁gates', ',', '▁established', '▁in', '▁2000', '.', '▁', 'he', '▁gradually', '▁transferred', '▁his', '▁duties', '▁to', '▁', 'ray', '▁', 'o', 'zzi', 'e', '▁and', '▁', 'cra', 'i', 'g', '▁mun', 'die', '.', '▁', 'he', '▁', 'stepped', '▁down', '▁as', '▁chairman', '▁of', '▁', 'microsoft', '▁in', '▁febr', 'u', 'ary', '▁2014', '▁and', '▁assumed', '▁', 'a', '▁new', '▁post', '▁as', '▁technology', '▁adviser', '▁to', '▁support', '▁the', '▁newly', '▁appointed', '▁ce', 'o', '▁', 's', 'at', 'y', 'a', '▁', 'n', 'a', 'd', 'ella', '.', 'since', '▁1987', ',', '▁', 'he', '▁has', '▁been', '▁included', '▁in', '▁the', '▁for', 'be', 's', '▁list', '▁of', '▁the', '▁world', \"'\", 's', '▁wealth', 'i', 'est', '▁people', '.', '▁from', '▁1995', '▁to', '▁2017,', '▁', 'he', '▁held', '▁the', '▁for', 'be', 's', '▁title', '▁of', '▁the', '▁riches', 't', '▁person', '▁in', '▁the', '▁world', '▁all', '▁but', '▁four', '▁of', '▁those', '▁years', '.', '▁in', '▁', 'o', 'c', 'to', 'ber', '▁2017,', '▁', 'he', '▁was', '▁', 'surpassed', '▁by', '▁amazon', '▁founder', '▁and', '▁ce', 'o', '▁je', 'f', 'f', '▁be', 'z', 'o', 's', ',', '▁who', '▁had', '▁an', '▁estimated', '▁net', '▁worth', '▁of', '▁us', '$', '9', '0.6', '▁billion', '▁', 'compared', '▁to', '▁gates', \"'\", 's', '▁net', '▁worth', '▁of', '▁us', '$', '89', '.', '9', '▁billion', '▁at', '▁the', '▁time', '.', '▁as', '▁of', '▁august', '▁2020', ',', '▁gates', '▁had', '▁an', '▁estimated', '▁net', '▁worth', '▁of', '▁us', '$', '11', '3.7', '▁billion', ',', '▁making', '▁him', '▁the', '▁second', '-', 'we', 'al', 'thi', 'est', '▁person', '▁in', '▁the', '▁world', ',', '▁behind', '▁be', 'z', 'o', 's', '.', 'late', 'r', '▁in', '▁his', '▁career', '▁and', '▁since', '▁leaving', '▁day', '-', 'to', '-', 'day', '▁operations', '▁at', '▁', 'microsoft', '▁in', '▁2008', ',', '▁gates', '▁has', '▁pursue', 'd', '▁', 'a', '▁number', '▁of', '▁', 'phil', 'an', 'thro', 'pic', '▁endeavor', 's', '.', '▁', 'he', '▁has', '▁given', '▁si', 'z', 'able', '▁amounts', '▁of', '▁money', '▁to', '▁various', '▁charitable', '▁organizations', '▁and', '▁scientific', '▁research', '▁programs', '▁through', '▁the', '▁bill', '▁', '&', '▁me', 'lind', 'a', '▁gates', '▁foundation', ',', '▁reported', '▁to', '▁be', '▁the', '▁world', \"'\", 's', '▁largest', '▁private', '▁charity', '.', '▁in', '▁2009', ',', '▁gates', '▁and', '▁war', 'ren', '▁buffet', 't', '▁founded', '▁the', '▁giving', '▁pledge', ',', '▁where', 'by', '▁they', '▁and', '▁other', '▁billion', 'aires', '▁pledge', '▁to', '▁give', '▁at', '▁least', '▁half', '▁of', '▁their', '▁wealth', '▁to', '▁', 'phil', 'an', 'thro', 'p', 'y', '.', '▁query', '▁', ':', '▁where', '▁was', '▁bill', '▁gates', '▁born', '▁', '?']\n",
      "\n",
      "PREDICTION\n",
      "in seattle, washington.\n",
      "\n",
      "\n",
      "\n",
      "\n",
      "INPUT TEXT\n",
      "context : born and raised in seattle, washington, gates co-founded microsoft with childhood friend paul allen in 1975, in albuquerque, new mexico; it went on to become the world's largest personal computer software company. gates led the company as chairman and ceo until stepping down as ceo in january 2000, but he remained chairman and became chief software architect. during the late 1990s, gates had been criticized for his business tactics, which have been considered anti-competitive. this opinion has been upheld by numerous court rulings. in june 2006, gates announced that he would be transitioning to a part-time role at microsoft and full-time work at the bill & melinda gates foundation, the private charitable foundation that he and his wife, melinda gates, established in 2000. he gradually transferred his duties to ray ozzie and craig mundie. he stepped down as chairman of microsoft in february 2014 and assumed a new post as technology adviser to support the newly appointed ceo satya nadella.since 1987, he has been included in the forbes list of the world's wealthiest people. from 1995 to 2017, he held the forbes title of the richest person in the world all but four of those years. in october 2017, he was surpassed by amazon founder and ceo jeff bezos, who had an estimated net worth of us$90.6 billion compared to gates's net worth of us$89.9 billion at the time. as of august 2020, gates had an estimated net worth of us$113.7 billion, making him the second-wealthiest person in the world, behind bezos.later in his career and since leaving day-to-day operations at microsoft in 2008, gates has pursued a number of philanthropic endeavors. he has given sizable amounts of money to various charitable organizations and scientific research programs through the bill & melinda gates foundation, reported to be the world's largest private charity. in 2009, gates and warren buffett founded the giving pledge, whereby they and other billionaires pledge to give at least half of their wealth to philanthropy. query : when did gates step down as ceo ?\n",
      "\n",
      "INPUT TOKENS\n",
      "['▁context', '▁', ':', '▁born', '▁and', '▁raised', '▁in', '▁sea', 'ttle', ',', '▁wash', 'ington', ',', '▁gates', '▁co', '-', 'founded', '▁', 'microsoft', '▁with', '▁childhood', '▁friend', '▁pa', 'ul', '▁allen', '▁in', '▁1975', ',', '▁in', '▁alb', 'u', 'que', 'r', 'que', ',', '▁new', '▁me', 'x', 'ico', ';', '▁it', '▁went', '▁on', '▁to', '▁become', '▁the', '▁world', \"'\", 's', '▁largest', '▁personal', '▁computer', '▁software', '▁company', '.', '▁gates', '▁led', '▁the', '▁company', '▁as', '▁chairman', '▁and', '▁ce', 'o', '▁until', '▁', 'stepping', '▁down', '▁as', '▁ce', 'o', '▁in', '▁', 'jan', 'u', 'ary', '▁2000', ',', '▁but', '▁', 'he', '▁', 'remained', '▁chairman', '▁and', '▁became', '▁chief', '▁software', '▁architect', '.', '▁during', '▁the', '▁late', '▁1990', 's', ',', '▁gates', '▁had', '▁been', '▁', 'criticized', '▁for', '▁his', '▁business', '▁tactics', ',', '▁which', '▁have', '▁been', '▁considered', '▁anti', '-', 'com', 'petit', 'ive', '.', '▁this', '▁opinion', '▁has', '▁been', '▁up', 'held', '▁by', '▁numerous', '▁court', '▁ruling', 's', '.', '▁in', '▁', 'jun', 'e', '▁2006', ',', '▁gates', '▁announced', '▁that', '▁', 'he', '▁would', '▁be', '▁transition', 'ing', '▁to', '▁', 'a', '▁part', '-', 'time', '▁role', '▁at', '▁', 'microsoft', '▁and', '▁full', '-', 'time', '▁work', '▁at', '▁the', '▁bill', '▁', '&', '▁me', 'lind', 'a', '▁gates', '▁foundation', ',', '▁the', '▁private', '▁charitable', '▁foundation', '▁that', '▁', 'he', '▁and', '▁his', '▁wife', ',', '▁me', 'lind', 'a', '▁gates', ',', '▁established', '▁in', '▁2000', '.', '▁', 'he', '▁gradually', '▁transferred', '▁his', '▁duties', '▁to', '▁', 'ray', '▁', 'o', 'zzi', 'e', '▁and', '▁', 'cra', 'i', 'g', '▁mun', 'die', '.', '▁', 'he', '▁', 'stepped', '▁down', '▁as', '▁chairman', '▁of', '▁', 'microsoft', '▁in', '▁febr', 'u', 'ary', '▁2014', '▁and', '▁assumed', '▁', 'a', '▁new', '▁post', '▁as', '▁technology', '▁adviser', '▁to', '▁support', '▁the', '▁newly', '▁appointed', '▁ce', 'o', '▁', 's', 'at', 'y', 'a', '▁', 'n', 'a', 'd', 'ella', '.', 'since', '▁1987', ',', '▁', 'he', '▁has', '▁been', '▁included', '▁in', '▁the', '▁for', 'be', 's', '▁list', '▁of', '▁the', '▁world', \"'\", 's', '▁wealth', 'i', 'est', '▁people', '.', '▁from', '▁1995', '▁to', '▁2017,', '▁', 'he', '▁held', '▁the', '▁for', 'be', 's', '▁title', '▁of', '▁the', '▁riches', 't', '▁person', '▁in', '▁the', '▁world', '▁all', '▁but', '▁four', '▁of', '▁those', '▁years', '.', '▁in', '▁', 'o', 'c', 'to', 'ber', '▁2017,', '▁', 'he', '▁was', '▁', 'surpassed', '▁by', '▁amazon', '▁founder', '▁and', '▁ce', 'o', '▁je', 'f', 'f', '▁be', 'z', 'o', 's', ',', '▁who', '▁had', '▁an', '▁estimated', '▁net', '▁worth', '▁of', '▁us', '$', '9', '0.6', '▁billion', '▁', 'compared', '▁to', '▁gates', \"'\", 's', '▁net', '▁worth', '▁of', '▁us', '$', '89', '.', '9', '▁billion', '▁at', '▁the', '▁time', '.', '▁as', '▁of', '▁august', '▁2020', ',', '▁gates', '▁had', '▁an', '▁estimated', '▁net', '▁worth', '▁of', '▁us', '$', '11', '3.7', '▁billion', ',', '▁making', '▁him', '▁the', '▁second', '-', 'we', 'al', 'thi', 'est', '▁person', '▁in', '▁the', '▁world', ',', '▁behind', '▁be', 'z', 'o', 's', '.', 'late', 'r', '▁in', '▁his', '▁career', '▁and', '▁since', '▁leaving', '▁day', '-', 'to', '-', 'day', '▁operations', '▁at', '▁', 'microsoft', '▁in', '▁2008', ',', '▁gates', '▁has', '▁pursue', 'd', '▁', 'a', '▁number', '▁of', '▁', 'phil', 'an', 'thro', 'pic', '▁endeavor', 's', '.', '▁', 'he', '▁has', '▁given', '▁si', 'z', 'able', '▁amounts', '▁of', '▁money', '▁to', '▁various', '▁charitable', '▁organizations', '▁and', '▁scientific', '▁research', '▁programs', '▁through', '▁the', '▁bill', '▁', '&', '▁me', 'lind', 'a', '▁gates', '▁foundation', ',', '▁reported', '▁to', '▁be', '▁the', '▁world', \"'\", 's', '▁largest', '▁private', '▁charity', '.', '▁in', '▁2009', ',', '▁gates', '▁and', '▁war', 'ren', '▁buffet', 't', '▁founded', '▁the', '▁giving', '▁pledge', ',', '▁where', 'by', '▁they', '▁and', '▁other', '▁billion', 'aires', '▁pledge', '▁to', '▁give', '▁at', '▁least', '▁half', '▁of', '▁their', '▁wealth', '▁to', '▁', 'phil', 'an', 'thro', 'p', 'y', '.', '▁query', '▁', ':', '▁when', '▁did', '▁gates', '▁step', '▁down', '▁as', '▁ce', 'o', '▁', '?']\n",
      "\n",
      "PREDICTION\n",
      "in january 2000\n",
      "\n",
      "\n",
      "\n",
      "\n",
      "INPUT TEXT\n",
      "context : born and raised in seattle, washington, gates co-founded microsoft with childhood friend paul allen in 1975, in albuquerque, new mexico; it went on to become the world's largest personal computer software company. gates led the company as chairman and ceo until stepping down as ceo in january 2000, but he remained chairman and became chief software architect. during the late 1990s, gates had been criticized for his business tactics, which have been considered anti-competitive. this opinion has been upheld by numerous court rulings. in june 2006, gates announced that he would be transitioning to a part-time role at microsoft and full-time work at the bill & melinda gates foundation, the private charitable foundation that he and his wife, melinda gates, established in 2000. he gradually transferred his duties to ray ozzie and craig mundie. he stepped down as chairman of microsoft in february 2014 and assumed a new post as technology adviser to support the newly appointed ceo satya nadella.since 1987, he has been included in the forbes list of the world's wealthiest people. from 1995 to 2017, he held the forbes title of the richest person in the world all but four of those years. in october 2017, he was surpassed by amazon founder and ceo jeff bezos, who had an estimated net worth of us$90.6 billion compared to gates's net worth of us$89.9 billion at the time. as of august 2020, gates had an estimated net worth of us$113.7 billion, making him the second-wealthiest person in the world, behind bezos.later in his career and since leaving day-to-day operations at microsoft in 2008, gates has pursued a number of philanthropic endeavors. he has given sizable amounts of money to various charitable organizations and scientific research programs through the bill & melinda gates foundation, reported to be the world's largest private charity. in 2009, gates and warren buffett founded the giving pledge, whereby they and other billionaires pledge to give at least half of their wealth to philanthropy. query : why was gates criticized ?\n",
      "\n",
      "INPUT TOKENS\n",
      "['▁context', '▁', ':', '▁born', '▁and', '▁raised', '▁in', '▁sea', 'ttle', ',', '▁wash', 'ington', ',', '▁gates', '▁co', '-', 'founded', '▁', 'microsoft', '▁with', '▁childhood', '▁friend', '▁pa', 'ul', '▁allen', '▁in', '▁1975', ',', '▁in', '▁alb', 'u', 'que', 'r', 'que', ',', '▁new', '▁me', 'x', 'ico', ';', '▁it', '▁went', '▁on', '▁to', '▁become', '▁the', '▁world', \"'\", 's', '▁largest', '▁personal', '▁computer', '▁software', '▁company', '.', '▁gates', '▁led', '▁the', '▁company', '▁as', '▁chairman', '▁and', '▁ce', 'o', '▁until', '▁', 'stepping', '▁down', '▁as', '▁ce', 'o', '▁in', '▁', 'jan', 'u', 'ary', '▁2000', ',', '▁but', '▁', 'he', '▁', 'remained', '▁chairman', '▁and', '▁became', '▁chief', '▁software', '▁architect', '.', '▁during', '▁the', '▁late', '▁1990', 's', ',', '▁gates', '▁had', '▁been', '▁', 'criticized', '▁for', '▁his', '▁business', '▁tactics', ',', '▁which', '▁have', '▁been', '▁considered', '▁anti', '-', 'com', 'petit', 'ive', '.', '▁this', '▁opinion', '▁has', '▁been', '▁up', 'held', '▁by', '▁numerous', '▁court', '▁ruling', 's', '.', '▁in', '▁', 'jun', 'e', '▁2006', ',', '▁gates', '▁announced', '▁that', '▁', 'he', '▁would', '▁be', '▁transition', 'ing', '▁to', '▁', 'a', '▁part', '-', 'time', '▁role', '▁at', '▁', 'microsoft', '▁and', '▁full', '-', 'time', '▁work', '▁at', '▁the', '▁bill', '▁', '&', '▁me', 'lind', 'a', '▁gates', '▁foundation', ',', '▁the', '▁private', '▁charitable', '▁foundation', '▁that', '▁', 'he', '▁and', '▁his', '▁wife', ',', '▁me', 'lind', 'a', '▁gates', ',', '▁established', '▁in', '▁2000', '.', '▁', 'he', '▁gradually', '▁transferred', '▁his', '▁duties', '▁to', '▁', 'ray', '▁', 'o', 'zzi', 'e', '▁and', '▁', 'cra', 'i', 'g', '▁mun', 'die', '.', '▁', 'he', '▁', 'stepped', '▁down', '▁as', '▁chairman', '▁of', '▁', 'microsoft', '▁in', '▁febr', 'u', 'ary', '▁2014', '▁and', '▁assumed', '▁', 'a', '▁new', '▁post', '▁as', '▁technology', '▁adviser', '▁to', '▁support', '▁the', '▁newly', '▁appointed', '▁ce', 'o', '▁', 's', 'at', 'y', 'a', '▁', 'n', 'a', 'd', 'ella', '.', 'since', '▁1987', ',', '▁', 'he', '▁has', '▁been', '▁included', '▁in', '▁the', '▁for', 'be', 's', '▁list', '▁of', '▁the', '▁world', \"'\", 's', '▁wealth', 'i', 'est', '▁people', '.', '▁from', '▁1995', '▁to', '▁2017,', '▁', 'he', '▁held', '▁the', '▁for', 'be', 's', '▁title', '▁of', '▁the', '▁riches', 't', '▁person', '▁in', '▁the', '▁world', '▁all', '▁but', '▁four', '▁of', '▁those', '▁years', '.', '▁in', '▁', 'o', 'c', 'to', 'ber', '▁2017,', '▁', 'he', '▁was', '▁', 'surpassed', '▁by', '▁amazon', '▁founder', '▁and', '▁ce', 'o', '▁je', 'f', 'f', '▁be', 'z', 'o', 's', ',', '▁who', '▁had', '▁an', '▁estimated', '▁net', '▁worth', '▁of', '▁us', '$', '9', '0.6', '▁billion', '▁', 'compared', '▁to', '▁gates', \"'\", 's', '▁net', '▁worth', '▁of', '▁us', '$', '89', '.', '9', '▁billion', '▁at', '▁the', '▁time', '.', '▁as', '▁of', '▁august', '▁2020', ',', '▁gates', '▁had', '▁an', '▁estimated', '▁net', '▁worth', '▁of', '▁us', '$', '11', '3.7', '▁billion', ',', '▁making', '▁him', '▁the', '▁second', '-', 'we', 'al', 'thi', 'est', '▁person', '▁in', '▁the', '▁world', ',', '▁behind', '▁be', 'z', 'o', 's', '.', 'late', 'r', '▁in', '▁his', '▁career', '▁and', '▁since', '▁leaving', '▁day', '-', 'to', '-', 'day', '▁operations', '▁at', '▁', 'microsoft', '▁in', '▁2008', ',', '▁gates', '▁has', '▁pursue', 'd', '▁', 'a', '▁number', '▁of', '▁', 'phil', 'an', 'thro', 'pic', '▁endeavor', 's', '.', '▁', 'he', '▁has', '▁given', '▁si', 'z', 'able', '▁amounts', '▁of', '▁money', '▁to', '▁various', '▁charitable', '▁organizations', '▁and', '▁scientific', '▁research', '▁programs', '▁through', '▁the', '▁bill', '▁', '&', '▁me', 'lind', 'a', '▁gates', '▁foundation', ',', '▁reported', '▁to', '▁be', '▁the', '▁world', \"'\", 's', '▁largest', '▁private', '▁charity', '.', '▁in', '▁2009', ',', '▁gates', '▁and', '▁war', 'ren', '▁buffet', 't', '▁founded', '▁the', '▁giving', '▁pledge', ',', '▁where', 'by', '▁they', '▁and', '▁other', '▁billion', 'aires', '▁pledge', '▁to', '▁give', '▁at', '▁least', '▁half', '▁of', '▁their', '▁wealth', '▁to', '▁', 'phil', 'an', 'thro', 'p', 'y', '.', '▁query', '▁', ':', '▁why', '▁was', '▁gates', '▁', 'criticized', '▁', '?']\n",
      "\n",
      "PREDICTION\n",
      "because of his business tactics, which have been considered anti-competitive.\n",
      "\n",
      "\n",
      "\n",
      "\n",
      "INPUT TEXT\n",
      "context : born and raised in seattle, washington, gates co-founded microsoft with childhood friend paul allen in 1975, in albuquerque, new mexico; it went on to become the world's largest personal computer software company. gates led the company as chairman and ceo until stepping down as ceo in january 2000, but he remained chairman and became chief software architect. during the late 1990s, gates had been criticized for his business tactics, which have been considered anti-competitive. this opinion has been upheld by numerous court rulings. in june 2006, gates announced that he would be transitioning to a part-time role at microsoft and full-time work at the bill & melinda gates foundation, the private charitable foundation that he and his wife, melinda gates, established in 2000. he gradually transferred his duties to ray ozzie and craig mundie. he stepped down as chairman of microsoft in february 2014 and assumed a new post as technology adviser to support the newly appointed ceo satya nadella.since 1987, he has been included in the forbes list of the world's wealthiest people. from 1995 to 2017, he held the forbes title of the richest person in the world all but four of those years. in october 2017, he was surpassed by amazon founder and ceo jeff bezos, who had an estimated net worth of us$90.6 billion compared to gates's net worth of us$89.9 billion at the time. as of august 2020, gates had an estimated net worth of us$113.7 billion, making him the second-wealthiest person in the world, behind bezos.later in his career and since leaving day-to-day operations at microsoft in 2008, gates has pursued a number of philanthropic endeavors. he has given sizable amounts of money to various charitable organizations and scientific research programs through the bill & melinda gates foundation, reported to be the world's largest private charity. in 2009, gates and warren buffett founded the giving pledge, whereby they and other billionaires pledge to give at least half of their wealth to philanthropy. query : when did gates step down as chairman ?\n",
      "\n",
      "INPUT TOKENS\n",
      "['▁context', '▁', ':', '▁born', '▁and', '▁raised', '▁in', '▁sea', 'ttle', ',', '▁wash', 'ington', ',', '▁gates', '▁co', '-', 'founded', '▁', 'microsoft', '▁with', '▁childhood', '▁friend', '▁pa', 'ul', '▁allen', '▁in', '▁1975', ',', '▁in', '▁alb', 'u', 'que', 'r', 'que', ',', '▁new', '▁me', 'x', 'ico', ';', '▁it', '▁went', '▁on', '▁to', '▁become', '▁the', '▁world', \"'\", 's', '▁largest', '▁personal', '▁computer', '▁software', '▁company', '.', '▁gates', '▁led', '▁the', '▁company', '▁as', '▁chairman', '▁and', '▁ce', 'o', '▁until', '▁', 'stepping', '▁down', '▁as', '▁ce', 'o', '▁in', '▁', 'jan', 'u', 'ary', '▁2000', ',', '▁but', '▁', 'he', '▁', 'remained', '▁chairman', '▁and', '▁became', '▁chief', '▁software', '▁architect', '.', '▁during', '▁the', '▁late', '▁1990', 's', ',', '▁gates', '▁had', '▁been', '▁', 'criticized', '▁for', '▁his', '▁business', '▁tactics', ',', '▁which', '▁have', '▁been', '▁considered', '▁anti', '-', 'com', 'petit', 'ive', '.', '▁this', '▁opinion', '▁has', '▁been', '▁up', 'held', '▁by', '▁numerous', '▁court', '▁ruling', 's', '.', '▁in', '▁', 'jun', 'e', '▁2006', ',', '▁gates', '▁announced', '▁that', '▁', 'he', '▁would', '▁be', '▁transition', 'ing', '▁to', '▁', 'a', '▁part', '-', 'time', '▁role', '▁at', '▁', 'microsoft', '▁and', '▁full', '-', 'time', '▁work', '▁at', '▁the', '▁bill', '▁', '&', '▁me', 'lind', 'a', '▁gates', '▁foundation', ',', '▁the', '▁private', '▁charitable', '▁foundation', '▁that', '▁', 'he', '▁and', '▁his', '▁wife', ',', '▁me', 'lind', 'a', '▁gates', ',', '▁established', '▁in', '▁2000', '.', '▁', 'he', '▁gradually', '▁transferred', '▁his', '▁duties', '▁to', '▁', 'ray', '▁', 'o', 'zzi', 'e', '▁and', '▁', 'cra', 'i', 'g', '▁mun', 'die', '.', '▁', 'he', '▁', 'stepped', '▁down', '▁as', '▁chairman', '▁of', '▁', 'microsoft', '▁in', '▁febr', 'u', 'ary', '▁2014', '▁and', '▁assumed', '▁', 'a', '▁new', '▁post', '▁as', '▁technology', '▁adviser', '▁to', '▁support', '▁the', '▁newly', '▁appointed', '▁ce', 'o', '▁', 's', 'at', 'y', 'a', '▁', 'n', 'a', 'd', 'ella', '.', 'since', '▁1987', ',', '▁', 'he', '▁has', '▁been', '▁included', '▁in', '▁the', '▁for', 'be', 's', '▁list', '▁of', '▁the', '▁world', \"'\", 's', '▁wealth', 'i', 'est', '▁people', '.', '▁from', '▁1995', '▁to', '▁2017,', '▁', 'he', '▁held', '▁the', '▁for', 'be', 's', '▁title', '▁of', '▁the', '▁riches', 't', '▁person', '▁in', '▁the', '▁world', '▁all', '▁but', '▁four', '▁of', '▁those', '▁years', '.', '▁in', '▁', 'o', 'c', 'to', 'ber', '▁2017,', '▁', 'he', '▁was', '▁', 'surpassed', '▁by', '▁amazon', '▁founder', '▁and', '▁ce', 'o', '▁je', 'f', 'f', '▁be', 'z', 'o', 's', ',', '▁who', '▁had', '▁an', '▁estimated', '▁net', '▁worth', '▁of', '▁us', '$', '9', '0.6', '▁billion', '▁', 'compared', '▁to', '▁gates', \"'\", 's', '▁net', '▁worth', '▁of', '▁us', '$', '89', '.', '9', '▁billion', '▁at', '▁the', '▁time', '.', '▁as', '▁of', '▁august', '▁2020', ',', '▁gates', '▁had', '▁an', '▁estimated', '▁net', '▁worth', '▁of', '▁us', '$', '11', '3.7', '▁billion', ',', '▁making', '▁him', '▁the', '▁second', '-', 'we', 'al', 'thi', 'est', '▁person', '▁in', '▁the', '▁world', ',', '▁behind', '▁be', 'z', 'o', 's', '.', 'late', 'r', '▁in', '▁his', '▁career', '▁and', '▁since', '▁leaving', '▁day', '-', 'to', '-', 'day', '▁operations', '▁at', '▁', 'microsoft', '▁in', '▁2008', ',', '▁gates', '▁has', '▁pursue', 'd', '▁', 'a', '▁number', '▁of', '▁', 'phil', 'an', 'thro', 'pic', '▁endeavor', 's', '.', '▁', 'he', '▁has', '▁given', '▁si', 'z', 'able', '▁amounts', '▁of', '▁money', '▁to', '▁various', '▁charitable', '▁organizations', '▁and', '▁scientific', '▁research', '▁programs', '▁through', '▁the', '▁bill', '▁', '&', '▁me', 'lind', 'a', '▁gates', '▁foundation', ',', '▁reported', '▁to', '▁be', '▁the', '▁world', \"'\", 's', '▁largest', '▁private', '▁charity', '.', '▁in', '▁2009', ',', '▁gates', '▁and', '▁war', 'ren', '▁buffet', 't', '▁founded', '▁the', '▁giving', '▁pledge', ',', '▁where', 'by', '▁they', '▁and', '▁other', '▁billion', 'aires', '▁pledge', '▁to', '▁give', '▁at', '▁least', '▁half', '▁of', '▁their', '▁wealth', '▁to', '▁', 'phil', 'an', 'thro', 'p', 'y', '.', '▁query', '▁', ':', '▁when', '▁did', '▁gates', '▁step', '▁down', '▁as', '▁chairman', '▁', '?']\n",
      "\n",
      "PREDICTION\n",
      "in february 2000\n",
      "\n",
      "\n",
      "\n",
      "\n",
      "INPUT TEXT\n",
      "context : born and raised in seattle, washington, gates co-founded microsoft with childhood friend paul allen in 1975, in albuquerque, new mexico; it went on to become the world's largest personal computer software company. gates led the company as chairman and ceo until stepping down as ceo in january 2000, but he remained chairman and became chief software architect. during the late 1990s, gates had been criticized for his business tactics, which have been considered anti-competitive. this opinion has been upheld by numerous court rulings. in june 2006, gates announced that he would be transitioning to a part-time role at microsoft and full-time work at the bill & melinda gates foundation, the private charitable foundation that he and his wife, melinda gates, established in 2000. he gradually transferred his duties to ray ozzie and craig mundie. he stepped down as chairman of microsoft in february 2014 and assumed a new post as technology adviser to support the newly appointed ceo satya nadella.since 1987, he has been included in the forbes list of the world's wealthiest people. from 1995 to 2017, he held the forbes title of the richest person in the world all but four of those years. in october 2017, he was surpassed by amazon founder and ceo jeff bezos, who had an estimated net worth of us$90.6 billion compared to gates's net worth of us$89.9 billion at the time. as of august 2020, gates had an estimated net worth of us$113.7 billion, making him the second-wealthiest person in the world, behind bezos.later in his career and since leaving day-to-day operations at microsoft in 2008, gates has pursued a number of philanthropic endeavors. he has given sizable amounts of money to various charitable organizations and scientific research programs through the bill & melinda gates foundation, reported to be the world's largest private charity. in 2009, gates and warren buffett founded the giving pledge, whereby they and other billionaires pledge to give at least half of their wealth to philanthropy. query : how wealthy was gates ?\n",
      "\n",
      "INPUT TOKENS\n",
      "['▁context', '▁', ':', '▁born', '▁and', '▁raised', '▁in', '▁sea', 'ttle', ',', '▁wash', 'ington', ',', '▁gates', '▁co', '-', 'founded', '▁', 'microsoft', '▁with', '▁childhood', '▁friend', '▁pa', 'ul', '▁allen', '▁in', '▁1975', ',', '▁in', '▁alb', 'u', 'que', 'r', 'que', ',', '▁new', '▁me', 'x', 'ico', ';', '▁it', '▁went', '▁on', '▁to', '▁become', '▁the', '▁world', \"'\", 's', '▁largest', '▁personal', '▁computer', '▁software', '▁company', '.', '▁gates', '▁led', '▁the', '▁company', '▁as', '▁chairman', '▁and', '▁ce', 'o', '▁until', '▁', 'stepping', '▁down', '▁as', '▁ce', 'o', '▁in', '▁', 'jan', 'u', 'ary', '▁2000', ',', '▁but', '▁', 'he', '▁', 'remained', '▁chairman', '▁and', '▁became', '▁chief', '▁software', '▁architect', '.', '▁during', '▁the', '▁late', '▁1990', 's', ',', '▁gates', '▁had', '▁been', '▁', 'criticized', '▁for', '▁his', '▁business', '▁tactics', ',', '▁which', '▁have', '▁been', '▁considered', '▁anti', '-', 'com', 'petit', 'ive', '.', '▁this', '▁opinion', '▁has', '▁been', '▁up', 'held', '▁by', '▁numerous', '▁court', '▁ruling', 's', '.', '▁in', '▁', 'jun', 'e', '▁2006', ',', '▁gates', '▁announced', '▁that', '▁', 'he', '▁would', '▁be', '▁transition', 'ing', '▁to', '▁', 'a', '▁part', '-', 'time', '▁role', '▁at', '▁', 'microsoft', '▁and', '▁full', '-', 'time', '▁work', '▁at', '▁the', '▁bill', '▁', '&', '▁me', 'lind', 'a', '▁gates', '▁foundation', ',', '▁the', '▁private', '▁charitable', '▁foundation', '▁that', '▁', 'he', '▁and', '▁his', '▁wife', ',', '▁me', 'lind', 'a', '▁gates', ',', '▁established', '▁in', '▁2000', '.', '▁', 'he', '▁gradually', '▁transferred', '▁his', '▁duties', '▁to', '▁', 'ray', '▁', 'o', 'zzi', 'e', '▁and', '▁', 'cra', 'i', 'g', '▁mun', 'die', '.', '▁', 'he', '▁', 'stepped', '▁down', '▁as', '▁chairman', '▁of', '▁', 'microsoft', '▁in', '▁febr', 'u', 'ary', '▁2014', '▁and', '▁assumed', '▁', 'a', '▁new', '▁post', '▁as', '▁technology', '▁adviser', '▁to', '▁support', '▁the', '▁newly', '▁appointed', '▁ce', 'o', '▁', 's', 'at', 'y', 'a', '▁', 'n', 'a', 'd', 'ella', '.', 'since', '▁1987', ',', '▁', 'he', '▁has', '▁been', '▁included', '▁in', '▁the', '▁for', 'be', 's', '▁list', '▁of', '▁the', '▁world', \"'\", 's', '▁wealth', 'i', 'est', '▁people', '.', '▁from', '▁1995', '▁to', '▁2017,', '▁', 'he', '▁held', '▁the', '▁for', 'be', 's', '▁title', '▁of', '▁the', '▁riches', 't', '▁person', '▁in', '▁the', '▁world', '▁all', '▁but', '▁four', '▁of', '▁those', '▁years', '.', '▁in', '▁', 'o', 'c', 'to', 'ber', '▁2017,', '▁', 'he', '▁was', '▁', 'surpassed', '▁by', '▁amazon', '▁founder', '▁and', '▁ce', 'o', '▁je', 'f', 'f', '▁be', 'z', 'o', 's', ',', '▁who', '▁had', '▁an', '▁estimated', '▁net', '▁worth', '▁of', '▁us', '$', '9', '0.6', '▁billion', '▁', 'compared', '▁to', '▁gates', \"'\", 's', '▁net', '▁worth', '▁of', '▁us', '$', '89', '.', '9', '▁billion', '▁at', '▁the', '▁time', '.', '▁as', '▁of', '▁august', '▁2020', ',', '▁gates', '▁had', '▁an', '▁estimated', '▁net', '▁worth', '▁of', '▁us', '$', '11', '3.7', '▁billion', ',', '▁making', '▁him', '▁the', '▁second', '-', 'we', 'al', 'thi', 'est', '▁person', '▁in', '▁the', '▁world', ',', '▁behind', '▁be', 'z', 'o', 's', '.', 'late', 'r', '▁in', '▁his', '▁career', '▁and', '▁since', '▁leaving', '▁day', '-', 'to', '-', 'day', '▁operations', '▁at', '▁', 'microsoft', '▁in', '▁2008', ',', '▁gates', '▁has', '▁pursue', 'd', '▁', 'a', '▁number', '▁of', '▁', 'phil', 'an', 'thro', 'pic', '▁endeavor', 's', '.', '▁', 'he', '▁has', '▁given', '▁si', 'z', 'able', '▁amounts', '▁of', '▁money', '▁to', '▁various', '▁charitable', '▁organizations', '▁and', '▁scientific', '▁research', '▁programs', '▁through', '▁the', '▁bill', '▁', '&', '▁me', 'lind', 'a', '▁gates', '▁foundation', ',', '▁reported', '▁to', '▁be', '▁the', '▁world', \"'\", 's', '▁largest', '▁private', '▁charity', '.', '▁in', '▁2009', ',', '▁gates', '▁and', '▁war', 'ren', '▁buffet', 't', '▁founded', '▁the', '▁giving', '▁pledge', ',', '▁where', 'by', '▁they', '▁and', '▁other', '▁billion', 'aires', '▁pledge', '▁to', '▁give', '▁at', '▁least', '▁half', '▁of', '▁their', '▁wealth', '▁to', '▁', 'phil', 'an', 'thro', 'p', 'y', '.', '▁query', '▁', ':', '▁how', '▁wealthy', '▁was', '▁gates', '▁', '?']\n",
      "\n",
      "PREDICTION\n",
      "us$89.9 billion\n",
      "\n",
      "\n",
      "\n",
      "\n",
      "INPUT TEXT\n",
      "context : born and raised in seattle, washington, gates co-founded microsoft with childhood friend paul allen in 1975, in albuquerque, new mexico; it went on to become the world's largest personal computer software company. gates led the company as chairman and ceo until stepping down as ceo in january 2000, but he remained chairman and became chief software architect. during the late 1990s, gates had been criticized for his business tactics, which have been considered anti-competitive. this opinion has been upheld by numerous court rulings. in june 2006, gates announced that he would be transitioning to a part-time role at microsoft and full-time work at the bill & melinda gates foundation, the private charitable foundation that he and his wife, melinda gates, established in 2000. he gradually transferred his duties to ray ozzie and craig mundie. he stepped down as chairman of microsoft in february 2014 and assumed a new post as technology adviser to support the newly appointed ceo satya nadella.since 1987, he has been included in the forbes list of the world's wealthiest people. from 1995 to 2017, he held the forbes title of the richest person in the world all but four of those years. in october 2017, he was surpassed by amazon founder and ceo jeff bezos, who had an estimated net worth of us$90.6 billion compared to gates's net worth of us$89.9 billion at the time. as of august 2020, gates had an estimated net worth of us$113.7 billion, making him the second-wealthiest person in the world, behind bezos.later in his career and since leaving day-to-day operations at microsoft in 2008, gates has pursued a number of philanthropic endeavors. he has given sizable amounts of money to various charitable organizations and scientific research programs through the bill & melinda gates foundation, reported to be the world's largest private charity. in 2009, gates and warren buffett founded the giving pledge, whereby they and other billionaires pledge to give at least half of their wealth to philanthropy. query : has gates donated to charity ?\n",
      "\n",
      "INPUT TOKENS\n",
      "['▁context', '▁', ':', '▁born', '▁and', '▁raised', '▁in', '▁sea', 'ttle', ',', '▁wash', 'ington', ',', '▁gates', '▁co', '-', 'founded', '▁', 'microsoft', '▁with', '▁childhood', '▁friend', '▁pa', 'ul', '▁allen', '▁in', '▁1975', ',', '▁in', '▁alb', 'u', 'que', 'r', 'que', ',', '▁new', '▁me', 'x', 'ico', ';', '▁it', '▁went', '▁on', '▁to', '▁become', '▁the', '▁world', \"'\", 's', '▁largest', '▁personal', '▁computer', '▁software', '▁company', '.', '▁gates', '▁led', '▁the', '▁company', '▁as', '▁chairman', '▁and', '▁ce', 'o', '▁until', '▁', 'stepping', '▁down', '▁as', '▁ce', 'o', '▁in', '▁', 'jan', 'u', 'ary', '▁2000', ',', '▁but', '▁', 'he', '▁', 'remained', '▁chairman', '▁and', '▁became', '▁chief', '▁software', '▁architect', '.', '▁during', '▁the', '▁late', '▁1990', 's', ',', '▁gates', '▁had', '▁been', '▁', 'criticized', '▁for', '▁his', '▁business', '▁tactics', ',', '▁which', '▁have', '▁been', '▁considered', '▁anti', '-', 'com', 'petit', 'ive', '.', '▁this', '▁opinion', '▁has', '▁been', '▁up', 'held', '▁by', '▁numerous', '▁court', '▁ruling', 's', '.', '▁in', '▁', 'jun', 'e', '▁2006', ',', '▁gates', '▁announced', '▁that', '▁', 'he', '▁would', '▁be', '▁transition', 'ing', '▁to', '▁', 'a', '▁part', '-', 'time', '▁role', '▁at', '▁', 'microsoft', '▁and', '▁full', '-', 'time', '▁work', '▁at', '▁the', '▁bill', '▁', '&', '▁me', 'lind', 'a', '▁gates', '▁foundation', ',', '▁the', '▁private', '▁charitable', '▁foundation', '▁that', '▁', 'he', '▁and', '▁his', '▁wife', ',', '▁me', 'lind', 'a', '▁gates', ',', '▁established', '▁in', '▁2000', '.', '▁', 'he', '▁gradually', '▁transferred', '▁his', '▁duties', '▁to', '▁', 'ray', '▁', 'o', 'zzi', 'e', '▁and', '▁', 'cra', 'i', 'g', '▁mun', 'die', '.', '▁', 'he', '▁', 'stepped', '▁down', '▁as', '▁chairman', '▁of', '▁', 'microsoft', '▁in', '▁febr', 'u', 'ary', '▁2014', '▁and', '▁assumed', '▁', 'a', '▁new', '▁post', '▁as', '▁technology', '▁adviser', '▁to', '▁support', '▁the', '▁newly', '▁appointed', '▁ce', 'o', '▁', 's', 'at', 'y', 'a', '▁', 'n', 'a', 'd', 'ella', '.', 'since', '▁1987', ',', '▁', 'he', '▁has', '▁been', '▁included', '▁in', '▁the', '▁for', 'be', 's', '▁list', '▁of', '▁the', '▁world', \"'\", 's', '▁wealth', 'i', 'est', '▁people', '.', '▁from', '▁1995', '▁to', '▁2017,', '▁', 'he', '▁held', '▁the', '▁for', 'be', 's', '▁title', '▁of', '▁the', '▁riches', 't', '▁person', '▁in', '▁the', '▁world', '▁all', '▁but', '▁four', '▁of', '▁those', '▁years', '.', '▁in', '▁', 'o', 'c', 'to', 'ber', '▁2017,', '▁', 'he', '▁was', '▁', 'surpassed', '▁by', '▁amazon', '▁founder', '▁and', '▁ce', 'o', '▁je', 'f', 'f', '▁be', 'z', 'o', 's', ',', '▁who', '▁had', '▁an', '▁estimated', '▁net', '▁worth', '▁of', '▁us', '$', '9', '0.6', '▁billion', '▁', 'compared', '▁to', '▁gates', \"'\", 's', '▁net', '▁worth', '▁of', '▁us', '$', '89', '.', '9', '▁billion', '▁at', '▁the', '▁time', '.', '▁as', '▁of', '▁august', '▁2020', ',', '▁gates', '▁had', '▁an', '▁estimated', '▁net', '▁worth', '▁of', '▁us', '$', '11', '3.7', '▁billion', ',', '▁making', '▁him', '▁the', '▁second', '-', 'we', 'al', 'thi', 'est', '▁person', '▁in', '▁the', '▁world', ',', '▁behind', '▁be', 'z', 'o', 's', '.', 'late', 'r', '▁in', '▁his', '▁career', '▁and', '▁since', '▁leaving', '▁day', '-', 'to', '-', 'day', '▁operations', '▁at', '▁', 'microsoft', '▁in', '▁2008', ',', '▁gates', '▁has', '▁pursue', 'd', '▁', 'a', '▁number', '▁of', '▁', 'phil', 'an', 'thro', 'pic', '▁endeavor', 's', '.', '▁', 'he', '▁has', '▁given', '▁si', 'z', 'able', '▁amounts', '▁of', '▁money', '▁to', '▁various', '▁charitable', '▁organizations', '▁and', '▁scientific', '▁research', '▁programs', '▁through', '▁the', '▁bill', '▁', '&', '▁me', 'lind', 'a', '▁gates', '▁foundation', ',', '▁reported', '▁to', '▁be', '▁the', '▁world', \"'\", 's', '▁largest', '▁private', '▁charity', '.', '▁in', '▁2009', ',', '▁gates', '▁and', '▁war', 'ren', '▁buffet', 't', '▁founded', '▁the', '▁giving', '▁pledge', ',', '▁where', 'by', '▁they', '▁and', '▁other', '▁billion', 'aires', '▁pledge', '▁to', '▁give', '▁at', '▁least', '▁half', '▁of', '▁their', '▁wealth', '▁to', '▁', 'phil', 'an', 'thro', 'p', 'y', '.', '▁query', '▁', ':', '▁has', '▁gates', '▁donated', '▁to', '▁charity', '▁', '?']\n",
      "\n",
      "PREDICTION\n",
      "yes\n",
      "\n",
      "\n",
      "\n",
      "\n",
      "INPUT TEXT\n",
      "context : born and raised in seattle, washington, gates co-founded microsoft with childhood friend paul allen in 1975, in albuquerque, new mexico; it went on to become the world's largest personal computer software company. gates led the company as chairman and ceo until stepping down as ceo in january 2000, but he remained chairman and became chief software architect. during the late 1990s, gates had been criticized for his business tactics, which have been considered anti-competitive. this opinion has been upheld by numerous court rulings. in june 2006, gates announced that he would be transitioning to a part-time role at microsoft and full-time work at the bill & melinda gates foundation, the private charitable foundation that he and his wife, melinda gates, established in 2000. he gradually transferred his duties to ray ozzie and craig mundie. he stepped down as chairman of microsoft in february 2014 and assumed a new post as technology adviser to support the newly appointed ceo satya nadella.since 1987, he has been included in the forbes list of the world's wealthiest people. from 1995 to 2017, he held the forbes title of the richest person in the world all but four of those years. in october 2017, he was surpassed by amazon founder and ceo jeff bezos, who had an estimated net worth of us$90.6 billion compared to gates's net worth of us$89.9 billion at the time. as of august 2020, gates had an estimated net worth of us$113.7 billion, making him the second-wealthiest person in the world, behind bezos.later in his career and since leaving day-to-day operations at microsoft in 2008, gates has pursued a number of philanthropic endeavors. he has given sizable amounts of money to various charitable organizations and scientific research programs through the bill & melinda gates foundation, reported to be the world's largest private charity. in 2009, gates and warren buffett founded the giving pledge, whereby they and other billionaires pledge to give at least half of their wealth to philanthropy. query : what is the giving pledge ?\n",
      "\n",
      "INPUT TOKENS\n",
      "['▁context', '▁', ':', '▁born', '▁and', '▁raised', '▁in', '▁sea', 'ttle', ',', '▁wash', 'ington', ',', '▁gates', '▁co', '-', 'founded', '▁', 'microsoft', '▁with', '▁childhood', '▁friend', '▁pa', 'ul', '▁allen', '▁in', '▁1975', ',', '▁in', '▁alb', 'u', 'que', 'r', 'que', ',', '▁new', '▁me', 'x', 'ico', ';', '▁it', '▁went', '▁on', '▁to', '▁become', '▁the', '▁world', \"'\", 's', '▁largest', '▁personal', '▁computer', '▁software', '▁company', '.', '▁gates', '▁led', '▁the', '▁company', '▁as', '▁chairman', '▁and', '▁ce', 'o', '▁until', '▁', 'stepping', '▁down', '▁as', '▁ce', 'o', '▁in', '▁', 'jan', 'u', 'ary', '▁2000', ',', '▁but', '▁', 'he', '▁', 'remained', '▁chairman', '▁and', '▁became', '▁chief', '▁software', '▁architect', '.', '▁during', '▁the', '▁late', '▁1990', 's', ',', '▁gates', '▁had', '▁been', '▁', 'criticized', '▁for', '▁his', '▁business', '▁tactics', ',', '▁which', '▁have', '▁been', '▁considered', '▁anti', '-', 'com', 'petit', 'ive', '.', '▁this', '▁opinion', '▁has', '▁been', '▁up', 'held', '▁by', '▁numerous', '▁court', '▁ruling', 's', '.', '▁in', '▁', 'jun', 'e', '▁2006', ',', '▁gates', '▁announced', '▁that', '▁', 'he', '▁would', '▁be', '▁transition', 'ing', '▁to', '▁', 'a', '▁part', '-', 'time', '▁role', '▁at', '▁', 'microsoft', '▁and', '▁full', '-', 'time', '▁work', '▁at', '▁the', '▁bill', '▁', '&', '▁me', 'lind', 'a', '▁gates', '▁foundation', ',', '▁the', '▁private', '▁charitable', '▁foundation', '▁that', '▁', 'he', '▁and', '▁his', '▁wife', ',', '▁me', 'lind', 'a', '▁gates', ',', '▁established', '▁in', '▁2000', '.', '▁', 'he', '▁gradually', '▁transferred', '▁his', '▁duties', '▁to', '▁', 'ray', '▁', 'o', 'zzi', 'e', '▁and', '▁', 'cra', 'i', 'g', '▁mun', 'die', '.', '▁', 'he', '▁', 'stepped', '▁down', '▁as', '▁chairman', '▁of', '▁', 'microsoft', '▁in', '▁febr', 'u', 'ary', '▁2014', '▁and', '▁assumed', '▁', 'a', '▁new', '▁post', '▁as', '▁technology', '▁adviser', '▁to', '▁support', '▁the', '▁newly', '▁appointed', '▁ce', 'o', '▁', 's', 'at', 'y', 'a', '▁', 'n', 'a', 'd', 'ella', '.', 'since', '▁1987', ',', '▁', 'he', '▁has', '▁been', '▁included', '▁in', '▁the', '▁for', 'be', 's', '▁list', '▁of', '▁the', '▁world', \"'\", 's', '▁wealth', 'i', 'est', '▁people', '.', '▁from', '▁1995', '▁to', '▁2017,', '▁', 'he', '▁held', '▁the', '▁for', 'be', 's', '▁title', '▁of', '▁the', '▁riches', 't', '▁person', '▁in', '▁the', '▁world', '▁all', '▁but', '▁four', '▁of', '▁those', '▁years', '.', '▁in', '▁', 'o', 'c', 'to', 'ber', '▁2017,', '▁', 'he', '▁was', '▁', 'surpassed', '▁by', '▁amazon', '▁founder', '▁and', '▁ce', 'o', '▁je', 'f', 'f', '▁be', 'z', 'o', 's', ',', '▁who', '▁had', '▁an', '▁estimated', '▁net', '▁worth', '▁of', '▁us', '$', '9', '0.6', '▁billion', '▁', 'compared', '▁to', '▁gates', \"'\", 's', '▁net', '▁worth', '▁of', '▁us', '$', '89', '.', '9', '▁billion', '▁at', '▁the', '▁time', '.', '▁as', '▁of', '▁august', '▁2020', ',', '▁gates', '▁had', '▁an', '▁estimated', '▁net', '▁worth', '▁of', '▁us', '$', '11', '3.7', '▁billion', ',', '▁making', '▁him', '▁the', '▁second', '-', 'we', 'al', 'thi', 'est', '▁person', '▁in', '▁the', '▁world', ',', '▁behind', '▁be', 'z', 'o', 's', '.', 'late', 'r', '▁in', '▁his', '▁career', '▁and', '▁since', '▁leaving', '▁day', '-', 'to', '-', 'day', '▁operations', '▁at', '▁', 'microsoft', '▁in', '▁2008', ',', '▁gates', '▁has', '▁pursue', 'd', '▁', 'a', '▁number', '▁of', '▁', 'phil', 'an', 'thro', 'pic', '▁endeavor', 's', '.', '▁', 'he', '▁has', '▁given', '▁si', 'z', 'able', '▁amounts', '▁of', '▁money', '▁to', '▁various', '▁charitable', '▁organizations', '▁and', '▁scientific', '▁research', '▁programs', '▁through', '▁the', '▁bill', '▁', '&', '▁me', 'lind', 'a', '▁gates', '▁foundation', ',', '▁reported', '▁to', '▁be', '▁the', '▁world', \"'\", 's', '▁largest', '▁private', '▁charity', '.', '▁in', '▁2009', ',', '▁gates', '▁and', '▁war', 'ren', '▁buffet', 't', '▁founded', '▁the', '▁giving', '▁pledge', ',', '▁where', 'by', '▁they', '▁and', '▁other', '▁billion', 'aires', '▁pledge', '▁to', '▁give', '▁at', '▁least', '▁half', '▁of', '▁their', '▁wealth', '▁to', '▁', 'phil', 'an', 'thro', 'p', 'y', '.', '▁query', '▁', ':', '▁what', '▁is', '▁the', '▁giving', '▁pledge', '▁', '?']\n",
      "\n",
      "PREDICTION\n",
      "to give at least half of their wealth to philanthropy.\n",
      "\n",
      "\n",
      "\n",
      "\n",
      "INPUT TEXT\n",
      "context : born and raised in seattle, washington, gates co-founded microsoft with childhood friend paul allen in 1975, in albuquerque, new mexico; it went on to become the world's largest personal computer software company. gates led the company as chairman and ceo until stepping down as ceo in january 2000, but he remained chairman and became chief software architect. during the late 1990s, gates had been criticized for his business tactics, which have been considered anti-competitive. this opinion has been upheld by numerous court rulings. in june 2006, gates announced that he would be transitioning to a part-time role at microsoft and full-time work at the bill & melinda gates foundation, the private charitable foundation that he and his wife, melinda gates, established in 2000. he gradually transferred his duties to ray ozzie and craig mundie. he stepped down as chairman of microsoft in february 2014 and assumed a new post as technology adviser to support the newly appointed ceo satya nadella.since 1987, he has been included in the forbes list of the world's wealthiest people. from 1995 to 2017, he held the forbes title of the richest person in the world all but four of those years. in october 2017, he was surpassed by amazon founder and ceo jeff bezos, who had an estimated net worth of us$90.6 billion compared to gates's net worth of us$89.9 billion at the time. as of august 2020, gates had an estimated net worth of us$113.7 billion, making him the second-wealthiest person in the world, behind bezos.later in his career and since leaving day-to-day operations at microsoft in 2008, gates has pursued a number of philanthropic endeavors. he has given sizable amounts of money to various charitable organizations and scientific research programs through the bill & melinda gates foundation, reported to be the world's largest private charity. in 2009, gates and warren buffett founded the giving pledge, whereby they and other billionaires pledge to give at least half of their wealth to philanthropy. query : how wealthy is jeff bezos ?\n",
      "\n",
      "INPUT TOKENS\n",
      "['▁context', '▁', ':', '▁born', '▁and', '▁raised', '▁in', '▁sea', 'ttle', ',', '▁wash', 'ington', ',', '▁gates', '▁co', '-', 'founded', '▁', 'microsoft', '▁with', '▁childhood', '▁friend', '▁pa', 'ul', '▁allen', '▁in', '▁1975', ',', '▁in', '▁alb', 'u', 'que', 'r', 'que', ',', '▁new', '▁me', 'x', 'ico', ';', '▁it', '▁went', '▁on', '▁to', '▁become', '▁the', '▁world', \"'\", 's', '▁largest', '▁personal', '▁computer', '▁software', '▁company', '.', '▁gates', '▁led', '▁the', '▁company', '▁as', '▁chairman', '▁and', '▁ce', 'o', '▁until', '▁', 'stepping', '▁down', '▁as', '▁ce', 'o', '▁in', '▁', 'jan', 'u', 'ary', '▁2000', ',', '▁but', '▁', 'he', '▁', 'remained', '▁chairman', '▁and', '▁became', '▁chief', '▁software', '▁architect', '.', '▁during', '▁the', '▁late', '▁1990', 's', ',', '▁gates', '▁had', '▁been', '▁', 'criticized', '▁for', '▁his', '▁business', '▁tactics', ',', '▁which', '▁have', '▁been', '▁considered', '▁anti', '-', 'com', 'petit', 'ive', '.', '▁this', '▁opinion', '▁has', '▁been', '▁up', 'held', '▁by', '▁numerous', '▁court', '▁ruling', 's', '.', '▁in', '▁', 'jun', 'e', '▁2006', ',', '▁gates', '▁announced', '▁that', '▁', 'he', '▁would', '▁be', '▁transition', 'ing', '▁to', '▁', 'a', '▁part', '-', 'time', '▁role', '▁at', '▁', 'microsoft', '▁and', '▁full', '-', 'time', '▁work', '▁at', '▁the', '▁bill', '▁', '&', '▁me', 'lind', 'a', '▁gates', '▁foundation', ',', '▁the', '▁private', '▁charitable', '▁foundation', '▁that', '▁', 'he', '▁and', '▁his', '▁wife', ',', '▁me', 'lind', 'a', '▁gates', ',', '▁established', '▁in', '▁2000', '.', '▁', 'he', '▁gradually', '▁transferred', '▁his', '▁duties', '▁to', '▁', 'ray', '▁', 'o', 'zzi', 'e', '▁and', '▁', 'cra', 'i', 'g', '▁mun', 'die', '.', '▁', 'he', '▁', 'stepped', '▁down', '▁as', '▁chairman', '▁of', '▁', 'microsoft', '▁in', '▁febr', 'u', 'ary', '▁2014', '▁and', '▁assumed', '▁', 'a', '▁new', '▁post', '▁as', '▁technology', '▁adviser', '▁to', '▁support', '▁the', '▁newly', '▁appointed', '▁ce', 'o', '▁', 's', 'at', 'y', 'a', '▁', 'n', 'a', 'd', 'ella', '.', 'since', '▁1987', ',', '▁', 'he', '▁has', '▁been', '▁included', '▁in', '▁the', '▁for', 'be', 's', '▁list', '▁of', '▁the', '▁world', \"'\", 's', '▁wealth', 'i', 'est', '▁people', '.', '▁from', '▁1995', '▁to', '▁2017,', '▁', 'he', '▁held', '▁the', '▁for', 'be', 's', '▁title', '▁of', '▁the', '▁riches', 't', '▁person', '▁in', '▁the', '▁world', '▁all', '▁but', '▁four', '▁of', '▁those', '▁years', '.', '▁in', '▁', 'o', 'c', 'to', 'ber', '▁2017,', '▁', 'he', '▁was', '▁', 'surpassed', '▁by', '▁amazon', '▁founder', '▁and', '▁ce', 'o', '▁je', 'f', 'f', '▁be', 'z', 'o', 's', ',', '▁who', '▁had', '▁an', '▁estimated', '▁net', '▁worth', '▁of', '▁us', '$', '9', '0.6', '▁billion', '▁', 'compared', '▁to', '▁gates', \"'\", 's', '▁net', '▁worth', '▁of', '▁us', '$', '89', '.', '9', '▁billion', '▁at', '▁the', '▁time', '.', '▁as', '▁of', '▁august', '▁2020', ',', '▁gates', '▁had', '▁an', '▁estimated', '▁net', '▁worth', '▁of', '▁us', '$', '11', '3.7', '▁billion', ',', '▁making', '▁him', '▁the', '▁second', '-', 'we', 'al', 'thi', 'est', '▁person', '▁in', '▁the', '▁world', ',', '▁behind', '▁be', 'z', 'o', 's', '.', 'late', 'r', '▁in', '▁his', '▁career', '▁and', '▁since', '▁leaving', '▁day', '-', 'to', '-', 'day', '▁operations', '▁at', '▁', 'microsoft', '▁in', '▁2008', ',', '▁gates', '▁has', '▁pursue', 'd', '▁', 'a', '▁number', '▁of', '▁', 'phil', 'an', 'thro', 'pic', '▁endeavor', 's', '.', '▁', 'he', '▁has', '▁given', '▁si', 'z', 'able', '▁amounts', '▁of', '▁money', '▁to', '▁various', '▁charitable', '▁organizations', '▁and', '▁scientific', '▁research', '▁programs', '▁through', '▁the', '▁bill', '▁', '&', '▁me', 'lind', 'a', '▁gates', '▁foundation', ',', '▁reported', '▁to', '▁be', '▁the', '▁world', \"'\", 's', '▁largest', '▁private', '▁charity', '.', '▁in', '▁2009', ',', '▁gates', '▁and', '▁war', 'ren', '▁buffet', 't', '▁founded', '▁the', '▁giving', '▁pledge', ',', '▁where', 'by', '▁they', '▁and', '▁other', '▁billion', 'aires', '▁pledge', '▁to', '▁give', '▁at', '▁least', '▁half', '▁of', '▁their', '▁wealth', '▁to', '▁', 'phil', 'an', 'thro', 'p', 'y', '.', '▁query', '▁', ':', '▁how', '▁wealthy', '▁is', '▁je', 'f', 'f', '▁be', 'z', 'o', 's', '▁', '?']\n",
      "\n",
      "PREDICTION\n",
      "us$90.6 billion\n",
      "\n",
      "\n",
      "\n",
      "\n",
      "INPUT TEXT\n",
      "context : born and raised in seattle, washington, gates co-founded microsoft with childhood friend paul allen in 1975, in albuquerque, new mexico; it went on to become the world's largest personal computer software company. gates led the company as chairman and ceo until stepping down as ceo in january 2000, but he remained chairman and became chief software architect. during the late 1990s, gates had been criticized for his business tactics, which have been considered anti-competitive. this opinion has been upheld by numerous court rulings. in june 2006, gates announced that he would be transitioning to a part-time role at microsoft and full-time work at the bill & melinda gates foundation, the private charitable foundation that he and his wife, melinda gates, established in 2000. he gradually transferred his duties to ray ozzie and craig mundie. he stepped down as chairman of microsoft in february 2014 and assumed a new post as technology adviser to support the newly appointed ceo satya nadella.since 1987, he has been included in the forbes list of the world's wealthiest people. from 1995 to 2017, he held the forbes title of the richest person in the world all but four of those years. in october 2017, he was surpassed by amazon founder and ceo jeff bezos, who had an estimated net worth of us$90.6 billion compared to gates's net worth of us$89.9 billion at the time. as of august 2020, gates had an estimated net worth of us$113.7 billion, making him the second-wealthiest person in the world, behind bezos.later in his career and since leaving day-to-day operations at microsoft in 2008, gates has pursued a number of philanthropic endeavors. he has given sizable amounts of money to various charitable organizations and scientific research programs through the bill & melinda gates foundation, reported to be the world's largest private charity. in 2009, gates and warren buffett founded the giving pledge, whereby they and other billionaires pledge to give at least half of their wealth to philanthropy. query : gates's wife\n",
      "\n",
      "INPUT TOKENS\n",
      "['▁context', '▁', ':', '▁born', '▁and', '▁raised', '▁in', '▁sea', 'ttle', ',', '▁wash', 'ington', ',', '▁gates', '▁co', '-', 'founded', '▁', 'microsoft', '▁with', '▁childhood', '▁friend', '▁pa', 'ul', '▁allen', '▁in', '▁1975', ',', '▁in', '▁alb', 'u', 'que', 'r', 'que', ',', '▁new', '▁me', 'x', 'ico', ';', '▁it', '▁went', '▁on', '▁to', '▁become', '▁the', '▁world', \"'\", 's', '▁largest', '▁personal', '▁computer', '▁software', '▁company', '.', '▁gates', '▁led', '▁the', '▁company', '▁as', '▁chairman', '▁and', '▁ce', 'o', '▁until', '▁', 'stepping', '▁down', '▁as', '▁ce', 'o', '▁in', '▁', 'jan', 'u', 'ary', '▁2000', ',', '▁but', '▁', 'he', '▁', 'remained', '▁chairman', '▁and', '▁became', '▁chief', '▁software', '▁architect', '.', '▁during', '▁the', '▁late', '▁1990', 's', ',', '▁gates', '▁had', '▁been', '▁', 'criticized', '▁for', '▁his', '▁business', '▁tactics', ',', '▁which', '▁have', '▁been', '▁considered', '▁anti', '-', 'com', 'petit', 'ive', '.', '▁this', '▁opinion', '▁has', '▁been', '▁up', 'held', '▁by', '▁numerous', '▁court', '▁ruling', 's', '.', '▁in', '▁', 'jun', 'e', '▁2006', ',', '▁gates', '▁announced', '▁that', '▁', 'he', '▁would', '▁be', '▁transition', 'ing', '▁to', '▁', 'a', '▁part', '-', 'time', '▁role', '▁at', '▁', 'microsoft', '▁and', '▁full', '-', 'time', '▁work', '▁at', '▁the', '▁bill', '▁', '&', '▁me', 'lind', 'a', '▁gates', '▁foundation', ',', '▁the', '▁private', '▁charitable', '▁foundation', '▁that', '▁', 'he', '▁and', '▁his', '▁wife', ',', '▁me', 'lind', 'a', '▁gates', ',', '▁established', '▁in', '▁2000', '.', '▁', 'he', '▁gradually', '▁transferred', '▁his', '▁duties', '▁to', '▁', 'ray', '▁', 'o', 'zzi', 'e', '▁and', '▁', 'cra', 'i', 'g', '▁mun', 'die', '.', '▁', 'he', '▁', 'stepped', '▁down', '▁as', '▁chairman', '▁of', '▁', 'microsoft', '▁in', '▁febr', 'u', 'ary', '▁2014', '▁and', '▁assumed', '▁', 'a', '▁new', '▁post', '▁as', '▁technology', '▁adviser', '▁to', '▁support', '▁the', '▁newly', '▁appointed', '▁ce', 'o', '▁', 's', 'at', 'y', 'a', '▁', 'n', 'a', 'd', 'ella', '.', 'since', '▁1987', ',', '▁', 'he', '▁has', '▁been', '▁included', '▁in', '▁the', '▁for', 'be', 's', '▁list', '▁of', '▁the', '▁world', \"'\", 's', '▁wealth', 'i', 'est', '▁people', '.', '▁from', '▁1995', '▁to', '▁2017,', '▁', 'he', '▁held', '▁the', '▁for', 'be', 's', '▁title', '▁of', '▁the', '▁riches', 't', '▁person', '▁in', '▁the', '▁world', '▁all', '▁but', '▁four', '▁of', '▁those', '▁years', '.', '▁in', '▁', 'o', 'c', 'to', 'ber', '▁2017,', '▁', 'he', '▁was', '▁', 'surpassed', '▁by', '▁amazon', '▁founder', '▁and', '▁ce', 'o', '▁je', 'f', 'f', '▁be', 'z', 'o', 's', ',', '▁who', '▁had', '▁an', '▁estimated', '▁net', '▁worth', '▁of', '▁us', '$', '9', '0.6', '▁billion', '▁', 'compared', '▁to', '▁gates', \"'\", 's', '▁net', '▁worth', '▁of', '▁us', '$', '89', '.', '9', '▁billion', '▁at', '▁the', '▁time', '.', '▁as', '▁of', '▁august', '▁2020', ',', '▁gates', '▁had', '▁an', '▁estimated', '▁net', '▁worth', '▁of', '▁us', '$', '11', '3.7', '▁billion', ',', '▁making', '▁him', '▁the', '▁second', '-', 'we', 'al', 'thi', 'est', '▁person', '▁in', '▁the', '▁world', ',', '▁behind', '▁be', 'z', 'o', 's', '.', 'late', 'r', '▁in', '▁his', '▁career', '▁and', '▁since', '▁leaving', '▁day', '-', 'to', '-', 'day', '▁operations', '▁at', '▁', 'microsoft', '▁in', '▁2008', ',', '▁gates', '▁has', '▁pursue', 'd', '▁', 'a', '▁number', '▁of', '▁', 'phil', 'an', 'thro', 'pic', '▁endeavor', 's', '.', '▁', 'he', '▁has', '▁given', '▁si', 'z', 'able', '▁amounts', '▁of', '▁money', '▁to', '▁various', '▁charitable', '▁organizations', '▁and', '▁scientific', '▁research', '▁programs', '▁through', '▁the', '▁bill', '▁', '&', '▁me', 'lind', 'a', '▁gates', '▁foundation', ',', '▁reported', '▁to', '▁be', '▁the', '▁world', \"'\", 's', '▁largest', '▁private', '▁charity', '.', '▁in', '▁2009', ',', '▁gates', '▁and', '▁war', 'ren', '▁buffet', 't', '▁founded', '▁the', '▁giving', '▁pledge', ',', '▁where', 'by', '▁they', '▁and', '▁other', '▁billion', 'aires', '▁pledge', '▁to', '▁give', '▁at', '▁least', '▁half', '▁of', '▁their', '▁wealth', '▁to', '▁', 'phil', 'an', 'thro', 'p', 'y', '.', '▁query', '▁', ':', '▁gates', \"'\", 's', '▁wife']\n",
      "\n",
      "PREDICTION\n",
      "melinda gates\n",
      "\n",
      "\n",
      "\n",
      "\n",
      "INPUT TEXT\n",
      "context : born and raised in seattle, washington, gates co-founded microsoft with childhood friend paul allen in 1975, in albuquerque, new mexico; it went on to become the world's largest personal computer software company. gates led the company as chairman and ceo until stepping down as ceo in january 2000, but he remained chairman and became chief software architect. during the late 1990s, gates had been criticized for his business tactics, which have been considered anti-competitive. this opinion has been upheld by numerous court rulings. in june 2006, gates announced that he would be transitioning to a part-time role at microsoft and full-time work at the bill & melinda gates foundation, the private charitable foundation that he and his wife, melinda gates, established in 2000. he gradually transferred his duties to ray ozzie and craig mundie. he stepped down as chairman of microsoft in february 2014 and assumed a new post as technology adviser to support the newly appointed ceo satya nadella.since 1987, he has been included in the forbes list of the world's wealthiest people. from 1995 to 2017, he held the forbes title of the richest person in the world all but four of those years. in october 2017, he was surpassed by amazon founder and ceo jeff bezos, who had an estimated net worth of us$90.6 billion compared to gates's net worth of us$89.9 billion at the time. as of august 2020, gates had an estimated net worth of us$113.7 billion, making him the second-wealthiest person in the world, behind bezos.later in his career and since leaving day-to-day operations at microsoft in 2008, gates has pursued a number of philanthropic endeavors. he has given sizable amounts of money to various charitable organizations and scientific research programs through the bill & melinda gates foundation, reported to be the world's largest private charity. in 2009, gates and warren buffett founded the giving pledge, whereby they and other billionaires pledge to give at least half of their wealth to philanthropy. query : who is the newly appointed ceo of microsoft ?\n",
      "\n",
      "INPUT TOKENS\n",
      "['▁context', '▁', ':', '▁born', '▁and', '▁raised', '▁in', '▁sea', 'ttle', ',', '▁wash', 'ington', ',', '▁gates', '▁co', '-', 'founded', '▁', 'microsoft', '▁with', '▁childhood', '▁friend', '▁pa', 'ul', '▁allen', '▁in', '▁1975', ',', '▁in', '▁alb', 'u', 'que', 'r', 'que', ',', '▁new', '▁me', 'x', 'ico', ';', '▁it', '▁went', '▁on', '▁to', '▁become', '▁the', '▁world', \"'\", 's', '▁largest', '▁personal', '▁computer', '▁software', '▁company', '.', '▁gates', '▁led', '▁the', '▁company', '▁as', '▁chairman', '▁and', '▁ce', 'o', '▁until', '▁', 'stepping', '▁down', '▁as', '▁ce', 'o', '▁in', '▁', 'jan', 'u', 'ary', '▁2000', ',', '▁but', '▁', 'he', '▁', 'remained', '▁chairman', '▁and', '▁became', '▁chief', '▁software', '▁architect', '.', '▁during', '▁the', '▁late', '▁1990', 's', ',', '▁gates', '▁had', '▁been', '▁', 'criticized', '▁for', '▁his', '▁business', '▁tactics', ',', '▁which', '▁have', '▁been', '▁considered', '▁anti', '-', 'com', 'petit', 'ive', '.', '▁this', '▁opinion', '▁has', '▁been', '▁up', 'held', '▁by', '▁numerous', '▁court', '▁ruling', 's', '.', '▁in', '▁', 'jun', 'e', '▁2006', ',', '▁gates', '▁announced', '▁that', '▁', 'he', '▁would', '▁be', '▁transition', 'ing', '▁to', '▁', 'a', '▁part', '-', 'time', '▁role', '▁at', '▁', 'microsoft', '▁and', '▁full', '-', 'time', '▁work', '▁at', '▁the', '▁bill', '▁', '&', '▁me', 'lind', 'a', '▁gates', '▁foundation', ',', '▁the', '▁private', '▁charitable', '▁foundation', '▁that', '▁', 'he', '▁and', '▁his', '▁wife', ',', '▁me', 'lind', 'a', '▁gates', ',', '▁established', '▁in', '▁2000', '.', '▁', 'he', '▁gradually', '▁transferred', '▁his', '▁duties', '▁to', '▁', 'ray', '▁', 'o', 'zzi', 'e', '▁and', '▁', 'cra', 'i', 'g', '▁mun', 'die', '.', '▁', 'he', '▁', 'stepped', '▁down', '▁as', '▁chairman', '▁of', '▁', 'microsoft', '▁in', '▁febr', 'u', 'ary', '▁2014', '▁and', '▁assumed', '▁', 'a', '▁new', '▁post', '▁as', '▁technology', '▁adviser', '▁to', '▁support', '▁the', '▁newly', '▁appointed', '▁ce', 'o', '▁', 's', 'at', 'y', 'a', '▁', 'n', 'a', 'd', 'ella', '.', 'since', '▁1987', ',', '▁', 'he', '▁has', '▁been', '▁included', '▁in', '▁the', '▁for', 'be', 's', '▁list', '▁of', '▁the', '▁world', \"'\", 's', '▁wealth', 'i', 'est', '▁people', '.', '▁from', '▁1995', '▁to', '▁2017,', '▁', 'he', '▁held', '▁the', '▁for', 'be', 's', '▁title', '▁of', '▁the', '▁riches', 't', '▁person', '▁in', '▁the', '▁world', '▁all', '▁but', '▁four', '▁of', '▁those', '▁years', '.', '▁in', '▁', 'o', 'c', 'to', 'ber', '▁2017,', '▁', 'he', '▁was', '▁', 'surpassed', '▁by', '▁amazon', '▁founder', '▁and', '▁ce', 'o', '▁je', 'f', 'f', '▁be', 'z', 'o', 's', ',', '▁who', '▁had', '▁an', '▁estimated', '▁net', '▁worth', '▁of', '▁us', '$', '9', '0.6', '▁billion', '▁', 'compared', '▁to', '▁gates', \"'\", 's', '▁net', '▁worth', '▁of', '▁us', '$', '89', '.', '9', '▁billion', '▁at', '▁the', '▁time', '.', '▁as', '▁of', '▁august', '▁2020', ',', '▁gates', '▁had', '▁an', '▁estimated', '▁net', '▁worth', '▁of', '▁us', '$', '11', '3.7', '▁billion', ',', '▁making', '▁him', '▁the', '▁second', '-', 'we', 'al', 'thi', 'est', '▁person', '▁in', '▁the', '▁world', ',', '▁behind', '▁be', 'z', 'o', 's', '.', 'late', 'r', '▁in', '▁his', '▁career', '▁and', '▁since', '▁leaving', '▁day', '-', 'to', '-', 'day', '▁operations', '▁at', '▁', 'microsoft', '▁in', '▁2008', ',', '▁gates', '▁has', '▁pursue', 'd', '▁', 'a', '▁number', '▁of', '▁', 'phil', 'an', 'thro', 'pic', '▁endeavor', 's', '.', '▁', 'he', '▁has', '▁given', '▁si', 'z', 'able', '▁amounts', '▁of', '▁money', '▁to', '▁various', '▁charitable', '▁organizations', '▁and', '▁scientific', '▁research', '▁programs', '▁through', '▁the', '▁bill', '▁', '&', '▁me', 'lind', 'a', '▁gates', '▁foundation', ',', '▁reported', '▁to', '▁be', '▁the', '▁world', \"'\", 's', '▁largest', '▁private', '▁charity', '.', '▁in', '▁2009', ',', '▁gates', '▁and', '▁war', 'ren', '▁buffet', 't', '▁founded', '▁the', '▁giving', '▁pledge', ',', '▁where', 'by', '▁they', '▁and', '▁other', '▁billion', 'aires', '▁pledge', '▁to', '▁give', '▁at', '▁least', '▁half', '▁of', '▁their', '▁wealth', '▁to', '▁', 'phil', 'an', 'thro', 'p', 'y', '.', '▁query', '▁', ':', '▁who', '▁is', '▁the', '▁newly', '▁appointed', '▁ce', 'o', '▁of', '▁', 'microsoft', '▁', '?']\n",
      "\n",
      "PREDICTION\n",
      "satya nadella\n",
      "\n",
      "\n",
      "\n",
      "\n"
     ]
    }
   ],
   "source": [
    "for q in QUERIES:\n",
    "    text = \"context : \" + CONTEXT.lower() + \" query : \" + q.lower()\n",
    "    tokens = tokenizer.tokenize(text)\n",
    "    \n",
    "    print(f\"INPUT TEXT\\n{text}\\n\")\n",
    "    print(f\"INPUT TOKENS\\n{tokens}\\n\")\n",
    "    \n",
    "    pred_tokens = translate_sentence(tokenizer.convert_tokens_to_ids(tokens), SRC, TRG, models)\n",
    "    \n",
    "    final_result = str_result(tokenizer.convert_ids_to_tokens(pred_tokens))\n",
    "    print(f\"PREDICTION\\n{final_result}\\n\\n\\n\\n\")"
   ]
  },
  {
   "cell_type": "code",
   "execution_count": null,
   "metadata": {},
   "outputs": [],
   "source": []
  },
  {
   "cell_type": "code",
   "execution_count": null,
   "metadata": {},
   "outputs": [],
   "source": []
  }
 ],
 "metadata": {
  "kernelspec": {
   "display_name": "Python 3",
   "language": "python",
   "name": "python3"
  },
  "language_info": {
   "codemirror_mode": {
    "name": "ipython",
    "version": 3
   },
   "file_extension": ".py",
   "mimetype": "text/x-python",
   "name": "python",
   "nbconvert_exporter": "python",
   "pygments_lexer": "ipython3",
   "version": "3.8.3"
  }
 },
 "nbformat": 4,
 "nbformat_minor": 4
}

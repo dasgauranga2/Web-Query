{
 "cells": [
  {
   "cell_type": "code",
   "execution_count": 1,
   "metadata": {
    "colab": {},
    "colab_type": "code",
    "executionInfo": {
     "elapsed": 6399,
     "status": "ok",
     "timestamp": 1598618962576,
     "user": {
      "displayName": "Gauranga Das",
      "photoUrl": "https://lh3.googleusercontent.com/a-/AOh14Ghark55sEd5aQAxm0p2QpHbfOx9t5trkpKOYuC6TA=s64",
      "userId": "14540594540746384872"
     },
     "user_tz": -330
    },
    "id": "9Y4NnQCuaTIO"
   },
   "outputs": [],
   "source": [
    "import torch\n",
    "import torch.nn as nn\n",
    "\n",
    "import random\n",
    "\n",
    "from transformers import BertTokenizer, BertModel\n",
    "from torchtext import data"
   ]
  },
  {
   "cell_type": "code",
   "execution_count": 2,
   "metadata": {
    "colab": {},
    "colab_type": "code",
    "executionInfo": {
     "elapsed": 6223,
     "status": "ok",
     "timestamp": 1598618962582,
     "user": {
      "displayName": "Gauranga Das",
      "photoUrl": "https://lh3.googleusercontent.com/a-/AOh14Ghark55sEd5aQAxm0p2QpHbfOx9t5trkpKOYuC6TA=s64",
      "userId": "14540594540746384872"
     },
     "user_tz": -330
    },
    "id": "7x1ec_ZYacbP"
   },
   "outputs": [],
   "source": [
    "tokenizer = BertTokenizer.from_pretrained('bert-base-uncased')"
   ]
  },
  {
   "cell_type": "code",
   "execution_count": 3,
   "metadata": {
    "colab": {
     "base_uri": "https://localhost:8080/",
     "height": 35
    },
    "colab_type": "code",
    "executionInfo": {
     "elapsed": 6070,
     "status": "ok",
     "timestamp": 1598618962583,
     "user": {
      "displayName": "Gauranga Das",
      "photoUrl": "https://lh3.googleusercontent.com/a-/AOh14Ghark55sEd5aQAxm0p2QpHbfOx9t5trkpKOYuC6TA=s64",
      "userId": "14540594540746384872"
     },
     "user_tz": -330
    },
    "id": "hXaGRfvgas2r",
    "outputId": "b3071328-467a-4563-e2da-61ded3c0c44f"
   },
   "outputs": [
    {
     "data": {
      "text/plain": [
       "30522"
      ]
     },
     "execution_count": 3,
     "metadata": {},
     "output_type": "execute_result"
    }
   ],
   "source": [
    "len(tokenizer.vocab)"
   ]
  },
  {
   "cell_type": "code",
   "execution_count": 4,
   "metadata": {
    "colab": {
     "base_uri": "https://localhost:8080/",
     "height": 35
    },
    "colab_type": "code",
    "executionInfo": {
     "elapsed": 5845,
     "status": "ok",
     "timestamp": 1598618962584,
     "user": {
      "displayName": "Gauranga Das",
      "photoUrl": "https://lh3.googleusercontent.com/a-/AOh14Ghark55sEd5aQAxm0p2QpHbfOx9t5trkpKOYuC6TA=s64",
      "userId": "14540594540746384872"
     },
     "user_tz": -330
    },
    "id": "snn2s3m2ati7",
    "outputId": "f35d4205-386f-4dff-c3f5-005a52edbb26"
   },
   "outputs": [
    {
     "name": "stdout",
     "output_type": "stream",
     "text": [
      "['hello', 'world', 'how', 'are', 'you', '?']\n"
     ]
    }
   ],
   "source": [
    "tokens = tokenizer.tokenize('Hello WORLD how ARE yoU?')\n",
    "\n",
    "print(tokens)"
   ]
  },
  {
   "cell_type": "code",
   "execution_count": 5,
   "metadata": {
    "colab": {
     "base_uri": "https://localhost:8080/",
     "height": 35
    },
    "colab_type": "code",
    "executionInfo": {
     "elapsed": 5703,
     "status": "ok",
     "timestamp": 1598618962585,
     "user": {
      "displayName": "Gauranga Das",
      "photoUrl": "https://lh3.googleusercontent.com/a-/AOh14Ghark55sEd5aQAxm0p2QpHbfOx9t5trkpKOYuC6TA=s64",
      "userId": "14540594540746384872"
     },
     "user_tz": -330
    },
    "id": "Lwsr4AoHauqR",
    "outputId": "3412557b-8dcd-4e01-bc0b-105b69c2457d"
   },
   "outputs": [
    {
     "name": "stdout",
     "output_type": "stream",
     "text": [
      "[7592, 2088, 2129, 2024, 2017, 1029]\n"
     ]
    }
   ],
   "source": [
    "indexes = tokenizer.convert_tokens_to_ids(tokens)\n",
    "\n",
    "print(indexes)"
   ]
  },
  {
   "cell_type": "code",
   "execution_count": 6,
   "metadata": {
    "colab": {
     "base_uri": "https://localhost:8080/",
     "height": 35
    },
    "colab_type": "code",
    "executionInfo": {
     "elapsed": 5518,
     "status": "ok",
     "timestamp": 1598618962586,
     "user": {
      "displayName": "Gauranga Das",
      "photoUrl": "https://lh3.googleusercontent.com/a-/AOh14Ghark55sEd5aQAxm0p2QpHbfOx9t5trkpKOYuC6TA=s64",
      "userId": "14540594540746384872"
     },
     "user_tz": -330
    },
    "id": "SlhkJ6rqavuk",
    "outputId": "58460855-3ca4-497f-93e0-eb37ce4af7b4"
   },
   "outputs": [
    {
     "name": "stdout",
     "output_type": "stream",
     "text": [
      "[CLS] [SEP] [PAD] [UNK]\n"
     ]
    }
   ],
   "source": [
    "init_token = tokenizer.cls_token\n",
    "eos_token = tokenizer.sep_token\n",
    "pad_token = tokenizer.pad_token\n",
    "unk_token = tokenizer.unk_token\n",
    "\n",
    "print(init_token, eos_token, pad_token, unk_token)"
   ]
  },
  {
   "cell_type": "code",
   "execution_count": 7,
   "metadata": {
    "colab": {
     "base_uri": "https://localhost:8080/",
     "height": 35
    },
    "colab_type": "code",
    "executionInfo": {
     "elapsed": 5361,
     "status": "ok",
     "timestamp": 1598618962587,
     "user": {
      "displayName": "Gauranga Das",
      "photoUrl": "https://lh3.googleusercontent.com/a-/AOh14Ghark55sEd5aQAxm0p2QpHbfOx9t5trkpKOYuC6TA=s64",
      "userId": "14540594540746384872"
     },
     "user_tz": -330
    },
    "id": "I2QqvT7KaxP8",
    "outputId": "00b7162d-595e-4304-ac4d-f96254f7906a"
   },
   "outputs": [
    {
     "name": "stdout",
     "output_type": "stream",
     "text": [
      "101 102 0 100\n"
     ]
    }
   ],
   "source": [
    "init_token_idx = tokenizer.convert_tokens_to_ids(init_token)\n",
    "eos_token_idx = tokenizer.convert_tokens_to_ids(eos_token)\n",
    "pad_token_idx = tokenizer.convert_tokens_to_ids(pad_token)\n",
    "unk_token_idx = tokenizer.convert_tokens_to_ids(unk_token)\n",
    "\n",
    "print(init_token_idx, eos_token_idx, pad_token_idx, unk_token_idx)"
   ]
  },
  {
   "cell_type": "code",
   "execution_count": 8,
   "metadata": {
    "colab": {
     "base_uri": "https://localhost:8080/",
     "height": 35
    },
    "colab_type": "code",
    "executionInfo": {
     "elapsed": 5176,
     "status": "ok",
     "timestamp": 1598618962588,
     "user": {
      "displayName": "Gauranga Das",
      "photoUrl": "https://lh3.googleusercontent.com/a-/AOh14Ghark55sEd5aQAxm0p2QpHbfOx9t5trkpKOYuC6TA=s64",
      "userId": "14540594540746384872"
     },
     "user_tz": -330
    },
    "id": "vg5-oSL4ayW3",
    "outputId": "eb4e4de6-81ee-469e-8966-085d60ab045c"
   },
   "outputs": [
    {
     "name": "stdout",
     "output_type": "stream",
     "text": [
      "101 102 0 100\n"
     ]
    }
   ],
   "source": [
    "init_token_idx = tokenizer.cls_token_id\n",
    "eos_token_idx = tokenizer.sep_token_id\n",
    "pad_token_idx = tokenizer.pad_token_id\n",
    "unk_token_idx = tokenizer.unk_token_id\n",
    "\n",
    "print(init_token_idx, eos_token_idx, pad_token_idx, unk_token_idx)"
   ]
  },
  {
   "cell_type": "code",
   "execution_count": 9,
   "metadata": {
    "colab": {
     "base_uri": "https://localhost:8080/",
     "height": 35
    },
    "colab_type": "code",
    "executionInfo": {
     "elapsed": 5011,
     "status": "ok",
     "timestamp": 1598618962589,
     "user": {
      "displayName": "Gauranga Das",
      "photoUrl": "https://lh3.googleusercontent.com/a-/AOh14Ghark55sEd5aQAxm0p2QpHbfOx9t5trkpKOYuC6TA=s64",
      "userId": "14540594540746384872"
     },
     "user_tz": -330
    },
    "id": "uHR2YXsmazQz",
    "outputId": "2c0643f9-934e-4660-beb5-dfaf59298771"
   },
   "outputs": [
    {
     "name": "stdout",
     "output_type": "stream",
     "text": [
      "512\n"
     ]
    }
   ],
   "source": [
    "max_input_length = tokenizer.max_model_input_sizes['bert-base-uncased']\n",
    "\n",
    "print(max_input_length)"
   ]
  },
  {
   "cell_type": "code",
   "execution_count": 10,
   "metadata": {},
   "outputs": [],
   "source": [
    "class BERTSentiment(nn.Module):\n",
    "    def __init__(self):\n",
    "        \n",
    "        super().__init__()\n",
    "        \n",
    "        self.bert = BertModel.from_pretrained('bert-base-uncased')\n",
    "        \n",
    "        embedding_dim = self.bert.config.to_dict()['hidden_size']\n",
    "\n",
    "        self.output = nn.Linear(embedding_dim, 1)\n",
    "                \n",
    "    def forward(self, text):\n",
    "                \n",
    "        embedded = self.bert(text)[0]\n",
    "        \n",
    "        logits = embedded[:,0,:]\n",
    "        \n",
    "        final_logits = self.output(logits)\n",
    "        \n",
    "        return final_logits"
   ]
  },
  {
   "cell_type": "code",
   "execution_count": null,
   "metadata": {},
   "outputs": [],
   "source": []
  },
  {
   "cell_type": "code",
   "execution_count": null,
   "metadata": {},
   "outputs": [],
   "source": []
  },
  {
   "cell_type": "code",
   "execution_count": null,
   "metadata": {
    "colab": {},
    "colab_type": "code",
    "executionInfo": {
     "elapsed": 1326968,
     "status": "ok",
     "timestamp": 1598620324135,
     "user": {
      "displayName": "Gauranga Das",
      "photoUrl": "https://lh3.googleusercontent.com/a-/AOh14Ghark55sEd5aQAxm0p2QpHbfOx9t5trkpKOYuC6TA=s64",
      "userId": "14540594540746384872"
     },
     "user_tz": -330
    },
    "id": "AGor8SZ1cruR"
   },
   "outputs": [],
   "source": []
  },
  {
   "cell_type": "code",
   "execution_count": null,
   "metadata": {
    "colab": {},
    "colab_type": "code",
    "executionInfo": {
     "elapsed": 1326784,
     "status": "ok",
     "timestamp": 1598620324136,
     "user": {
      "displayName": "Gauranga Das",
      "photoUrl": "https://lh3.googleusercontent.com/a-/AOh14Ghark55sEd5aQAxm0p2QpHbfOx9t5trkpKOYuC6TA=s64",
      "userId": "14540594540746384872"
     },
     "user_tz": -330
    },
    "id": "gMhz-2X0crwh"
   },
   "outputs": [],
   "source": []
  },
  {
   "cell_type": "code",
   "execution_count": 11,
   "metadata": {},
   "outputs": [],
   "source": [
    "models = []\n",
    "\n",
    "for i in range(2):\n",
    "    new_model = BERTSentiment().cuda()\n",
    "    new_model.load_state_dict(torch.load(f'para_rank_model_{i+1}.pt'))\n",
    "    models.append(new_model)"
   ]
  },
  {
   "cell_type": "code",
   "execution_count": 12,
   "metadata": {
    "colab": {},
    "colab_type": "code",
    "executionInfo": {
     "elapsed": 1326581,
     "status": "ok",
     "timestamp": 1598620324137,
     "user": {
      "displayName": "Gauranga Das",
      "photoUrl": "https://lh3.googleusercontent.com/a-/AOh14Ghark55sEd5aQAxm0p2QpHbfOx9t5trkpKOYuC6TA=s64",
      "userId": "14540594540746384872"
     },
     "user_tz": -330
    },
    "id": "pR8pZ72QcQ6z"
   },
   "outputs": [],
   "source": [
    "def predict_sentiment(models, tokenizer, sentence):\n",
    "    for m in models:\n",
    "        m.eval()\n",
    "    \n",
    "    tokens = tokenizer.tokenize(sentence)\n",
    "    tokens = tokens[:max_input_length-2]\n",
    "    indexed = [init_token_idx] + tokenizer.convert_tokens_to_ids(tokens) + [eos_token_idx]\n",
    "    tensor = torch.LongTensor(indexed).cuda()\n",
    "    tensor = tensor.unsqueeze(0)\n",
    "    prediction = torch.sigmoid(models[0](tensor) + models[1](tensor))\n",
    "    return prediction.item()"
   ]
  },
  {
   "cell_type": "code",
   "execution_count": null,
   "metadata": {},
   "outputs": [],
   "source": []
  },
  {
   "cell_type": "code",
   "execution_count": null,
   "metadata": {},
   "outputs": [],
   "source": []
  },
  {
   "cell_type": "code",
   "execution_count": 13,
   "metadata": {},
   "outputs": [],
   "source": [
    "def para_scores(para, question):\n",
    "    lines = para.split('.')\n",
    "    \n",
    "    print(f\"QUESTION : {question}\\n\")\n",
    "    for line in lines[:-1]:\n",
    "        input_text = question + ' [SEP] ' + line.lower()\n",
    "        p = predict_sentiment(models, tokenizer, input_text)\n",
    "\n",
    "        print(f\"LINE : {line}\\nPRED : {p:.4f}\\n\")"
   ]
  },
  {
   "cell_type": "code",
   "execution_count": 14,
   "metadata": {},
   "outputs": [],
   "source": [
    "#question = 'when is ipl held ?'\n",
    "#question = 'who founded ipl ?'\n",
    "\n",
    "#question = 'how much is ipl worth ?'\n",
    "#question = 'how much did ipl contribute to the indian economy ?'\n",
    "\n",
    "#question = 'how many seasons of ipl have been held ?'\n",
    "question = 'who are the current title holder of ipl ?'"
   ]
  },
  {
   "cell_type": "code",
   "execution_count": 15,
   "metadata": {},
   "outputs": [],
   "source": [
    "para = 'There have been twelve seasons of the IPL tournament. The current IPL title holders are the Mumbai Indians, who won the 2019 season. The venue for the 2020 season has been moved, due to the ongoing COVID-19 pandemic; games will now take place in the United Arab Emirates from September 19 through November 10.'"
   ]
  },
  {
   "cell_type": "code",
   "execution_count": 16,
   "metadata": {},
   "outputs": [
    {
     "name": "stdout",
     "output_type": "stream",
     "text": [
      "QUESTION : who are the current title holder of ipl ?\n",
      "\n",
      "LINE : There have been twelve seasons of the IPL tournament\n",
      "PRED : 0.0000\n",
      "\n",
      "LINE :  The current IPL title holders are the Mumbai Indians, who won the 2019 season\n",
      "PRED : 1.0000\n",
      "\n",
      "LINE :  The venue for the 2020 season has been moved, due to the ongoing COVID-19 pandemic; games will now take place in the United Arab Emirates from September 19 through November 10\n",
      "PRED : 0.0000\n",
      "\n"
     ]
    }
   ],
   "source": [
    "para_scores(para, question)"
   ]
  },
  {
   "cell_type": "code",
   "execution_count": null,
   "metadata": {},
   "outputs": [],
   "source": []
  },
  {
   "cell_type": "code",
   "execution_count": null,
   "metadata": {},
   "outputs": [],
   "source": []
  }
 ],
 "metadata": {
  "accelerator": "GPU",
  "colab": {
   "authorship_tag": "ABX9TyPUOSL6GvR/xYfl+EI4W4sN",
   "collapsed_sections": [],
   "name": "qnli_model_train.ipynb",
   "provenance": []
  },
  "kernelspec": {
   "display_name": "Python 3",
   "language": "python",
   "name": "python3"
  },
  "language_info": {
   "codemirror_mode": {
    "name": "ipython",
    "version": 3
   },
   "file_extension": ".py",
   "mimetype": "text/x-python",
   "name": "python",
   "nbconvert_exporter": "python",
   "pygments_lexer": "ipython3",
   "version": "3.8.3"
  }
 },
 "nbformat": 4,
 "nbformat_minor": 4
}

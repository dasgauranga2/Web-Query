{
 "cells": [
  {
   "cell_type": "code",
   "execution_count": 1,
   "metadata": {
    "colab": {},
    "colab_type": "code",
    "executionInfo": {
     "elapsed": 6399,
     "status": "ok",
     "timestamp": 1598618962576,
     "user": {
      "displayName": "Gauranga Das",
      "photoUrl": "https://lh3.googleusercontent.com/a-/AOh14Ghark55sEd5aQAxm0p2QpHbfOx9t5trkpKOYuC6TA=s64",
      "userId": "14540594540746384872"
     },
     "user_tz": -330
    },
    "id": "9Y4NnQCuaTIO"
   },
   "outputs": [],
   "source": [
    "import torch\n",
    "import torch.nn as nn\n",
    "\n",
    "import random\n",
    "\n",
    "from transformers import BertTokenizer, BertModel\n",
    "from torchtext import data"
   ]
  },
  {
   "cell_type": "code",
   "execution_count": 2,
   "metadata": {
    "colab": {},
    "colab_type": "code",
    "executionInfo": {
     "elapsed": 6223,
     "status": "ok",
     "timestamp": 1598618962582,
     "user": {
      "displayName": "Gauranga Das",
      "photoUrl": "https://lh3.googleusercontent.com/a-/AOh14Ghark55sEd5aQAxm0p2QpHbfOx9t5trkpKOYuC6TA=s64",
      "userId": "14540594540746384872"
     },
     "user_tz": -330
    },
    "id": "7x1ec_ZYacbP"
   },
   "outputs": [],
   "source": [
    "tokenizer = BertTokenizer.from_pretrained('bert-base-uncased')"
   ]
  },
  {
   "cell_type": "code",
   "execution_count": 3,
   "metadata": {
    "colab": {
     "base_uri": "https://localhost:8080/",
     "height": 35
    },
    "colab_type": "code",
    "executionInfo": {
     "elapsed": 6070,
     "status": "ok",
     "timestamp": 1598618962583,
     "user": {
      "displayName": "Gauranga Das",
      "photoUrl": "https://lh3.googleusercontent.com/a-/AOh14Ghark55sEd5aQAxm0p2QpHbfOx9t5trkpKOYuC6TA=s64",
      "userId": "14540594540746384872"
     },
     "user_tz": -330
    },
    "id": "hXaGRfvgas2r",
    "outputId": "b3071328-467a-4563-e2da-61ded3c0c44f"
   },
   "outputs": [
    {
     "data": {
      "text/plain": [
       "30522"
      ]
     },
     "execution_count": 3,
     "metadata": {},
     "output_type": "execute_result"
    }
   ],
   "source": [
    "len(tokenizer.vocab)"
   ]
  },
  {
   "cell_type": "code",
   "execution_count": 4,
   "metadata": {
    "colab": {
     "base_uri": "https://localhost:8080/",
     "height": 35
    },
    "colab_type": "code",
    "executionInfo": {
     "elapsed": 5845,
     "status": "ok",
     "timestamp": 1598618962584,
     "user": {
      "displayName": "Gauranga Das",
      "photoUrl": "https://lh3.googleusercontent.com/a-/AOh14Ghark55sEd5aQAxm0p2QpHbfOx9t5trkpKOYuC6TA=s64",
      "userId": "14540594540746384872"
     },
     "user_tz": -330
    },
    "id": "snn2s3m2ati7",
    "outputId": "f35d4205-386f-4dff-c3f5-005a52edbb26"
   },
   "outputs": [
    {
     "name": "stdout",
     "output_type": "stream",
     "text": [
      "['hello', 'world', 'how', 'are', 'you', '?']\n"
     ]
    }
   ],
   "source": [
    "tokens = tokenizer.tokenize('Hello WORLD how ARE yoU?')\n",
    "\n",
    "print(tokens)"
   ]
  },
  {
   "cell_type": "code",
   "execution_count": 5,
   "metadata": {
    "colab": {
     "base_uri": "https://localhost:8080/",
     "height": 35
    },
    "colab_type": "code",
    "executionInfo": {
     "elapsed": 5703,
     "status": "ok",
     "timestamp": 1598618962585,
     "user": {
      "displayName": "Gauranga Das",
      "photoUrl": "https://lh3.googleusercontent.com/a-/AOh14Ghark55sEd5aQAxm0p2QpHbfOx9t5trkpKOYuC6TA=s64",
      "userId": "14540594540746384872"
     },
     "user_tz": -330
    },
    "id": "Lwsr4AoHauqR",
    "outputId": "3412557b-8dcd-4e01-bc0b-105b69c2457d"
   },
   "outputs": [
    {
     "name": "stdout",
     "output_type": "stream",
     "text": [
      "[7592, 2088, 2129, 2024, 2017, 1029]\n"
     ]
    }
   ],
   "source": [
    "indexes = tokenizer.convert_tokens_to_ids(tokens)\n",
    "\n",
    "print(indexes)"
   ]
  },
  {
   "cell_type": "code",
   "execution_count": 6,
   "metadata": {
    "colab": {
     "base_uri": "https://localhost:8080/",
     "height": 35
    },
    "colab_type": "code",
    "executionInfo": {
     "elapsed": 5518,
     "status": "ok",
     "timestamp": 1598618962586,
     "user": {
      "displayName": "Gauranga Das",
      "photoUrl": "https://lh3.googleusercontent.com/a-/AOh14Ghark55sEd5aQAxm0p2QpHbfOx9t5trkpKOYuC6TA=s64",
      "userId": "14540594540746384872"
     },
     "user_tz": -330
    },
    "id": "SlhkJ6rqavuk",
    "outputId": "58460855-3ca4-497f-93e0-eb37ce4af7b4"
   },
   "outputs": [
    {
     "name": "stdout",
     "output_type": "stream",
     "text": [
      "[CLS] [SEP] [PAD] [UNK]\n"
     ]
    }
   ],
   "source": [
    "init_token = tokenizer.cls_token\n",
    "eos_token = tokenizer.sep_token\n",
    "pad_token = tokenizer.pad_token\n",
    "unk_token = tokenizer.unk_token\n",
    "\n",
    "print(init_token, eos_token, pad_token, unk_token)"
   ]
  },
  {
   "cell_type": "code",
   "execution_count": 7,
   "metadata": {
    "colab": {
     "base_uri": "https://localhost:8080/",
     "height": 35
    },
    "colab_type": "code",
    "executionInfo": {
     "elapsed": 5361,
     "status": "ok",
     "timestamp": 1598618962587,
     "user": {
      "displayName": "Gauranga Das",
      "photoUrl": "https://lh3.googleusercontent.com/a-/AOh14Ghark55sEd5aQAxm0p2QpHbfOx9t5trkpKOYuC6TA=s64",
      "userId": "14540594540746384872"
     },
     "user_tz": -330
    },
    "id": "I2QqvT7KaxP8",
    "outputId": "00b7162d-595e-4304-ac4d-f96254f7906a"
   },
   "outputs": [
    {
     "name": "stdout",
     "output_type": "stream",
     "text": [
      "101 102 0 100\n"
     ]
    }
   ],
   "source": [
    "init_token_idx = tokenizer.convert_tokens_to_ids(init_token)\n",
    "eos_token_idx = tokenizer.convert_tokens_to_ids(eos_token)\n",
    "pad_token_idx = tokenizer.convert_tokens_to_ids(pad_token)\n",
    "unk_token_idx = tokenizer.convert_tokens_to_ids(unk_token)\n",
    "\n",
    "print(init_token_idx, eos_token_idx, pad_token_idx, unk_token_idx)"
   ]
  },
  {
   "cell_type": "code",
   "execution_count": 8,
   "metadata": {
    "colab": {
     "base_uri": "https://localhost:8080/",
     "height": 35
    },
    "colab_type": "code",
    "executionInfo": {
     "elapsed": 5176,
     "status": "ok",
     "timestamp": 1598618962588,
     "user": {
      "displayName": "Gauranga Das",
      "photoUrl": "https://lh3.googleusercontent.com/a-/AOh14Ghark55sEd5aQAxm0p2QpHbfOx9t5trkpKOYuC6TA=s64",
      "userId": "14540594540746384872"
     },
     "user_tz": -330
    },
    "id": "vg5-oSL4ayW3",
    "outputId": "eb4e4de6-81ee-469e-8966-085d60ab045c"
   },
   "outputs": [
    {
     "name": "stdout",
     "output_type": "stream",
     "text": [
      "101 102 0 100\n"
     ]
    }
   ],
   "source": [
    "init_token_idx = tokenizer.cls_token_id\n",
    "eos_token_idx = tokenizer.sep_token_id\n",
    "pad_token_idx = tokenizer.pad_token_id\n",
    "unk_token_idx = tokenizer.unk_token_id\n",
    "\n",
    "print(init_token_idx, eos_token_idx, pad_token_idx, unk_token_idx)"
   ]
  },
  {
   "cell_type": "code",
   "execution_count": 9,
   "metadata": {
    "colab": {
     "base_uri": "https://localhost:8080/",
     "height": 35
    },
    "colab_type": "code",
    "executionInfo": {
     "elapsed": 5011,
     "status": "ok",
     "timestamp": 1598618962589,
     "user": {
      "displayName": "Gauranga Das",
      "photoUrl": "https://lh3.googleusercontent.com/a-/AOh14Ghark55sEd5aQAxm0p2QpHbfOx9t5trkpKOYuC6TA=s64",
      "userId": "14540594540746384872"
     },
     "user_tz": -330
    },
    "id": "uHR2YXsmazQz",
    "outputId": "2c0643f9-934e-4660-beb5-dfaf59298771"
   },
   "outputs": [
    {
     "name": "stdout",
     "output_type": "stream",
     "text": [
      "512\n"
     ]
    }
   ],
   "source": [
    "max_input_length = tokenizer.max_model_input_sizes['bert-base-uncased']\n",
    "\n",
    "print(max_input_length)"
   ]
  },
  {
   "cell_type": "code",
   "execution_count": 10,
   "metadata": {
    "colab": {},
    "colab_type": "code",
    "executionInfo": {
     "elapsed": 1582,
     "status": "ok",
     "timestamp": 1598618962589,
     "user": {
      "displayName": "Gauranga Das",
      "photoUrl": "https://lh3.googleusercontent.com/a-/AOh14Ghark55sEd5aQAxm0p2QpHbfOx9t5trkpKOYuC6TA=s64",
      "userId": "14540594540746384872"
     },
     "user_tz": -330
    },
    "id": "BtAB3ENta0Yi"
   },
   "outputs": [],
   "source": [
    "def tokenize_and_cut(sentence):\n",
    "    tokens = tokenizer.tokenize(sentence) \n",
    "    tokens = tokens[:max_input_length-2]\n",
    "    return tokens"
   ]
  },
  {
   "cell_type": "code",
   "execution_count": 11,
   "metadata": {
    "colab": {},
    "colab_type": "code",
    "executionInfo": {
     "elapsed": 1373,
     "status": "ok",
     "timestamp": 1598618962590,
     "user": {
      "displayName": "Gauranga Das",
      "photoUrl": "https://lh3.googleusercontent.com/a-/AOh14Ghark55sEd5aQAxm0p2QpHbfOx9t5trkpKOYuC6TA=s64",
      "userId": "14540594540746384872"
     },
     "user_tz": -330
    },
    "id": "vlOWlYT7a1cB"
   },
   "outputs": [],
   "source": [
    "TEXT = data.Field(batch_first = True,\n",
    "                  use_vocab = False,\n",
    "                  tokenize = tokenize_and_cut,\n",
    "                  preprocessing = tokenizer.convert_tokens_to_ids,\n",
    "                  init_token = init_token_idx,\n",
    "                  eos_token = eos_token_idx,\n",
    "                  pad_token = pad_token_idx,\n",
    "                  unk_token = unk_token_idx)\n",
    "\n",
    "LABEL = data.LabelField(dtype = torch.float)"
   ]
  },
  {
   "cell_type": "code",
   "execution_count": 12,
   "metadata": {
    "colab": {},
    "colab_type": "code",
    "executionInfo": {
     "elapsed": 1223,
     "status": "ok",
     "timestamp": 1598618962591,
     "user": {
      "displayName": "Gauranga Das",
      "photoUrl": "https://lh3.googleusercontent.com/a-/AOh14Ghark55sEd5aQAxm0p2QpHbfOx9t5trkpKOYuC6TA=s64",
      "userId": "14540594540746384872"
     },
     "user_tz": -330
    },
    "id": "STND10KYa2rX"
   },
   "outputs": [],
   "source": [
    "fields = [('text', TEXT), ('label', LABEL)]"
   ]
  },
  {
   "cell_type": "code",
   "execution_count": 13,
   "metadata": {
    "colab": {},
    "colab_type": "code",
    "executionInfo": {
     "elapsed": 11338,
     "status": "ok",
     "timestamp": 1598618975238,
     "user": {
      "displayName": "Gauranga Das",
      "photoUrl": "https://lh3.googleusercontent.com/a-/AOh14Ghark55sEd5aQAxm0p2QpHbfOx9t5trkpKOYuC6TA=s64",
      "userId": "14540594540746384872"
     },
     "user_tz": -330
    },
    "id": "gS6CHBZ5bG3b"
   },
   "outputs": [],
   "source": [
    "train_data = data.TabularDataset.splits(\n",
    "                path = '',\n",
    "                train = 'qnli.csv',\n",
    "                format = 'csv',\n",
    "                fields = fields,\n",
    "                skip_header = True)\n",
    "\n",
    "train_data , valid_data = train_data[0].split(split_ratio=0.9,\n",
    "                                             random_state = random.seed(10))"
   ]
  },
  {
   "cell_type": "code",
   "execution_count": 14,
   "metadata": {
    "colab": {
     "base_uri": "https://localhost:8080/",
     "height": 53
    },
    "colab_type": "code",
    "executionInfo": {
     "elapsed": 1238,
     "status": "ok",
     "timestamp": 1598618980124,
     "user": {
      "displayName": "Gauranga Das",
      "photoUrl": "https://lh3.googleusercontent.com/a-/AOh14Ghark55sEd5aQAxm0p2QpHbfOx9t5trkpKOYuC6TA=s64",
      "userId": "14540594540746384872"
     },
     "user_tz": -330
    },
    "id": "4DpkKW6UbVar",
    "outputId": "5287fbbf-04e5-445e-b321-48aff341980c"
   },
   "outputs": [
    {
     "name": "stdout",
     "output_type": "stream",
     "text": [
      "Number of training examples: 62978\n",
      "Number of validation examples: 6997\n"
     ]
    }
   ],
   "source": [
    "print(f\"Number of training examples: {len(train_data)}\")\n",
    "print(f\"Number of validation examples: {len(valid_data)}\")"
   ]
  },
  {
   "cell_type": "code",
   "execution_count": 15,
   "metadata": {
    "colab": {
     "base_uri": "https://localhost:8080/",
     "height": 55
    },
    "colab_type": "code",
    "executionInfo": {
     "elapsed": 742,
     "status": "ok",
     "timestamp": 1598618981440,
     "user": {
      "displayName": "Gauranga Das",
      "photoUrl": "https://lh3.googleusercontent.com/a-/AOh14Ghark55sEd5aQAxm0p2QpHbfOx9t5trkpKOYuC6TA=s64",
      "userId": "14540594540746384872"
     },
     "user_tz": -330
    },
    "id": "9kNQi1qbbZQA",
    "outputId": "24987004-732f-4940-ecfb-4a7d5cb28c18"
   },
   "outputs": [
    {
     "name": "stdout",
     "output_type": "stream",
     "text": [
      "{'text': [2040, 3640, 1037, 7484, 8241, 2326, 1029, 102, 4274, 9936, 2578, 3073, 10373, 1010, 4773, 1011, 9936, 1010, 2030, 3784, 5527, 2578, 1012], 'label': 'entailment'}\n"
     ]
    }
   ],
   "source": [
    "print(vars(train_data.examples[6]))"
   ]
  },
  {
   "cell_type": "code",
   "execution_count": 16,
   "metadata": {
    "colab": {
     "base_uri": "https://localhost:8080/",
     "height": 55
    },
    "colab_type": "code",
    "executionInfo": {
     "elapsed": 1203,
     "status": "ok",
     "timestamp": 1598618982088,
     "user": {
      "displayName": "Gauranga Das",
      "photoUrl": "https://lh3.googleusercontent.com/a-/AOh14Ghark55sEd5aQAxm0p2QpHbfOx9t5trkpKOYuC6TA=s64",
      "userId": "14540594540746384872"
     },
     "user_tz": -330
    },
    "id": "rSlXFP-7bb-Z",
    "outputId": "8fd6698e-5632-40f5-e673-60cef43978b3"
   },
   "outputs": [
    {
     "name": "stdout",
     "output_type": "stream",
     "text": [
      "['who', 'provides', 'a', 'virtual', 'server', 'service', '?', '[SEP]', 'internet', 'hosting', 'services', 'provide', 'email', ',', 'web', '-', 'hosting', ',', 'or', 'online', 'storage', 'services', '.']\n"
     ]
    }
   ],
   "source": [
    "tokens = tokenizer.convert_ids_to_tokens(vars(train_data.examples[6])['text'])\n",
    "\n",
    "print(tokens)"
   ]
  },
  {
   "cell_type": "code",
   "execution_count": 17,
   "metadata": {
    "colab": {},
    "colab_type": "code",
    "executionInfo": {
     "elapsed": 1036,
     "status": "ok",
     "timestamp": 1598618982091,
     "user": {
      "displayName": "Gauranga Das",
      "photoUrl": "https://lh3.googleusercontent.com/a-/AOh14Ghark55sEd5aQAxm0p2QpHbfOx9t5trkpKOYuC6TA=s64",
      "userId": "14540594540746384872"
     },
     "user_tz": -330
    },
    "id": "OkiMUS95bd6X"
   },
   "outputs": [],
   "source": [
    "LABEL.build_vocab(train_data)"
   ]
  },
  {
   "cell_type": "code",
   "execution_count": 18,
   "metadata": {
    "colab": {
     "base_uri": "https://localhost:8080/",
     "height": 35
    },
    "colab_type": "code",
    "executionInfo": {
     "elapsed": 868,
     "status": "ok",
     "timestamp": 1598618982093,
     "user": {
      "displayName": "Gauranga Das",
      "photoUrl": "https://lh3.googleusercontent.com/a-/AOh14Ghark55sEd5aQAxm0p2QpHbfOx9t5trkpKOYuC6TA=s64",
      "userId": "14540594540746384872"
     },
     "user_tz": -330
    },
    "id": "cD6zvf6hbgA8",
    "outputId": "d4d60454-24b1-4e7e-f446-1757203ca467"
   },
   "outputs": [
    {
     "name": "stdout",
     "output_type": "stream",
     "text": [
      "defaultdict(None, {'not_entailment': 0, 'entailment': 1})\n"
     ]
    }
   ],
   "source": [
    "print(LABEL.vocab.stoi)"
   ]
  },
  {
   "cell_type": "code",
   "execution_count": 19,
   "metadata": {
    "colab": {},
    "colab_type": "code",
    "executionInfo": {
     "elapsed": 1156,
     "status": "ok",
     "timestamp": 1598618982568,
     "user": {
      "displayName": "Gauranga Das",
      "photoUrl": "https://lh3.googleusercontent.com/a-/AOh14Ghark55sEd5aQAxm0p2QpHbfOx9t5trkpKOYuC6TA=s64",
      "userId": "14540594540746384872"
     },
     "user_tz": -330
    },
    "id": "tUMw7wkSbhAA"
   },
   "outputs": [],
   "source": [
    "BATCH_SIZE = 24\n",
    "\n",
    "device = torch.device('cuda')\n",
    "\n",
    "train_iterator, valid_iterator = data.BucketIterator.splits(\n",
    "    (train_data, valid_data), \n",
    "    batch_size = BATCH_SIZE, \n",
    "    device = device,\n",
    "    sort_key=lambda x: len(x.text))"
   ]
  },
  {
   "cell_type": "code",
   "execution_count": 20,
   "metadata": {},
   "outputs": [],
   "source": [
    "class BERTSentiment(nn.Module):\n",
    "    def __init__(self):\n",
    "        \n",
    "        super().__init__()\n",
    "        \n",
    "        self.bert = BertModel.from_pretrained('bert-base-uncased')\n",
    "        \n",
    "        embedding_dim = self.bert.config.to_dict()['hidden_size']\n",
    "\n",
    "        self.output = nn.Linear(embedding_dim, 1)\n",
    "                \n",
    "    def forward(self, text):\n",
    "        \n",
    "        #text = [batch size, sent len]\n",
    "        \n",
    "        embedded = self.bert(text)[0]\n",
    "        \n",
    "        logits = embedded[:,0,:]\n",
    "        final_logits = self.output(logits)\n",
    "        \n",
    "        return final_logits"
   ]
  },
  {
   "cell_type": "code",
   "execution_count": null,
   "metadata": {},
   "outputs": [],
   "source": []
  },
  {
   "cell_type": "code",
   "execution_count": null,
   "metadata": {},
   "outputs": [],
   "source": []
  },
  {
   "cell_type": "code",
   "execution_count": null,
   "metadata": {
    "colab": {},
    "colab_type": "code",
    "executionInfo": {
     "elapsed": 1326968,
     "status": "ok",
     "timestamp": 1598620324135,
     "user": {
      "displayName": "Gauranga Das",
      "photoUrl": "https://lh3.googleusercontent.com/a-/AOh14Ghark55sEd5aQAxm0p2QpHbfOx9t5trkpKOYuC6TA=s64",
      "userId": "14540594540746384872"
     },
     "user_tz": -330
    },
    "id": "AGor8SZ1cruR"
   },
   "outputs": [],
   "source": []
  },
  {
   "cell_type": "code",
   "execution_count": null,
   "metadata": {
    "colab": {},
    "colab_type": "code",
    "executionInfo": {
     "elapsed": 1326784,
     "status": "ok",
     "timestamp": 1598620324136,
     "user": {
      "displayName": "Gauranga Das",
      "photoUrl": "https://lh3.googleusercontent.com/a-/AOh14Ghark55sEd5aQAxm0p2QpHbfOx9t5trkpKOYuC6TA=s64",
      "userId": "14540594540746384872"
     },
     "user_tz": -330
    },
    "id": "gMhz-2X0crwh"
   },
   "outputs": [],
   "source": []
  },
  {
   "cell_type": "code",
   "execution_count": 21,
   "metadata": {},
   "outputs": [],
   "source": [
    "models = []\n",
    "\n",
    "for i in range(2):\n",
    "    new_model = BERTSentiment().cuda()\n",
    "    new_model.load_state_dict(torch.load(f'para_rank_model_{i+1}.pt'))\n",
    "    models.append(new_model)"
   ]
  },
  {
   "cell_type": "code",
   "execution_count": 22,
   "metadata": {
    "colab": {},
    "colab_type": "code",
    "executionInfo": {
     "elapsed": 1326581,
     "status": "ok",
     "timestamp": 1598620324137,
     "user": {
      "displayName": "Gauranga Das",
      "photoUrl": "https://lh3.googleusercontent.com/a-/AOh14Ghark55sEd5aQAxm0p2QpHbfOx9t5trkpKOYuC6TA=s64",
      "userId": "14540594540746384872"
     },
     "user_tz": -330
    },
    "id": "pR8pZ72QcQ6z"
   },
   "outputs": [],
   "source": [
    "def predict_sentiment(models, tokenizer, sentence):\n",
    "    for model in models:\n",
    "        model.eval()\n",
    "    \n",
    "    tokens = tokenizer.tokenize(sentence)\n",
    "    tokens = tokens[:max_input_length-2]\n",
    "    indexed = [init_token_idx] + tokenizer.convert_tokens_to_ids(tokens) + [eos_token_idx]\n",
    "    tensor = torch.LongTensor(indexed).to(device)\n",
    "    tensor = tensor.unsqueeze(0)\n",
    "    prediction = torch.sigmoid(models[0](tensor) + models[1](tensor))\n",
    "    return prediction.item()"
   ]
  },
  {
   "cell_type": "code",
   "execution_count": 23,
   "metadata": {
    "colab": {
     "base_uri": "https://localhost:8080/",
     "height": 1000
    },
    "colab_type": "code",
    "executionInfo": {
     "elapsed": 1326205,
     "status": "ok",
     "timestamp": 1598620324137,
     "user": {
      "displayName": "Gauranga Das",
      "photoUrl": "https://lh3.googleusercontent.com/a-/AOh14Ghark55sEd5aQAxm0p2QpHbfOx9t5trkpKOYuC6TA=s64",
      "userId": "14540594540746384872"
     },
     "user_tz": -330
    },
    "id": "9aU1XAADcWy1",
    "outputId": "3bf7cf50-be12-47cd-de64-11806c92fcaa"
   },
   "outputs": [
    {
     "name": "stdout",
     "output_type": "stream",
     "text": [
      "TEXT\n",
      "what weapon posed a significant threat to us navy ships ? [SEP] aside from very occasional gunfire from north korean shore batteries , the main threat to united states and un navy ships was from magnetic mines .\n",
      "LABEL : entailment\n",
      "PREDICTION : 0.9999765157699585\n",
      "\n",
      "\n",
      "TEXT\n",
      "where did the spanish and port ##uge ##se en ##sl ##ave most of their black people from ? [SEP] the first blacks to arrive in bermuda in any numbers were free blacks from spanish - speaking areas of the west indies , and most of the remainder were recently enslaved africans captured from the spanish and portuguese .\n",
      "LABEL : not_entailment\n",
      "PREDICTION : 0.04576168581843376\n",
      "\n",
      "\n",
      "TEXT\n",
      "octave ##s in linear pitch are what size ? [SEP] this creates a linear pitch space in which octave ##s have size 12 , semi ##tones ( the distance between adjacent keys on the piano keyboard ) have size 1 , and a ##44 ##0 is assigned the number 69 .\n",
      "LABEL : entailment\n",
      "PREDICTION : 0.9999575614929199\n",
      "\n",
      "\n",
      "TEXT\n",
      "where in eritrea are marine species such as dolphin , turtles and man ##ta ray found ? [SEP] in the coastal areas marine species that are common include dolphin , dug ##ong , whale shark , turtles , mar ##lin / sword ##fish , and man ##ta ray .\n",
      "LABEL : entailment\n",
      "PREDICTION : 0.9999892711639404\n",
      "\n",
      "\n",
      "TEXT\n",
      "how did the gregorian calendar set these same of the full moon not preceding easter ##con ##dition ##s ? [SEP] as the rule was that the full moon preceding easter was not to pre ##cede the e ##quin ##ox the e ##quin ##ox was fixed at 21 march for computational purposes and the earliest date for easter was fixed at 22 march .\n",
      "LABEL : not_entailment\n",
      "PREDICTION : 0.020363517105579376\n",
      "\n",
      "\n",
      "TEXT\n",
      "who was victoria ##s private secretary during the years following her accident at windsor ? [SEP] brown died 10 days after her accident , and to the con ##ster ##nation of her private secretary , sir henry po ##nson ##by , victoria began work on a eu ##logist ##ic biography of brown .\n",
      "LABEL : entailment\n",
      "PREDICTION : 0.999932050704956\n",
      "\n",
      "\n",
      "TEXT\n",
      "how many different airlines operate in oklahoma ? [SEP] between the two , six airlines operate in oklahoma .\n",
      "LABEL : entailment\n",
      "PREDICTION : 0.9993823766708374\n",
      "\n",
      "\n",
      "TEXT\n",
      "what was used in aa mounting ##s on both land and water ? [SEP] machine guns in aa mounting ##s was used both ashore and afl ##oat .\n",
      "LABEL : entailment\n",
      "PREDICTION : 0.9985826015472412\n",
      "\n",
      "\n",
      "TEXT\n",
      "what administrative division did sa ##kha ##lin island become a part of ? [SEP] the status of the southernmost ku ##ril ##s remains in dispute with japan .\n",
      "LABEL : not_entailment\n",
      "PREDICTION : 0.001055239699780941\n",
      "\n",
      "\n",
      "TEXT\n",
      "who has been the leader of the ndp since 2006 ? [SEP] lorraine michael , leader of the ndp since 2006 , represents the district of signal hill - qui ##di vi ##di .\n",
      "LABEL : entailment\n",
      "PREDICTION : 0.9999896287918091\n",
      "\n",
      "\n",
      "TEXT\n",
      "what are cod ##ons ? [SEP] genes that en ##code proteins are composed of a series of three - nu ##cle ##otide sequences called cod ##ons , which serve as the \" words \" in the genetic \" language \" .\n",
      "LABEL : entailment\n",
      "PREDICTION : 0.9975396394729614\n",
      "\n",
      "\n",
      "TEXT\n",
      "who are the lowest ranking cardinals in the catholic church ? [SEP] cardinal priests are the most numerous of the three orders of cardinals in the catholic church , ranking above the cardinal deacon ##s and below the cardinal bishops .\n",
      "LABEL : entailment\n",
      "PREDICTION : 0.9578304290771484\n",
      "\n",
      "\n",
      "TEXT\n",
      "pottery , weaving ##s and carvings are just some of the contributions to art by which peoples ? [SEP] visual arts by indigenous peoples of the americas comprise a major category in the world art collection .\n",
      "LABEL : entailment\n",
      "PREDICTION : 0.09235002100467682\n",
      "\n",
      "\n",
      "TEXT\n",
      "aside from the activities of colonies , what other event foster ##ed the transition from agriculture to manufacturing ? [SEP] european overseas expansion led to the rise of colonial empires , producing the columbian exchange .\n",
      "LABEL : not_entailment\n",
      "PREDICTION : 0.3952083885669708\n",
      "\n",
      "\n",
      "TEXT\n",
      "tribes of sl ##avs were invading what provinces of the eastern empire ? [SEP] the sl ##avs under name of the ant ##es and the sc ##lav ##eni make their first appearance in byzantine records in the early 6th century .\n",
      "LABEL : not_entailment\n",
      "PREDICTION : 0.0011778246844187379\n",
      "\n",
      "\n",
      "TEXT\n",
      "when we ##ld was re - elected governor , how much of the vote did he get ? [SEP] in 1996 , kerry faced a difficult re - election fight against governor william we ##ld , a popular republican incumbent who had been re - elected in 1994 with 71 % of the vote .\n",
      "LABEL : entailment\n",
      "PREDICTION : 0.9999057054519653\n",
      "\n",
      "\n",
      "TEXT\n",
      "an important guiding pri ##ci ##ple of buddhist practice is what ? [SEP] the middle way has several definitions :\n",
      "LABEL : not_entailment\n",
      "PREDICTION : 0.0008851257734932005\n",
      "\n",
      "\n",
      "TEXT\n",
      "what is usually dropped for the commercial naming of an hd ##tv product ? [SEP] for the commercial naming of a product , the frame rate is often dropped and is implied from context ( e . g . , a 108 ##0 ##i television set ) .\n",
      "LABEL : entailment\n",
      "PREDICTION : 0.9998677968978882\n",
      "\n",
      "\n",
      "TEXT\n",
      "instead of genetic traits for production , dogs are bred for what ? [SEP] some of these genes have been associated with aggression in some dog breeds , indicating their importance in both the initial domestic ##ation and then later in breed formation .\n",
      "LABEL : not_entailment\n",
      "PREDICTION : 0.0007221061969175935\n",
      "\n",
      "\n",
      "TEXT\n",
      "how many mathematical treatise ##s have still managed to survive to this day ? [SEP] these are the book on numbers and computation , the arithmetic ##al classic of the g ##no ##mon and the circular paths of heaven and the nine chapters on the mathematical art .\n",
      "LABEL : not_entailment\n",
      "PREDICTION : 0.00973487738519907\n",
      "\n",
      "\n"
     ]
    }
   ],
   "source": [
    "idxs = random.sample(range(0,len(valid_data.examples)),20)\n",
    "for i in idxs:\n",
    "    txt = ' '.join(tokenizer.convert_ids_to_tokens(vars(valid_data.examples[i])['text']))\n",
    "    label = vars(valid_data.examples[i])['label']\n",
    "    pred = predict_sentiment(models, tokenizer, txt)\n",
    "    \n",
    "    print(f\"TEXT\\n{txt}\")\n",
    "    print(f\"LABEL : {label}\")\n",
    "    print(f\"PREDICTION : {pred}\\n\\n\")"
   ]
  },
  {
   "cell_type": "code",
   "execution_count": null,
   "metadata": {
    "colab": {},
    "colab_type": "code",
    "id": "AQgCqA2VcYb6"
   },
   "outputs": [],
   "source": []
  },
  {
   "cell_type": "code",
   "execution_count": null,
   "metadata": {
    "colab": {},
    "colab_type": "code",
    "id": "E2udpWxjmI7F"
   },
   "outputs": [],
   "source": []
  }
 ],
 "metadata": {
  "accelerator": "GPU",
  "colab": {
   "authorship_tag": "ABX9TyPUOSL6GvR/xYfl+EI4W4sN",
   "collapsed_sections": [],
   "name": "qnli_model_train.ipynb",
   "provenance": []
  },
  "kernelspec": {
   "display_name": "Python 3",
   "language": "python",
   "name": "python3"
  },
  "language_info": {
   "codemirror_mode": {
    "name": "ipython",
    "version": 3
   },
   "file_extension": ".py",
   "mimetype": "text/x-python",
   "name": "python",
   "nbconvert_exporter": "python",
   "pygments_lexer": "ipython3",
   "version": "3.8.3"
  }
 },
 "nbformat": 4,
 "nbformat_minor": 4
}

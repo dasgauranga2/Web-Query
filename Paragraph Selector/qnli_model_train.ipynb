{
 "cells": [
  {
   "cell_type": "code",
   "execution_count": 1,
   "metadata": {
    "colab": {},
    "colab_type": "code",
    "executionInfo": {
     "elapsed": 6399,
     "status": "ok",
     "timestamp": 1598618962576,
     "user": {
      "displayName": "Gauranga Das",
      "photoUrl": "https://lh3.googleusercontent.com/a-/AOh14Ghark55sEd5aQAxm0p2QpHbfOx9t5trkpKOYuC6TA=s64",
      "userId": "14540594540746384872"
     },
     "user_tz": -330
    },
    "id": "9Y4NnQCuaTIO"
   },
   "outputs": [],
   "source": [
    "import torch\n",
    "import torch.nn as nn\n",
    "\n",
    "import random\n",
    "import numpy as np\n",
    "\n",
    "from transformers import BertTokenizer, BertModel\n",
    "from torchtext import data\n",
    "\n",
    "import time"
   ]
  },
  {
   "cell_type": "code",
   "execution_count": 2,
   "metadata": {
    "colab": {},
    "colab_type": "code",
    "executionInfo": {
     "elapsed": 6223,
     "status": "ok",
     "timestamp": 1598618962582,
     "user": {
      "displayName": "Gauranga Das",
      "photoUrl": "https://lh3.googleusercontent.com/a-/AOh14Ghark55sEd5aQAxm0p2QpHbfOx9t5trkpKOYuC6TA=s64",
      "userId": "14540594540746384872"
     },
     "user_tz": -330
    },
    "id": "7x1ec_ZYacbP"
   },
   "outputs": [],
   "source": [
    "tokenizer = BertTokenizer.from_pretrained('bert-base-uncased')"
   ]
  },
  {
   "cell_type": "code",
   "execution_count": 3,
   "metadata": {
    "colab": {
     "base_uri": "https://localhost:8080/",
     "height": 35
    },
    "colab_type": "code",
    "executionInfo": {
     "elapsed": 6070,
     "status": "ok",
     "timestamp": 1598618962583,
     "user": {
      "displayName": "Gauranga Das",
      "photoUrl": "https://lh3.googleusercontent.com/a-/AOh14Ghark55sEd5aQAxm0p2QpHbfOx9t5trkpKOYuC6TA=s64",
      "userId": "14540594540746384872"
     },
     "user_tz": -330
    },
    "id": "hXaGRfvgas2r",
    "outputId": "b3071328-467a-4563-e2da-61ded3c0c44f"
   },
   "outputs": [
    {
     "data": {
      "text/plain": [
       "30522"
      ]
     },
     "execution_count": 3,
     "metadata": {},
     "output_type": "execute_result"
    }
   ],
   "source": [
    "len(tokenizer.vocab)"
   ]
  },
  {
   "cell_type": "code",
   "execution_count": 4,
   "metadata": {
    "colab": {
     "base_uri": "https://localhost:8080/",
     "height": 35
    },
    "colab_type": "code",
    "executionInfo": {
     "elapsed": 5845,
     "status": "ok",
     "timestamp": 1598618962584,
     "user": {
      "displayName": "Gauranga Das",
      "photoUrl": "https://lh3.googleusercontent.com/a-/AOh14Ghark55sEd5aQAxm0p2QpHbfOx9t5trkpKOYuC6TA=s64",
      "userId": "14540594540746384872"
     },
     "user_tz": -330
    },
    "id": "snn2s3m2ati7",
    "outputId": "f35d4205-386f-4dff-c3f5-005a52edbb26"
   },
   "outputs": [
    {
     "name": "stdout",
     "output_type": "stream",
     "text": [
      "['hello', 'world', 'how', 'are', 'you', '?']\n"
     ]
    }
   ],
   "source": [
    "tokens = tokenizer.tokenize('Hello WORLD how ARE yoU?')\n",
    "\n",
    "print(tokens)"
   ]
  },
  {
   "cell_type": "code",
   "execution_count": 5,
   "metadata": {
    "colab": {
     "base_uri": "https://localhost:8080/",
     "height": 35
    },
    "colab_type": "code",
    "executionInfo": {
     "elapsed": 5703,
     "status": "ok",
     "timestamp": 1598618962585,
     "user": {
      "displayName": "Gauranga Das",
      "photoUrl": "https://lh3.googleusercontent.com/a-/AOh14Ghark55sEd5aQAxm0p2QpHbfOx9t5trkpKOYuC6TA=s64",
      "userId": "14540594540746384872"
     },
     "user_tz": -330
    },
    "id": "Lwsr4AoHauqR",
    "outputId": "3412557b-8dcd-4e01-bc0b-105b69c2457d"
   },
   "outputs": [
    {
     "name": "stdout",
     "output_type": "stream",
     "text": [
      "[7592, 2088, 2129, 2024, 2017, 1029]\n"
     ]
    }
   ],
   "source": [
    "indexes = tokenizer.convert_tokens_to_ids(tokens)\n",
    "\n",
    "print(indexes)"
   ]
  },
  {
   "cell_type": "code",
   "execution_count": 6,
   "metadata": {
    "colab": {
     "base_uri": "https://localhost:8080/",
     "height": 35
    },
    "colab_type": "code",
    "executionInfo": {
     "elapsed": 5518,
     "status": "ok",
     "timestamp": 1598618962586,
     "user": {
      "displayName": "Gauranga Das",
      "photoUrl": "https://lh3.googleusercontent.com/a-/AOh14Ghark55sEd5aQAxm0p2QpHbfOx9t5trkpKOYuC6TA=s64",
      "userId": "14540594540746384872"
     },
     "user_tz": -330
    },
    "id": "SlhkJ6rqavuk",
    "outputId": "58460855-3ca4-497f-93e0-eb37ce4af7b4"
   },
   "outputs": [
    {
     "name": "stdout",
     "output_type": "stream",
     "text": [
      "[CLS] [SEP] [PAD] [UNK]\n"
     ]
    }
   ],
   "source": [
    "init_token = tokenizer.cls_token\n",
    "eos_token = tokenizer.sep_token\n",
    "pad_token = tokenizer.pad_token\n",
    "unk_token = tokenizer.unk_token\n",
    "\n",
    "print(init_token, eos_token, pad_token, unk_token)"
   ]
  },
  {
   "cell_type": "code",
   "execution_count": 7,
   "metadata": {
    "colab": {
     "base_uri": "https://localhost:8080/",
     "height": 35
    },
    "colab_type": "code",
    "executionInfo": {
     "elapsed": 5361,
     "status": "ok",
     "timestamp": 1598618962587,
     "user": {
      "displayName": "Gauranga Das",
      "photoUrl": "https://lh3.googleusercontent.com/a-/AOh14Ghark55sEd5aQAxm0p2QpHbfOx9t5trkpKOYuC6TA=s64",
      "userId": "14540594540746384872"
     },
     "user_tz": -330
    },
    "id": "I2QqvT7KaxP8",
    "outputId": "00b7162d-595e-4304-ac4d-f96254f7906a"
   },
   "outputs": [
    {
     "name": "stdout",
     "output_type": "stream",
     "text": [
      "101 102 0 100\n"
     ]
    }
   ],
   "source": [
    "init_token_idx = tokenizer.convert_tokens_to_ids(init_token)\n",
    "eos_token_idx = tokenizer.convert_tokens_to_ids(eos_token)\n",
    "pad_token_idx = tokenizer.convert_tokens_to_ids(pad_token)\n",
    "unk_token_idx = tokenizer.convert_tokens_to_ids(unk_token)\n",
    "\n",
    "print(init_token_idx, eos_token_idx, pad_token_idx, unk_token_idx)"
   ]
  },
  {
   "cell_type": "code",
   "execution_count": 8,
   "metadata": {
    "colab": {
     "base_uri": "https://localhost:8080/",
     "height": 35
    },
    "colab_type": "code",
    "executionInfo": {
     "elapsed": 5176,
     "status": "ok",
     "timestamp": 1598618962588,
     "user": {
      "displayName": "Gauranga Das",
      "photoUrl": "https://lh3.googleusercontent.com/a-/AOh14Ghark55sEd5aQAxm0p2QpHbfOx9t5trkpKOYuC6TA=s64",
      "userId": "14540594540746384872"
     },
     "user_tz": -330
    },
    "id": "vg5-oSL4ayW3",
    "outputId": "eb4e4de6-81ee-469e-8966-085d60ab045c"
   },
   "outputs": [
    {
     "name": "stdout",
     "output_type": "stream",
     "text": [
      "101 102 0 100\n"
     ]
    }
   ],
   "source": [
    "init_token_idx = tokenizer.cls_token_id\n",
    "eos_token_idx = tokenizer.sep_token_id\n",
    "pad_token_idx = tokenizer.pad_token_id\n",
    "unk_token_idx = tokenizer.unk_token_id\n",
    "\n",
    "print(init_token_idx, eos_token_idx, pad_token_idx, unk_token_idx)"
   ]
  },
  {
   "cell_type": "code",
   "execution_count": 9,
   "metadata": {
    "colab": {
     "base_uri": "https://localhost:8080/",
     "height": 35
    },
    "colab_type": "code",
    "executionInfo": {
     "elapsed": 5011,
     "status": "ok",
     "timestamp": 1598618962589,
     "user": {
      "displayName": "Gauranga Das",
      "photoUrl": "https://lh3.googleusercontent.com/a-/AOh14Ghark55sEd5aQAxm0p2QpHbfOx9t5trkpKOYuC6TA=s64",
      "userId": "14540594540746384872"
     },
     "user_tz": -330
    },
    "id": "uHR2YXsmazQz",
    "outputId": "2c0643f9-934e-4660-beb5-dfaf59298771"
   },
   "outputs": [
    {
     "name": "stdout",
     "output_type": "stream",
     "text": [
      "512\n"
     ]
    }
   ],
   "source": [
    "max_input_length = tokenizer.max_model_input_sizes['bert-base-uncased']\n",
    "\n",
    "print(max_input_length)"
   ]
  },
  {
   "cell_type": "code",
   "execution_count": 10,
   "metadata": {
    "colab": {},
    "colab_type": "code",
    "executionInfo": {
     "elapsed": 1582,
     "status": "ok",
     "timestamp": 1598618962589,
     "user": {
      "displayName": "Gauranga Das",
      "photoUrl": "https://lh3.googleusercontent.com/a-/AOh14Ghark55sEd5aQAxm0p2QpHbfOx9t5trkpKOYuC6TA=s64",
      "userId": "14540594540746384872"
     },
     "user_tz": -330
    },
    "id": "BtAB3ENta0Yi"
   },
   "outputs": [],
   "source": [
    "def tokenize_and_cut(sentence):\n",
    "    tokens = tokenizer.tokenize(sentence) \n",
    "    tokens = tokens[:max_input_length-2]\n",
    "    return tokens"
   ]
  },
  {
   "cell_type": "code",
   "execution_count": 11,
   "metadata": {
    "colab": {},
    "colab_type": "code",
    "executionInfo": {
     "elapsed": 1373,
     "status": "ok",
     "timestamp": 1598618962590,
     "user": {
      "displayName": "Gauranga Das",
      "photoUrl": "https://lh3.googleusercontent.com/a-/AOh14Ghark55sEd5aQAxm0p2QpHbfOx9t5trkpKOYuC6TA=s64",
      "userId": "14540594540746384872"
     },
     "user_tz": -330
    },
    "id": "vlOWlYT7a1cB"
   },
   "outputs": [],
   "source": [
    "TEXT = data.Field(batch_first = True,\n",
    "                  use_vocab = False,\n",
    "                  tokenize = tokenize_and_cut,\n",
    "                  preprocessing = tokenizer.convert_tokens_to_ids,\n",
    "                  init_token = init_token_idx,\n",
    "                  eos_token = eos_token_idx,\n",
    "                  pad_token = pad_token_idx,\n",
    "                  unk_token = unk_token_idx)\n",
    "\n",
    "LABEL = data.LabelField(dtype = torch.float)"
   ]
  },
  {
   "cell_type": "code",
   "execution_count": 12,
   "metadata": {
    "colab": {},
    "colab_type": "code",
    "executionInfo": {
     "elapsed": 1223,
     "status": "ok",
     "timestamp": 1598618962591,
     "user": {
      "displayName": "Gauranga Das",
      "photoUrl": "https://lh3.googleusercontent.com/a-/AOh14Ghark55sEd5aQAxm0p2QpHbfOx9t5trkpKOYuC6TA=s64",
      "userId": "14540594540746384872"
     },
     "user_tz": -330
    },
    "id": "STND10KYa2rX"
   },
   "outputs": [],
   "source": [
    "fields = [('text', TEXT), ('label', LABEL)]"
   ]
  },
  {
   "cell_type": "code",
   "execution_count": 13,
   "metadata": {
    "colab": {},
    "colab_type": "code",
    "executionInfo": {
     "elapsed": 11338,
     "status": "ok",
     "timestamp": 1598618975238,
     "user": {
      "displayName": "Gauranga Das",
      "photoUrl": "https://lh3.googleusercontent.com/a-/AOh14Ghark55sEd5aQAxm0p2QpHbfOx9t5trkpKOYuC6TA=s64",
      "userId": "14540594540746384872"
     },
     "user_tz": -330
    },
    "id": "gS6CHBZ5bG3b"
   },
   "outputs": [],
   "source": [
    "train_data = data.TabularDataset.splits(\n",
    "                path = '',\n",
    "                train = 'qnli.csv',\n",
    "                format = 'csv',\n",
    "                fields = fields,\n",
    "                skip_header = True)\n",
    "\n",
    "train_data , valid_data = train_data[0].split(split_ratio=0.96,\n",
    "                                             random_state = random.seed(1234))"
   ]
  },
  {
   "cell_type": "code",
   "execution_count": 14,
   "metadata": {
    "colab": {
     "base_uri": "https://localhost:8080/",
     "height": 53
    },
    "colab_type": "code",
    "executionInfo": {
     "elapsed": 1238,
     "status": "ok",
     "timestamp": 1598618980124,
     "user": {
      "displayName": "Gauranga Das",
      "photoUrl": "https://lh3.googleusercontent.com/a-/AOh14Ghark55sEd5aQAxm0p2QpHbfOx9t5trkpKOYuC6TA=s64",
      "userId": "14540594540746384872"
     },
     "user_tz": -330
    },
    "id": "4DpkKW6UbVar",
    "outputId": "5287fbbf-04e5-445e-b321-48aff341980c"
   },
   "outputs": [
    {
     "name": "stdout",
     "output_type": "stream",
     "text": [
      "Number of training examples: 67176\n",
      "Number of validation examples: 2799\n"
     ]
    }
   ],
   "source": [
    "print(f\"Number of training examples: {len(train_data)}\")\n",
    "print(f\"Number of validation examples: {len(valid_data)}\")"
   ]
  },
  {
   "cell_type": "code",
   "execution_count": 15,
   "metadata": {
    "colab": {
     "base_uri": "https://localhost:8080/",
     "height": 55
    },
    "colab_type": "code",
    "executionInfo": {
     "elapsed": 742,
     "status": "ok",
     "timestamp": 1598618981440,
     "user": {
      "displayName": "Gauranga Das",
      "photoUrl": "https://lh3.googleusercontent.com/a-/AOh14Ghark55sEd5aQAxm0p2QpHbfOx9t5trkpKOYuC6TA=s64",
      "userId": "14540594540746384872"
     },
     "user_tz": -330
    },
    "id": "9kNQi1qbbZQA",
    "outputId": "24987004-732f-4940-ecfb-4a7d5cb28c18"
   },
   "outputs": [
    {
     "name": "stdout",
     "output_type": "stream",
     "text": [
      "{'text': [2054, 6433, 2000, 17886, 2050, 2043, 2009, 5829, 2000, 1996, 2235, 20014, 4355, 3170, 1029, 102, 2009, 2003, 1037, 2485, 5662, 1997, 1037, 18847, 12617, 12412, 4308, 1006, 1041, 1012, 1043, 1012, 1010, 2216, 1999, 4286, 2030, 14695, 1007, 1010, 1998, 17886, 2050, 2003, 13995, 2182, 1999, 2172, 1996, 2168, 2126, 1012], 'label': 'not_entailment'}\n"
     ]
    }
   ],
   "source": [
    "print(vars(train_data.examples[6]))"
   ]
  },
  {
   "cell_type": "code",
   "execution_count": 16,
   "metadata": {
    "colab": {
     "base_uri": "https://localhost:8080/",
     "height": 55
    },
    "colab_type": "code",
    "executionInfo": {
     "elapsed": 1203,
     "status": "ok",
     "timestamp": 1598618982088,
     "user": {
      "displayName": "Gauranga Das",
      "photoUrl": "https://lh3.googleusercontent.com/a-/AOh14Ghark55sEd5aQAxm0p2QpHbfOx9t5trkpKOYuC6TA=s64",
      "userId": "14540594540746384872"
     },
     "user_tz": -330
    },
    "id": "rSlXFP-7bb-Z",
    "outputId": "8fd6698e-5632-40f5-e673-60cef43978b3"
   },
   "outputs": [
    {
     "name": "stdout",
     "output_type": "stream",
     "text": [
      "['what', 'happens', 'to', 'digest', '##a', 'when', 'it', 'moves', 'to', 'the', 'small', 'int', '##est', '##ine', '?', '[SEP]', 'it', 'is', 'a', 'close', 'equivalent', 'of', 'a', 'mono', '##gas', '##tric', 'stomach', '(', 'e', '.', 'g', '.', ',', 'those', 'in', 'humans', 'or', 'pigs', ')', ',', 'and', 'digest', '##a', 'is', 'processed', 'here', 'in', 'much', 'the', 'same', 'way', '.']\n"
     ]
    }
   ],
   "source": [
    "tokens = tokenizer.convert_ids_to_tokens(vars(train_data.examples[6])['text'])\n",
    "\n",
    "print(tokens)"
   ]
  },
  {
   "cell_type": "code",
   "execution_count": 17,
   "metadata": {
    "colab": {},
    "colab_type": "code",
    "executionInfo": {
     "elapsed": 1036,
     "status": "ok",
     "timestamp": 1598618982091,
     "user": {
      "displayName": "Gauranga Das",
      "photoUrl": "https://lh3.googleusercontent.com/a-/AOh14Ghark55sEd5aQAxm0p2QpHbfOx9t5trkpKOYuC6TA=s64",
      "userId": "14540594540746384872"
     },
     "user_tz": -330
    },
    "id": "OkiMUS95bd6X"
   },
   "outputs": [],
   "source": [
    "LABEL.build_vocab(train_data)"
   ]
  },
  {
   "cell_type": "code",
   "execution_count": 18,
   "metadata": {
    "colab": {
     "base_uri": "https://localhost:8080/",
     "height": 35
    },
    "colab_type": "code",
    "executionInfo": {
     "elapsed": 868,
     "status": "ok",
     "timestamp": 1598618982093,
     "user": {
      "displayName": "Gauranga Das",
      "photoUrl": "https://lh3.googleusercontent.com/a-/AOh14Ghark55sEd5aQAxm0p2QpHbfOx9t5trkpKOYuC6TA=s64",
      "userId": "14540594540746384872"
     },
     "user_tz": -330
    },
    "id": "cD6zvf6hbgA8",
    "outputId": "d4d60454-24b1-4e7e-f446-1757203ca467"
   },
   "outputs": [
    {
     "name": "stdout",
     "output_type": "stream",
     "text": [
      "defaultdict(None, {'not_entailment': 0, 'entailment': 1})\n"
     ]
    }
   ],
   "source": [
    "print(LABEL.vocab.stoi)"
   ]
  },
  {
   "cell_type": "code",
   "execution_count": 19,
   "metadata": {
    "colab": {},
    "colab_type": "code",
    "executionInfo": {
     "elapsed": 1156,
     "status": "ok",
     "timestamp": 1598618982568,
     "user": {
      "displayName": "Gauranga Das",
      "photoUrl": "https://lh3.googleusercontent.com/a-/AOh14Ghark55sEd5aQAxm0p2QpHbfOx9t5trkpKOYuC6TA=s64",
      "userId": "14540594540746384872"
     },
     "user_tz": -330
    },
    "id": "tUMw7wkSbhAA"
   },
   "outputs": [],
   "source": [
    "BATCH_SIZE = 24\n",
    "\n",
    "device = torch.device('cuda')\n",
    "\n",
    "train_iterator, valid_iterator = data.BucketIterator.splits(\n",
    "    (train_data, valid_data), \n",
    "    batch_size = BATCH_SIZE, \n",
    "    device = device,\n",
    "    sort_key=lambda x: len(x.text))"
   ]
  },
  {
   "cell_type": "code",
   "execution_count": 20,
   "metadata": {},
   "outputs": [],
   "source": [
    "class BERTSentiment(nn.Module):\n",
    "    def __init__(self):\n",
    "        \n",
    "        super().__init__()\n",
    "        \n",
    "        self.bert = BertModel.from_pretrained('bert-base-uncased')\n",
    "        \n",
    "        embedding_dim = self.bert.config.to_dict()['hidden_size']\n",
    "\n",
    "        self.output = nn.Linear(embedding_dim, 1)\n",
    "                \n",
    "    def forward(self, text):\n",
    "        \n",
    "        #text = [batch size, sent len]\n",
    "        \n",
    "        embedded = self.bert(text)[0]\n",
    "        \n",
    "        logits = embedded[:,0,:]\n",
    "        final_logits = self.output(logits)\n",
    "        \n",
    "        return final_logits"
   ]
  },
  {
   "cell_type": "code",
   "execution_count": 21,
   "metadata": {
    "colab": {},
    "colab_type": "code",
    "executionInfo": {
     "elapsed": 3782,
     "status": "ok",
     "timestamp": 1598618989058,
     "user": {
      "displayName": "Gauranga Das",
      "photoUrl": "https://lh3.googleusercontent.com/a-/AOh14Ghark55sEd5aQAxm0p2QpHbfOx9t5trkpKOYuC6TA=s64",
      "userId": "14540594540746384872"
     },
     "user_tz": -330
    },
    "id": "WJNKyAUhblcN"
   },
   "outputs": [],
   "source": [
    "model = BERTSentiment().cuda()"
   ]
  },
  {
   "cell_type": "code",
   "execution_count": 22,
   "metadata": {
    "colab": {
     "base_uri": "https://localhost:8080/",
     "height": 35
    },
    "colab_type": "code",
    "executionInfo": {
     "elapsed": 3609,
     "status": "ok",
     "timestamp": 1598618989059,
     "user": {
      "displayName": "Gauranga Das",
      "photoUrl": "https://lh3.googleusercontent.com/a-/AOh14Ghark55sEd5aQAxm0p2QpHbfOx9t5trkpKOYuC6TA=s64",
      "userId": "14540594540746384872"
     },
     "user_tz": -330
    },
    "id": "HpoU2CptbmtB",
    "outputId": "13e82f91-8a11-4aac-9f62-8b76a7d7887e"
   },
   "outputs": [
    {
     "name": "stdout",
     "output_type": "stream",
     "text": [
      "The model has 109,483,009 trainable parameters\n"
     ]
    }
   ],
   "source": [
    "def count_parameters(model):\n",
    "    return sum(p.numel() for p in model.parameters() if p.requires_grad)\n",
    "\n",
    "print(f'The model has {count_parameters(model):,} trainable parameters')"
   ]
  },
  {
   "cell_type": "code",
   "execution_count": 23,
   "metadata": {
    "colab": {},
    "colab_type": "code",
    "executionInfo": {
     "elapsed": 1301,
     "status": "ok",
     "timestamp": 1598618989623,
     "user": {
      "displayName": "Gauranga Das",
      "photoUrl": "https://lh3.googleusercontent.com/a-/AOh14Ghark55sEd5aQAxm0p2QpHbfOx9t5trkpKOYuC6TA=s64",
      "userId": "14540594540746384872"
     },
     "user_tz": -330
    },
    "id": "VcgHGINCbrS4"
   },
   "outputs": [],
   "source": [
    "import torch.optim as optim\n",
    "\n",
    "optimizer = optim.Adam(model.parameters(), lr=0.00002)"
   ]
  },
  {
   "cell_type": "code",
   "execution_count": 24,
   "metadata": {
    "colab": {},
    "colab_type": "code",
    "executionInfo": {
     "elapsed": 725,
     "status": "ok",
     "timestamp": 1598618991352,
     "user": {
      "displayName": "Gauranga Das",
      "photoUrl": "https://lh3.googleusercontent.com/a-/AOh14Ghark55sEd5aQAxm0p2QpHbfOx9t5trkpKOYuC6TA=s64",
      "userId": "14540594540746384872"
     },
     "user_tz": -330
    },
    "id": "oLGp_pZ6bsxQ"
   },
   "outputs": [],
   "source": [
    "criterion = nn.BCEWithLogitsLoss().cuda()"
   ]
  },
  {
   "cell_type": "code",
   "execution_count": 25,
   "metadata": {
    "colab": {},
    "colab_type": "code",
    "executionInfo": {
     "elapsed": 4692,
     "status": "ok",
     "timestamp": 1598618995645,
     "user": {
      "displayName": "Gauranga Das",
      "photoUrl": "https://lh3.googleusercontent.com/a-/AOh14Ghark55sEd5aQAxm0p2QpHbfOx9t5trkpKOYuC6TA=s64",
      "userId": "14540594540746384872"
     },
     "user_tz": -330
    },
    "id": "bYictUvObu3m"
   },
   "outputs": [],
   "source": [
    "def binary_accuracy(preds, y):\n",
    "    rounded_preds = torch.round(torch.sigmoid(preds))\n",
    "    correct = (rounded_preds == y).float() #convert into float for division \n",
    "    acc = correct.sum() / len(correct)\n",
    "    return acc"
   ]
  },
  {
   "cell_type": "code",
   "execution_count": 26,
   "metadata": {
    "colab": {
     "base_uri": "https://localhost:8080/",
     "height": 305
    },
    "colab_type": "code",
    "executionInfo": {
     "elapsed": 1327544,
     "status": "ok",
     "timestamp": 1598620324128,
     "user": {
      "displayName": "Gauranga Das",
      "photoUrl": "https://lh3.googleusercontent.com/a-/AOh14Ghark55sEd5aQAxm0p2QpHbfOx9t5trkpKOYuC6TA=s64",
      "userId": "14540594540746384872"
     },
     "user_tz": -330
    },
    "id": "0L8dnX32bv5o",
    "outputId": "2d100ab4-5df3-4804-88a2-a943bea442e1"
   },
   "outputs": [
    {
     "name": "stdout",
     "output_type": "stream",
     "text": [
      "EPOCH : 1 | TIME : 1901.51\n",
      "TRAIN LOSS : 0.40\tTRAIN ACC : 82.01\n",
      "VALID LOSS : 0.32\tVALID ACC : 86.55\n",
      "\n",
      "EPOCH : 2 | TIME : 2543.73\n",
      "TRAIN LOSS : 0.24\tTRAIN ACC : 90.25\n",
      "VALID LOSS : 0.34\tVALID ACC : 86.57\n",
      "\n"
     ]
    }
   ],
   "source": [
    "N_EPOCHS = 2\n",
    "\n",
    "best_valid_loss = float('inf')\n",
    "\n",
    "for epoch in range(N_EPOCHS):\n",
    "    \n",
    "    start_time = time.time()\n",
    "    # TRAIN\n",
    "    ############################################################################\n",
    "    epoch_loss = 0\n",
    "    epoch_acc = 0\n",
    "    \n",
    "    model.train()\n",
    "    \n",
    "    for batch in train_iterator:\n",
    "        \n",
    "        optimizer.zero_grad()\n",
    "        \n",
    "        predictions = model(batch.text).squeeze(1)\n",
    "        \n",
    "        loss = criterion(predictions, batch.label)\n",
    "        \n",
    "        acc = binary_accuracy(predictions, batch.label)\n",
    "        \n",
    "        loss.backward()\n",
    "        \n",
    "        optimizer.step()\n",
    "        \n",
    "        epoch_loss += loss.item()\n",
    "        epoch_acc += acc.item()\n",
    "        \n",
    "    train_loss, train_acc = epoch_loss / len(train_iterator), epoch_acc / len(train_iterator)\n",
    "    ############################################################################\n",
    "    \n",
    "    # VALID\n",
    "    ############################################################################\n",
    "    epoch_loss = 0\n",
    "    epoch_acc = 0\n",
    "    \n",
    "    model.eval()\n",
    "    \n",
    "    with torch.no_grad():\n",
    "    \n",
    "        for batch in valid_iterator:\n",
    "\n",
    "            predictions = model(batch.text).squeeze(1)\n",
    "            \n",
    "            loss = criterion(predictions, batch.label)\n",
    "            \n",
    "            acc = binary_accuracy(predictions, batch.label)\n",
    "\n",
    "            epoch_loss += loss.item()\n",
    "            epoch_acc += acc.item()\n",
    "        \n",
    "    valid_loss, valid_acc = epoch_loss / len(valid_iterator), epoch_acc / len(valid_iterator)\n",
    "    ############################################################################\n",
    "    end_time = time.time()\n",
    "    \n",
    "    print(f\"EPOCH : {epoch+1} | TIME : {end_time-start_time:.2f}\")\n",
    "    print(f\"TRAIN LOSS : {train_loss:.2f}\\tTRAIN ACC : {train_acc*100:.2f}\")\n",
    "    print(f\"VALID LOSS : {valid_loss:.2f}\\tVALID ACC : {valid_acc*100:.2f}\\n\")\n",
    "    torch.save(model.state_dict(), f'para_rank_model_{epoch+1}.pt')"
   ]
  },
  {
   "cell_type": "code",
   "execution_count": null,
   "metadata": {},
   "outputs": [],
   "source": []
  },
  {
   "cell_type": "code",
   "execution_count": null,
   "metadata": {},
   "outputs": [],
   "source": []
  },
  {
   "cell_type": "code",
   "execution_count": null,
   "metadata": {
    "colab": {},
    "colab_type": "code",
    "executionInfo": {
     "elapsed": 1326968,
     "status": "ok",
     "timestamp": 1598620324135,
     "user": {
      "displayName": "Gauranga Das",
      "photoUrl": "https://lh3.googleusercontent.com/a-/AOh14Ghark55sEd5aQAxm0p2QpHbfOx9t5trkpKOYuC6TA=s64",
      "userId": "14540594540746384872"
     },
     "user_tz": -330
    },
    "id": "AGor8SZ1cruR"
   },
   "outputs": [],
   "source": []
  },
  {
   "cell_type": "code",
   "execution_count": null,
   "metadata": {
    "colab": {},
    "colab_type": "code",
    "executionInfo": {
     "elapsed": 1326784,
     "status": "ok",
     "timestamp": 1598620324136,
     "user": {
      "displayName": "Gauranga Das",
      "photoUrl": "https://lh3.googleusercontent.com/a-/AOh14Ghark55sEd5aQAxm0p2QpHbfOx9t5trkpKOYuC6TA=s64",
      "userId": "14540594540746384872"
     },
     "user_tz": -330
    },
    "id": "gMhz-2X0crwh"
   },
   "outputs": [],
   "source": []
  },
  {
   "cell_type": "code",
   "execution_count": 27,
   "metadata": {
    "colab": {},
    "colab_type": "code",
    "executionInfo": {
     "elapsed": 1326581,
     "status": "ok",
     "timestamp": 1598620324137,
     "user": {
      "displayName": "Gauranga Das",
      "photoUrl": "https://lh3.googleusercontent.com/a-/AOh14Ghark55sEd5aQAxm0p2QpHbfOx9t5trkpKOYuC6TA=s64",
      "userId": "14540594540746384872"
     },
     "user_tz": -330
    },
    "id": "pR8pZ72QcQ6z"
   },
   "outputs": [],
   "source": [
    "def predict_sentiment(model, tokenizer, sentence):\n",
    "    model.eval()\n",
    "    tokens = tokenizer.tokenize(sentence)\n",
    "    tokens = tokens[:max_input_length-2]\n",
    "    indexed = [init_token_idx] + tokenizer.convert_tokens_to_ids(tokens) + [eos_token_idx]\n",
    "    tensor = torch.LongTensor(indexed).to(device)\n",
    "    tensor = tensor.unsqueeze(0)\n",
    "    prediction = torch.sigmoid(model(tensor))\n",
    "    return prediction.item()"
   ]
  },
  {
   "cell_type": "code",
   "execution_count": 28,
   "metadata": {
    "colab": {
     "base_uri": "https://localhost:8080/",
     "height": 1000
    },
    "colab_type": "code",
    "executionInfo": {
     "elapsed": 1326205,
     "status": "ok",
     "timestamp": 1598620324137,
     "user": {
      "displayName": "Gauranga Das",
      "photoUrl": "https://lh3.googleusercontent.com/a-/AOh14Ghark55sEd5aQAxm0p2QpHbfOx9t5trkpKOYuC6TA=s64",
      "userId": "14540594540746384872"
     },
     "user_tz": -330
    },
    "id": "9aU1XAADcWy1",
    "outputId": "3bf7cf50-be12-47cd-de64-11806c92fcaa"
   },
   "outputs": [
    {
     "name": "stdout",
     "output_type": "stream",
     "text": [
      "TEXT\n",
      "in what century did public drinking regulations first exist in england ? [SEP] tavern owners were required to possess a licence to sell ale , and a separate licence for di ##sti ##lled spirits .\n",
      "LABEL : not_entailment\n",
      "PREDICTION : 0.000944725819863379\n",
      "\n",
      "\n",
      "TEXT\n",
      "what did the advancement ##s during the revolution improve for people ? [SEP] the advancement ##s made a great contribution to the quality of life .\n",
      "LABEL : entailment\n",
      "PREDICTION : 0.7218703031539917\n",
      "\n",
      "\n",
      "TEXT\n",
      "the largest sector of greece ' s economy is what ? [SEP] its economy mainly comprises the service sector ( 85 . 0 % ) and industry ( 12 . 0 % ) , while agriculture makes up 3 . 0 % of the national economic output .\n",
      "LABEL : entailment\n",
      "PREDICTION : 0.9812381863594055\n",
      "\n",
      "\n",
      "TEXT\n",
      "where did the mori ##sco ##s go when they were forced out of spain ? [SEP] the crown endeavour ##ed to compensate the nobles , who had lost much of their agricultural labour force ; this harmed the economy of the city for generations to come .\n",
      "LABEL : not_entailment\n",
      "PREDICTION : 0.018182439729571342\n",
      "\n",
      "\n",
      "TEXT\n",
      "what authority did gaddafi have over the libyan armed forces ? [SEP] although no longer in a formal governmental post , he adopted the title of \" leader of the revolution \" and continued as commander - in - chief of the armed forces .\n",
      "LABEL : entailment\n",
      "PREDICTION : 0.48718082904815674\n",
      "\n",
      "\n",
      "TEXT\n",
      "what are some of the outlines of life ? [SEP] according to author michael carr ##ith ##ers , while there are good reasons to doubt the traditional account , \" the outline of the life must be true : birth , maturity , ren ##unciation , search , awakening and liberation , teaching , death . \"\n",
      "LABEL : entailment\n",
      "PREDICTION : 0.9793171882629395\n",
      "\n",
      "\n",
      "TEXT\n",
      "where did c ##æ ##dm ##on live ? [SEP] c ##æ ##dm ##on , the earliest english poet we know by name , served as a lay brother in the monastery at w ##hit ##by .\n",
      "LABEL : entailment\n",
      "PREDICTION : 0.9623312950134277\n",
      "\n",
      "\n",
      "TEXT\n",
      "what novel concept was introduced at the end of the 20th century ? [SEP] in the late 20th century a new concept was added to those included in the compass of both structure and function , the consideration of sustainability , hence sustainable architecture .\n",
      "LABEL : entailment\n",
      "PREDICTION : 0.5410952568054199\n",
      "\n",
      "\n",
      "TEXT\n",
      "in what or ##tha ##graphy does modern estonian or ##th ##ography have its basis ? [SEP] earlier writing in estonian had by and large used an ad hoc or ##th ##ography based on latin and middle low german or ##th ##ography .\n",
      "LABEL : not_entailment\n",
      "PREDICTION : 0.16800212860107422\n",
      "\n",
      "\n",
      "TEXT\n",
      "who founded the gel ##ug school ? [SEP] in 156 ##5 they were overthrow ##n by the ts ##ang ##pa dynasty of shi ##gat ##se which expanded its power in different directions of tibet in the following decades and favoured the karma ka ##gy ##u sect .\n",
      "LABEL : not_entailment\n",
      "PREDICTION : 0.05054638162255287\n",
      "\n",
      "\n",
      "TEXT\n",
      "on what date was william r . to ##lbert killed ? [SEP] on april 12 , 1980 , a military coup led by master sergeant samuel doe of the k ##rah ##n ethnic group over ##th ##rew and killed president william r . to ##lbert , jr . .\n",
      "LABEL : entailment\n",
      "PREDICTION : 0.9972953200340271\n",
      "\n",
      "\n",
      "TEXT\n",
      "along with political controversy , what can the distinction between a language and dialect sometimes lead to ? [SEP] the distinction between language and dialect is thus inevitably made at least as much on a political basis as on a linguistic one , and can lead to great political controversy , or even armed conflict .\n",
      "LABEL : entailment\n",
      "PREDICTION : 0.9966913461685181\n",
      "\n",
      "\n",
      "TEXT\n",
      "who estimated the russian population was 90 million fewer than it could have been in 1945 ? [SEP] stephen j . lee estimates that , by the end of world war ii in 1945 , the russian population was about 90 million fewer than it could have been otherwise .\n",
      "LABEL : entailment\n",
      "PREDICTION : 0.9979641437530518\n",
      "\n",
      "\n",
      "TEXT\n",
      "what component of emotion provides its perceived energy ? [SEP] core affect is not the only component to emotion , but gives the emotion its he ##don ##ic and felt energy .\n",
      "LABEL : not_entailment\n",
      "PREDICTION : 0.6797611117362976\n",
      "\n",
      "\n",
      "TEXT\n",
      "how long after the annexation of k ##res ##y was the amendment made ? [SEP] on 28 september 1939 , the soviet union and german reich issued a joint declaration in which they declared :\n",
      "LABEL : not_entailment\n",
      "PREDICTION : 0.004722428508102894\n",
      "\n",
      "\n",
      "TEXT\n",
      "what writing system combined phonetic symbols and logo ##gram ##s ? [SEP] it is most often classified as a logo ##graphic or ( more properly ) a logos ##yl ##lab ##ic writing system , in which sy ##lla ##bic signs play a significant role .\n",
      "LABEL : not_entailment\n",
      "PREDICTION : 0.2819080352783203\n",
      "\n",
      "\n",
      "TEXT\n",
      "who commonly , or at least attempt to , ab ##ide by the rule of law ? [SEP] despite wide use by politicians , judges and academics , the rule of law has been described as \" an exceeding ##ly elusive notion \" .\n",
      "LABEL : entailment\n",
      "PREDICTION : 0.7098705172538757\n",
      "\n",
      "\n",
      "TEXT\n",
      "how many years did the liberals stay in office after the 1949 election ? [SEP] after an initial loss to labor at the 1946 election , men ##zie ##s led the liberals to victory at the 1949 election , and the party stayed in office for a record 23 years — still the longest unbroken run in government at the federal level .\n",
      "LABEL : entailment\n",
      "PREDICTION : 0.9985600113868713\n",
      "\n",
      "\n",
      "TEXT\n",
      "what radio station format is soft ac often contrasted with ? [SEP] soft ac , which has never minded keeping songs in high rotation literally for years in some cases , does not appear necessarily to be facing similar pressures to expand its format .\n",
      "LABEL : not_entailment\n",
      "PREDICTION : 0.10626007616519928\n",
      "\n",
      "\n",
      "TEXT\n",
      "how many terra ##wat ##ts of radiation does the earth receive ? [SEP] the spectrum of solar light at the earth ' s surface is mostly spread across the visible and near - infrared ranges with a small part in the near - ultraviolet .\n",
      "LABEL : not_entailment\n",
      "PREDICTION : 0.0019457223825156689\n",
      "\n",
      "\n"
     ]
    }
   ],
   "source": [
    "idxs = random.sample(range(0,len(valid_data.examples)),20)\n",
    "for i in idxs:\n",
    "    txt = ' '.join(tokenizer.convert_ids_to_tokens(vars(valid_data.examples[i])['text']))\n",
    "    label = vars(valid_data.examples[i])['label']\n",
    "    pred = predict_sentiment(model, tokenizer, txt)\n",
    "    \n",
    "    print(f\"TEXT\\n{txt}\")\n",
    "    print(f\"LABEL : {label}\")\n",
    "    print(f\"PREDICTION : {pred}\\n\\n\")"
   ]
  },
  {
   "cell_type": "code",
   "execution_count": null,
   "metadata": {
    "colab": {},
    "colab_type": "code",
    "id": "AQgCqA2VcYb6"
   },
   "outputs": [],
   "source": []
  },
  {
   "cell_type": "code",
   "execution_count": null,
   "metadata": {
    "colab": {},
    "colab_type": "code",
    "id": "E2udpWxjmI7F"
   },
   "outputs": [],
   "source": []
  }
 ],
 "metadata": {
  "accelerator": "GPU",
  "colab": {
   "authorship_tag": "ABX9TyPUOSL6GvR/xYfl+EI4W4sN",
   "collapsed_sections": [],
   "name": "qnli_model_train.ipynb",
   "provenance": []
  },
  "kernelspec": {
   "display_name": "Python 3",
   "language": "python",
   "name": "python3"
  },
  "language_info": {
   "codemirror_mode": {
    "name": "ipython",
    "version": 3
   },
   "file_extension": ".py",
   "mimetype": "text/x-python",
   "name": "python",
   "nbconvert_exporter": "python",
   "pygments_lexer": "ipython3",
   "version": "3.8.3"
  }
 },
 "nbformat": 4,
 "nbformat_minor": 4
}

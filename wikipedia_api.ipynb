{
 "cells": [
  {
   "cell_type": "code",
   "execution_count": 1,
   "metadata": {},
   "outputs": [],
   "source": [
    "import wikipedia"
   ]
  },
  {
   "cell_type": "code",
   "execution_count": null,
   "metadata": {},
   "outputs": [],
   "source": []
  },
  {
   "cell_type": "code",
   "execution_count": null,
   "metadata": {},
   "outputs": [],
   "source": []
  },
  {
   "cell_type": "code",
   "execution_count": 2,
   "metadata": {},
   "outputs": [
    {
     "name": "stdout",
     "output_type": "stream",
     "text": [
      "(['Coronavirus', 'COVID-19 pandemic', 'COVID-19 pandemic by country and territory', 'COVID-19 pandemic in the United States'], None)\n"
     ]
    }
   ],
   "source": [
    "print(wikipedia.search(\"coronavirus\", results=4, suggestion=True))"
   ]
  },
  {
   "cell_type": "code",
   "execution_count": 3,
   "metadata": {},
   "outputs": [
    {
     "name": "stdout",
     "output_type": "stream",
     "text": [
      "coronavirus\n"
     ]
    }
   ],
   "source": [
    "print(wikipedia.suggest('coronavir'))"
   ]
  },
  {
   "cell_type": "code",
   "execution_count": null,
   "metadata": {},
   "outputs": [],
   "source": []
  },
  {
   "cell_type": "code",
   "execution_count": null,
   "metadata": {},
   "outputs": [],
   "source": []
  },
  {
   "cell_type": "code",
   "execution_count": 4,
   "metadata": {},
   "outputs": [
    {
     "name": "stdout",
     "output_type": "stream",
     "text": [
      "Coronaviruses are a group of related RNA viruses that cause diseases in mammals and birds. In humans, these viruses cause respiratory tract infections that can range from mild to lethal. Mild illnesses include some cases of the common cold (which is also caused by other viruses, predominantly rhinoviruses), while more lethal varieties can cause SARS, MERS, and COVID-19. Symptoms in other species vary: in chickens, they cause an upper respiratory tract disease, while in cows and pigs they cause diarrhea. There are as yet no vaccines or antiviral drugs to prevent or treat human coronavirus infections.\n",
      "Coronaviruses constitute the subfamily Orthocoronavirinae, in the family Coronaviridae, order Nidovirales, and realm Riboviria. They are enveloped viruses with a positive-sense single-stranded RNA genome and a nucleocapsid of helical symmetry. The genome size of coronaviruses ranges from approximately 26 to 32 kilobases, one of the largest among RNA viruses. They have characteristic club-shaped spikes that project from their surface, which in electron micrographs create an image reminiscent of the solar corona, from which their name derives.\n"
     ]
    }
   ],
   "source": [
    "print(wikipedia.summary(\"Coronavirus\"))"
   ]
  },
  {
   "cell_type": "code",
   "execution_count": null,
   "metadata": {},
   "outputs": [],
   "source": []
  },
  {
   "cell_type": "code",
   "execution_count": null,
   "metadata": {},
   "outputs": [],
   "source": []
  },
  {
   "cell_type": "code",
   "execution_count": 5,
   "metadata": {},
   "outputs": [],
   "source": [
    "covid = wikipedia.page(\"Coronavirus\")"
   ]
  },
  {
   "cell_type": "code",
   "execution_count": 6,
   "metadata": {},
   "outputs": [
    {
     "name": "stdout",
     "output_type": "stream",
     "text": [
      "Coronavirus\n"
     ]
    }
   ],
   "source": [
    "print(covid.title)"
   ]
  },
  {
   "cell_type": "code",
   "execution_count": 7,
   "metadata": {},
   "outputs": [
    {
     "name": "stdout",
     "output_type": "stream",
     "text": [
      "https://en.wikipedia.org/wiki/Coronavirus\n"
     ]
    }
   ],
   "source": [
    "print(covid.url)"
   ]
  },
  {
   "cell_type": "code",
   "execution_count": 8,
   "metadata": {},
   "outputs": [
    {
     "name": "stdout",
     "output_type": "stream",
     "text": [
      "Coronaviruses are a group of related RNA viruses that cause diseases in mammals and birds. In humans, these viruses cause respiratory tract infections that can range from mild to lethal. Mild illnesses include some cases of the common cold (which is also caused by other viruses, predominantly rhinoviruses), while more lethal varieties can cause SARS, MERS, and COVID-19. Symptoms in other species vary: in chickens, they cause an upper respiratory tract disease, while in cows and pigs they cause diarrhea. There are as yet no vaccines or antiviral drugs to prevent or treat human coronavirus infections.\n",
      "Coronaviruses constitute the subfamily Orthocoronavirinae, in the family Coronaviridae, order Nidovirales, and realm Riboviria. They are enveloped viruses with a positive-sense single-stranded RNA genome and a nucleocapsid of helical symmetry. The genome size of coronaviruses ranges from approximately 26 to 32 kilobases, one of the largest among RNA viruses. They have characteristic club-shaped spikes that project from their surface, which in electron micrographs create an image reminiscent of the solar corona, from which their name derives.\n",
      "\n",
      "\n",
      "== Etymology ==\n",
      "The name \"coronavirus\" is derived from Latin corona, meaning \"crown\" or \"wreath\", itself a borrowing from Greek κορώνη korṓnē, \"garland, wreath\". The name was coined by June Almeida and David Tyrrell who first observed and studied human coronaviruses. The word was first used in print in 1968 by an informal group of virologists in the journal Nature to designate the new family of viruses. The name refers to the characteristic appearance of virions (the infective form of the virus) by electron microscopy, which have a fringe of large, bulbous surface projections creating an image reminiscent of the solar corona or halo. This morphology is created by the viral spike peplomers, which are proteins on the surface of the virus.\n",
      "\n",
      "\n",
      "== History ==\n",
      "Coronaviruses were first discovered in the 1930s when an acute respiratory infection of domesticated chickens was shown to be caused by infectious bronchitis virus (IBV). Arthur Schalk and M.C. Hawn described in 1931 a new respiratory infection of chickens in North Dakota. The infection of new-born chicks was characterized by gasping and listlessness. The chicks' mortality rate was 40–90%. Fred Beaudette and Charles Hudson six years later successfully isolated and cultivated the infectious bronchitis virus which caused the disease. In the 1940s, two more animal coronaviruses, mouse hepatitis virus (MHV) and transmissible gastroenteritis virus (TGEV), were isolated. It was not realized at the time that these three different viruses were related.Human coronaviruses were discovered in the 1960s. They were isolated using two different methods in the United Kingdom and the United States. E.C. Kendall, Malcom Byone, and David Tyrrell working at the Common Cold Unit of the British Medical Research Council in 1960 isolated from a boy a novel common cold virus B814. The virus was not able to be cultivated using standard techniques which had successfully cultivated rhinoviruses, adenoviruses and other known common cold viruses. In 1965, Tyrrell and Byone successfully cultivated the novel virus by serially passing it through organ culture of human embryonic trachea. The new cultivating method was introduced to the lab by Bertil Hoorn. The isolated virus when intranasally inoculated into volunteers caused a cold and was inactivated by ether which indicated it had a lipid envelope. Around the same time, Dorothy Hamre and John Procknow at the University of Chicago isolated a novel cold virus 229E from medical students, which they grew in kidney tissue culture. The novel virus 229E, like the virus strain B814, when inoculated into volunteers caused a cold and was inactivated by ether.\n",
      "\n",
      "The two novel strains B814 and 229E were subsequently imaged by electron microscopy in 1967 by Scottish virologist June Almeida at St. Thomas Hospital in London. Almeida through electron microscopy was able to show that B814 and 229E were morphologically related by their distinctive club-like spikes. Not only were they related with each other, but they were morphologically related to infectious bronchitis virus (IBV). A research group at the National Institute of Health the same year was able to isolate another member of this new group of viruses using organ culture and named the virus strain OC43 (OC for organ culture). Like B814, 229E, and IBV, the novel cold virus OC43 had distinctive club-like spikes when observed with the electron microscope.The IBV-like novel cold viruses were soon shown to be also morphologically related to the mouse hepatitis virus. This new group of IBV-like viruses came to be known as coronaviruses after their distinctive morphological appearance. Human coronavirus 229E and human coronavirus OC43 continued to be studied in subsequent decades. The coronavirus strain B814 was lost. It is not known which present human coronavirus it was. Other human coronaviruses have since been identified, including SARS-CoV in 2003, HCoV NL63 in 2004, HCoV HKU1 in 2005, MERS-CoV in 2012, and SARS-CoV-2 in 2019. There have also been a large number of animal coronaviruses identified since the 1960s.\n",
      "\n",
      "\n",
      "== Microbiology ==\n",
      "\n",
      "\n",
      "=== Structure ===\n",
      "\n",
      "Coronaviruses are large, roughly spherical particles with bulbous surface projections. The average diameter of the virus particles is around 125 nm (.125 μm). The diameter of the envelope is 85 nm and the spikes are 20 nm long. The envelope of the virus in electron micrographs appears as a distinct pair of electron-dense shells (shells that are relatively opaque to the electron beam used to scan the virus particle).The viral envelope consists of a lipid bilayer, in which the membrane (M), envelope (E) and spike (S) structural proteins are anchored. The ratio of E:S:M in the lipid bilayer is approximately 1:20:300. On average a coronavirus particle has 74 surface spikes. A subset of coronaviruses (specifically the members of betacoronavirus subgroup A) also have a shorter spike-like surface protein called hemagglutinin esterase (HE).The coronavirus surface spikes are homotrimers of the S protein, which is composed of an S1 and S2 subunit. The homotrimeric S protein is a class I fusion protein which mediates the receptor binding and membrane fusion between the virus and host cell. The S1 subunit forms the head of the spike and has the receptor binding domain (RBD). The S2 subunit forms the stem which anchors the spike in the viral envelope and on protease activation enables fusion. The E and M protein are important in forming the viral envelope and maintaining its structural shape.Inside the envelope, there is the nucleocapsid, which is formed from multiple copies of the nucleocapsid (N) protein, which are bound to the positive-sense single-stranded RNA genome in a continuous beads-on-a-string type conformation. The lipid bilayer envelope, membrane proteins, and nucleocapsid protect the virus when it is outside the host cell.\n",
      "\n",
      "\n",
      "=== Genome ===\n",
      "\n",
      "Coronaviruses contain a positive-sense, single-stranded RNA genome. The genome size for coronaviruses ranges from 26.4 to 31.7 kilobases. The genome size is one of the largest among RNA viruses. The genome has a 5′ methylated cap and a 3′ polyadenylated tail.The genome organization for a coronavirus is 5′-leader-UTR-replicase (ORF1ab)-spike (S)-envelope (E)-membrane (M)-nucleocapsid (N)-3′UTR-poly (A) tail. The open reading frames 1a and 1b, which occupy the first two-thirds of the genome, encode the replicase polyprotein (pp1ab). The replicase polyprotein self cleaves to form 16 nonstructural proteins (nsp1–nsp16).The later reading frames encode the four major structural proteins: spike, envelope, membrane, and nucleocapsid. Interspersed between these reading frames are the reading frames for the accessory proteins. The number of accessory proteins and their function is unique depending on the specific coronavirus.\n",
      "\n",
      "\n",
      "=== Replication cycle ===\n",
      "\n",
      "\n",
      "==== Cell entry ====\n",
      "\n",
      "Infection begins when the viral spike protein attaches to its complementary host cell receptor. After attachment, a protease of the host cell cleaves and activates the receptor-attached spike protein. Depending on the host cell protease available, cleavage and activation allows the virus to enter the host cell by endocytosis or direct fusion of the viral envelop with the host membrane.\n",
      "\n",
      "\n",
      "==== Genome translation ====\n",
      "On entry into the host cell, the virus particle is uncoated, and its genome enters the cell cytoplasm. The coronavirus RNA genome has a 5′ methylated cap and a 3′ polyadenylated tail, which allows it to act like a messenger RNA and be directly translated by the host cell's ribosomes. The host ribosomes translate the initial overlapping open reading frames ORF1a and ORF1b of the virus genome into two large overlapping polyproteins, pp1a and pp1ab.\n",
      "\n",
      "The larger polyprotein pp1ab is a result of a -1 ribosomal frameshift caused by a slippery sequence (UUUAAAC) and a downstream RNA pseudoknot at the end of open reading frame ORF1a. The ribosomal frameshift allows for the continuous translation of ORF1a followed by ORF1b.The polyproteins have their own proteases,  PLpro (nsp3) and 3CLpro (nsp5), which cleave the polyproteins at different specific sites. The cleavage of polyprotein pp1ab yields 16 nonstructural proteins (nsp1 to nsp16). Product proteins include various replication  proteins such as RNA-dependent RNA polymerase (nsp12), RNA helicase (nsp13), and exoribonuclease (nsp14).\n",
      "\n",
      "\n",
      "==== Replicase-transcriptase ====\n",
      "\n",
      "A number of the nonstructural proteins coalesce to form a multi-protein replicase-transcriptase complex. The main replicase-transcriptase protein is the RNA-dependent RNA polymerase (RdRp). It is directly involved in the replication and transcription of RNA from an RNA strand. The other nonstructural proteins in the complex assist in the replication and transcription process. The exoribonuclease nonstructural protein, for instance, provides extra fidelity to replication by providing a proofreading function which the RNA-dependent RNA polymerase lacks.Replication – One of the main functions of the complex is to replicate the viral genome. RdRp directly mediates the synthesis of negative-sense genomic RNA from the positive-sense genomic RNA. This is followed by the replication of positive-sense genomic RNA from the negative-sense genomic RNA.\n",
      "\n",
      "Transcription – The other important function of the complex is to transcribe the viral genome. RdRp directly mediates the synthesis of negative-sense subgenomic RNA molecules from the positive-sense genomic RNA. This process is followed by the transcription of these negative-sense subgenomic RNA molecules to their corresponding positive-sense mRNAs. The subgenomic mRNAs form a \"nested set\" which have a common 5'-head and partially duplicate 3'-end.Recombination – The replicase-transcriptase complex is also capable of genetic recombination when at least two viral genomes are present in the same infected cell.  RNA recombination appears to be a major driving force in determining genetic variability within a coronavirus species, the capability of a coronavirus species to jump from one host to another and, infrequently, in determining the emergence of novel coronaviruses.  The exact mechanism of recombination in coronaviruses is unclear, but likely involves template switching during genome replication.\n",
      "\n",
      "\n",
      "==== Assembly and release ====\n",
      "The replicated positive-sense genomic RNA becomes the genome of the progeny viruses. The mRNAs are gene transcripts of the last third of the virus genome after the initial overlapping reading frame. These mRNAs are translated by the host's ribosomes into the structural proteins and a number of accessory proteins. RNA translation occurs inside the endoplasmic reticulum. The viral structural proteins S, E, and M move along the secretory pathway into the Golgi intermediate compartment. There, the M proteins direct most protein-protein interactions required for assembly of viruses following its binding to the nucleocapsid. Progeny viruses are then released from the host cell by exocytosis through secretory vesicles. Once released the viruses can infect other host cells.\n",
      "\n",
      "\n",
      "=== Transmission ===\n",
      "Infected carriers are able to shed viruses into the environment. The interaction of the coronavirus spike protein with its complementary cell receptor is central in determining the tissue tropism, infectivity, and species range of the released virus. Coronaviruses mainly target epithelial cells. They are transmitted from one host to another host, depending on the coronavirus species, by either an aerosol, fomite, or fecal-oral route.Human coronaviruses infect the epithelial cells of the respiratory tract, while animal coronaviruses generally infect the epithelial cells of the digestive tract. SARS coronavirus, for example, infects via an aerosol route, the human epithelial cells of the lungs by binding to the angiotensin-converting enzyme 2 (ACE2) receptor. Transmissible gastroenteritis coronavirus (TGEV) infects, via a fecal-oral route, the pig epithelial cells of the digestive tract by binding to the alanine aminopeptidase (APN) receptor.\n",
      "\n",
      "\n",
      "== Classification ==\n",
      "\n",
      "The scientific name for coronavirus is Orthocoronavirinae or Coronavirinae. Coronaviruses belong to the family of Coronaviridae, order Nidovirales, and realm Riboviria. They are divided into alphacoronaviruses and betacoronaviruses which infect mammals – and gammacoronaviruses and deltacoronaviruses, which primarily infect birds.\n",
      "\n",
      "Genus: Alphacoronavirus; type species: Alphacoronavirus 1 (TGEV)\n",
      "Species: Alphacoronavirus 1, Human coronavirus 229E, Human coronavirus NL63, Miniopterus bat coronavirus 1, Miniopterus bat coronavirus HKU8, Porcine epidemic diarrhea virus, Rhinolophus bat coronavirus HKU2, Scotophilus bat coronavirus 512\n",
      "Genus Betacoronavirus; type species: Murine coronavirus (MHV)\n",
      "Species: Betacoronavirus 1 (Bovine Coronavirus, Human coronavirus OC43), Hedgehog coronavirus 1, Human coronavirus HKU1, Middle East respiratory syndrome-related coronavirus, Murine coronavirus, Pipistrellus bat coronavirus HKU5, Rousettus bat coronavirus HKU9, Severe acute respiratory syndrome-related coronavirus (SARS-CoV, SARS-CoV-2), Tylonycteris bat coronavirus HKU4\n",
      "Genus Gammacoronavirus; type species: Avian coronavirus (IBV)\n",
      "Species: Avian coronavirus, Beluga whale coronavirus SW1\n",
      "Genus Deltacoronavirus; type species: Bulbul coronavirus HKU11\n",
      "Species: Bulbul coronavirus HKU11, Porcine coronavirus HKU15\n",
      "\n",
      "\n",
      "== Origin ==\n",
      "\n",
      "The most recent common ancestor (MRCA) of all coronaviruses is estimated to have existed as recently as 8000 BCE, although some models place the common ancestor as far back as 55 million years or more, implying long term coevolution with bat and avian species. The most recent common ancestor of the alphacoronavirus line has been placed at about 2400 BCE, of the betacoronavirus line at 3300 BCE, of the gammacoronavirus line at 2800 BCE, and of the deltacoronavirus line at about 3000 BCE. Bats and birds, as warm-blooded flying vertebrates, are an ideal natural reservoir for the coronavirus gene pool (with bats the reservoir for alphacoronaviruses and betacoronavirus – and birds the reservoir for gammacoronaviruses and deltacoronaviruses). The large number and global range of bat and avian species that host viruses has enabled extensive evolution and dissemination of coronaviruses.Many human coronaviruses have their origin in bats. The human coronavirus NL63 shared a common ancestor with a bat coronavirus (ARCoV.2) between 1190 and 1449 CE. The human coronavirus 229E shared a common ancestor with a bat coronavirus (GhanaGrp1 Bt CoV) between 1686 and 1800 CE. More recently, alpaca coronavirus and human coronavirus 229E diverged sometime before 1960. MERS-CoV emerged in humans from bats through the intermediate host of camels. MERS-CoV, although related to several bat coronavirus species, appears to have diverged from these several centuries ago. The most closely related bat coronavirus and SARS-CoV diverged in 1986. A possible path of evolution of SARS coronavirus and keen bat coronaviruses is that SARS-related coronaviruses coevolved in bats for a long time. The ancestors of SARS-CoV first infected leaf-nose bats of the genus Hipposideridae; subsequently, they spread to horseshoe bats in the species Rhinolophidae, then to Asian palm civets, and finally to humans.Unlike other betacoronaviruses, bovine coronavirus of the species Betacoronavirus 1 and subgenus Embecovirus is thought to have originated in rodents and not in bats. In the 1790s, equine coronavirus diverged from the bovine coronavirus after a cross-species jump. Later in the 1890s, human coronavirus OC43 diverged from bovine coronavirus after another cross-species spillover event. It is speculated that the flu pandemic of 1890 may have been caused by this spillover event, and not by the influenza virus, because of the related timing, neurological symptoms, and unknown causative agent of the pandemic. Besides causing respiratory infections, human coronavirus OC43 is also suspected of playing a role in neurological diseases. In the 1950s, the human coronavirus OC43 began to diverge into its present genotypes. Phylogentically, mouse hepatitis virus (Murine coronavirus), which infects the mouse's liver and central nervous system, is related to human coronavirus OC43 and bovine coronavirus. Human coronavirus HKU1, like the aforementioned viruses, also has its origins in rodents.\n",
      "\n",
      "\n",
      "== Infection in humans ==\n",
      "\n",
      "Coronaviruses vary significantly in risk factor. Some can kill more than 30% of those infected, such as MERS-CoV, and some are relatively harmless, such as the common cold. Coronaviruses can cause colds with major symptoms, such as fever, and a sore throat from swollen adenoids. Coronaviruses can cause pneumonia (either direct viral pneumonia or secondary bacterial pneumonia) and bronchitis (either direct viral bronchitis or secondary bacterial bronchitis). The human coronavirus discovered in 2003, SARS-CoV, which causes severe acute respiratory syndrome (SARS), has a unique pathogenesis because it causes both upper and lower respiratory tract infections.Six species of human coronaviruses are known, with one species subdivided into two different strains, making seven strains of human coronaviruses altogether.\n",
      "\n",
      "Four human coronaviruses produce symptoms that are generally mild:\n",
      "\n",
      "Human coronavirus OC43 (HCoV-OC43), β-CoV\n",
      "Human coronavirus HKU1 (HCoV-HKU1), β-CoV\n",
      "Human coronavirus 229E (HCoV-229E), α-CoV\n",
      "Human coronavirus NL63 (HCoV-NL63), α-CoVThree human coronaviruses produce symptoms that are potentially severe:\n",
      "\n",
      "Middle East respiratory syndrome-related coronavirus (MERS-CoV), β-CoV\n",
      "Severe acute respiratory syndrome coronavirus (SARS-CoV), β-CoV\n",
      "Severe acute respiratory syndrome coronavirus 2 (SARS-CoV-2), β-CoV\n",
      "\n",
      "\n",
      "=== Common cold ===\n",
      "\n",
      "The human coronaviruses HCoV-OC43, HCoV-HKU1, HCoV-229E, and HCoV-NL63 continually circulate in the human population and produce the generally mild symptoms of the common cold in adults and children worldwide. These coronaviruses cause about 15% of common colds, while 40 to 50% of colds are caused by rhinoviruses.  The four mild coronaviruses have a seasonal incidence occurring in the winter months in temperate climates.  There is no preponderance in any season in tropical climates.\n",
      "\n",
      "\n",
      "=== Severe acute respiratory syndrome (SARS) ===\n",
      "\n",
      "In 2003, following the outbreak of severe acute respiratory syndrome (SARS) which had begun the prior year in Asia, and secondary cases elsewhere in the world, the World Health Organization (WHO) issued a press release stating that a novel coronavirus identified by a number of laboratories was the causative agent for SARS. The virus was officially named the SARS coronavirus (SARS-CoV). More than 8,000 people were infected, about ten percent of whom died.\n",
      "\n",
      "\n",
      "=== Middle East respiratory syndrome (MERS) ===\n",
      "\n",
      "In September 2012, a new type of coronavirus was identified, initially called Novel Coronavirus 2012, and now officially named Middle East respiratory syndrome coronavirus (MERS-CoV). The World Health Organization issued a global alert soon after. The WHO update on 28 September 2012 said the virus did not seem to pass easily from person to person. However, on 12 May 2013, a case of human-to-human transmission in France was confirmed by the French Ministry of Social Affairs and Health. In addition, cases of human-to-human transmission were reported by the Ministry of Health in Tunisia. Two confirmed cases involved people who seemed to have caught the disease from their late father, who became ill after a visit to Qatar and Saudi Arabia. Despite this, it appears the virus had trouble spreading from human to human, as most individuals who are infected do not transmit the virus. By 30 October 2013, there were 124 cases and 52 deaths in Saudi Arabia.After the Dutch Erasmus Medical Centre sequenced the virus, the virus was given a new name, Human Coronavirus—Erasmus Medical Centre (HCoV-EMC). The final name for the virus is Middle East respiratory syndrome coronavirus (MERS-CoV). The only U.S. cases (both survived) were recorded in May 2014.In May 2015, an outbreak of MERS-CoV occurred in the Republic of Korea, when a man who had traveled to the Middle East, visited four hospitals in the Seoul area to treat his illness. This caused one of the largest outbreaks of MERS-CoV outside the Middle East. As of December 2019, 2,468 cases of MERS-CoV infection had been confirmed by laboratory tests, 851 of which were fatal, a mortality rate of approximately 34.5%.\n",
      "\n",
      "\n",
      "=== Coronavirus disease 2019 (COVID-19) ===\n",
      "\n",
      "In December 2019, a pneumonia outbreak was reported in Wuhan, China. On 31 December 2019, the outbreak was traced to a novel strain of coronavirus, which was given the interim name 2019-nCoV by the World Health Organization (WHO), later renamed SARS-CoV-2 by the International Committee on Taxonomy of Viruses.\n",
      "As of 5 August 2020, there have been at least 701,544 confirmed deaths and more than 18,579,615 confirmed cases in the COVID-19 pandemic. The Wuhan strain has been identified as a new strain of Betacoronavirus from group 2B with approximately 70% genetic similarity to the SARS-CoV. The virus has a 96% similarity to a bat coronavirus, so it is widely suspected to originate from bats as well. The pandemic has resulted in travel restrictions and nationwide lockdowns in many countries.\n",
      "\n",
      "\n",
      "== Infection in animals ==\n",
      "Coronaviruses have been recognized as causing pathological conditions in veterinary medicine since the 1930s.  They infect a range of animals including swine, cattle, horses, camels, cats, dogs, rodents, birds and bats.  The majority of animal related coronaviruses infect the intestinal tract and are transmitted by a fecal-oral route. Significant research efforts have been focused on elucidating the viral pathogenesis of these animal coronaviruses, especially by virologists interested in veterinary and zoonotic diseases.\n",
      "\n",
      "\n",
      "=== Farm animals ===\n",
      "Coronaviruses infect domesticated birds. Infectious bronchitis virus (IBV), a type of coronavirus, causes avian infectious bronchitis. The virus is of concern to the poultry industry because of the high mortality from infection, its rapid spread, and its effect on production. The virus affects both meat production and egg production and causes substantial economic loss. In chickens, infectious bronchitis virus targets not only the respiratory tract but also the urogenital tract. The virus can spread to different organs throughout the chicken. The virus is transmitted by aersol and food contaminated by feces. Different vaccines against IBV exist and have helped to limit the spread of the virus and its variants. Infectious bronchitis virus is one of a number of strains of the species Avian coronavirus. Another strain of avian coronavirus is turkey coronavirus (TCV) which causes enteritis in turkeys.Coronaviruses also affect other branches of animal husbandry such as pig farming and the cattle raising. Swine acute diarrhea syndrome coronavirus (SADS-CoV), which is related to bat coronavirus HKU2, causes diarrhea in pigs. Porcine epidemic diarrhea virus (PEDV) is a coronavirus that has recently emerged and similarly causes diarrhea in pigs. Transmissible gastroenteritis virus (TGEV), which is a member of the species Alphacoronavirus 1, is another coronavirus that causes diarrhea in young pigs. In the cattle industry bovine coronavirus (BCV), which is a member of the species Betacoronavirus 1 and related to HCoV-OC43, is responsible for severe profuse enteritis in young calves.\n",
      "\n",
      "\n",
      "=== Domestic pets ===\n",
      "Coronaviruses infect domestic pets such as cats, dogs, and ferrets. There are two forms of feline coronavirus which are both members of the species Alphacoronavirus 1. Feline enteric coronavirus is a pathogen of minor clinical significance, but spontaneous mutation of this virus can result in feline infectious peritonitis (FIP), a disease with high mortality. There are two different coronaviruses that infect dogs. Canine coronavirus (CCoV), which is a member of the species Alphacoronavirus 1, causes mild gastrointestinal disease. Canine respiratory coronavirus (CRCoV), which is a member of the species Betacoronavirus 1 and related to HCoV-OC43, cause respiratory disease. Similarly, there are two types of coronavirus that infect ferrets. Ferret enteric coronavirus causes a gastrointestinal syndrome known as epizootic catarrhal enteritis (ECE), and a more lethal systemic version of the virus (like FIP in cats) known as ferret systemic coronavirus (FSC).\n",
      "\n",
      "\n",
      "=== Laboratory animals ===\n",
      "Coronaviruses infect laboratory animals. Mouse hepatitis virus (MHV), which is a member of the species Murine coronavirus, causes an epidemic murine illness with high mortality, especially among colonies of laboratory mice.  Prior to the discovery of SARS-CoV, MHV was the best-studied coronavirus both in vivo and in vitro as well as at the molecular level.  Some strains of MHV cause a progressive demyelinating encephalitis in mice which has been used as a murine model for multiple sclerosis. Sialodacryoadenitis virus (SDAV), which is a strain of the species Murine coronavirus, is highly infectious coronavirus of laboratory rats, which can be transmitted between individuals by direct contact and indirectly by aerosol.  Acute infections have high morbidity and tropism for the salivary, lachrymal and harderian glands. Rabbit enteric coronavirus causes acute gastrointestinal disease and diarrhea in young European rabbits.  Mortality rates are high.\n",
      "\n",
      "\n",
      "== Prevention and treatment ==\n",
      "There are no vaccines or antiviral drugs to prevent or treat human coronavirus infections. Treatment is only supportive. A number of antivirial targets have been identified such as viral proteases, polymerases, and entry proteins. Drugs are in development which target these proteins and the different steps of viral replication. A number of vaccines using different methods are also under development for different human coronaviruses.There are no antiviral drugs to treat animal coronaviruses.  Vaccines are available for IBV, TGEV, and Canine CoV, although their effectiveness is limited. In the case of outbreaks of highly contagious animal coronaviruses, such as PEDV, measures such as destruction of entire herds of pigs may be used to prevent transmission to other herds.\n",
      "\n",
      "\n",
      "== See also ==\n",
      "Bat-borne virus\n",
      "Zoonosis\n",
      "\n",
      "\n",
      "== References ==\n",
      "\n",
      "\n",
      "== Further reading ==\n"
     ]
    }
   ],
   "source": [
    "print(covid.content)"
   ]
  },
  {
   "cell_type": "code",
   "execution_count": 9,
   "metadata": {},
   "outputs": [
    {
     "name": "stdout",
     "output_type": "stream",
     "text": [
      "['https://upload.wikimedia.org/wikipedia/commons/8/82/SARS-CoV-2_without_background.png', 'https://upload.wikimedia.org/wikipedia/commons/9/96/3D_medical_animation_coronavirus_structure.jpg', 'https://upload.wikimedia.org/wikipedia/commons/0/03/Animal_origins_of_human_coronaviruses.webp', 'https://upload.wikimedia.org/wikipedia/commons/f/f4/Coronavirus_replication.png', 'https://upload.wikimedia.org/wikipedia/commons/e/e5/Coronavirus_virion_structure.svg', 'https://upload.wikimedia.org/wikipedia/commons/6/6b/Journal.pmed.0020240.g001.tif', 'https://upload.wikimedia.org/wikipedia/commons/5/59/Nested_subgenomic_RNA.jpg', 'https://upload.wikimedia.org/wikipedia/commons/7/77/Open_Access_logo_PLoS_transparent.svg', 'https://upload.wikimedia.org/wikipedia/commons/d/dd/Phylogenetic_tree_of_coronaviruses.jpg', 'https://upload.wikimedia.org/wikipedia/commons/7/74/Red_Pencil_Icon.png', 'https://upload.wikimedia.org/wikipedia/commons/f/fd/Replication-transcription_complex_for_Coronaviruses_cropped.png', 'https://upload.wikimedia.org/wikipedia/commons/4/4d/SARS-CoV-2_%28Wikimedia_colors%29.svg', 'https://upload.wikimedia.org/wikipedia/commons/8/82/SARS-CoV-2_without_background.png', 'https://upload.wikimedia.org/wikipedia/commons/1/11/SARS-CoV_MERS-CoV_genome_organization_and_S-protein_domains.png', 'https://upload.wikimedia.org/wikipedia/commons/0/0d/SARS_Coronavirus_Genome_Organization.png', 'https://upload.wikimedia.org/wikipedia/commons/2/2f/Sida-aids.png', 'https://upload.wikimedia.org/wikipedia/commons/3/3d/TEM_of_coronavirus_OC43.jpg', 'https://upload.wikimedia.org/wikipedia/commons/8/8e/Transcription_of_nested_mRNAs.jpg', 'https://upload.wikimedia.org/wikipedia/commons/d/d6/WHO_Rod.svg', 'https://upload.wikimedia.org/wikipedia/commons/d/df/Wikispecies-logo.svg', 'https://upload.wikimedia.org/wikipedia/commons/9/99/Wiktionary-logo-en-v2.svg', 'https://upload.wikimedia.org/wikipedia/en/4/4a/Commons-logo.svg', 'https://upload.wikimedia.org/wikipedia/commons/7/78/Coronaviruses_004_lores.jpg', 'https://upload.wikimedia.org/wikipedia/en/8/8c/Extended-protection-shackle.svg', 'https://upload.wikimedia.org/wikipedia/en/8/8a/OOjs_UI_icon_edit-ltr-progressive.svg']\n"
     ]
    }
   ],
   "source": [
    "print(covid.images)"
   ]
  },
  {
   "cell_type": "code",
   "execution_count": 10,
   "metadata": {},
   "outputs": [
    {
     "name": "stdout",
     "output_type": "stream",
     "text": [
      "['1889–1890 flu pandemic', '2002–2004 SARS outbreak', '2012 Middle East respiratory syndrome coronavirus outbreak', '2015 Middle East respiratory syndrome coronavirus outbreak', '2018 Middle East respiratory syndrome coronavirus outbreak', 'Acute bronchitis', 'Adenoid', 'Adenoviridae', 'Adenovirus infection', 'Adult T-cell leukemia/lymphoma', 'Alanine aminopeptidase', 'Alpaca', 'Alphacoronavirus', 'Anal cancer', 'Ancient Greek', 'Angiotensin-converting enzyme 2', 'Animal husbandry', 'Anorexia (symptom)', 'Antiviral drug', 'Arbovirus encephalitis', 'ArcGIS', 'Asian palm civet', 'Astrovirus', 'Avian coronavirus', 'Avian infectious bronchitis', 'Avian infectious bronchitis virus', 'Avian influenza', 'BCE', 'BK virus', 'Bacterial pneumonia', 'Bat-borne virus', 'Bead', 'Beluga whale coronavirus SW1', 'Betacoronavirus', 'Betacoronavirus 1', 'Bibcode (identifier)', 'Bioaerosol', 'Biological target', 'Birds', 'Bovine coronavirus', 'Bronchiolitis', 'Bronchitis', 'Bulbul coronavirus HKU11', \"Burkitt's lymphoma\", 'C30 Endopeptidase', 'CIDRAP', 'COVID-19', 'COVID-19 drug development', 'COVID-19 pandemic', 'COVID-19 vaccine', 'Canine coronavirus', 'Capsid', 'Cardiovascular disease', 'Cattle', 'Central nervous system viral disease', 'Cervical cancer', 'Chandipura vesiculovirus', 'China', 'Common Cold Unit', 'Common cold', 'Complication (medicine)', 'Coronaviridae', 'Coronavirus disease 2019', 'Cough', 'Coxsackie B virus', 'Cross-species transmission', 'Croup', 'Culling', 'Cytomegalovirus', 'Cytomegalovirus esophagitis', 'Cytomegalovirus retinitis', 'Cytoplasm', 'DNA replication', 'DNA virus', 'David Tyrrell (physician)', 'Deltacoronavirus', 'Demyelinating disease', 'Diarrhea', 'Doi (identifier)', 'Dyspnea', 'Electron microscopy', 'Embecovirus', 'Embryo', 'Encephalitis lethargica', 'Encyclopedia of Life', 'Endocytosis', 'Endoplasmic reticulum', 'Enteritis', 'Enterovirus', 'Enveloped virus', 'Epithelium', 'Epstein–Barr virus', 'Epstein–Barr virus infection', 'Erasmus MC', 'Esophagus', 'Ether', 'European rabbits', 'Exocytosis', 'Exoribonuclease', 'Extranodal NK/T-cell lymphoma, nasal type', 'Eye disease', 'Fatigue (medical)', 'Fecal–oral route', 'Feline coronavirus', 'Feline infectious peritonitis', 'Ferret coronavirus', 'Fever', 'Five-prime cap', 'Five prime untranslated region', 'Follicular dendritic cell sarcoma', 'Fomite', 'GB virus C', 'GND (identifier)', 'Gammacoronavirus', 'Gastroenteritis', 'Gastrointestinal tract', 'Genetic recombination', 'Genitourinary system', 'Genome', 'Genome size', 'Genotype', 'HCoV-229E', 'HCoV-HKU1', 'HCoV-NL63', 'HCoV-OC43', 'HIV', 'HIV/AIDS', 'HPV-positive oropharyngeal cancer', 'Harderian gland', 'Headache', 'Hedgehog coronavirus 1', 'Hemagglutinin esterase', 'Hepatitis A', 'Hepatitis B', 'Hepatitis B virus', 'Hepatitis C', 'Hepatitis C virus', 'Hepatitis D', 'Hepatitis E', 'Hepatocellular carcinoma', 'Herpes simplex keratitis', 'Herpes simplex virus', 'Herpesviral meningitis', 'Hipposideridae', 'Hodgkin lymphoma', 'Host (biology)', 'Host tropism', 'Human-to-human transmission', 'Human T-lymphotropic virus 1', 'Human coronavirus 229E', 'Human coronavirus HKU1', 'Human coronavirus NL63', 'Human coronavirus OC43', 'Human digestive system', 'Human metapneumovirus', 'Human orthopneumovirus', 'Human parainfluenza viruses', 'Human polyomavirus 2', 'ICD-10', 'ISBN (identifier)', 'ISSN (identifier)', 'Immune disorder', 'In vitro', 'In vivo', 'Infection', 'Infectious bronchitis virus', 'Infectious mononucleosis', 'Infectivity', 'Influenza', 'Influenza A virus', 'Influenza B virus', 'Influenza C virus', 'Influenza D virus', 'Inoculation', 'Interim Register of Marine and Nonmarine Genera', 'International Committee on Taxonomy of Viruses', 'International Statistical Classification of Diseases and Related Health Problems', 'JSTOR (identifier)', 'Jeddah', 'Johns Hopkins University', 'June Almeida', \"Kaposi's sarcoma\", \"Kaposi's sarcoma-associated herpesvirus\", 'Kilobase', 'Lipid bilayer', 'Lipid bilayer fusion', 'List of ICD-9 codes 001–139: infectious and parasitic diseases', 'Lower respiratory tract infection', 'Lymphocytic choriomeningitis', 'MERS', 'MERS-CoV', 'Malaise', 'Mammals', 'Measles morbillivirus', 'Mechanical ventilation', 'Medical Research Council (United Kingdom)', 'Medical Subject Headings', 'Membrane', 'Membrane fusion protein', 'Merkel-cell carcinoma', 'Merkel cell polyomavirus', 'Messenger RNA', 'Micrograph', 'Micrometre', 'Middle East respiratory syndrome', 'Middle East respiratory syndrome-related coronavirus', 'Miniopterus bat coronavirus 1', 'Miniopterus bat coronavirus HKU8', 'Morbidity', 'Morphology (biology)', 'Mortality rate', 'Most recent common ancestor', 'Multiple sclerosis', 'Mumps', 'Mumps orthorubulavirus', 'Murinae', 'Murine coronavirus', 'Mutation', 'Myalgia', 'Myelitis', 'Myocarditis', 'Nanometre', 'Nasal congestion', 'Nasopharyngeal carcinoma', 'National Center for Biotechnology Information', 'National Institutes of Health', 'Natural reservoir', 'Nature (journal)', 'Nidovirales', 'Norovirus', 'North Dakota', 'Nucleic acid secondary structure', 'Nucleocapsid', 'Oncovirus', 'Open access', 'Open reading frame', 'Organ culture', 'Orthohepevirus A', 'Orthomyxoviridae', 'Orthornavirae', 'Otitis media', 'PMC (identifier)', 'PMID (identifier)', 'Pancreatitis', 'Papain', 'Papillomaviridae', 'Paramyxoviridae', 'Penile cancer', 'Peplomer', 'Pericarditis', 'Pharyngitis', 'Pharynx', 'Pig farming', 'Pipistrellus bat coronavirus HKU5', 'Pisoniviricetes', 'Pisuviricota', 'Pleconaril', 'Pneumonia', 'Polio', 'Poliovirus', 'Polyadenylation', 'Popular Science', 'Porcine coronavirus HKU15', 'Porcine epidemic diarrhea virus', 'Positive-sense single-stranded RNA virus', 'Post-polio syndrome', 'Poultry farming', 'Progressive multifocal leukoencephalopathy', 'Proofreading (biology)', 'Protease', 'Protein complex', 'Protein domain', 'Protein trimer', 'Proteins', 'Proteolysis', 'RNA', 'RNA-dependent RNA polymerase', 'RNA helicase', 'RNA virus', 'Rabies', 'Rabies virus', 'Ramsay Hunt syndrome type 2', 'Rat coronavirus', 'Reading frame', 'Republic of Korea', 'Respiratory system', 'Respiratory tract', 'Respiratory tract infection', 'Rhinolophidae', 'Rhinolophus bat coronavirus HKU2', 'Rhinorrhea', 'Rhinovirus', 'Ribosomal frameshift', 'Ribosome', 'Riboviria', 'Rodent', 'Rotavirus', 'Rousettus bat coronavirus HKU9', 'S2CID (identifier)', 'SARS', 'SARS-CoV', 'SARS-CoV-2', 'SARS coronavirus', 'Science (journal)', 'Scotophilus bat coronavirus 512', 'Scottish people', 'Serial passage', 'Severe acute respiratory syndrome', 'Severe acute respiratory syndrome-related coronavirus', 'Severe acute respiratory syndrome coronavirus', 'Severe acute respiratory syndrome coronavirus 2', 'Shunde', 'Sinusitis', 'Slippery sequence', 'Sneeze', 'Solar corona', 'Sore throat', 'Splenic marginal zone lymphoma', \"St Thomas' Hospital\", 'Stellar corona', 'Streptococcal pharyngitis', 'Subacute sclerosing panencephalitis', 'Subfamily', 'Subgenomic mRNA', 'Susan Baker (virologist)', 'Swine acute diarrhea syndrome coronavirus', 'Symptom', 'Synonym (taxonomy)', 'Temperate climate', 'The New York Times', 'Three prime untranslated region', 'Tissue culture', 'Tissue tropism', 'Trachea', 'Transcription (biology)', 'Transmissible gastroenteritis virus', 'Transmission (medicine)', 'Transmission electron micrograph', 'Transmission electron microscopy', 'Tropical climate', 'Tropical spastic paraparesis', 'Tropism', 'Tunisia', 'Turkey coronavirus', 'Turkeys', 'Tylonycteris bat coronavirus HKU4', 'Uncoating', 'University of Chicago', 'University of Minnesota', 'Upper respiratory tract infection', 'Urogenital tract', 'Vaccine', 'Vaginal cancer', 'Vesicular-tubular cluster', 'Veterinary medicine', 'Viral disease', 'Viral encephalitis', 'Viral entry', 'Viral envelope', 'Viral hepatitis', 'Viral meningitis', 'Viral nonstructural protein', 'Viral pathogenesis', 'Viral pneumonia', 'Viral shedding', 'Viral structural protein', 'Virion', 'Virologist', 'Virus', 'Virus classification', 'Vulvar cancer', 'Warm-blooded', 'Wayback Machine', 'Weakness', 'Wikidata', 'Wikispecies', 'World Health Organization', 'Wuhan', 'Zoonosis', 'Zoonotic']\n"
     ]
    }
   ],
   "source": [
    "print(covid.links)"
   ]
  },
  {
   "cell_type": "code",
   "execution_count": null,
   "metadata": {},
   "outputs": [],
   "source": []
  },
  {
   "cell_type": "code",
   "execution_count": null,
   "metadata": {},
   "outputs": [],
   "source": []
  }
 ],
 "metadata": {
  "kernelspec": {
   "display_name": "Python 3",
   "language": "python",
   "name": "python3"
  },
  "language_info": {
   "codemirror_mode": {
    "name": "ipython",
    "version": 3
   },
   "file_extension": ".py",
   "mimetype": "text/x-python",
   "name": "python",
   "nbconvert_exporter": "python",
   "pygments_lexer": "ipython3",
   "version": "3.8.3"
  }
 },
 "nbformat": 4,
 "nbformat_minor": 4
}

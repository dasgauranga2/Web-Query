{
 "cells": [
  {
   "cell_type": "code",
   "execution_count": 1,
   "metadata": {
    "colab": {},
    "colab_type": "code",
    "executionInfo": {
     "elapsed": 6399,
     "status": "ok",
     "timestamp": 1598618962576,
     "user": {
      "displayName": "Gauranga Das",
      "photoUrl": "https://lh3.googleusercontent.com/a-/AOh14Ghark55sEd5aQAxm0p2QpHbfOx9t5trkpKOYuC6TA=s64",
      "userId": "14540594540746384872"
     },
     "user_tz": -330
    },
    "id": "9Y4NnQCuaTIO"
   },
   "outputs": [],
   "source": [
    "import torch\n",
    "import torch.nn as nn\n",
    "\n",
    "import random\n",
    "\n",
    "from transformers import BertTokenizer, BertModel\n",
    "from torchtext import data"
   ]
  },
  {
   "cell_type": "code",
   "execution_count": 2,
   "metadata": {
    "colab": {},
    "colab_type": "code",
    "executionInfo": {
     "elapsed": 6223,
     "status": "ok",
     "timestamp": 1598618962582,
     "user": {
      "displayName": "Gauranga Das",
      "photoUrl": "https://lh3.googleusercontent.com/a-/AOh14Ghark55sEd5aQAxm0p2QpHbfOx9t5trkpKOYuC6TA=s64",
      "userId": "14540594540746384872"
     },
     "user_tz": -330
    },
    "id": "7x1ec_ZYacbP"
   },
   "outputs": [],
   "source": [
    "tokenizer = BertTokenizer.from_pretrained('bert-base-uncased')"
   ]
  },
  {
   "cell_type": "code",
   "execution_count": 3,
   "metadata": {
    "colab": {
     "base_uri": "https://localhost:8080/",
     "height": 35
    },
    "colab_type": "code",
    "executionInfo": {
     "elapsed": 6070,
     "status": "ok",
     "timestamp": 1598618962583,
     "user": {
      "displayName": "Gauranga Das",
      "photoUrl": "https://lh3.googleusercontent.com/a-/AOh14Ghark55sEd5aQAxm0p2QpHbfOx9t5trkpKOYuC6TA=s64",
      "userId": "14540594540746384872"
     },
     "user_tz": -330
    },
    "id": "hXaGRfvgas2r",
    "outputId": "b3071328-467a-4563-e2da-61ded3c0c44f"
   },
   "outputs": [
    {
     "data": {
      "text/plain": [
       "30522"
      ]
     },
     "execution_count": 3,
     "metadata": {},
     "output_type": "execute_result"
    }
   ],
   "source": [
    "len(tokenizer.vocab)"
   ]
  },
  {
   "cell_type": "code",
   "execution_count": 4,
   "metadata": {
    "colab": {
     "base_uri": "https://localhost:8080/",
     "height": 35
    },
    "colab_type": "code",
    "executionInfo": {
     "elapsed": 5845,
     "status": "ok",
     "timestamp": 1598618962584,
     "user": {
      "displayName": "Gauranga Das",
      "photoUrl": "https://lh3.googleusercontent.com/a-/AOh14Ghark55sEd5aQAxm0p2QpHbfOx9t5trkpKOYuC6TA=s64",
      "userId": "14540594540746384872"
     },
     "user_tz": -330
    },
    "id": "snn2s3m2ati7",
    "outputId": "f35d4205-386f-4dff-c3f5-005a52edbb26"
   },
   "outputs": [
    {
     "name": "stdout",
     "output_type": "stream",
     "text": [
      "['hello', 'world', 'how', 'are', 'you', '?']\n"
     ]
    }
   ],
   "source": [
    "tokens = tokenizer.tokenize('Hello WORLD how ARE yoU?')\n",
    "\n",
    "print(tokens)"
   ]
  },
  {
   "cell_type": "code",
   "execution_count": 5,
   "metadata": {
    "colab": {
     "base_uri": "https://localhost:8080/",
     "height": 35
    },
    "colab_type": "code",
    "executionInfo": {
     "elapsed": 5703,
     "status": "ok",
     "timestamp": 1598618962585,
     "user": {
      "displayName": "Gauranga Das",
      "photoUrl": "https://lh3.googleusercontent.com/a-/AOh14Ghark55sEd5aQAxm0p2QpHbfOx9t5trkpKOYuC6TA=s64",
      "userId": "14540594540746384872"
     },
     "user_tz": -330
    },
    "id": "Lwsr4AoHauqR",
    "outputId": "3412557b-8dcd-4e01-bc0b-105b69c2457d"
   },
   "outputs": [
    {
     "name": "stdout",
     "output_type": "stream",
     "text": [
      "[7592, 2088, 2129, 2024, 2017, 1029]\n"
     ]
    }
   ],
   "source": [
    "indexes = tokenizer.convert_tokens_to_ids(tokens)\n",
    "\n",
    "print(indexes)"
   ]
  },
  {
   "cell_type": "code",
   "execution_count": 6,
   "metadata": {
    "colab": {
     "base_uri": "https://localhost:8080/",
     "height": 35
    },
    "colab_type": "code",
    "executionInfo": {
     "elapsed": 5518,
     "status": "ok",
     "timestamp": 1598618962586,
     "user": {
      "displayName": "Gauranga Das",
      "photoUrl": "https://lh3.googleusercontent.com/a-/AOh14Ghark55sEd5aQAxm0p2QpHbfOx9t5trkpKOYuC6TA=s64",
      "userId": "14540594540746384872"
     },
     "user_tz": -330
    },
    "id": "SlhkJ6rqavuk",
    "outputId": "58460855-3ca4-497f-93e0-eb37ce4af7b4"
   },
   "outputs": [
    {
     "name": "stdout",
     "output_type": "stream",
     "text": [
      "[CLS] [SEP] [PAD] [UNK]\n"
     ]
    }
   ],
   "source": [
    "init_token = tokenizer.cls_token\n",
    "eos_token = tokenizer.sep_token\n",
    "pad_token = tokenizer.pad_token\n",
    "unk_token = tokenizer.unk_token\n",
    "\n",
    "print(init_token, eos_token, pad_token, unk_token)"
   ]
  },
  {
   "cell_type": "code",
   "execution_count": 7,
   "metadata": {
    "colab": {
     "base_uri": "https://localhost:8080/",
     "height": 35
    },
    "colab_type": "code",
    "executionInfo": {
     "elapsed": 5361,
     "status": "ok",
     "timestamp": 1598618962587,
     "user": {
      "displayName": "Gauranga Das",
      "photoUrl": "https://lh3.googleusercontent.com/a-/AOh14Ghark55sEd5aQAxm0p2QpHbfOx9t5trkpKOYuC6TA=s64",
      "userId": "14540594540746384872"
     },
     "user_tz": -330
    },
    "id": "I2QqvT7KaxP8",
    "outputId": "00b7162d-595e-4304-ac4d-f96254f7906a"
   },
   "outputs": [
    {
     "name": "stdout",
     "output_type": "stream",
     "text": [
      "101 102 0 100\n"
     ]
    }
   ],
   "source": [
    "init_token_idx = tokenizer.convert_tokens_to_ids(init_token)\n",
    "eos_token_idx = tokenizer.convert_tokens_to_ids(eos_token)\n",
    "pad_token_idx = tokenizer.convert_tokens_to_ids(pad_token)\n",
    "unk_token_idx = tokenizer.convert_tokens_to_ids(unk_token)\n",
    "\n",
    "print(init_token_idx, eos_token_idx, pad_token_idx, unk_token_idx)"
   ]
  },
  {
   "cell_type": "code",
   "execution_count": 8,
   "metadata": {
    "colab": {
     "base_uri": "https://localhost:8080/",
     "height": 35
    },
    "colab_type": "code",
    "executionInfo": {
     "elapsed": 5176,
     "status": "ok",
     "timestamp": 1598618962588,
     "user": {
      "displayName": "Gauranga Das",
      "photoUrl": "https://lh3.googleusercontent.com/a-/AOh14Ghark55sEd5aQAxm0p2QpHbfOx9t5trkpKOYuC6TA=s64",
      "userId": "14540594540746384872"
     },
     "user_tz": -330
    },
    "id": "vg5-oSL4ayW3",
    "outputId": "eb4e4de6-81ee-469e-8966-085d60ab045c"
   },
   "outputs": [
    {
     "name": "stdout",
     "output_type": "stream",
     "text": [
      "101 102 0 100\n"
     ]
    }
   ],
   "source": [
    "init_token_idx = tokenizer.cls_token_id\n",
    "eos_token_idx = tokenizer.sep_token_id\n",
    "pad_token_idx = tokenizer.pad_token_id\n",
    "unk_token_idx = tokenizer.unk_token_id\n",
    "\n",
    "print(init_token_idx, eos_token_idx, pad_token_idx, unk_token_idx)"
   ]
  },
  {
   "cell_type": "code",
   "execution_count": 9,
   "metadata": {
    "colab": {
     "base_uri": "https://localhost:8080/",
     "height": 35
    },
    "colab_type": "code",
    "executionInfo": {
     "elapsed": 5011,
     "status": "ok",
     "timestamp": 1598618962589,
     "user": {
      "displayName": "Gauranga Das",
      "photoUrl": "https://lh3.googleusercontent.com/a-/AOh14Ghark55sEd5aQAxm0p2QpHbfOx9t5trkpKOYuC6TA=s64",
      "userId": "14540594540746384872"
     },
     "user_tz": -330
    },
    "id": "uHR2YXsmazQz",
    "outputId": "2c0643f9-934e-4660-beb5-dfaf59298771"
   },
   "outputs": [
    {
     "name": "stdout",
     "output_type": "stream",
     "text": [
      "512\n"
     ]
    }
   ],
   "source": [
    "max_input_length = tokenizer.max_model_input_sizes['bert-base-uncased']\n",
    "\n",
    "print(max_input_length)"
   ]
  },
  {
   "cell_type": "code",
   "execution_count": 10,
   "metadata": {
    "colab": {},
    "colab_type": "code",
    "executionInfo": {
     "elapsed": 1582,
     "status": "ok",
     "timestamp": 1598618962589,
     "user": {
      "displayName": "Gauranga Das",
      "photoUrl": "https://lh3.googleusercontent.com/a-/AOh14Ghark55sEd5aQAxm0p2QpHbfOx9t5trkpKOYuC6TA=s64",
      "userId": "14540594540746384872"
     },
     "user_tz": -330
    },
    "id": "BtAB3ENta0Yi"
   },
   "outputs": [],
   "source": [
    "def tokenize_and_cut(sentence):\n",
    "    tokens = tokenizer.tokenize(sentence) \n",
    "    tokens = tokens[:max_input_length-2]\n",
    "    return tokens"
   ]
  },
  {
   "cell_type": "code",
   "execution_count": 11,
   "metadata": {
    "colab": {},
    "colab_type": "code",
    "executionInfo": {
     "elapsed": 1373,
     "status": "ok",
     "timestamp": 1598618962590,
     "user": {
      "displayName": "Gauranga Das",
      "photoUrl": "https://lh3.googleusercontent.com/a-/AOh14Ghark55sEd5aQAxm0p2QpHbfOx9t5trkpKOYuC6TA=s64",
      "userId": "14540594540746384872"
     },
     "user_tz": -330
    },
    "id": "vlOWlYT7a1cB"
   },
   "outputs": [],
   "source": [
    "TEXT = data.Field(batch_first = True,\n",
    "                  use_vocab = False,\n",
    "                  tokenize = tokenize_and_cut,\n",
    "                  preprocessing = tokenizer.convert_tokens_to_ids,\n",
    "                  init_token = init_token_idx,\n",
    "                  eos_token = eos_token_idx,\n",
    "                  pad_token = pad_token_idx,\n",
    "                  unk_token = unk_token_idx)\n",
    "\n",
    "LABEL = data.LabelField(dtype = torch.float)"
   ]
  },
  {
   "cell_type": "code",
   "execution_count": 12,
   "metadata": {
    "colab": {},
    "colab_type": "code",
    "executionInfo": {
     "elapsed": 1223,
     "status": "ok",
     "timestamp": 1598618962591,
     "user": {
      "displayName": "Gauranga Das",
      "photoUrl": "https://lh3.googleusercontent.com/a-/AOh14Ghark55sEd5aQAxm0p2QpHbfOx9t5trkpKOYuC6TA=s64",
      "userId": "14540594540746384872"
     },
     "user_tz": -330
    },
    "id": "STND10KYa2rX"
   },
   "outputs": [],
   "source": [
    "fields = [('text', TEXT), ('label', LABEL)]"
   ]
  },
  {
   "cell_type": "code",
   "execution_count": 13,
   "metadata": {
    "colab": {},
    "colab_type": "code",
    "executionInfo": {
     "elapsed": 11338,
     "status": "ok",
     "timestamp": 1598618975238,
     "user": {
      "displayName": "Gauranga Das",
      "photoUrl": "https://lh3.googleusercontent.com/a-/AOh14Ghark55sEd5aQAxm0p2QpHbfOx9t5trkpKOYuC6TA=s64",
      "userId": "14540594540746384872"
     },
     "user_tz": -330
    },
    "id": "gS6CHBZ5bG3b"
   },
   "outputs": [],
   "source": [
    "train_data = data.TabularDataset.splits(\n",
    "                path = '',\n",
    "                train = 'qnli.csv',\n",
    "                format = 'csv',\n",
    "                fields = fields,\n",
    "                skip_header = True)\n",
    "\n",
    "train_data , valid_data = train_data[0].split(split_ratio=0.9,\n",
    "                                             random_state = random.seed(10))"
   ]
  },
  {
   "cell_type": "code",
   "execution_count": 14,
   "metadata": {
    "colab": {
     "base_uri": "https://localhost:8080/",
     "height": 53
    },
    "colab_type": "code",
    "executionInfo": {
     "elapsed": 1238,
     "status": "ok",
     "timestamp": 1598618980124,
     "user": {
      "displayName": "Gauranga Das",
      "photoUrl": "https://lh3.googleusercontent.com/a-/AOh14Ghark55sEd5aQAxm0p2QpHbfOx9t5trkpKOYuC6TA=s64",
      "userId": "14540594540746384872"
     },
     "user_tz": -330
    },
    "id": "4DpkKW6UbVar",
    "outputId": "5287fbbf-04e5-445e-b321-48aff341980c"
   },
   "outputs": [
    {
     "name": "stdout",
     "output_type": "stream",
     "text": [
      "Number of training examples: 78733\n",
      "Number of validation examples: 8748\n"
     ]
    }
   ],
   "source": [
    "print(f\"Number of training examples: {len(train_data)}\")\n",
    "print(f\"Number of validation examples: {len(valid_data)}\")"
   ]
  },
  {
   "cell_type": "code",
   "execution_count": 15,
   "metadata": {
    "colab": {
     "base_uri": "https://localhost:8080/",
     "height": 55
    },
    "colab_type": "code",
    "executionInfo": {
     "elapsed": 742,
     "status": "ok",
     "timestamp": 1598618981440,
     "user": {
      "displayName": "Gauranga Das",
      "photoUrl": "https://lh3.googleusercontent.com/a-/AOh14Ghark55sEd5aQAxm0p2QpHbfOx9t5trkpKOYuC6TA=s64",
      "userId": "14540594540746384872"
     },
     "user_tz": -330
    },
    "id": "9kNQi1qbbZQA",
    "outputId": "24987004-732f-4940-ecfb-4a7d5cb28c18"
   },
   "outputs": [
    {
     "name": "stdout",
     "output_type": "stream",
     "text": [
      "{'text': [2029, 5040, 2001, 2034, 2000, 2022, 7183, 1999, 1996, 2047, 2806, 2013, 10630, 2692, 2000, 13138, 2487, 1029, 102, 2053, 14001, 5040, 1010, 2036, 1999, 2605, 1010, 2387, 1996, 5700, 6503, 1997, 1037, 14584, 1997, 2019, 2972, 5040, 1999, 1996, 2047, 2806, 2013, 10630, 2692, 2000, 13138, 2487, 1012], 'label': 'entailment'}\n"
     ]
    }
   ],
   "source": [
    "print(vars(train_data.examples[6]))"
   ]
  },
  {
   "cell_type": "code",
   "execution_count": 16,
   "metadata": {
    "colab": {
     "base_uri": "https://localhost:8080/",
     "height": 55
    },
    "colab_type": "code",
    "executionInfo": {
     "elapsed": 1203,
     "status": "ok",
     "timestamp": 1598618982088,
     "user": {
      "displayName": "Gauranga Das",
      "photoUrl": "https://lh3.googleusercontent.com/a-/AOh14Ghark55sEd5aQAxm0p2QpHbfOx9t5trkpKOYuC6TA=s64",
      "userId": "14540594540746384872"
     },
     "user_tz": -330
    },
    "id": "rSlXFP-7bb-Z",
    "outputId": "8fd6698e-5632-40f5-e673-60cef43978b3"
   },
   "outputs": [
    {
     "name": "stdout",
     "output_type": "stream",
     "text": [
      "['which', 'cathedral', 'was', 'first', 'to', 'be', 'rebuilt', 'in', 'the', 'new', 'style', 'from', '115', '##0', 'to', '123', '##1', '?', '[SEP]', 'no', '##yon', 'cathedral', ',', 'also', 'in', 'france', ',', 'saw', 'the', 'earliest', 'completion', 'of', 'a', 'rebuilding', 'of', 'an', 'entire', 'cathedral', 'in', 'the', 'new', 'style', 'from', '115', '##0', 'to', '123', '##1', '.']\n"
     ]
    }
   ],
   "source": [
    "tokens = tokenizer.convert_ids_to_tokens(vars(train_data.examples[6])['text'])\n",
    "\n",
    "print(tokens)"
   ]
  },
  {
   "cell_type": "code",
   "execution_count": 17,
   "metadata": {
    "colab": {},
    "colab_type": "code",
    "executionInfo": {
     "elapsed": 1036,
     "status": "ok",
     "timestamp": 1598618982091,
     "user": {
      "displayName": "Gauranga Das",
      "photoUrl": "https://lh3.googleusercontent.com/a-/AOh14Ghark55sEd5aQAxm0p2QpHbfOx9t5trkpKOYuC6TA=s64",
      "userId": "14540594540746384872"
     },
     "user_tz": -330
    },
    "id": "OkiMUS95bd6X"
   },
   "outputs": [],
   "source": [
    "LABEL.build_vocab(train_data)"
   ]
  },
  {
   "cell_type": "code",
   "execution_count": 18,
   "metadata": {
    "colab": {
     "base_uri": "https://localhost:8080/",
     "height": 35
    },
    "colab_type": "code",
    "executionInfo": {
     "elapsed": 868,
     "status": "ok",
     "timestamp": 1598618982093,
     "user": {
      "displayName": "Gauranga Das",
      "photoUrl": "https://lh3.googleusercontent.com/a-/AOh14Ghark55sEd5aQAxm0p2QpHbfOx9t5trkpKOYuC6TA=s64",
      "userId": "14540594540746384872"
     },
     "user_tz": -330
    },
    "id": "cD6zvf6hbgA8",
    "outputId": "d4d60454-24b1-4e7e-f446-1757203ca467"
   },
   "outputs": [
    {
     "name": "stdout",
     "output_type": "stream",
     "text": [
      "defaultdict(None, {'not_entailment': 0, 'entailment': 1})\n"
     ]
    }
   ],
   "source": [
    "print(LABEL.vocab.stoi)"
   ]
  },
  {
   "cell_type": "code",
   "execution_count": 19,
   "metadata": {
    "colab": {},
    "colab_type": "code",
    "executionInfo": {
     "elapsed": 1156,
     "status": "ok",
     "timestamp": 1598618982568,
     "user": {
      "displayName": "Gauranga Das",
      "photoUrl": "https://lh3.googleusercontent.com/a-/AOh14Ghark55sEd5aQAxm0p2QpHbfOx9t5trkpKOYuC6TA=s64",
      "userId": "14540594540746384872"
     },
     "user_tz": -330
    },
    "id": "tUMw7wkSbhAA"
   },
   "outputs": [],
   "source": [
    "BATCH_SIZE = 24\n",
    "\n",
    "device = torch.device('cuda')\n",
    "\n",
    "train_iterator, valid_iterator = data.BucketIterator.splits(\n",
    "    (train_data, valid_data), \n",
    "    batch_size = BATCH_SIZE, \n",
    "    device = device,\n",
    "    sort_key=lambda x: len(x.text))"
   ]
  },
  {
   "cell_type": "code",
   "execution_count": 20,
   "metadata": {},
   "outputs": [],
   "source": [
    "class BERTSentiment(nn.Module):\n",
    "    def __init__(self):\n",
    "        \n",
    "        super().__init__()\n",
    "        \n",
    "        self.bert = BertModel.from_pretrained('bert-base-uncased')\n",
    "        \n",
    "        embedding_dim = self.bert.config.to_dict()['hidden_size']\n",
    "\n",
    "        self.output = nn.Linear(embedding_dim, 1)\n",
    "                \n",
    "    def forward(self, text):\n",
    "        \n",
    "        #text = [batch size, sent len]\n",
    "        \n",
    "        embedded = self.bert(text)[0]\n",
    "        \n",
    "        logits = embedded[:,0,:]\n",
    "        final_logits = self.output(logits)\n",
    "        \n",
    "        return final_logits"
   ]
  },
  {
   "cell_type": "code",
   "execution_count": null,
   "metadata": {},
   "outputs": [],
   "source": []
  },
  {
   "cell_type": "code",
   "execution_count": null,
   "metadata": {},
   "outputs": [],
   "source": []
  },
  {
   "cell_type": "code",
   "execution_count": null,
   "metadata": {
    "colab": {},
    "colab_type": "code",
    "executionInfo": {
     "elapsed": 1326968,
     "status": "ok",
     "timestamp": 1598620324135,
     "user": {
      "displayName": "Gauranga Das",
      "photoUrl": "https://lh3.googleusercontent.com/a-/AOh14Ghark55sEd5aQAxm0p2QpHbfOx9t5trkpKOYuC6TA=s64",
      "userId": "14540594540746384872"
     },
     "user_tz": -330
    },
    "id": "AGor8SZ1cruR"
   },
   "outputs": [],
   "source": []
  },
  {
   "cell_type": "code",
   "execution_count": null,
   "metadata": {
    "colab": {},
    "colab_type": "code",
    "executionInfo": {
     "elapsed": 1326784,
     "status": "ok",
     "timestamp": 1598620324136,
     "user": {
      "displayName": "Gauranga Das",
      "photoUrl": "https://lh3.googleusercontent.com/a-/AOh14Ghark55sEd5aQAxm0p2QpHbfOx9t5trkpKOYuC6TA=s64",
      "userId": "14540594540746384872"
     },
     "user_tz": -330
    },
    "id": "gMhz-2X0crwh"
   },
   "outputs": [],
   "source": []
  },
  {
   "cell_type": "code",
   "execution_count": 21,
   "metadata": {},
   "outputs": [],
   "source": [
    "models = []\n",
    "\n",
    "for i in range(2):\n",
    "    new_model = BERTSentiment().cuda()\n",
    "    new_model.load_state_dict(torch.load(f'saved_models/qnli_model_{i+1}.pt'))\n",
    "    models.append(new_model)"
   ]
  },
  {
   "cell_type": "code",
   "execution_count": 22,
   "metadata": {},
   "outputs": [],
   "source": [
    "def model_ensemble_output(models, tensor):\n",
    "    \n",
    "    outputs = []\n",
    "    for i in range(len(models)):\n",
    "        outputs.append(models[i](tensor))\n",
    "        \n",
    "    return sum(outputs)"
   ]
  },
  {
   "cell_type": "code",
   "execution_count": 23,
   "metadata": {
    "colab": {},
    "colab_type": "code",
    "executionInfo": {
     "elapsed": 1326581,
     "status": "ok",
     "timestamp": 1598620324137,
     "user": {
      "displayName": "Gauranga Das",
      "photoUrl": "https://lh3.googleusercontent.com/a-/AOh14Ghark55sEd5aQAxm0p2QpHbfOx9t5trkpKOYuC6TA=s64",
      "userId": "14540594540746384872"
     },
     "user_tz": -330
    },
    "id": "pR8pZ72QcQ6z"
   },
   "outputs": [],
   "source": [
    "def predict_sentiment(models, tokenizer, sentence):\n",
    "    for model in models:\n",
    "        model.eval()\n",
    "    \n",
    "    tokens = tokenizer.tokenize(sentence)\n",
    "    tokens = tokens[:max_input_length-2]\n",
    "    indexed = [init_token_idx] + tokenizer.convert_tokens_to_ids(tokens) + [eos_token_idx]\n",
    "    tensor = torch.LongTensor(indexed).to(device)\n",
    "    tensor = tensor.unsqueeze(0)\n",
    "    prediction = torch.sigmoid(model_ensemble_output(models, tensor))\n",
    "    return prediction.item()"
   ]
  },
  {
   "cell_type": "code",
   "execution_count": 24,
   "metadata": {
    "colab": {
     "base_uri": "https://localhost:8080/",
     "height": 1000
    },
    "colab_type": "code",
    "executionInfo": {
     "elapsed": 1326205,
     "status": "ok",
     "timestamp": 1598620324137,
     "user": {
      "displayName": "Gauranga Das",
      "photoUrl": "https://lh3.googleusercontent.com/a-/AOh14Ghark55sEd5aQAxm0p2QpHbfOx9t5trkpKOYuC6TA=s64",
      "userId": "14540594540746384872"
     },
     "user_tz": -330
    },
    "id": "9aU1XAADcWy1",
    "outputId": "3bf7cf50-be12-47cd-de64-11806c92fcaa"
   },
   "outputs": [
    {
     "name": "stdout",
     "output_type": "stream",
     "text": [
      "TEXT\n",
      "greece ' s constitution has how many articles ? [SEP] the constitution , which consists of 120 articles , provides for a separation of powers into executive , legislative , and judicial branches , and grants extensive specific guarantees ( further reinforced in 2001 ) of civil liberties and social rights .\n",
      "LABEL : entailment\n",
      "PREDICTION : 0.9999871253967285\n",
      "\n",
      "\n",
      "TEXT\n",
      "what year did american idol begin airing ? [SEP] it began airing on fox on june 11 , 2002 , as an addition to the idols format based on the british series pop idol and has since become one of the most successful shows in the history of american television .\n",
      "LABEL : entailment\n",
      "PREDICTION : 0.999969482421875\n",
      "\n",
      "\n",
      "TEXT\n",
      "what two general aviation airports are operated by the san diego regional airport authority ? [SEP] it is operated by an independent agency , the san diego regional airport authority .\n",
      "LABEL : not_entailment\n",
      "PREDICTION : 0.0002637379802763462\n",
      "\n",
      "\n",
      "TEXT\n",
      "what are the two sub - signals in each frequency band referred to as ? [SEP] these signal components are further referred to as \" i \" and \" q \" .\n",
      "LABEL : entailment\n",
      "PREDICTION : 0.995502769947052\n",
      "\n",
      "\n",
      "TEXT\n",
      "how many dialects have been identified in the slavic alps ? [SEP] some of the french dialects spoken in the french , swiss and italian alps of ao ##sta valley derive from ar ##pit ##an , while the southern part of the western range is related to old proven ##cal ; the german dialects derive from germanic tribal languages .\n",
      "LABEL : not_entailment\n",
      "PREDICTION : 2.2354090106091462e-05\n",
      "\n",
      "\n",
      "TEXT\n",
      "in what year was the se ##ism ##ometer first invented ? [SEP] the arm ##illa ##ry sphere , a three - dimensional representation of the movements in the celestial sphere , was invented in han china by the 1st century bc .\n",
      "LABEL : not_entailment\n",
      "PREDICTION : 0.11679128557443619\n",
      "\n",
      "\n",
      "TEXT\n",
      "why does spielberg think aliens would visit ? [SEP] spielberg described himself as feeling like an alien during childhood , and his interest came from his father , a science fiction fan , and his opinion that aliens would not travel light years for conquest , but instead curiosity and sharing of knowledge .\n",
      "LABEL : entailment\n",
      "PREDICTION : 0.4752163887023926\n",
      "\n",
      "\n",
      "TEXT\n",
      "what are the causes of secret ##ory dia ##rr ##hea ? [SEP] secret ##ory dia ##rr ##hea means that there is an increase in the active secret ##ion , or there is an inhibition of absorption .\n",
      "LABEL : not_entailment\n",
      "PREDICTION : 0.9698179364204407\n",
      "\n",
      "\n",
      "TEXT\n",
      "what was tito ' s form of communism called ? [SEP] tito ' s form of communism was labeled \" tito ##ism \" by moscow , which encouraged purge ##s against suspected \" tito ##ites ' \" throughout the eastern bloc .\n",
      "LABEL : entailment\n",
      "PREDICTION : 0.9994891881942749\n",
      "\n",
      "\n",
      "TEXT\n",
      "what kind of genetic material can be produced from retro ##tra ##ns ##po ##sons ? [SEP] retro ##tra ##ns ##po ##sons can be divided into long terminal repeats ( lt ##rs ) and\n",
      "LABEL : not_entailment\n",
      "PREDICTION : 0.9208537340164185\n",
      "\n",
      "\n",
      "TEXT\n",
      "what movement sp ##routed this change in rhetoric ? [SEP] after the african - american civil rights movement , the terms colored and negro gave way to \" black \" .\n",
      "LABEL : entailment\n",
      "PREDICTION : 0.007824587635695934\n",
      "\n",
      "\n",
      "TEXT\n",
      "when was the roman aba ##cus first used ? [SEP] the roman aba ##cus was used in babylon ##ia as early as 240 ##0 bc .\n",
      "LABEL : entailment\n",
      "PREDICTION : 0.9999765157699585\n",
      "\n",
      "\n",
      "TEXT\n",
      "what city was beyonce ' s elementary school located in ? [SEP] beyonce attended st . mary ' s elementary school in frederick ##sburg , texas , where she enrolled in dance classes .\n",
      "LABEL : entailment\n",
      "PREDICTION : 0.9998512268066406\n",
      "\n",
      "\n",
      "TEXT\n",
      "what are some of the outlines of life ? [SEP] in writing her biography of the buddha , karen armstrong noted , \" it is obviously difficult , therefore , to write a biography of the buddha that meets modern criteria , because we have very little information that can be considered historically sound . . .\n",
      "LABEL : not_entailment\n",
      "PREDICTION : 6.958113226573914e-05\n",
      "\n",
      "\n",
      "TEXT\n",
      "what was the purpose for creating an eton mission ? [SEP] as with other public schools , a scheme was devised towards the end of the 19th century to familiar ##ize privileged school ##boys with social conditions in deprived areas .\n",
      "LABEL : entailment\n",
      "PREDICTION : 0.7847947478294373\n",
      "\n",
      "\n",
      "TEXT\n",
      "during what season were arsenal ' s away colors white shirts and white or black shorts ? [SEP] in the 1969 – 70 season , arsenal introduced an away kit of yellow shirts with blue shorts .\n",
      "LABEL : entailment\n",
      "PREDICTION : 0.9996572732925415\n",
      "\n",
      "\n",
      "TEXT\n",
      "who resisted the uniting of people under hitler ? [SEP] the nazis , led by adolf hitler , attempted to unite all the people they claimed were \" germans \" ( vol ##ks ##de ##uts ##che ) into one realm , including ethnic germans in eastern europe , many of whom had emigrated more than one hundred fifty years before and developed separate cultures in their new lands .\n",
      "LABEL : not_entailment\n",
      "PREDICTION : 0.02974090725183487\n",
      "\n",
      "\n",
      "TEXT\n",
      "when was the release preview revealed to consumers ? [SEP] many other builds were released until the japan ' s developers day conference , when steven sino ##fs ##ky announced that windows 8 release preview ( build 840 ##0 ) would be released during the first week of june .\n",
      "LABEL : not_entailment\n",
      "PREDICTION : 0.14018632471561432\n",
      "\n",
      "\n",
      "TEXT\n",
      "what choir from the area has sung at the guild ##hall ? [SEP] southampton has two large live music venues , the may ##flower theatre ( formerly the ga ##um ##ont theatre ) and the guild ##hall .\n",
      "LABEL : not_entailment\n",
      "PREDICTION : 0.0012873184168711305\n",
      "\n",
      "\n",
      "TEXT\n",
      "what examinations do students prepare for in the sixth form ? [SEP] between the ages of 12 and 16 two comprehensive schools cater for girls and boys separately .\n",
      "LABEL : not_entailment\n",
      "PREDICTION : 4.4562610128195956e-05\n",
      "\n",
      "\n",
      "TEXT\n",
      "how much money in cents does new york city receive for every dollar paid in federal taxes ? [SEP] the city also sends an additional $ 11 billion more each year to the state of new york than it receives back .\n",
      "LABEL : not_entailment\n",
      "PREDICTION : 0.017789144068956375\n",
      "\n",
      "\n",
      "TEXT\n",
      "starting in what year was the communist party outlawed in yugoslavia ? [SEP] as the communist party was outlawed in yugoslavia starting on 30 december 1920 , jo ##si ##p bro ##z took on many assumed names during his activity within the party , including \" ru ##di \" , \" walter \" , and \" tito . \"\n",
      "LABEL : entailment\n",
      "PREDICTION : 0.9999805688858032\n",
      "\n",
      "\n",
      "TEXT\n",
      "how many parts did the gregorian calendar reform have ? [SEP] the gregorian reform contained two parts : a reform of the julian calendar as used prior to pope gregory xiii ' s time and a reform of the lunar cycle used by the church , with the julian calendar , to calculate the date of easter .\n",
      "LABEL : entailment\n",
      "PREDICTION : 0.9994596838951111\n",
      "\n",
      "\n",
      "TEXT\n",
      "after south carolina passed an ordinance of null ##ification , who was sent to charleston harbor ? [SEP] in 1832 , south carolina passed an ordinance of null ##ification , a procedure by which a state could , in effect , repeal a federal law ; it was directed against the most recent tariff acts .\n",
      "LABEL : not_entailment\n",
      "PREDICTION : 0.0036421280819922686\n",
      "\n",
      "\n",
      "TEXT\n",
      "the wan ##ama ##ker mile is an event by which annual track and field meeting ? [SEP] the mill ##rose games is an annual track and field meet whose featured event is the wan ##ama ##ker mile .\n",
      "LABEL : entailment\n",
      "PREDICTION : 0.9996721744537354\n",
      "\n",
      "\n",
      "TEXT\n",
      "who announced on august 22nd they were leaving the cubs prematurely ? [SEP] despite being well out of playoff contention the cubs went 24 – 13 under quad ##e , the best record in baseball during that 37 game stretch , earning quad ##e to have the interim tag removed on october 19 .\n",
      "LABEL : not_entailment\n",
      "PREDICTION : 0.00012921012239530683\n",
      "\n",
      "\n",
      "TEXT\n",
      "what is the largest bank in uruguay ? [SEP] banking has traditionally been one of the strongest service export sectors in uruguay : the country was once dubbed \" the switzerland of america \" , mainly for its banking sector and stability , although that stability has been threatened in the 21st century by the recent global economic climate .\n",
      "LABEL : not_entailment\n",
      "PREDICTION : 5.349459024728276e-05\n",
      "\n",
      "\n",
      "TEXT\n",
      "what group did france split vietnam with ? [SEP] after france and the communists agreed to a partition of vietnam , eisenhower rejected the agreement , offering military and economic aid to southern vietnam .\n",
      "LABEL : entailment\n",
      "PREDICTION : 0.9400030374526978\n",
      "\n",
      "\n",
      "TEXT\n",
      "what is the similar trait of estonia ' s four seasons ? [SEP] estonia has four seasons of near - equal length .\n",
      "LABEL : entailment\n",
      "PREDICTION : 0.9899216294288635\n",
      "\n",
      "\n",
      "TEXT\n",
      "what company purchased the cubs in 1981 ? [SEP] in 1981 , after 6 decades under the wr ##ig ##ley family , the cubs were purchased by tribune company for $ 20 , 500 , 000 .\n",
      "LABEL : entailment\n",
      "PREDICTION : 0.9999759197235107\n",
      "\n",
      "\n"
     ]
    }
   ],
   "source": [
    "idxs = random.sample(range(0,len(valid_data.examples)),30)\n",
    "for i in idxs:\n",
    "    txt = ' '.join(tokenizer.convert_ids_to_tokens(vars(valid_data.examples[i])['text']))\n",
    "    label = vars(valid_data.examples[i])['label']\n",
    "    pred = predict_sentiment(models, tokenizer, txt)\n",
    "    \n",
    "    print(f\"TEXT\\n{txt}\")\n",
    "    print(f\"LABEL : {label}\")\n",
    "    print(f\"PREDICTION : {pred}\\n\\n\")"
   ]
  },
  {
   "cell_type": "code",
   "execution_count": null,
   "metadata": {
    "colab": {},
    "colab_type": "code",
    "id": "AQgCqA2VcYb6"
   },
   "outputs": [],
   "source": []
  },
  {
   "cell_type": "code",
   "execution_count": null,
   "metadata": {
    "colab": {},
    "colab_type": "code",
    "id": "E2udpWxjmI7F"
   },
   "outputs": [],
   "source": []
  }
 ],
 "metadata": {
  "accelerator": "GPU",
  "colab": {
   "authorship_tag": "ABX9TyPUOSL6GvR/xYfl+EI4W4sN",
   "collapsed_sections": [],
   "name": "qnli_model_train.ipynb",
   "provenance": []
  },
  "kernelspec": {
   "display_name": "Python 3",
   "language": "python",
   "name": "python3"
  },
  "language_info": {
   "codemirror_mode": {
    "name": "ipython",
    "version": 3
   },
   "file_extension": ".py",
   "mimetype": "text/x-python",
   "name": "python",
   "nbconvert_exporter": "python",
   "pygments_lexer": "ipython3",
   "version": "3.8.3"
  }
 },
 "nbformat": 4,
 "nbformat_minor": 4
}

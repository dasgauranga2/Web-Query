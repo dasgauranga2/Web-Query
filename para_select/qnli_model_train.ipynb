{
 "cells": [
  {
   "cell_type": "code",
   "execution_count": 1,
   "metadata": {
    "colab": {},
    "colab_type": "code",
    "executionInfo": {
     "elapsed": 6399,
     "status": "ok",
     "timestamp": 1598618962576,
     "user": {
      "displayName": "Gauranga Das",
      "photoUrl": "https://lh3.googleusercontent.com/a-/AOh14Ghark55sEd5aQAxm0p2QpHbfOx9t5trkpKOYuC6TA=s64",
      "userId": "14540594540746384872"
     },
     "user_tz": -330
    },
    "id": "9Y4NnQCuaTIO"
   },
   "outputs": [],
   "source": [
    "import torch\n",
    "import torch.nn as nn\n",
    "\n",
    "import random\n",
    "import numpy as np\n",
    "\n",
    "from transformers import BertTokenizer, BertModel\n",
    "from torchtext import data\n",
    "\n",
    "import time"
   ]
  },
  {
   "cell_type": "code",
   "execution_count": 2,
   "metadata": {
    "colab": {},
    "colab_type": "code",
    "executionInfo": {
     "elapsed": 6223,
     "status": "ok",
     "timestamp": 1598618962582,
     "user": {
      "displayName": "Gauranga Das",
      "photoUrl": "https://lh3.googleusercontent.com/a-/AOh14Ghark55sEd5aQAxm0p2QpHbfOx9t5trkpKOYuC6TA=s64",
      "userId": "14540594540746384872"
     },
     "user_tz": -330
    },
    "id": "7x1ec_ZYacbP"
   },
   "outputs": [],
   "source": [
    "tokenizer = BertTokenizer.from_pretrained('bert-base-uncased')"
   ]
  },
  {
   "cell_type": "code",
   "execution_count": 3,
   "metadata": {
    "colab": {
     "base_uri": "https://localhost:8080/",
     "height": 35
    },
    "colab_type": "code",
    "executionInfo": {
     "elapsed": 6070,
     "status": "ok",
     "timestamp": 1598618962583,
     "user": {
      "displayName": "Gauranga Das",
      "photoUrl": "https://lh3.googleusercontent.com/a-/AOh14Ghark55sEd5aQAxm0p2QpHbfOx9t5trkpKOYuC6TA=s64",
      "userId": "14540594540746384872"
     },
     "user_tz": -330
    },
    "id": "hXaGRfvgas2r",
    "outputId": "b3071328-467a-4563-e2da-61ded3c0c44f"
   },
   "outputs": [
    {
     "data": {
      "text/plain": [
       "30522"
      ]
     },
     "execution_count": 3,
     "metadata": {},
     "output_type": "execute_result"
    }
   ],
   "source": [
    "len(tokenizer.vocab)"
   ]
  },
  {
   "cell_type": "code",
   "execution_count": 4,
   "metadata": {
    "colab": {
     "base_uri": "https://localhost:8080/",
     "height": 35
    },
    "colab_type": "code",
    "executionInfo": {
     "elapsed": 5845,
     "status": "ok",
     "timestamp": 1598618962584,
     "user": {
      "displayName": "Gauranga Das",
      "photoUrl": "https://lh3.googleusercontent.com/a-/AOh14Ghark55sEd5aQAxm0p2QpHbfOx9t5trkpKOYuC6TA=s64",
      "userId": "14540594540746384872"
     },
     "user_tz": -330
    },
    "id": "snn2s3m2ati7",
    "outputId": "f35d4205-386f-4dff-c3f5-005a52edbb26"
   },
   "outputs": [
    {
     "name": "stdout",
     "output_type": "stream",
     "text": [
      "['hello', 'world', 'how', 'are', 'you', '?']\n"
     ]
    }
   ],
   "source": [
    "tokens = tokenizer.tokenize('Hello WORLD how ARE yoU?')\n",
    "\n",
    "print(tokens)"
   ]
  },
  {
   "cell_type": "code",
   "execution_count": 5,
   "metadata": {
    "colab": {
     "base_uri": "https://localhost:8080/",
     "height": 35
    },
    "colab_type": "code",
    "executionInfo": {
     "elapsed": 5703,
     "status": "ok",
     "timestamp": 1598618962585,
     "user": {
      "displayName": "Gauranga Das",
      "photoUrl": "https://lh3.googleusercontent.com/a-/AOh14Ghark55sEd5aQAxm0p2QpHbfOx9t5trkpKOYuC6TA=s64",
      "userId": "14540594540746384872"
     },
     "user_tz": -330
    },
    "id": "Lwsr4AoHauqR",
    "outputId": "3412557b-8dcd-4e01-bc0b-105b69c2457d"
   },
   "outputs": [
    {
     "name": "stdout",
     "output_type": "stream",
     "text": [
      "[7592, 2088, 2129, 2024, 2017, 1029]\n"
     ]
    }
   ],
   "source": [
    "indexes = tokenizer.convert_tokens_to_ids(tokens)\n",
    "\n",
    "print(indexes)"
   ]
  },
  {
   "cell_type": "code",
   "execution_count": 6,
   "metadata": {
    "colab": {
     "base_uri": "https://localhost:8080/",
     "height": 35
    },
    "colab_type": "code",
    "executionInfo": {
     "elapsed": 5518,
     "status": "ok",
     "timestamp": 1598618962586,
     "user": {
      "displayName": "Gauranga Das",
      "photoUrl": "https://lh3.googleusercontent.com/a-/AOh14Ghark55sEd5aQAxm0p2QpHbfOx9t5trkpKOYuC6TA=s64",
      "userId": "14540594540746384872"
     },
     "user_tz": -330
    },
    "id": "SlhkJ6rqavuk",
    "outputId": "58460855-3ca4-497f-93e0-eb37ce4af7b4"
   },
   "outputs": [
    {
     "name": "stdout",
     "output_type": "stream",
     "text": [
      "[CLS] [SEP] [PAD] [UNK]\n"
     ]
    }
   ],
   "source": [
    "init_token = tokenizer.cls_token\n",
    "eos_token = tokenizer.sep_token\n",
    "pad_token = tokenizer.pad_token\n",
    "unk_token = tokenizer.unk_token\n",
    "\n",
    "print(init_token, eos_token, pad_token, unk_token)"
   ]
  },
  {
   "cell_type": "code",
   "execution_count": 7,
   "metadata": {
    "colab": {
     "base_uri": "https://localhost:8080/",
     "height": 35
    },
    "colab_type": "code",
    "executionInfo": {
     "elapsed": 5361,
     "status": "ok",
     "timestamp": 1598618962587,
     "user": {
      "displayName": "Gauranga Das",
      "photoUrl": "https://lh3.googleusercontent.com/a-/AOh14Ghark55sEd5aQAxm0p2QpHbfOx9t5trkpKOYuC6TA=s64",
      "userId": "14540594540746384872"
     },
     "user_tz": -330
    },
    "id": "I2QqvT7KaxP8",
    "outputId": "00b7162d-595e-4304-ac4d-f96254f7906a"
   },
   "outputs": [
    {
     "name": "stdout",
     "output_type": "stream",
     "text": [
      "101 102 0 100\n"
     ]
    }
   ],
   "source": [
    "init_token_idx = tokenizer.convert_tokens_to_ids(init_token)\n",
    "eos_token_idx = tokenizer.convert_tokens_to_ids(eos_token)\n",
    "pad_token_idx = tokenizer.convert_tokens_to_ids(pad_token)\n",
    "unk_token_idx = tokenizer.convert_tokens_to_ids(unk_token)\n",
    "\n",
    "print(init_token_idx, eos_token_idx, pad_token_idx, unk_token_idx)"
   ]
  },
  {
   "cell_type": "code",
   "execution_count": 8,
   "metadata": {
    "colab": {
     "base_uri": "https://localhost:8080/",
     "height": 35
    },
    "colab_type": "code",
    "executionInfo": {
     "elapsed": 5176,
     "status": "ok",
     "timestamp": 1598618962588,
     "user": {
      "displayName": "Gauranga Das",
      "photoUrl": "https://lh3.googleusercontent.com/a-/AOh14Ghark55sEd5aQAxm0p2QpHbfOx9t5trkpKOYuC6TA=s64",
      "userId": "14540594540746384872"
     },
     "user_tz": -330
    },
    "id": "vg5-oSL4ayW3",
    "outputId": "eb4e4de6-81ee-469e-8966-085d60ab045c"
   },
   "outputs": [
    {
     "name": "stdout",
     "output_type": "stream",
     "text": [
      "101 102 0 100\n"
     ]
    }
   ],
   "source": [
    "init_token_idx = tokenizer.cls_token_id\n",
    "eos_token_idx = tokenizer.sep_token_id\n",
    "pad_token_idx = tokenizer.pad_token_id\n",
    "unk_token_idx = tokenizer.unk_token_id\n",
    "\n",
    "print(init_token_idx, eos_token_idx, pad_token_idx, unk_token_idx)"
   ]
  },
  {
   "cell_type": "code",
   "execution_count": 9,
   "metadata": {
    "colab": {
     "base_uri": "https://localhost:8080/",
     "height": 35
    },
    "colab_type": "code",
    "executionInfo": {
     "elapsed": 5011,
     "status": "ok",
     "timestamp": 1598618962589,
     "user": {
      "displayName": "Gauranga Das",
      "photoUrl": "https://lh3.googleusercontent.com/a-/AOh14Ghark55sEd5aQAxm0p2QpHbfOx9t5trkpKOYuC6TA=s64",
      "userId": "14540594540746384872"
     },
     "user_tz": -330
    },
    "id": "uHR2YXsmazQz",
    "outputId": "2c0643f9-934e-4660-beb5-dfaf59298771"
   },
   "outputs": [
    {
     "name": "stdout",
     "output_type": "stream",
     "text": [
      "512\n"
     ]
    }
   ],
   "source": [
    "max_input_length = tokenizer.max_model_input_sizes['bert-base-uncased']\n",
    "\n",
    "print(max_input_length)"
   ]
  },
  {
   "cell_type": "code",
   "execution_count": 10,
   "metadata": {
    "colab": {},
    "colab_type": "code",
    "executionInfo": {
     "elapsed": 1582,
     "status": "ok",
     "timestamp": 1598618962589,
     "user": {
      "displayName": "Gauranga Das",
      "photoUrl": "https://lh3.googleusercontent.com/a-/AOh14Ghark55sEd5aQAxm0p2QpHbfOx9t5trkpKOYuC6TA=s64",
      "userId": "14540594540746384872"
     },
     "user_tz": -330
    },
    "id": "BtAB3ENta0Yi"
   },
   "outputs": [],
   "source": [
    "def tokenize_and_cut(sentence):\n",
    "    tokens = tokenizer.tokenize(sentence) \n",
    "    tokens = tokens[:max_input_length-2]\n",
    "    return tokens"
   ]
  },
  {
   "cell_type": "code",
   "execution_count": 11,
   "metadata": {
    "colab": {},
    "colab_type": "code",
    "executionInfo": {
     "elapsed": 1373,
     "status": "ok",
     "timestamp": 1598618962590,
     "user": {
      "displayName": "Gauranga Das",
      "photoUrl": "https://lh3.googleusercontent.com/a-/AOh14Ghark55sEd5aQAxm0p2QpHbfOx9t5trkpKOYuC6TA=s64",
      "userId": "14540594540746384872"
     },
     "user_tz": -330
    },
    "id": "vlOWlYT7a1cB"
   },
   "outputs": [],
   "source": [
    "TEXT = data.Field(batch_first = True,\n",
    "                  use_vocab = False,\n",
    "                  tokenize = tokenize_and_cut,\n",
    "                  preprocessing = tokenizer.convert_tokens_to_ids,\n",
    "                  init_token = init_token_idx,\n",
    "                  eos_token = eos_token_idx,\n",
    "                  pad_token = pad_token_idx,\n",
    "                  unk_token = unk_token_idx)\n",
    "\n",
    "LABEL = data.LabelField(dtype = torch.float)"
   ]
  },
  {
   "cell_type": "code",
   "execution_count": 12,
   "metadata": {
    "colab": {},
    "colab_type": "code",
    "executionInfo": {
     "elapsed": 1223,
     "status": "ok",
     "timestamp": 1598618962591,
     "user": {
      "displayName": "Gauranga Das",
      "photoUrl": "https://lh3.googleusercontent.com/a-/AOh14Ghark55sEd5aQAxm0p2QpHbfOx9t5trkpKOYuC6TA=s64",
      "userId": "14540594540746384872"
     },
     "user_tz": -330
    },
    "id": "STND10KYa2rX"
   },
   "outputs": [],
   "source": [
    "fields = [('text', TEXT), ('label', LABEL)]"
   ]
  },
  {
   "cell_type": "code",
   "execution_count": 13,
   "metadata": {
    "colab": {},
    "colab_type": "code",
    "executionInfo": {
     "elapsed": 11338,
     "status": "ok",
     "timestamp": 1598618975238,
     "user": {
      "displayName": "Gauranga Das",
      "photoUrl": "https://lh3.googleusercontent.com/a-/AOh14Ghark55sEd5aQAxm0p2QpHbfOx9t5trkpKOYuC6TA=s64",
      "userId": "14540594540746384872"
     },
     "user_tz": -330
    },
    "id": "gS6CHBZ5bG3b"
   },
   "outputs": [],
   "source": [
    "train_data = data.TabularDataset.splits(\n",
    "                path = '',\n",
    "                train = 'qnli.csv',\n",
    "                format = 'csv',\n",
    "                fields = fields,\n",
    "                skip_header = True)\n",
    "\n",
    "train_data , valid_data = train_data[0].split(split_ratio=0.98,\n",
    "                                             random_state = random.seed(10))"
   ]
  },
  {
   "cell_type": "code",
   "execution_count": 14,
   "metadata": {
    "colab": {
     "base_uri": "https://localhost:8080/",
     "height": 53
    },
    "colab_type": "code",
    "executionInfo": {
     "elapsed": 1238,
     "status": "ok",
     "timestamp": 1598618980124,
     "user": {
      "displayName": "Gauranga Das",
      "photoUrl": "https://lh3.googleusercontent.com/a-/AOh14Ghark55sEd5aQAxm0p2QpHbfOx9t5trkpKOYuC6TA=s64",
      "userId": "14540594540746384872"
     },
     "user_tz": -330
    },
    "id": "4DpkKW6UbVar",
    "outputId": "5287fbbf-04e5-445e-b321-48aff341980c"
   },
   "outputs": [
    {
     "name": "stdout",
     "output_type": "stream",
     "text": [
      "Number of training examples: 85731\n",
      "Number of validation examples: 1750\n"
     ]
    }
   ],
   "source": [
    "print(f\"Number of training examples: {len(train_data)}\")\n",
    "print(f\"Number of validation examples: {len(valid_data)}\")"
   ]
  },
  {
   "cell_type": "code",
   "execution_count": 15,
   "metadata": {
    "colab": {
     "base_uri": "https://localhost:8080/",
     "height": 55
    },
    "colab_type": "code",
    "executionInfo": {
     "elapsed": 742,
     "status": "ok",
     "timestamp": 1598618981440,
     "user": {
      "displayName": "Gauranga Das",
      "photoUrl": "https://lh3.googleusercontent.com/a-/AOh14Ghark55sEd5aQAxm0p2QpHbfOx9t5trkpKOYuC6TA=s64",
      "userId": "14540594540746384872"
     },
     "user_tz": -330
    },
    "id": "9kNQi1qbbZQA",
    "outputId": "24987004-732f-4940-ecfb-4a7d5cb28c18"
   },
   "outputs": [
    {
     "name": "stdout",
     "output_type": "stream",
     "text": [
      "{'text': [2129, 2116, 6926, 1005, 1055, 2020, 1999, 1996, 2095, 2456, 2883, 1029, 102, 2004, 1997, 1996, 2883, 1997, 2456, 1010, 2045, 2024, 6391, 1010, 5511, 2549, 2111, 1010, 4008, 1010, 4749, 2581, 3911, 1010, 1998, 2385, 1010, 6255, 2629, 2945, 1999, 1996, 2103, 1012], 'label': 'entailment'}\n"
     ]
    }
   ],
   "source": [
    "print(vars(train_data.examples[10]))"
   ]
  },
  {
   "cell_type": "code",
   "execution_count": 16,
   "metadata": {
    "colab": {
     "base_uri": "https://localhost:8080/",
     "height": 55
    },
    "colab_type": "code",
    "executionInfo": {
     "elapsed": 1203,
     "status": "ok",
     "timestamp": 1598618982088,
     "user": {
      "displayName": "Gauranga Das",
      "photoUrl": "https://lh3.googleusercontent.com/a-/AOh14Ghark55sEd5aQAxm0p2QpHbfOx9t5trkpKOYuC6TA=s64",
      "userId": "14540594540746384872"
     },
     "user_tz": -330
    },
    "id": "rSlXFP-7bb-Z",
    "outputId": "8fd6698e-5632-40f5-e673-60cef43978b3"
   },
   "outputs": [
    {
     "name": "stdout",
     "output_type": "stream",
     "text": [
      "['how', 'many', 'citizen', \"'\", 's', 'were', 'in', 'the', 'year', '2000', 'census', '?', '[SEP]', 'as', 'of', 'the', 'census', 'of', '2000', ',', 'there', 'are', '84', ',', '08', '##4', 'people', ',', '44', ',', '49', '##7', 'households', ',', 'and', '16', ',', '77', '##5', 'families', 'in', 'the', 'city', '.']\n"
     ]
    }
   ],
   "source": [
    "tokens = tokenizer.convert_ids_to_tokens(vars(train_data.examples[10])['text'])\n",
    "\n",
    "print(tokens)"
   ]
  },
  {
   "cell_type": "code",
   "execution_count": 17,
   "metadata": {
    "colab": {},
    "colab_type": "code",
    "executionInfo": {
     "elapsed": 1036,
     "status": "ok",
     "timestamp": 1598618982091,
     "user": {
      "displayName": "Gauranga Das",
      "photoUrl": "https://lh3.googleusercontent.com/a-/AOh14Ghark55sEd5aQAxm0p2QpHbfOx9t5trkpKOYuC6TA=s64",
      "userId": "14540594540746384872"
     },
     "user_tz": -330
    },
    "id": "OkiMUS95bd6X"
   },
   "outputs": [],
   "source": [
    "LABEL.build_vocab(train_data)"
   ]
  },
  {
   "cell_type": "code",
   "execution_count": 18,
   "metadata": {
    "colab": {
     "base_uri": "https://localhost:8080/",
     "height": 35
    },
    "colab_type": "code",
    "executionInfo": {
     "elapsed": 868,
     "status": "ok",
     "timestamp": 1598618982093,
     "user": {
      "displayName": "Gauranga Das",
      "photoUrl": "https://lh3.googleusercontent.com/a-/AOh14Ghark55sEd5aQAxm0p2QpHbfOx9t5trkpKOYuC6TA=s64",
      "userId": "14540594540746384872"
     },
     "user_tz": -330
    },
    "id": "cD6zvf6hbgA8",
    "outputId": "d4d60454-24b1-4e7e-f446-1757203ca467"
   },
   "outputs": [
    {
     "name": "stdout",
     "output_type": "stream",
     "text": [
      "defaultdict(None, {'not_entailment': 0, 'entailment': 1})\n"
     ]
    }
   ],
   "source": [
    "print(LABEL.vocab.stoi)"
   ]
  },
  {
   "cell_type": "code",
   "execution_count": 19,
   "metadata": {
    "colab": {},
    "colab_type": "code",
    "executionInfo": {
     "elapsed": 1156,
     "status": "ok",
     "timestamp": 1598618982568,
     "user": {
      "displayName": "Gauranga Das",
      "photoUrl": "https://lh3.googleusercontent.com/a-/AOh14Ghark55sEd5aQAxm0p2QpHbfOx9t5trkpKOYuC6TA=s64",
      "userId": "14540594540746384872"
     },
     "user_tz": -330
    },
    "id": "tUMw7wkSbhAA"
   },
   "outputs": [],
   "source": [
    "BATCH_SIZE = 24\n",
    "\n",
    "device = torch.device('cuda')\n",
    "\n",
    "train_iterator, valid_iterator = data.BucketIterator.splits(\n",
    "    (train_data, valid_data), \n",
    "    batch_size = BATCH_SIZE, \n",
    "    device = device,\n",
    "    sort_key=lambda x: len(x.text))"
   ]
  },
  {
   "cell_type": "code",
   "execution_count": 20,
   "metadata": {},
   "outputs": [],
   "source": [
    "class BERTSentiment(nn.Module):\n",
    "    def __init__(self):\n",
    "        \n",
    "        super().__init__()\n",
    "        \n",
    "        self.bert = BertModel.from_pretrained('bert-base-uncased')\n",
    "        \n",
    "        embedding_dim = self.bert.config.to_dict()['hidden_size']\n",
    "\n",
    "        self.output = nn.Linear(embedding_dim, 1)\n",
    "                \n",
    "    def forward(self, text):\n",
    "        \n",
    "        #text = [batch size, sent len]\n",
    "        \n",
    "        embedded = self.bert(text)[0]\n",
    "        \n",
    "        logits = embedded[:,0,:]\n",
    "        final_logits = self.output(logits)\n",
    "        \n",
    "        return final_logits"
   ]
  },
  {
   "cell_type": "code",
   "execution_count": 21,
   "metadata": {
    "colab": {},
    "colab_type": "code",
    "executionInfo": {
     "elapsed": 3782,
     "status": "ok",
     "timestamp": 1598618989058,
     "user": {
      "displayName": "Gauranga Das",
      "photoUrl": "https://lh3.googleusercontent.com/a-/AOh14Ghark55sEd5aQAxm0p2QpHbfOx9t5trkpKOYuC6TA=s64",
      "userId": "14540594540746384872"
     },
     "user_tz": -330
    },
    "id": "WJNKyAUhblcN"
   },
   "outputs": [],
   "source": [
    "model = BERTSentiment().cuda()"
   ]
  },
  {
   "cell_type": "code",
   "execution_count": 22,
   "metadata": {
    "colab": {
     "base_uri": "https://localhost:8080/",
     "height": 35
    },
    "colab_type": "code",
    "executionInfo": {
     "elapsed": 3609,
     "status": "ok",
     "timestamp": 1598618989059,
     "user": {
      "displayName": "Gauranga Das",
      "photoUrl": "https://lh3.googleusercontent.com/a-/AOh14Ghark55sEd5aQAxm0p2QpHbfOx9t5trkpKOYuC6TA=s64",
      "userId": "14540594540746384872"
     },
     "user_tz": -330
    },
    "id": "HpoU2CptbmtB",
    "outputId": "13e82f91-8a11-4aac-9f62-8b76a7d7887e"
   },
   "outputs": [
    {
     "name": "stdout",
     "output_type": "stream",
     "text": [
      "The model has 109,483,009 trainable parameters\n"
     ]
    }
   ],
   "source": [
    "def count_parameters(model):\n",
    "    return sum(p.numel() for p in model.parameters() if p.requires_grad)\n",
    "\n",
    "print(f'The model has {count_parameters(model):,} trainable parameters')"
   ]
  },
  {
   "cell_type": "code",
   "execution_count": 23,
   "metadata": {
    "colab": {},
    "colab_type": "code",
    "executionInfo": {
     "elapsed": 1301,
     "status": "ok",
     "timestamp": 1598618989623,
     "user": {
      "displayName": "Gauranga Das",
      "photoUrl": "https://lh3.googleusercontent.com/a-/AOh14Ghark55sEd5aQAxm0p2QpHbfOx9t5trkpKOYuC6TA=s64",
      "userId": "14540594540746384872"
     },
     "user_tz": -330
    },
    "id": "VcgHGINCbrS4"
   },
   "outputs": [],
   "source": [
    "import torch.optim as optim\n",
    "\n",
    "optimizer = optim.Adam(model.parameters(), lr=0.00002)"
   ]
  },
  {
   "cell_type": "code",
   "execution_count": 24,
   "metadata": {
    "colab": {},
    "colab_type": "code",
    "executionInfo": {
     "elapsed": 725,
     "status": "ok",
     "timestamp": 1598618991352,
     "user": {
      "displayName": "Gauranga Das",
      "photoUrl": "https://lh3.googleusercontent.com/a-/AOh14Ghark55sEd5aQAxm0p2QpHbfOx9t5trkpKOYuC6TA=s64",
      "userId": "14540594540746384872"
     },
     "user_tz": -330
    },
    "id": "oLGp_pZ6bsxQ"
   },
   "outputs": [],
   "source": [
    "criterion = nn.BCEWithLogitsLoss().cuda()"
   ]
  },
  {
   "cell_type": "code",
   "execution_count": 25,
   "metadata": {
    "colab": {},
    "colab_type": "code",
    "executionInfo": {
     "elapsed": 4692,
     "status": "ok",
     "timestamp": 1598618995645,
     "user": {
      "displayName": "Gauranga Das",
      "photoUrl": "https://lh3.googleusercontent.com/a-/AOh14Ghark55sEd5aQAxm0p2QpHbfOx9t5trkpKOYuC6TA=s64",
      "userId": "14540594540746384872"
     },
     "user_tz": -330
    },
    "id": "bYictUvObu3m"
   },
   "outputs": [],
   "source": [
    "def binary_accuracy(preds, y):\n",
    "    rounded_preds = torch.round(torch.sigmoid(preds))\n",
    "    correct = (rounded_preds == y).float() #convert into float for division \n",
    "    acc = correct.sum() / len(correct)\n",
    "    return acc"
   ]
  },
  {
   "cell_type": "code",
   "execution_count": 26,
   "metadata": {
    "colab": {
     "base_uri": "https://localhost:8080/",
     "height": 305
    },
    "colab_type": "code",
    "executionInfo": {
     "elapsed": 1327544,
     "status": "ok",
     "timestamp": 1598620324128,
     "user": {
      "displayName": "Gauranga Das",
      "photoUrl": "https://lh3.googleusercontent.com/a-/AOh14Ghark55sEd5aQAxm0p2QpHbfOx9t5trkpKOYuC6TA=s64",
      "userId": "14540594540746384872"
     },
     "user_tz": -330
    },
    "id": "0L8dnX32bv5o",
    "outputId": "2d100ab4-5df3-4804-88a2-a943bea442e1"
   },
   "outputs": [
    {
     "name": "stdout",
     "output_type": "stream",
     "text": [
      "EPOCH : 1 | TIME : 1782.03\n",
      "TRAIN LOSS : 0.36\tTRAIN ACC : 84.26\n",
      "VALID LOSS : 0.28\tVALID ACC : 88.35\n",
      "\n",
      "EPOCH : 2 | TIME : 1792.61\n",
      "TRAIN LOSS : 0.20\tTRAIN ACC : 92.14\n",
      "VALID LOSS : 0.29\tVALID ACC : 88.86\n",
      "\n"
     ]
    }
   ],
   "source": [
    "N_EPOCHS = 2\n",
    "\n",
    "best_valid_loss = float('inf')\n",
    "\n",
    "for epoch in range(N_EPOCHS):\n",
    "    \n",
    "    start_time = time.time()\n",
    "    # TRAIN\n",
    "    ############################################################################\n",
    "    epoch_loss = 0\n",
    "    epoch_acc = 0\n",
    "    \n",
    "    model.train()\n",
    "    \n",
    "    for batch in train_iterator:\n",
    "        \n",
    "        optimizer.zero_grad()\n",
    "        \n",
    "        predictions = model(batch.text).squeeze(1)\n",
    "        \n",
    "        loss = criterion(predictions, batch.label)\n",
    "        \n",
    "        acc = binary_accuracy(predictions, batch.label)\n",
    "        \n",
    "        loss.backward()\n",
    "        \n",
    "        optimizer.step()\n",
    "        \n",
    "        epoch_loss += loss.item()\n",
    "        epoch_acc += acc.item()\n",
    "        \n",
    "    train_loss, train_acc = epoch_loss / len(train_iterator), epoch_acc / len(train_iterator)\n",
    "    ############################################################################\n",
    "    \n",
    "    # VALID\n",
    "    ############################################################################\n",
    "    epoch_loss = 0\n",
    "    epoch_acc = 0\n",
    "    \n",
    "    model.eval()\n",
    "    \n",
    "    with torch.no_grad():\n",
    "    \n",
    "        for batch in valid_iterator:\n",
    "\n",
    "            predictions = model(batch.text).squeeze(1)\n",
    "            \n",
    "            loss = criterion(predictions, batch.label)\n",
    "            \n",
    "            acc = binary_accuracy(predictions, batch.label)\n",
    "\n",
    "            epoch_loss += loss.item()\n",
    "            epoch_acc += acc.item()\n",
    "        \n",
    "    valid_loss, valid_acc = epoch_loss / len(valid_iterator), epoch_acc / len(valid_iterator)\n",
    "    ############################################################################\n",
    "    end_time = time.time()\n",
    "    \n",
    "    print(f\"EPOCH : {epoch+1} | TIME : {end_time-start_time:.2f}\")\n",
    "    print(f\"TRAIN LOSS : {train_loss:.2f}\\tTRAIN ACC : {train_acc*100:.2f}\")\n",
    "    print(f\"VALID LOSS : {valid_loss:.2f}\\tVALID ACC : {valid_acc*100:.2f}\\n\")\n",
    "    torch.save(model.state_dict(), f'saved_models/qnli_model_{epoch+1}.pt')"
   ]
  },
  {
   "cell_type": "code",
   "execution_count": null,
   "metadata": {},
   "outputs": [],
   "source": []
  },
  {
   "cell_type": "code",
   "execution_count": null,
   "metadata": {},
   "outputs": [],
   "source": []
  },
  {
   "cell_type": "code",
   "execution_count": null,
   "metadata": {
    "colab": {},
    "colab_type": "code",
    "executionInfo": {
     "elapsed": 1326968,
     "status": "ok",
     "timestamp": 1598620324135,
     "user": {
      "displayName": "Gauranga Das",
      "photoUrl": "https://lh3.googleusercontent.com/a-/AOh14Ghark55sEd5aQAxm0p2QpHbfOx9t5trkpKOYuC6TA=s64",
      "userId": "14540594540746384872"
     },
     "user_tz": -330
    },
    "id": "AGor8SZ1cruR"
   },
   "outputs": [],
   "source": []
  },
  {
   "cell_type": "code",
   "execution_count": null,
   "metadata": {
    "colab": {},
    "colab_type": "code",
    "executionInfo": {
     "elapsed": 1326784,
     "status": "ok",
     "timestamp": 1598620324136,
     "user": {
      "displayName": "Gauranga Das",
      "photoUrl": "https://lh3.googleusercontent.com/a-/AOh14Ghark55sEd5aQAxm0p2QpHbfOx9t5trkpKOYuC6TA=s64",
      "userId": "14540594540746384872"
     },
     "user_tz": -330
    },
    "id": "gMhz-2X0crwh"
   },
   "outputs": [],
   "source": []
  },
  {
   "cell_type": "code",
   "execution_count": 27,
   "metadata": {
    "colab": {},
    "colab_type": "code",
    "executionInfo": {
     "elapsed": 1326581,
     "status": "ok",
     "timestamp": 1598620324137,
     "user": {
      "displayName": "Gauranga Das",
      "photoUrl": "https://lh3.googleusercontent.com/a-/AOh14Ghark55sEd5aQAxm0p2QpHbfOx9t5trkpKOYuC6TA=s64",
      "userId": "14540594540746384872"
     },
     "user_tz": -330
    },
    "id": "pR8pZ72QcQ6z"
   },
   "outputs": [],
   "source": [
    "def predict_sentiment(model, tokenizer, sentence):\n",
    "    model.eval()\n",
    "    tokens = tokenizer.tokenize(sentence)\n",
    "    tokens = tokens[:max_input_length-2]\n",
    "    indexed = [init_token_idx] + tokenizer.convert_tokens_to_ids(tokens) + [eos_token_idx]\n",
    "    tensor = torch.LongTensor(indexed).to(device)\n",
    "    tensor = tensor.unsqueeze(0)\n",
    "    prediction = torch.sigmoid(model(tensor))\n",
    "    return prediction.item()"
   ]
  },
  {
   "cell_type": "code",
   "execution_count": 28,
   "metadata": {
    "colab": {
     "base_uri": "https://localhost:8080/",
     "height": 1000
    },
    "colab_type": "code",
    "executionInfo": {
     "elapsed": 1326205,
     "status": "ok",
     "timestamp": 1598620324137,
     "user": {
      "displayName": "Gauranga Das",
      "photoUrl": "https://lh3.googleusercontent.com/a-/AOh14Ghark55sEd5aQAxm0p2QpHbfOx9t5trkpKOYuC6TA=s64",
      "userId": "14540594540746384872"
     },
     "user_tz": -330
    },
    "id": "9aU1XAADcWy1",
    "outputId": "3bf7cf50-be12-47cd-de64-11806c92fcaa"
   },
   "outputs": [
    {
     "name": "stdout",
     "output_type": "stream",
     "text": [
      "TEXT\n",
      "who rendered a france 2 camera person unconscious ? [SEP] a camera ##man for france 2 was struck in the face by a police officer , knocked unconscious , and had to be sent to hospital .\n",
      "LABEL : entailment\n",
      "PREDICTION : 0.965059757232666\n",
      "\n",
      "\n",
      "TEXT\n",
      "what items were found on the korean farm site ? [SEP] the farm was dated between 360 ##0 and 3000 b . c . pottery , stone projectile points , and possible houses were also found .\n",
      "LABEL : entailment\n",
      "PREDICTION : 0.9859975576400757\n",
      "\n",
      "\n",
      "TEXT\n",
      "what is the heat generated from a concentrating solar power system used for ? [SEP] in all of these systems a working fluid is heated by the concentrated sunlight , and is then used for power generation or energy storage .\n",
      "LABEL : not_entailment\n",
      "PREDICTION : 0.9740356206893921\n",
      "\n",
      "\n",
      "TEXT\n",
      "what is the eastern ##most river in punjab ? [SEP] the capital and largest city is lahore which was the historical capital of the wider punjab region .\n",
      "LABEL : not_entailment\n",
      "PREDICTION : 0.003199330996721983\n",
      "\n",
      "\n",
      "TEXT\n",
      "when was the old grape ##vine tavern demolished ? [SEP] 11th street and 6th avenue was the location of the old grape ##vine tavern from the 1700 ##s to its demolition in the early 20th century .\n",
      "LABEL : entailment\n",
      "PREDICTION : 0.9955769777297974\n",
      "\n",
      "\n",
      "TEXT\n",
      "who was minister of foreign affairs prior to she ##vard ##nad ##ze ? [SEP] on july 1 , 1985 , go ##rba ##chev promoted eduard she ##vard ##nad ##ze , first secretary of the georgian communist party , to full member of the pol ##it ##buro , and the following day appointed him minister of foreign affairs , replacing longtime foreign minister andrei gr ##omy ##ko .\n",
      "LABEL : entailment\n",
      "PREDICTION : 0.8994635939598083\n",
      "\n",
      "\n",
      "TEXT\n",
      "what is an example of clothing that was once seen as exclusively for males ? [SEP] trousers were once seen as exclusively male clothing , but are nowadays worn by both gender ##s .\n",
      "LABEL : entailment\n",
      "PREDICTION : 0.9834008812904358\n",
      "\n",
      "\n",
      "TEXT\n",
      "how many restaurants is new york home to ? [SEP] the new york city department of health and mental hygiene assigns letter grades to the city ' s 24 , 000 restaurants based upon their inspection results .\n",
      "LABEL : entailment\n",
      "PREDICTION : 0.9844925403594971\n",
      "\n",
      "\n",
      "TEXT\n",
      "who did the tori ##es oppose ? [SEP] they acted as a united , though una ##va ##iling , opposition to whig corruption and scandals .\n",
      "LABEL : not_entailment\n",
      "PREDICTION : 0.9435036778450012\n",
      "\n",
      "\n",
      "TEXT\n",
      "how many soviet military members died within the first six months of the war between the two countries ? [SEP] after the launch of the invasion , the territories gained by the soviet union as a result of the mo ##lot ##ov – rib ##ben ##tro ##p pact were lost in a matter of weeks .\n",
      "LABEL : not_entailment\n",
      "PREDICTION : 0.0016799025470390916\n",
      "\n",
      "\n",
      "TEXT\n",
      "what day is know in the united states as \" v - j day \" ? [SEP] however , as imperial japan actually surrendered on 15 august , this day became known in the english - speaking countries as \" v - j day \" ( victory in japan ) .\n",
      "LABEL : entailment\n",
      "PREDICTION : 0.2515631318092346\n",
      "\n",
      "\n",
      "TEXT\n",
      "what gives neptune it ' s blue hue ? [SEP] because neptune ' s atmospheric methane content is similar to that of ur ##anus , some unknown atmospheric constituent is thought to contribute to neptune ' s colour .\n",
      "LABEL : not_entailment\n",
      "PREDICTION : 0.045750029385089874\n",
      "\n",
      "\n",
      "TEXT\n",
      "when did india and pakistan gain independence ? [SEP] after the independence of india and pakistan in 1947 , george remained as king of both countries , but the title emperor of india was abandoned in june 1948 .\n",
      "LABEL : entailment\n",
      "PREDICTION : 0.9777829051017761\n",
      "\n",
      "\n",
      "TEXT\n",
      "all homes in israel are required to have a room called what ? [SEP] israel has not signed the treaty on the non - proliferation of nuclear weapons and maintains a policy of deliberate ambiguity toward its nuclear capabilities .\n",
      "LABEL : not_entailment\n",
      "PREDICTION : 0.0026975099463015795\n",
      "\n",
      "\n",
      "TEXT\n",
      "what do type - b rec ##ept ##acle ##s do on target devices ? [SEP] type - a rec ##ept ##acle ##s on host devices that supply power and type - b rec ##ept ##acle ##s on target devices that draw power .\n",
      "LABEL : entailment\n",
      "PREDICTION : 0.9578297734260559\n",
      "\n",
      "\n",
      "TEXT\n",
      "what did frederic write par ##odies of in his letters ? [SEP] his letters home from s ##za ##far ##nia ( to which he gave the title \" the s ##za ##far ##nia courier \" ) , written in a very modern and lively polish , amused his family with their sp ##oof ##ing of the warsaw newspapers and demonstrated the young ##ster ' s literary gift .\n",
      "LABEL : entailment\n",
      "PREDICTION : 0.3612019717693329\n",
      "\n",
      "\n",
      "TEXT\n",
      "for which work is mary wo ##lls ##tone ##craft best known ? [SEP] a vin ##dication of the rights of woman ( 1791 ) .\n",
      "LABEL : entailment\n",
      "PREDICTION : 0.9120212197303772\n",
      "\n",
      "\n",
      "TEXT\n",
      "a usb connection is based on what ? [SEP] usb device communication is based on pipes ( logical channels ) .\n",
      "LABEL : entailment\n",
      "PREDICTION : 0.9902623891830444\n",
      "\n",
      "\n",
      "TEXT\n",
      "when were the papal terms for submission accepted ? [SEP] under mounting political pressure , john finally negotiated terms for a reconciliation , and the papal terms for submission were accepted in the presence of the papal leg ##ate pan ##du ##lf ve ##rra ##cci ##o in may 121 ##3 at the templar church at dover .\n",
      "LABEL : entailment\n",
      "PREDICTION : 0.9878795742988586\n",
      "\n",
      "\n",
      "TEXT\n",
      "what are the two main divisions of middle iranian ? [SEP] what is known in iranian linguistic history as the \" middle iranian \" era is thought to begin around the 4th century bce lasting through the 9th century .\n",
      "LABEL : not_entailment\n",
      "PREDICTION : 0.012444758787751198\n",
      "\n",
      "\n"
     ]
    }
   ],
   "source": [
    "idxs = random.sample(range(0,len(valid_data.examples)),20)\n",
    "for i in idxs:\n",
    "    txt = ' '.join(tokenizer.convert_ids_to_tokens(vars(valid_data.examples[i])['text']))\n",
    "    label = vars(valid_data.examples[i])['label']\n",
    "    pred = predict_sentiment(model, tokenizer, txt)\n",
    "    \n",
    "    print(f\"TEXT\\n{txt}\")\n",
    "    print(f\"LABEL : {label}\")\n",
    "    print(f\"PREDICTION : {pred}\\n\\n\")"
   ]
  },
  {
   "cell_type": "code",
   "execution_count": null,
   "metadata": {
    "colab": {},
    "colab_type": "code",
    "id": "AQgCqA2VcYb6"
   },
   "outputs": [],
   "source": []
  },
  {
   "cell_type": "code",
   "execution_count": null,
   "metadata": {
    "colab": {},
    "colab_type": "code",
    "id": "E2udpWxjmI7F"
   },
   "outputs": [],
   "source": []
  }
 ],
 "metadata": {
  "accelerator": "GPU",
  "colab": {
   "authorship_tag": "ABX9TyPUOSL6GvR/xYfl+EI4W4sN",
   "collapsed_sections": [],
   "name": "qnli_model_train.ipynb",
   "provenance": []
  },
  "kernelspec": {
   "display_name": "Python 3",
   "language": "python",
   "name": "python3"
  },
  "language_info": {
   "codemirror_mode": {
    "name": "ipython",
    "version": 3
   },
   "file_extension": ".py",
   "mimetype": "text/x-python",
   "name": "python",
   "nbconvert_exporter": "python",
   "pygments_lexer": "ipython3",
   "version": "3.8.3"
  }
 },
 "nbformat": 4,
 "nbformat_minor": 4
}

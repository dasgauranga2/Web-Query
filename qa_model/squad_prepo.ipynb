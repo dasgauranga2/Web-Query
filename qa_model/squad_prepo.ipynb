{
 "cells": [
  {
   "cell_type": "code",
   "execution_count": 1,
   "metadata": {},
   "outputs": [],
   "source": [
    "import json\n",
    "import pandas as pd\n",
    "from transformers import T5Tokenizer\n",
    "import random"
   ]
  },
  {
   "cell_type": "code",
   "execution_count": 2,
   "metadata": {},
   "outputs": [],
   "source": [
    "tokenizer = T5Tokenizer.from_pretrained('t5-small')"
   ]
  },
  {
   "cell_type": "code",
   "execution_count": null,
   "metadata": {},
   "outputs": [],
   "source": []
  },
  {
   "cell_type": "code",
   "execution_count": null,
   "metadata": {},
   "outputs": [],
   "source": []
  },
  {
   "cell_type": "code",
   "execution_count": 3,
   "metadata": {},
   "outputs": [],
   "source": [
    "result = []"
   ]
  },
  {
   "cell_type": "code",
   "execution_count": 4,
   "metadata": {},
   "outputs": [],
   "source": [
    "with open('squad_train.json', \"r\") as fh:\n",
    "    source = json.load(fh)\n",
    "    for article in source[\"data\"]:\n",
    "        for para in article[\"paragraphs\"]:\n",
    "            context = para[\"context\"].replace(\"''\", '\" ').replace(\"``\", '\" ')\n",
    "            context_tokens = tokenizer.tokenize(context.lower())\n",
    "            \n",
    "            for qa in para[\"qas\"]:\n",
    "                ques = qa[\"question\"].replace(\"''\", '\" ').replace(\"``\", '\" ')\n",
    "                ques_tokens = tokenizer.tokenize(ques.lower())\n",
    "\n",
    "                for answer in qa[\"answers\"]:\n",
    "                    answer_text = answer[\"text\"]\n",
    "                    \n",
    "                    start = answer[\"answer_start\"]\n",
    "                    end = start + len(answer_text)\n",
    "                    \n",
    "                    if len(context_tokens) < 120 and len(ques_tokens) < 30:\n",
    "                        txt = \"context : \" + context.lower() + \" query : \" + ques.lower()\n",
    "                        ans = answer_text.lower()\n",
    "                        result.append([txt,ans])\n",
    "                    else:\n",
    "                        #s_context = context[:end+150]\n",
    "                        i = end-1\n",
    "                        while i < len(context) and context[i] != '.' and context[i] != '?':\n",
    "                            i = i+1\n",
    "                        s_context = context[:i+1]\n",
    "                        \n",
    "                        s_context_tokens = tokenizer.tokenize(s_context)\n",
    "                        if len(s_context_tokens) < 120 and len(ques_tokens) < 30:\n",
    "                            txt = \"context : \" + s_context.lower() + \" query : \" + ques.lower()\n",
    "                            ans = answer_text.lower()\n",
    "                            result.append([txt,ans])"
   ]
  },
  {
   "cell_type": "code",
   "execution_count": 5,
   "metadata": {},
   "outputs": [],
   "source": [
    "random.shuffle(result)"
   ]
  },
  {
   "cell_type": "code",
   "execution_count": 6,
   "metadata": {},
   "outputs": [
    {
     "data": {
      "text/plain": [
       "59942"
      ]
     },
     "execution_count": 6,
     "metadata": {},
     "output_type": "execute_result"
    }
   ],
   "source": [
    "len(result)"
   ]
  },
  {
   "cell_type": "code",
   "execution_count": null,
   "metadata": {},
   "outputs": [],
   "source": []
  },
  {
   "cell_type": "code",
   "execution_count": null,
   "metadata": {},
   "outputs": [],
   "source": []
  },
  {
   "cell_type": "code",
   "execution_count": 7,
   "metadata": {},
   "outputs": [
    {
     "data": {
      "text/plain": [
       "[['context : puerto rico\\'s constitution expressly forbids capital punishment, stating \"the death penalty shall not exist\", setting it apart from all u.s. states and territories other than michigan, which also has a constitutional prohibition (eleven other states and the district of columbia have abolished capital punishment through statutory law). however, capital punishment is still applicable to offenses committed in puerto rico, if they fall under the jurisdiction of the federal government, though federal death penalty prosecutions there have generated significant controversy. query : what territory\\'s constitution says \"the death penalty shall not exist\"?',\n",
       "  \"puerto rico's\"],\n",
       " ['context : a mailbox provider is an organization that provides services for hosting electronic mail domains with access to storage for mail boxes. it provides email servers to send, receive, accept, and store email for end users or other organizations. query : what is a mailbox provider? ',\n",
       "  'an organization that provides services for hosting electronic mail domains with access to storage for mail boxes'],\n",
       " ['context : the u.s. census bureau reports a 2010 population of 129,779, with 47,094 households and 25,854 families within the city of new haven. query : how many households are located in new haven according to the 2010 u.s. census bureau report?',\n",
       "  '47,094'],\n",
       " ['context : the centuries-long geopolitical and ideological rivalry between safavid iran and the neighboring ottoman empire, led to numerous ottoman–persian wars. the safavid era peaked in the reign of abbas the great, 1587–1629, surpassing their ottoman arch rivals in strength, and making the empire a leading hub in western eurasia for the sciences and arts. query : safavid iran peaked during whose reign?',\n",
       "  'abbas the great'],\n",
       " ['context : additionally, somali women have a long tradition of wearing gold jewelry, particularly bangles. during weddings, the bride is frequently adorned in gold. many somali women by tradition also wear gold necklaces and anklets. query : what type of jewelry do somali women wear at their weddings?',\n",
       "  'gold'],\n",
       " ['context : in the 1990s, initiatives were taken at an international level (in particular by the european community, the council of europe, the oecd) to put a ban on corruption: in 1996, the committee of ministers of the council of europe, for instance, adopted a comprehensive programme of action against corruption and, subsequently, issued a series of anti-corruption standard-setting instruments: query : who started the programme of action?',\n",
       "  'ministers of the council of europe'],\n",
       " ['context : the question to be answered is whether a listed species will be harmed by the action and, if so, how the harm can be minimized. if harm cannot be avoided, the project agency can seek an exemption from the endangered species committee, an ad hoc panel composed of members from the executive branch and at least one appointee from the state where the project is to occur. query : what is one specific requirement regarding the make-up of the exmeption panel?',\n",
       "  'at least one appointee from the state where the project is to occur'],\n",
       " [\"context : nigeria in recent years has been embracing industrialisation. it currently has an indigenous vehicle manufacturing company, innoson motors, which manufactures rapid transit buses, trucks and suvs with an upcoming introduction of cars. query : what is nigeria's local vehicle manufacturer?\",\n",
       "  'innoson motors'],\n",
       " ['context : atari games created a line of nes products under the name tengen and took a different approach. the company attempted to reverse engineer the lockout chip to develop its own \"rabbit\" chip. however, tengen also obtained a description of the lockout chip from the united states patent and trademark office by falsely claiming that it was required to defend against present infringement claims in a legal case. query : tengen got a description of nintendo\\'s chip from whom?',\n",
       "  'united states patent and trademark office'],\n",
       " [\"context : a brewery tap is the nearest outlet for a brewery's beers. this is usually a room or bar in the brewery itself, though the name may be applied to the nearest pub. the term is not applied to a brewpub which brews and sells its beer on the same premises. query : if the brewery tap is not located in the brewery, where is it usually located?\",\n",
       "  'the nearest pub']]"
      ]
     },
     "execution_count": 7,
     "metadata": {},
     "output_type": "execute_result"
    }
   ],
   "source": [
    "result[:10]"
   ]
  },
  {
   "cell_type": "code",
   "execution_count": null,
   "metadata": {},
   "outputs": [],
   "source": []
  },
  {
   "cell_type": "code",
   "execution_count": null,
   "metadata": {},
   "outputs": [],
   "source": []
  },
  {
   "cell_type": "code",
   "execution_count": 8,
   "metadata": {},
   "outputs": [],
   "source": [
    "train_df = pd.DataFrame(result , columns = ['Text', 'Answer'])"
   ]
  },
  {
   "cell_type": "code",
   "execution_count": 9,
   "metadata": {},
   "outputs": [],
   "source": [
    "train_df.to_csv('squad.csv', index=False)"
   ]
  },
  {
   "cell_type": "code",
   "execution_count": null,
   "metadata": {},
   "outputs": [],
   "source": []
  },
  {
   "cell_type": "code",
   "execution_count": null,
   "metadata": {},
   "outputs": [],
   "source": []
  }
 ],
 "metadata": {
  "kernelspec": {
   "display_name": "Python 3",
   "language": "python",
   "name": "python3"
  },
  "language_info": {
   "codemirror_mode": {
    "name": "ipython",
    "version": 3
   },
   "file_extension": ".py",
   "mimetype": "text/x-python",
   "name": "python",
   "nbconvert_exporter": "python",
   "pygments_lexer": "ipython3",
   "version": "3.8.3"
  }
 },
 "nbformat": 4,
 "nbformat_minor": 4
}

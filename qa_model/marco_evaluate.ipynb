{
 "cells": [
  {
   "cell_type": "code",
   "execution_count": 1,
   "metadata": {},
   "outputs": [],
   "source": [
    "import torch\n",
    "import torch.nn as nn\n",
    "\n",
    "import torchtext\n",
    "from torchtext.data import Field\n",
    "\n",
    "from torchtext import data\n",
    "from transformers import T5Tokenizer, T5Model"
   ]
  },
  {
   "cell_type": "code",
   "execution_count": 2,
   "metadata": {},
   "outputs": [],
   "source": [
    "tokenizer = T5Tokenizer.from_pretrained('t5-small')"
   ]
  },
  {
   "cell_type": "code",
   "execution_count": 3,
   "metadata": {},
   "outputs": [
    {
     "name": "stdout",
     "output_type": "stream",
     "text": [
      "<pad> </s> <pad> <unk>\n"
     ]
    }
   ],
   "source": [
    "init_token = tokenizer.pad_token\n",
    "eos_token = tokenizer.eos_token\n",
    "pad_token = tokenizer.pad_token\n",
    "unk_token = tokenizer.unk_token\n",
    "\n",
    "print(init_token, eos_token, pad_token, unk_token)"
   ]
  },
  {
   "cell_type": "code",
   "execution_count": 4,
   "metadata": {},
   "outputs": [
    {
     "name": "stdout",
     "output_type": "stream",
     "text": [
      "0 1 0 2\n"
     ]
    }
   ],
   "source": [
    "init_token_idx = tokenizer.convert_tokens_to_ids(init_token)\n",
    "eos_token_idx = tokenizer.convert_tokens_to_ids(eos_token)\n",
    "pad_token_idx = tokenizer.convert_tokens_to_ids(pad_token)\n",
    "unk_token_idx = tokenizer.convert_tokens_to_ids(unk_token)\n",
    "\n",
    "print(init_token_idx, eos_token_idx, pad_token_idx, unk_token_idx)"
   ]
  },
  {
   "cell_type": "code",
   "execution_count": 5,
   "metadata": {},
   "outputs": [
    {
     "name": "stdout",
     "output_type": "stream",
     "text": [
      "512\n"
     ]
    }
   ],
   "source": [
    "max_input_length = tokenizer.max_model_input_sizes['t5-small']\n",
    "\n",
    "print(max_input_length)"
   ]
  },
  {
   "cell_type": "code",
   "execution_count": 6,
   "metadata": {},
   "outputs": [],
   "source": [
    "def tokenize_and_cut(sentence):\n",
    "    tokens = tokenizer.tokenize(sentence) \n",
    "    tokens = tokens[:max_input_length-2]\n",
    "    return tokens"
   ]
  },
  {
   "cell_type": "code",
   "execution_count": 7,
   "metadata": {},
   "outputs": [],
   "source": [
    "SRC = data.Field(batch_first = True,\n",
    "                  use_vocab = False,\n",
    "                  tokenize = tokenize_and_cut,\n",
    "                  preprocessing = tokenizer.convert_tokens_to_ids,\n",
    "                  init_token = init_token_idx,\n",
    "                  eos_token = eos_token_idx,\n",
    "                  pad_token = pad_token_idx,\n",
    "                  unk_token = unk_token_idx)\n",
    "\n",
    "TRG = data.Field(batch_first = True,\n",
    "                  use_vocab = False,\n",
    "                  tokenize = tokenize_and_cut,\n",
    "                  preprocessing = tokenizer.convert_tokens_to_ids,\n",
    "                  init_token = init_token_idx,\n",
    "                  eos_token = eos_token_idx,\n",
    "                  pad_token = pad_token_idx,\n",
    "                  unk_token = unk_token_idx)"
   ]
  },
  {
   "cell_type": "code",
   "execution_count": 8,
   "metadata": {},
   "outputs": [],
   "source": [
    "class T5Network(nn.Module):\n",
    "    def __init__(self):\n",
    "        \n",
    "        super().__init__()\n",
    "        \n",
    "        self.t5 = t5 = T5Model.from_pretrained('t5-small')\n",
    "        \n",
    "        self.out = nn.Linear(t5.config.to_dict()['d_model'], t5.config.to_dict()['vocab_size'])\n",
    "                \n",
    "    def forward(self, src, trg):\n",
    "        \n",
    "        embedded = self.t5(input_ids=src, decoder_input_ids=trg)\n",
    "        \n",
    "        output = self.out(embedded[0])\n",
    "        \n",
    "        return output"
   ]
  },
  {
   "cell_type": "code",
   "execution_count": 9,
   "metadata": {},
   "outputs": [
    {
     "name": "stderr",
     "output_type": "stream",
     "text": [
      "Some weights of T5Model were not initialized from the model checkpoint at t5-small and are newly initialized: ['encoder.embed_tokens.weight', 'decoder.embed_tokens.weight']\n",
      "You should probably TRAIN this model on a down-stream task to be able to use it for predictions and inference.\n",
      "Some weights of T5Model were not initialized from the model checkpoint at t5-small and are newly initialized: ['encoder.embed_tokens.weight', 'decoder.embed_tokens.weight']\n",
      "You should probably TRAIN this model on a down-stream task to be able to use it for predictions and inference.\n",
      "Some weights of T5Model were not initialized from the model checkpoint at t5-small and are newly initialized: ['encoder.embed_tokens.weight', 'decoder.embed_tokens.weight']\n",
      "You should probably TRAIN this model on a down-stream task to be able to use it for predictions and inference.\n",
      "Some weights of T5Model were not initialized from the model checkpoint at t5-small and are newly initialized: ['encoder.embed_tokens.weight', 'decoder.embed_tokens.weight']\n",
      "You should probably TRAIN this model on a down-stream task to be able to use it for predictions and inference.\n"
     ]
    }
   ],
   "source": [
    "models = []\n",
    "\n",
    "for i in range(4):\n",
    "    new_model = T5Network().cuda()\n",
    "    new_model.load_state_dict(torch.load(f'saved_models/marco_model_{i+1}.pt'))\n",
    "    models.append(new_model)"
   ]
  },
  {
   "cell_type": "code",
   "execution_count": null,
   "metadata": {},
   "outputs": [],
   "source": []
  },
  {
   "cell_type": "code",
   "execution_count": null,
   "metadata": {},
   "outputs": [],
   "source": []
  },
  {
   "cell_type": "code",
   "execution_count": null,
   "metadata": {},
   "outputs": [],
   "source": []
  },
  {
   "cell_type": "code",
   "execution_count": null,
   "metadata": {},
   "outputs": [],
   "source": []
  },
  {
   "cell_type": "code",
   "execution_count": 10,
   "metadata": {},
   "outputs": [],
   "source": [
    "def translate_sentence(sentence, src_field, trg_field, model, max_len = 50):\n",
    "    model.eval()\n",
    "\n",
    "    src_indexes = [init_token_idx] + sentence + [eos_token_idx]\n",
    "    src_tensor = torch.LongTensor(src_indexes).unsqueeze(0).cuda()\n",
    "\n",
    "    trg_indexes = [init_token_idx]\n",
    "\n",
    "    for i in range(max_len):\n",
    "\n",
    "        trg_tensor = torch.LongTensor(trg_indexes).unsqueeze(0).cuda()\n",
    "        \n",
    "        with torch.no_grad():\n",
    "            output = model(src_tensor, trg_tensor)\n",
    "        \n",
    "        pred_token = output.argmax(2)[:,-1].item()\n",
    "        \n",
    "        trg_indexes.append(pred_token)\n",
    "\n",
    "        if pred_token == eos_token_idx:\n",
    "            break\n",
    "            \n",
    "    return trg_indexes"
   ]
  },
  {
   "cell_type": "code",
   "execution_count": 11,
   "metadata": {},
   "outputs": [],
   "source": [
    "def str_result(tokens):\n",
    "    tokens = tokens[1:-1]\n",
    "    joined = ''.join(tokenizer.convert_ids_to_tokens(tokens))\n",
    "    sep_token = joined[0]\n",
    "    split = joined.split(sep_token)\n",
    "    final = ' '.join(split[1:])\n",
    "    \n",
    "    return final"
   ]
  },
  {
   "cell_type": "code",
   "execution_count": null,
   "metadata": {},
   "outputs": [],
   "source": []
  },
  {
   "cell_type": "code",
   "execution_count": null,
   "metadata": {},
   "outputs": [],
   "source": []
  },
  {
   "cell_type": "code",
   "execution_count": 12,
   "metadata": {},
   "outputs": [],
   "source": [
    "CONTEXT = 'The COVID‑19 pandemic, also known as the coronavirus pandemic, is an ongoing global pandemic of coronavirus disease 2019 (COVID‑19), caused by severe acute respiratory syndrome coronavirus 2 (SARS‑CoV‑2). The outbreak was first identified in December 2019 in Wuhan, China. The World Health Organization declared the outbreak a Public Health Emergency of International Concern on 30 January 2020 and a pandemic on 11 March. As of 24 August 2020, more than 23.4 million cases of COVID‑19 have been reported in more than 188 countries and territories, resulting in more than 808,000 deaths; more than 15.1 million people have recovered.'\n",
    "QUERIES = ['where was the outbreak first identified ?',\n",
    "           'when was the outbreak first identified ?',\n",
    "           'how many people have died from covid-19 ?',\n",
    "           'how many people have recovered from covid-19 ?',\n",
    "           'when did the world health organization declare an emergency ?',\n",
    "           'when did the world health organization declare a pandemic ?']"
   ]
  },
  {
   "cell_type": "code",
   "execution_count": 13,
   "metadata": {},
   "outputs": [
    {
     "name": "stdout",
     "output_type": "stream",
     "text": [
      "TEXT\n",
      "context : the covid‑19 pandemic, also known as the coronavirus pandemic, is an ongoing global pandemic of coronavirus disease 2019 (covid‑19), caused by severe acute respiratory syndrome coronavirus 2 (sars‑cov‑2). the outbreak was first identified in december 2019 in wuhan, china. the world health organization declared the outbreak a public health emergency of international concern on 30 january 2020 and a pandemic on 11 march. as of 24 august 2020, more than 23.4 million cases of covid‑19 have been reported in more than 188 countries and territories, resulting in more than 808,000 deaths; more than 15.1 million people have recovered. query : where was the outbreak first identified ?\n",
      "\n",
      "PREDICTIONS\n",
      "wuhan, china\n",
      "in wuhan, china.\n",
      "wuhan, china\n",
      "wuhan, china\n",
      "\n",
      "\n",
      "\n",
      "TEXT\n",
      "context : the covid‑19 pandemic, also known as the coronavirus pandemic, is an ongoing global pandemic of coronavirus disease 2019 (covid‑19), caused by severe acute respiratory syndrome coronavirus 2 (sars‑cov‑2). the outbreak was first identified in december 2019 in wuhan, china. the world health organization declared the outbreak a public health emergency of international concern on 30 january 2020 and a pandemic on 11 march. as of 24 august 2020, more than 23.4 million cases of covid‑19 have been reported in more than 188 countries and territories, resulting in more than 808,000 deaths; more than 15.1 million people have recovered. query : when was the outbreak first identified ?\n",
      "\n",
      "PREDICTIONS\n",
      "december 2019.\n",
      "december 2019.\n",
      "december 2018\n",
      "december\n",
      "\n",
      "\n",
      "\n",
      "TEXT\n",
      "context : the covid‑19 pandemic, also known as the coronavirus pandemic, is an ongoing global pandemic of coronavirus disease 2019 (covid‑19), caused by severe acute respiratory syndrome coronavirus 2 (sars‑cov‑2). the outbreak was first identified in december 2019 in wuhan, china. the world health organization declared the outbreak a public health emergency of international concern on 30 january 2020 and a pandemic on 11 march. as of 24 august 2020, more than 23.4 million cases of covid‑19 have been reported in more than 188 countries and territories, resulting in more than 808,000 deaths; more than 15.1 million people have recovered. query : how many people have died from covid-19 ?\n",
      "\n",
      "PREDICTIONS\n",
      "more than 15.1 million people have died from covid-19.\n",
      "more than 808,000\n",
      "more than 808,000 people died from covid-19.\n",
      "more than 808,000\n",
      "\n",
      "\n",
      "\n",
      "TEXT\n",
      "context : the covid‑19 pandemic, also known as the coronavirus pandemic, is an ongoing global pandemic of coronavirus disease 2019 (covid‑19), caused by severe acute respiratory syndrome coronavirus 2 (sars‑cov‑2). the outbreak was first identified in december 2019 in wuhan, china. the world health organization declared the outbreak a public health emergency of international concern on 30 january 2020 and a pandemic on 11 march. as of 24 august 2020, more than 23.4 million cases of covid‑19 have been reported in more than 188 countries and territories, resulting in more than 808,000 deaths; more than 15.1 million people have recovered. query : how many people have recovered from covid-19 ?\n",
      "\n",
      "PREDICTIONS\n",
      "15.1 million people\n",
      "more than 15.1 million\n",
      "15.1 million\n",
      "15.1 million\n",
      "\n",
      "\n",
      "\n",
      "TEXT\n",
      "context : the covid‑19 pandemic, also known as the coronavirus pandemic, is an ongoing global pandemic of coronavirus disease 2019 (covid‑19), caused by severe acute respiratory syndrome coronavirus 2 (sars‑cov‑2). the outbreak was first identified in december 2019 in wuhan, china. the world health organization declared the outbreak a public health emergency of international concern on 30 january 2020 and a pandemic on 11 march. as of 24 august 2020, more than 23.4 million cases of covid‑19 have been reported in more than 188 countries and territories, resulting in more than 808,000 deaths; more than 15.1 million people have recovered. query : when did the world health organization declare an emergency ?\n",
      "\n",
      "PREDICTIONS\n",
      "the world health organization declared an emergency on 30 january 2010.\n",
      "on 30 january 2020\n",
      "30 january 2020\n",
      "30 january 2020\n",
      "\n",
      "\n",
      "\n",
      "TEXT\n",
      "context : the covid‑19 pandemic, also known as the coronavirus pandemic, is an ongoing global pandemic of coronavirus disease 2019 (covid‑19), caused by severe acute respiratory syndrome coronavirus 2 (sars‑cov‑2). the outbreak was first identified in december 2019 in wuhan, china. the world health organization declared the outbreak a public health emergency of international concern on 30 january 2020 and a pandemic on 11 march. as of 24 august 2020, more than 23.4 million cases of covid‑19 have been reported in more than 188 countries and territories, resulting in more than 808,000 deaths; more than 15.1 million people have recovered. query : when did the world health organization declare a pandemic ?\n",
      "\n",
      "PREDICTIONS\n",
      "on 11 march.\n",
      "on 11 march.\n",
      "11 march\n",
      "on 30 january 2020 and a pandemic on 11 march.\n",
      "\n",
      "\n",
      "\n"
     ]
    }
   ],
   "source": [
    "for query in QUERIES:\n",
    "    text = \"context : \" + CONTEXT.lower() + \" query : \" + query.lower()\n",
    "    tokens = tokenizer.tokenize(text)\n",
    "    \n",
    "    print(\"TEXT\")\n",
    "    print(text)\n",
    "    \n",
    "    pred_tokens1 = translate_sentence(tokenizer.convert_tokens_to_ids(tokens), SRC, TRG, models[0])\n",
    "    pred_tokens2 = translate_sentence(tokenizer.convert_tokens_to_ids(tokens), SRC, TRG, models[1])\n",
    "    pred_tokens3 = translate_sentence(tokenizer.convert_tokens_to_ids(tokens), SRC, TRG, models[2])\n",
    "    pred_tokens4 = translate_sentence(tokenizer.convert_tokens_to_ids(tokens), SRC, TRG, models[3])\n",
    "    \n",
    "    print(\"\\nPREDICTIONS\")\n",
    "    print(str_result(pred_tokens1))\n",
    "    print(str_result(pred_tokens2))\n",
    "    print(str_result(pred_tokens3))\n",
    "    print(str_result(pred_tokens4))\n",
    "    print('\\n\\n')"
   ]
  },
  {
   "cell_type": "code",
   "execution_count": null,
   "metadata": {},
   "outputs": [],
   "source": []
  },
  {
   "cell_type": "code",
   "execution_count": null,
   "metadata": {},
   "outputs": [],
   "source": []
  }
 ],
 "metadata": {
  "kernelspec": {
   "display_name": "Python 3",
   "language": "python",
   "name": "python3"
  },
  "language_info": {
   "codemirror_mode": {
    "name": "ipython",
    "version": 3
   },
   "file_extension": ".py",
   "mimetype": "text/x-python",
   "name": "python",
   "nbconvert_exporter": "python",
   "pygments_lexer": "ipython3",
   "version": "3.8.3"
  }
 },
 "nbformat": 4,
 "nbformat_minor": 4
}

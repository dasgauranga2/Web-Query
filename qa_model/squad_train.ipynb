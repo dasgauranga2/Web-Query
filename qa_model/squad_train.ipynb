{
 "cells": [
  {
   "cell_type": "code",
   "execution_count": 1,
   "metadata": {},
   "outputs": [],
   "source": [
    "import torch\n",
    "import torch.nn as nn\n",
    "import torch.optim as optim\n",
    "\n",
    "import torchtext\n",
    "from torchtext.data import Field, BucketIterator\n",
    "\n",
    "import spacy\n",
    "import numpy as np\n",
    "\n",
    "import random\n",
    "import math\n",
    "import time\n",
    "from torchtext import data\n",
    "from transformers import T5Tokenizer, T5Model"
   ]
  },
  {
   "cell_type": "code",
   "execution_count": 2,
   "metadata": {},
   "outputs": [],
   "source": [
    "tokenizer = T5Tokenizer.from_pretrained('t5-small')"
   ]
  },
  {
   "cell_type": "code",
   "execution_count": 3,
   "metadata": {},
   "outputs": [
    {
     "name": "stdout",
     "output_type": "stream",
     "text": [
      "['▁Hello', '▁world', '▁how', '▁are', '▁you', '?']\n"
     ]
    }
   ],
   "source": [
    "tokens = tokenizer.tokenize('Hello world how are you?')\n",
    "\n",
    "print(tokens)"
   ]
  },
  {
   "cell_type": "code",
   "execution_count": 4,
   "metadata": {},
   "outputs": [
    {
     "name": "stdout",
     "output_type": "stream",
     "text": [
      "[8774, 296, 149, 33, 25, 58]\n"
     ]
    }
   ],
   "source": [
    "indexes = tokenizer.convert_tokens_to_ids(tokens)\n",
    "\n",
    "print(indexes)"
   ]
  },
  {
   "cell_type": "code",
   "execution_count": 5,
   "metadata": {},
   "outputs": [
    {
     "name": "stdout",
     "output_type": "stream",
     "text": [
      "<pad> </s> <pad> <unk>\n"
     ]
    }
   ],
   "source": [
    "init_token = tokenizer.pad_token\n",
    "eos_token = tokenizer.eos_token\n",
    "pad_token = tokenizer.pad_token\n",
    "unk_token = tokenizer.unk_token\n",
    "\n",
    "print(init_token, eos_token, pad_token, unk_token)"
   ]
  },
  {
   "cell_type": "code",
   "execution_count": 6,
   "metadata": {},
   "outputs": [
    {
     "name": "stdout",
     "output_type": "stream",
     "text": [
      "0 1 0 2\n"
     ]
    }
   ],
   "source": [
    "init_token_idx = tokenizer.convert_tokens_to_ids(init_token)\n",
    "eos_token_idx = tokenizer.convert_tokens_to_ids(eos_token)\n",
    "pad_token_idx = tokenizer.convert_tokens_to_ids(pad_token)\n",
    "unk_token_idx = tokenizer.convert_tokens_to_ids(unk_token)\n",
    "\n",
    "print(init_token_idx, eos_token_idx, pad_token_idx, unk_token_idx)"
   ]
  },
  {
   "cell_type": "code",
   "execution_count": 7,
   "metadata": {},
   "outputs": [
    {
     "name": "stdout",
     "output_type": "stream",
     "text": [
      "512\n"
     ]
    }
   ],
   "source": [
    "max_input_length = tokenizer.max_model_input_sizes['t5-small']\n",
    "\n",
    "print(max_input_length)"
   ]
  },
  {
   "cell_type": "code",
   "execution_count": 8,
   "metadata": {},
   "outputs": [],
   "source": [
    "def tokenize_and_cut(sentence):\n",
    "    tokens = tokenizer.tokenize(sentence) \n",
    "    tokens = tokens[:max_input_length-2]\n",
    "    return tokens"
   ]
  },
  {
   "cell_type": "code",
   "execution_count": 9,
   "metadata": {},
   "outputs": [],
   "source": [
    "SRC = data.Field(batch_first = True,\n",
    "                  use_vocab = False,\n",
    "                  tokenize = tokenize_and_cut,\n",
    "                  preprocessing = tokenizer.convert_tokens_to_ids,\n",
    "                  init_token = init_token_idx,\n",
    "                  eos_token = eos_token_idx,\n",
    "                  pad_token = pad_token_idx,\n",
    "                  unk_token = unk_token_idx)\n",
    "\n",
    "TRG = data.Field(batch_first = True,\n",
    "                  use_vocab = False,\n",
    "                  tokenize = tokenize_and_cut,\n",
    "                  preprocessing = tokenizer.convert_tokens_to_ids,\n",
    "                  init_token = init_token_idx,\n",
    "                  eos_token = eos_token_idx,\n",
    "                  pad_token = pad_token_idx,\n",
    "                  unk_token = unk_token_idx)"
   ]
  },
  {
   "cell_type": "code",
   "execution_count": 10,
   "metadata": {},
   "outputs": [],
   "source": [
    "fields = [('src', SRC), ('trg', TRG)]"
   ]
  },
  {
   "cell_type": "code",
   "execution_count": 11,
   "metadata": {},
   "outputs": [],
   "source": [
    "train_data = data.TabularDataset.splits(\n",
    "                path = '',\n",
    "                train = 'squad.csv',\n",
    "                format = 'csv',\n",
    "                fields = fields,\n",
    "                skip_header = True)\n",
    "\n",
    "train_data , valid_data = train_data[0].split(split_ratio=0.98,\n",
    "                                             random_state = random.seed(4321))"
   ]
  },
  {
   "cell_type": "code",
   "execution_count": 12,
   "metadata": {},
   "outputs": [
    {
     "name": "stdout",
     "output_type": "stream",
     "text": [
      "58743\n",
      "1199\n"
     ]
    }
   ],
   "source": [
    "print(len(train_data.examples))\n",
    "print(len(valid_data.examples))"
   ]
  },
  {
   "cell_type": "code",
   "execution_count": 13,
   "metadata": {},
   "outputs": [
    {
     "name": "stdout",
     "output_type": "stream",
     "text": [
      "{'src': [2625, 3, 10, 16, 8, 336, 192, 4160, 6, 1202, 10897, 9, 447, 7, 41, 102, 208, 201, 92, 801, 38, 3693, 3, 102, 208, 6, 65, 14021, 45, 3, 9, 4621, 11276, 512, 13, 422, 2643, 1564, 1587, 2852, 3, 9, 12946, 6373, 1391, 5, 3, 9, 3693, 2358, 19, 3, 9, 1407, 24, 5755, 7, 659, 1461, 139, 6373, 338, 8, 1202, 17470, 1504, 5, 8, 166, 3693, 2358, 47, 8520, 57, 3, 4059, 965, 3, 89, 18208, 7, 16, 8, 507, 2079, 7, 5, 11417, 3, 10, 16, 8, 507, 2079, 7, 6, 113, 8520, 8, 166, 3693, 2358, 58], 'trg': [3, 4059, 965, 3, 89, 18208, 7]}\n"
     ]
    }
   ],
   "source": [
    "print(vars(train_data.examples[10000]))"
   ]
  },
  {
   "cell_type": "code",
   "execution_count": 14,
   "metadata": {},
   "outputs": [
    {
     "name": "stdout",
     "output_type": "stream",
     "text": [
      "['▁context', '▁', ':', '▁in', '▁the', '▁last', '▁two', '▁decades', ',', '▁photo', 'volt', 'a', 'ic', 's', '▁(', 'p', 'v', '),', '▁also', '▁known', '▁as', '▁solar', '▁', 'p', 'v', ',', '▁has', '▁evolved', '▁from', '▁', 'a', '▁pure', '▁niche', '▁market', '▁of', '▁small', '▁scale', '▁applications', '▁towards', '▁becoming', '▁', 'a', '▁mainstream', '▁electricity', '▁source', '.', '▁', 'a', '▁solar', '▁cell', '▁is', '▁', 'a', '▁device', '▁that', '▁convert', 's', '▁light', '▁directly', '▁into', '▁electricity', '▁using', '▁the', '▁photo', 'electric', '▁effect', '.', '▁the', '▁first', '▁solar', '▁cell', '▁was', '▁constructed', '▁by', '▁', 'char', 'les', '▁', 'f', 'ritt', 's', '▁in', '▁the', '▁18', '80', 's', '.', '▁query', '▁', ':', '▁in', '▁the', '▁18', '80', 's', ',', '▁who', '▁constructed', '▁the', '▁first', '▁solar', '▁cell', '?']\n",
      "['▁', 'char', 'les', '▁', 'f', 'ritt', 's']\n"
     ]
    }
   ],
   "source": [
    "tokens = tokenizer.convert_ids_to_tokens(vars(train_data.examples[10000])['src'])\n",
    "\n",
    "print(tokens)\n",
    "tokens = tokenizer.convert_ids_to_tokens(vars(train_data.examples[10000])['trg'])\n",
    "\n",
    "print(tokens)"
   ]
  },
  {
   "cell_type": "code",
   "execution_count": 15,
   "metadata": {},
   "outputs": [],
   "source": [
    "device = torch.device('cuda')\n",
    "\n",
    "BATCH_SIZE = 20\n",
    "\n",
    "train_iterator, valid_iterator = BucketIterator.splits(\n",
    "                                (train_data, valid_data), \n",
    "                                batch_size = BATCH_SIZE,\n",
    "                                device = device,\n",
    "                                sort_key=lambda x: len(x.src))"
   ]
  },
  {
   "cell_type": "code",
   "execution_count": 16,
   "metadata": {},
   "outputs": [],
   "source": [
    "class T5Network(nn.Module):\n",
    "    def __init__(self):\n",
    "        \n",
    "        super().__init__()\n",
    "        \n",
    "        self.t5 = t5 = T5Model.from_pretrained('t5-small')\n",
    "        \n",
    "        self.out = nn.Linear(t5.config.to_dict()['d_model'], t5.config.to_dict()['vocab_size'])\n",
    "                \n",
    "    def forward(self, src, trg):\n",
    "        \n",
    "        embedded = self.t5(input_ids=src, decoder_input_ids=trg)\n",
    "        \n",
    "        output = self.out(embedded[0])\n",
    "        \n",
    "        return output"
   ]
  },
  {
   "cell_type": "code",
   "execution_count": 17,
   "metadata": {},
   "outputs": [
    {
     "name": "stderr",
     "output_type": "stream",
     "text": [
      "Some weights of T5Model were not initialized from the model checkpoint at t5-small and are newly initialized: ['encoder.embed_tokens.weight', 'decoder.embed_tokens.weight']\n",
      "You should probably TRAIN this model on a down-stream task to be able to use it for predictions and inference.\n"
     ]
    }
   ],
   "source": [
    "model = T5Network().cuda()"
   ]
  },
  {
   "cell_type": "code",
   "execution_count": 18,
   "metadata": {},
   "outputs": [
    {
     "name": "stdout",
     "output_type": "stream",
     "text": [
      "The model has 76,988,544 trainable parameters\n"
     ]
    }
   ],
   "source": [
    "def count_parameters(model):\n",
    "    return sum(p.numel() for p in model.parameters() if p.requires_grad)\n",
    "\n",
    "print(f'The model has {count_parameters(model):,} trainable parameters')"
   ]
  },
  {
   "cell_type": "code",
   "execution_count": 19,
   "metadata": {},
   "outputs": [],
   "source": [
    "LEARNING_RATE = 0.0004\n",
    "\n",
    "optimizer = torch.optim.Adam(model.parameters(), lr = LEARNING_RATE)"
   ]
  },
  {
   "cell_type": "code",
   "execution_count": 20,
   "metadata": {},
   "outputs": [],
   "source": [
    "criterion = nn.CrossEntropyLoss(ignore_index = pad_token_idx)"
   ]
  },
  {
   "cell_type": "code",
   "execution_count": 21,
   "metadata": {},
   "outputs": [],
   "source": [
    "N_EPOCHS = 4\n",
    "CLIP = 1\n",
    "\n",
    "best_valid_loss = float('inf')"
   ]
  },
  {
   "cell_type": "code",
   "execution_count": 22,
   "metadata": {},
   "outputs": [
    {
     "name": "stdout",
     "output_type": "stream",
     "text": [
      "EPOCH : 1\tTRAIN LOSS : 2.56\tVALID LOSS : 0.84\tTIME : 1069.69\n",
      "\n",
      "EPOCH : 2\tTRAIN LOSS : 0.64\tVALID LOSS : 0.59\tTIME : 1107.69\n",
      "\n",
      "EPOCH : 3\tTRAIN LOSS : 0.38\tVALID LOSS : 0.53\tTIME : 1094.08\n",
      "\n",
      "EPOCH : 4\tTRAIN LOSS : 0.27\tVALID LOSS : 0.52\tTIME : 1101.33\n",
      "\n"
     ]
    }
   ],
   "source": [
    "for epoch in range(N_EPOCHS):\n",
    "    \n",
    "    start = time.time()\n",
    "    # TRAIN \n",
    "    #########################################################################\n",
    "    model.train()\n",
    "    epoch_loss = 0\n",
    "    \n",
    "    for i, batch in enumerate(train_iterator):\n",
    "        \n",
    "        src = batch.src\n",
    "        trg = batch.trg\n",
    "        \n",
    "        optimizer.zero_grad()\n",
    "        \n",
    "        output = model(src, trg[:,:-1])\n",
    "        \n",
    "        output_dim = output.shape[-1]\n",
    "            \n",
    "        output = output.contiguous().view(-1, output_dim)\n",
    "        trg = trg[:,1:].contiguous().view(-1)\n",
    "        \n",
    "        loss = criterion(output, trg)\n",
    "        \n",
    "        loss.backward()\n",
    "        \n",
    "        torch.nn.utils.clip_grad_norm_(model.parameters(), CLIP)\n",
    "        \n",
    "        optimizer.step()\n",
    "        \n",
    "        epoch_loss += loss.item()\n",
    "        \n",
    "    train_loss = epoch_loss / len(train_iterator)\n",
    "    #########################################################################\n",
    "    \n",
    "    # VALID\n",
    "    #########################################################################\n",
    "    model.eval()\n",
    "    epoch_loss = 0\n",
    "    \n",
    "    with torch.no_grad():\n",
    "    \n",
    "        for i, batch in enumerate(valid_iterator):\n",
    "\n",
    "            src = batch.src\n",
    "            trg = batch.trg\n",
    "\n",
    "            output = model(src, trg[:,:-1])\n",
    "            \n",
    "            output_dim = output.shape[-1]\n",
    "            \n",
    "            output = output.contiguous().view(-1, output_dim)\n",
    "            trg = trg[:,1:].contiguous().view(-1)\n",
    "            \n",
    "            loss = criterion(output, trg)\n",
    "\n",
    "            epoch_loss += loss.item()\n",
    "        \n",
    "    valid_loss = epoch_loss / len(valid_iterator)\n",
    "    #########################################################################\n",
    "    end = time.time()\n",
    "    \n",
    "    print(f\"EPOCH : {epoch+1}\\tTRAIN LOSS : {train_loss:.2f}\\tVALID LOSS : {valid_loss:.2f}\\tTIME : {end-start:.2f}\\n\")\n",
    "    torch.save(model.state_dict(), f'saved_models/squad_model_{epoch+1}.pt')"
   ]
  },
  {
   "cell_type": "code",
   "execution_count": null,
   "metadata": {},
   "outputs": [],
   "source": []
  },
  {
   "cell_type": "code",
   "execution_count": null,
   "metadata": {},
   "outputs": [],
   "source": []
  },
  {
   "cell_type": "code",
   "execution_count": null,
   "metadata": {},
   "outputs": [],
   "source": []
  },
  {
   "cell_type": "code",
   "execution_count": null,
   "metadata": {},
   "outputs": [],
   "source": []
  },
  {
   "cell_type": "code",
   "execution_count": 23,
   "metadata": {},
   "outputs": [],
   "source": [
    "def translate_sentence(sentence, src_field, trg_field, model, device, max_len = 50):\n",
    "    model.eval()\n",
    "\n",
    "    src_indexes = [init_token_idx] + sentence + [eos_token_idx]\n",
    "    src_tensor = torch.LongTensor(src_indexes).unsqueeze(0).to(device)\n",
    "\n",
    "    trg_indexes = [init_token_idx]\n",
    "\n",
    "    for i in range(max_len):\n",
    "\n",
    "        trg_tensor = torch.LongTensor(trg_indexes).unsqueeze(0).to(device)\n",
    "        \n",
    "        with torch.no_grad():\n",
    "            output = model(src_tensor, trg_tensor)\n",
    "        \n",
    "        pred_token = output.argmax(2)[:,-1].item()\n",
    "        \n",
    "        trg_indexes.append(pred_token)\n",
    "\n",
    "        if pred_token == eos_token_idx:\n",
    "            break\n",
    "            \n",
    "    return trg_indexes[1:]"
   ]
  },
  {
   "cell_type": "code",
   "execution_count": 24,
   "metadata": {},
   "outputs": [
    {
     "name": "stdout",
     "output_type": "stream",
     "text": [
      "SRC : ▁context ▁ : ▁the ▁consolidation ▁of ▁the ▁\" hot ▁ a c \" ▁format ▁contrast e d ▁with ▁the ▁near - de mise ▁of ▁most ▁other ▁ a c ▁formats : ▁beginning ▁with ▁the ▁2005 - 2007 ▁economic ▁down turn ▁and ▁eventual ▁recession ▁most ▁stations ▁went ▁for ▁the ▁more ▁chart - based ▁ ch r , ▁along ▁with ▁the ▁top ▁40 , ▁urban ▁and ▁even ▁ latin o ▁formats . ▁diminish ing ▁physical ▁record ▁sales ▁also ▁proved ▁ a ▁major ▁blow ▁to ▁the ▁ a c ▁genre . ▁query ▁ : ▁along ▁with ▁ ch r , ▁top ▁40 ▁and ▁ latin o , ▁what ▁format ▁have ▁former ▁ a c ▁stations ▁transition e d ▁to ?\n",
      "TRG : ▁urban\n",
      "PREDICTED : ▁urban </s>\n",
      "\n",
      "SRC : ▁context ▁ : ▁bird ▁migration ▁is ▁not ▁limited ▁to ▁birds ▁that ▁can ▁fly . ▁most ▁species ▁of ▁pen guin ▁( s phen is cid a e ) ▁migrate ▁by ▁swimming . ▁these ▁routes ▁can ▁cover ▁over ▁1,000 ▁km ▁( 620 ▁mi ). ▁du sky ▁ gro use ▁den d rag a pus ▁ obscur us ▁perform ▁alt it u d inal ▁migration ▁mostly ▁by ▁walking . ▁ e mus ▁ d rom a i us ▁ nova e hol l and i a e ▁in ▁australia ▁have ▁been ▁observed ▁to ▁undertake ▁long - d i stance ▁movements ▁on ▁foot ▁during ▁drought s . ▁query ▁ : ▁where ▁are ▁ e mus ▁from ?\n",
      "TRG : ▁australia\n",
      "PREDICTED : ▁australia </s>\n",
      "\n",
      "SRC : ▁context ▁ : ▁on ▁ nov ember ▁17, ▁2014 , ▁students ▁for ▁fair ▁admission s , ▁an ▁off sho o t ▁of ▁the ▁project ▁on ▁fair ▁representation , ▁filed ▁lawsuit s ▁in ▁federal ▁district ▁court ▁challenging ▁the ▁admission s ▁practices ▁of ▁ har var d ▁university ▁and ▁the ▁university ▁of ▁north ▁car olin a ▁at ▁chapel ▁hill . ▁query ▁ : ▁what ▁is ▁the ▁students ▁for ▁fair ▁admission s ▁an ▁off sho o t ▁of ?\n",
      "TRG : ▁project ▁on ▁fair ▁representation\n",
      "PREDICTED : ▁the ▁project ▁on ▁fair ▁representation </s>\n",
      "\n",
      "SRC : ▁context ▁ : ▁located ▁in ▁cord on , ▁ s t . bre n dan ▁ <unk> s ▁school , ▁before ▁named ▁ s t . ▁query ▁ : ▁what ▁is ▁the ▁only ▁school ▁in ▁the ▁country ▁ implementing ▁three ▁international ▁ bac cal a ure ate ▁programmes ?\n",
      "TRG : ▁ s t . bre n dan ▁ <unk> s ▁school\n",
      "PREDICTED : ▁ s t . bre n dan ▁ <unk> s ▁school </s>\n",
      "\n",
      "SRC : ▁context ▁ : ▁south am pton ▁is ▁ a ▁major ▁ uk ▁port ▁which ▁has ▁good ▁transport ▁links ▁with ▁the ▁rest ▁of ▁the ▁country . ▁the ▁ m 27 ▁motor way , ▁linking ▁places ▁along ▁the ▁south ▁coast ▁of ▁ eng l and , ▁runs ▁just ▁to ▁the ▁north ▁of ▁the ▁city . ▁query ▁ : ▁which ▁motor way ▁located ▁north ▁of ▁south am pton ▁links ▁up ▁ eng l and ' s ▁south ▁coast ?\n",
      "TRG : ▁ m 27\n",
      "PREDICTED : ▁ m 27 </s>\n",
      "\n",
      "SRC : ▁context ▁ : ▁in ▁order ▁not ▁to ▁let ▁the ▁routine ▁administration ▁take ▁over ▁the ▁running ▁of ▁the ▁empire , ▁the ▁ q ing ▁ emper or s ▁made ▁sure ▁that ▁all ▁important ▁matters ▁were ▁decided ▁in ▁the ▁\" in ner ▁court ,\" ▁which ▁was ▁ dominated ▁by ▁the ▁imperi al ▁family ▁and ▁man chu ▁no b ility ▁and ▁which ▁was ▁located ▁in ▁the ▁northern ▁part ▁of ▁the ▁forbidden ▁city . ▁query ▁ : ▁who ▁controlled ▁the ▁\" in ner ▁court \" ?\n",
      "TRG : ▁imperi al ▁family ▁and ▁man chu ▁no b ility\n",
      "PREDICTED : ▁the ▁imperi al ▁family ▁and ▁man chu ▁no b ility </s>\n",
      "\n",
      "SRC : ▁context ▁ : ▁the ▁text ual ▁critic ' s ▁ultimate ▁objective ▁is ▁the ▁production ▁of ▁ a ▁\" critical ▁edition \". [ citation ▁needed ] ▁this ▁contains ▁the ▁text ▁that ▁the ▁author ▁has ▁determined ▁most ▁closely ▁approximate s ▁the ▁original , ▁and ▁is ▁ accompanied ▁by ▁an ▁apparatus ▁critic us ▁or ▁critical ▁apparatus . ▁query ▁ : ▁what ▁is ▁included ▁in ▁or ▁ acco mp a nies ▁in ▁\" critical ▁edition \" ?\n",
      "TRG : ▁apparatus ▁critic us ▁or ▁critical ▁apparatus\n",
      "PREDICTED : ▁apparatus ▁critic us ▁or ▁critical ▁apparatus </s>\n",
      "\n",
      "SRC : ▁context ▁ : ▁the ▁first ▁recorded ▁european ▁excursions ▁into ▁what ▁is ▁now ▁called ▁ ten ness e e ▁were ▁three ▁expedition s ▁led ▁by ▁span ish ▁ explorer s , ▁ namely ▁her n and o ▁de ▁so to ▁in ▁15 40 , ▁tri stan ▁de ▁luna ▁in ▁15 59 , ▁and ▁ ju an ▁par d o ▁in ▁15 67 . ▁query ▁ : ▁which ▁year ▁did ▁her n and o ▁de ▁so to ▁explore ▁ ten ness e e ?\n",
      "TRG : ▁15 40\n",
      "PREDICTED : ▁15 40 </s>\n",
      "\n",
      "SRC : ▁context ▁ : ▁the ▁ f b i ▁is ▁organized ▁into ▁functional ▁branches ▁and ▁the ▁office ▁of ▁the ▁director , ▁which ▁contains ▁most ▁administrative ▁offices . ▁an ▁executive ▁assistant ▁director ▁manage s ▁each ▁branch . ▁each ▁branch ▁is ▁then ▁divided ▁into ▁offices ▁and ▁division s , ▁each ▁headed ▁by ▁an ▁assistant ▁director . ▁the ▁various ▁division s ▁are ▁further ▁divided ▁into ▁sub - branche s , ▁led ▁by ▁deputy ▁assistant ▁directors . ▁within ▁these ▁sub - branche s ▁there ▁are ▁various ▁sections ▁headed ▁by ▁section ▁chief s . ▁section ▁chief s ▁are ▁ ranked ▁analog ous ▁to ▁special ▁agents ▁in ▁charge . ▁query ▁ : ▁what ▁office ▁contains ▁the ▁ f b i ' s ▁administrative ▁offices ?\n",
      "TRG : ▁office ▁of ▁the ▁director\n",
      "PREDICTED : ▁the ▁office ▁of ▁the ▁directors </s>\n",
      "\n",
      "SRC : ▁context ▁ : ▁during ▁ m c m a h on ' s ▁period ▁in ▁office , ▁ n e ville ▁bonne r ▁joined ▁the ▁ s en ate ▁and ▁became ▁the ▁first ▁indigenous ▁australia n ▁in ▁the ▁australia n ▁parliament . ▁query ▁ : ▁who ▁became ▁the ▁first ▁indigenous ▁aus tra i lian ▁in ▁parliament ?\n",
      "TRG : ▁ n e ville ▁bonne r\n",
      "PREDICTED : ▁ n e ville ▁bon r </s>\n",
      "\n",
      "SRC : ▁context ▁ : ▁the ▁two ▁largest ▁metropolitan ▁areas ▁have ▁subway ▁systems : ▁ l is bon ▁metro ▁and ▁metro ▁ s ul ▁do ▁ t e jo ▁in ▁the ▁ l is bon ▁metropolitan ▁area ▁and ▁port o ▁metro ▁in ▁the ▁port o ▁metropolitan ▁area , ▁each ▁with ▁more ▁than ▁35 ▁km ▁( 22 ▁mi ) ▁of ▁lines . ▁query ▁ : ▁how ▁long ▁are ▁each ▁of ▁the ▁subway ▁systems ?\n",
      "TRG : ▁more ▁than ▁35 ▁km ▁( 22 ▁mi )\n",
      "PREDICTED : ▁35 ▁km ▁( 22 ▁mi ) </s>\n",
      "\n",
      "SRC : ▁context ▁ : ▁on ▁15 ▁ o c to ber ▁1969 , ▁while ▁paying ▁ a ▁visit ▁to ▁the ▁northern ▁town ▁of ▁la s ▁an o d , ▁so m alia ' s ▁then ▁president ▁ab dir ashi d ▁ ali ▁she r mark e ▁was ▁shot ▁dead ▁by ▁one ▁of ▁his ▁own ▁body guard s . ▁his ▁as s assi n ation ▁was ▁quickly ▁followed ▁by ▁ a ▁military ▁coup ▁ d ' état ▁on ▁21 ▁ o c to ber ▁1969 ▁( the ▁day ▁after ▁his ▁funeral ), ▁in ▁which ▁the ▁so mal i ▁army ▁ seized ▁power ▁without ▁encounter ing ▁ armed ▁opposition ▁ — ▁ essentially ▁ a ▁blood less ▁take over . ▁query ▁ : ▁on ▁what ▁day , ▁the ▁day ▁after ▁the ▁funeral ▁of ▁ab dir ashi d ▁ ali ▁she r mark e , ▁did ▁ a ▁coup ▁occur ?\n",
      "TRG : ▁21 ▁ o c to ber ▁1969\n",
      "PREDICTED : ▁21 ▁ o c to ber ▁1969 </s>\n",
      "\n",
      "SRC : ▁context ▁ : ▁ russia : ▁on ▁ a pri l ▁5 ▁the ▁ o ly m pic ▁torch ▁arrived ▁at ▁saint ▁pe ter sburg , ▁ russia . ▁the ▁length ▁of ▁the ▁torch ▁relay ▁route ▁in ▁the ▁city ▁was ▁20 ▁km , ▁with ▁the ▁start ▁at ▁the ▁victory ▁square ▁and ▁finish ▁at ▁the ▁palace ▁square . ▁mixed ▁martial ▁arts ▁icon ▁and ▁former ▁pride ▁heavy weight ▁champion ▁fed or ▁ e me lian enko ▁was ▁one ▁the ▁torch ▁bear ers . ▁this ▁gives ▁him ▁the ▁distinction ▁of ▁the ▁being ▁the ▁first ▁active ▁ mm a ▁fighter ▁to ▁carry ▁the ▁ o ly m pic ▁flame . ▁query ▁ : ▁where ▁did ▁the ▁torch ▁route ▁end ▁in ▁saint ▁pe ter sburg ?\n",
      "TRG : ▁palace ▁square\n",
      "PREDICTED : ▁palace ▁square </s>\n",
      "\n",
      "SRC : ▁context ▁ : ▁by ▁the ▁early ▁and ▁mid -20 th ▁century , ▁the ▁city ▁was ▁in ▁decline ▁as ▁factories ▁became ▁old ▁and ▁obsolete , ▁and ▁businesses ▁moved ▁out ▁of ▁the ▁region ▁for ▁cheaper ▁labor ▁elsewhere . ▁bo ston ▁responded ▁by ▁initi ating ▁various ▁urban ▁renewal ▁projects ▁under ▁the ▁direction ▁of ▁the ▁bo ston ▁ re development ▁authority ▁( bra ), ▁which ▁was ▁established ▁in ▁1957 . ▁in ▁1958 , ▁bra ▁initiated ▁ a ▁project ▁to ▁improve ▁the ▁historic ▁west ▁end ▁neighborhood . ▁extensive ▁demolition ▁was ▁met ▁with ▁ voc if er ous ▁public ▁opposition . ▁query ▁ : ▁how ▁did ▁the ▁people ▁of ▁bo ston ▁react ▁to ▁the ▁demolition ▁of ▁the ▁west ▁end ?\n",
      "TRG : ▁with ▁ voc if er ous ▁public ▁opposition .\n",
      "PREDICTED : ▁ voc if er ous ▁public ▁opposition </s>\n",
      "\n",
      "SRC : ▁context ▁ : ▁the ▁city ' s ▁national ▁basketball ▁association ▁teams ▁are ▁the ▁ brook ly n ▁net s ▁and ▁the ▁new ▁york ▁ k nick s , ▁while ▁the ▁new ▁york ▁liberty ▁is ▁the ▁city ' s ▁women ' s ▁national ▁basketball ▁association . ▁the ▁first ▁national ▁college - level ▁basketball ▁championship , ▁the ▁national ▁invitation ▁tournament , ▁was ▁held ▁in ▁new ▁york ▁in ▁1938 ▁and ▁remains ▁in ▁the ▁city . ▁the ▁city ▁is ▁well ▁known ▁for ▁its ▁links ▁to ▁basketball , ▁which ▁is ▁played ▁in ▁nearly ▁every ▁park ▁in ▁the ▁city ▁by ▁local ▁youth , ▁many ▁of ▁whom ▁have ▁gone ▁on ▁to ▁play ▁for ▁major ▁college ▁programs ▁and ▁in ▁the ▁ n b a . ▁query ▁ : ▁new ▁york ▁city ' s ▁women ' s ▁basketball ▁team ▁is ▁called ▁what ?\n",
      "TRG : ▁new ▁york ▁liberty\n",
      "PREDICTED : ▁new ▁york ▁liberty </s>\n",
      "\n",
      "SRC : ▁context ▁ : ▁during ▁world ▁war ▁ i i , ▁the ▁ bri t ish ▁destroyed ▁the ▁major ▁government ▁buildings , ▁oil ▁well s ▁and ▁mine s ▁for ▁ tungs ten , ▁ t in , ▁lead ▁and ▁silver ▁to ▁keep ▁them ▁from ▁the ▁ja pan e s e . ▁my an mar ▁was ▁bomb e d ▁extensively ▁by ▁both ▁sides . ▁query ▁ : ▁what ▁lead ▁to ▁the ▁architectural ▁changes ▁in ▁my an mar ▁ ?\n",
      "TRG : ▁bomb e d ▁extensively\n",
      "PREDICTED : ▁bomb e d ▁extensively ▁by ▁both ▁sides </s>\n",
      "\n",
      "SRC : ▁context ▁ : ▁intellectual s ▁such ▁as ▁ rob er t ▁dar nton ▁and ▁ j ür gen ▁habe r mas ▁have ▁focused ▁on ▁the ▁social ▁conditions ▁of ▁the ▁ en light en ment . ▁habe r mas ▁described ▁the ▁creation ▁of ▁the ▁\" bourgeois ▁public ▁ sphere \" ▁in ▁18 th - century ▁ europe , ▁ containing ▁the ▁new ▁venues ▁and ▁modes ▁of ▁communication ▁ allowing ▁for ▁rational ▁exchange . ▁query ▁ : ▁the ▁new ▁venues ▁and ▁modes ▁of ▁communication ▁ allowing ▁for ▁rational ▁exchange ▁were ▁given ▁what ▁term ▁by ▁habe r mas ▁in ▁18 th ▁century ▁ europe ?\n",
      "TRG : ▁the ▁\" bourgeois ▁public ▁ sphere \"\n",
      "PREDICTED : ▁ bourgeois ▁public ▁ sphere </s>\n",
      "\n",
      "SRC : ▁context ▁ : ▁the ▁last ▁ruler ▁from ▁the ▁ p to le mai c ▁line ▁was ▁ cle o p a tra ▁ vii , ▁who ▁committed ▁suicide ▁following ▁the ▁burial ▁of ▁her ▁lover ▁mark ▁ a nton y ▁who ▁had ▁died ▁in ▁her ▁arms ▁( from ▁ a ▁self - in f lic ted ▁ stab ▁wound ), ▁after ▁ o c t avi an ▁had ▁captured ▁ale x and r i a ▁and ▁her ▁ mer c en ary ▁forces ▁had ▁fled . ▁query ▁ : ▁how ▁did ▁mark ▁an th on y ' s ▁love ▁die ?\n",
      "TRG : ▁suicide\n",
      "PREDICTED : ▁in ▁her ▁arms </s>\n",
      "\n",
      "SRC : ▁context ▁ : ▁in ▁ jun e ▁18 54 , ▁the ▁ allied ▁expedition ary ▁force ▁ landed ▁at ▁ v arna , ▁ a ▁city ▁on ▁the ▁black ▁sea ' s ▁western ▁coast ▁( now ▁in ▁bulg aria ). ▁they ▁made ▁little ▁advance ▁from ▁their ▁base ▁there . : 1 75 – 176 ▁in ▁ ju ly ▁18 54 , ▁the ▁ tur k s ▁under ▁ o mar ▁pas ha ▁crossed ▁the ▁ dan u be ▁into ▁wall achi a ▁and ▁on ▁7 ▁ ju ly ▁18 54 , ▁engaged ▁the ▁ russia n s ▁in ▁the ▁city ▁of ▁ g i urgi u ▁and ▁conquer e d ▁it . ▁query ▁ : ▁in ▁what ▁year ▁did ▁the ▁ tur k s ▁cross ▁the ▁ dan u be ▁into ▁wall achi a ▁ ?\n",
      "TRG : ▁18 54\n",
      "PREDICTED : ▁18 54 </s>\n",
      "\n",
      "SRC : ▁context ▁ : ▁for ▁five ▁consecutive ▁seasons , ▁starting ▁in ▁season ▁seven , ▁the ▁title ▁was ▁given ▁to ▁ a ▁white ▁male ▁who ▁plays ▁the ▁guitar ▁ – ▁ a ▁trend ▁that ▁idol ▁pun d its ▁call ▁the ▁\" white ▁guy ▁with ▁guitar \" ▁or ▁\" w g w g \" ▁factor . ▁query ▁ : ▁what ▁instrument ▁did ▁the ▁winners ▁for ▁five ▁seasons ▁in ▁ a ▁row ▁play ?\n",
      "TRG : ▁guitar\n",
      "PREDICTED : ▁guitar </s>\n",
      "\n"
     ]
    }
   ],
   "source": [
    "idxs = random.sample(range(0,len(valid_data.examples)),20)\n",
    "\n",
    "for i in idxs:\n",
    "    src = vars(valid_data.examples[i])['src']\n",
    "    trg = vars(valid_data.examples[i])['trg']\n",
    "    translation = translate_sentence(src, SRC, TRG, model, device)\n",
    "\n",
    "    print(f\"SRC : {' '.join(tokenizer.convert_ids_to_tokens(src))}\")\n",
    "    print(f\"TRG : {' '.join(tokenizer.convert_ids_to_tokens(trg))}\")\n",
    "    print(f\"PREDICTED : {' '.join(tokenizer.convert_ids_to_tokens(translation))}\\n\")"
   ]
  },
  {
   "cell_type": "code",
   "execution_count": null,
   "metadata": {},
   "outputs": [],
   "source": []
  },
  {
   "cell_type": "code",
   "execution_count": null,
   "metadata": {},
   "outputs": [],
   "source": []
  }
 ],
 "metadata": {
  "kernelspec": {
   "display_name": "Python 3",
   "language": "python",
   "name": "python3"
  },
  "language_info": {
   "codemirror_mode": {
    "name": "ipython",
    "version": 3
   },
   "file_extension": ".py",
   "mimetype": "text/x-python",
   "name": "python",
   "nbconvert_exporter": "python",
   "pygments_lexer": "ipython3",
   "version": "3.8.3"
  }
 },
 "nbformat": 4,
 "nbformat_minor": 4
}

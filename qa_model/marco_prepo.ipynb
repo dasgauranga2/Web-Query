{
 "cells": [
  {
   "cell_type": "code",
   "execution_count": 1,
   "metadata": {},
   "outputs": [],
   "source": [
    "import json\n",
    "import os\n",
    "from transformers import T5Tokenizer\n",
    "import pandas as pd\n",
    "import random"
   ]
  },
  {
   "cell_type": "code",
   "execution_count": 2,
   "metadata": {},
   "outputs": [],
   "source": [
    "tokenizer = T5Tokenizer.from_pretrained('t5-small')"
   ]
  },
  {
   "cell_type": "code",
   "execution_count": null,
   "metadata": {},
   "outputs": [],
   "source": []
  },
  {
   "cell_type": "code",
   "execution_count": null,
   "metadata": {},
   "outputs": [],
   "source": []
  },
  {
   "cell_type": "code",
   "execution_count": 3,
   "metadata": {},
   "outputs": [],
   "source": [
    "with open('marco2.json') as f:\n",
    "  data = json.load(f)"
   ]
  },
  {
   "cell_type": "code",
   "execution_count": 4,
   "metadata": {},
   "outputs": [
    {
     "data": {
      "text/plain": [
       "dict_keys(['answers', 'passages', 'query', 'query_id', 'query_type', 'wellFormedAnswers'])"
      ]
     },
     "execution_count": 4,
     "metadata": {},
     "output_type": "execute_result"
    }
   ],
   "source": [
    "data.keys()"
   ]
  },
  {
   "cell_type": "code",
   "execution_count": 5,
   "metadata": {},
   "outputs": [
    {
     "name": "stdout",
     "output_type": "stream",
     "text": [
      "808731\n",
      "808731\n",
      "808731\n"
     ]
    }
   ],
   "source": [
    "print(len(data['answers']))\n",
    "print(len(data['passages']))\n",
    "print(len(data['query']))"
   ]
  },
  {
   "cell_type": "code",
   "execution_count": 6,
   "metadata": {},
   "outputs": [],
   "source": [
    "result = []"
   ]
  },
  {
   "cell_type": "code",
   "execution_count": 7,
   "metadata": {},
   "outputs": [],
   "source": [
    "for key in data['answers']:\n",
    "    for p in data['passages'][key]:\n",
    "        if p['is_selected'] == 1:\n",
    "            context = p['passage_text'].lower()\n",
    "            break\n",
    "    query = data['query'][key].lower()\n",
    "    answer = data['answers'][key][0].lower()\n",
    "    txt = 'context : ' + context + ' query : ' + query\n",
    "    \n",
    "    if answer != 'no answer present.' and len(tokenizer.tokenize(context)) < 120 and len(tokenizer.tokenize(query)) < 20 and len(tokenizer.tokenize(answer)) < 20:\n",
    "        result.append([txt, answer])"
   ]
  },
  {
   "cell_type": "code",
   "execution_count": 8,
   "metadata": {},
   "outputs": [
    {
     "data": {
      "text/plain": [
       "249684"
      ]
     },
     "execution_count": 8,
     "metadata": {},
     "output_type": "execute_result"
    }
   ],
   "source": [
    "len(result)"
   ]
  },
  {
   "cell_type": "code",
   "execution_count": 9,
   "metadata": {},
   "outputs": [],
   "source": [
    "random.shuffle(result)"
   ]
  },
  {
   "cell_type": "code",
   "execution_count": 10,
   "metadata": {},
   "outputs": [],
   "source": [
    "result = result[:90000]"
   ]
  },
  {
   "cell_type": "code",
   "execution_count": null,
   "metadata": {},
   "outputs": [],
   "source": []
  },
  {
   "cell_type": "code",
   "execution_count": null,
   "metadata": {},
   "outputs": [],
   "source": []
  },
  {
   "cell_type": "code",
   "execution_count": 11,
   "metadata": {},
   "outputs": [
    {
     "data": {
      "text/plain": [
       "[['context : last name: death. recorded as dart, darte, darthe, death, dearth and possibly others, this is an english surname of two possible origins. the most likely is french as shown below, but recent research has also strongly indicated an english source which may have been overlooked in the past possibly because of its rather mordid conclusions. query : last name that means death',\n",
       "  'dart, darte, darthe, dearth.'],\n",
       " ['context : for example, say that your traditional ira has a cost basis of $30,000 and is worth $100,000 when you take a $10,000 withdrawal. that means 30 percent of the withdrawal comes out of your cost basis and is tax-free; 70 percent comes from the remainder of the account and is taxable. query : cost basis on ira accounts',\n",
       "  '$30,000'],\n",
       " ['context : remove 1 shell at a time and pipe in the cheese mixture. place each filled shell into the sauce lined baking dish, arranging them into 2 even rows. method 4 baking manicotti. cover the filled shells (both uncooked and cooked methods) with 1 1/2 cups to 2 1/2 cups (355 ml to 591 ml) of marinara sauce. sprinkle 4 oz. (118 ml) of parmesan or romano cheese over the top. bake the uncooked shells covered with foil for 50 minutes. query : how long do i bake manicotti for',\n",
       "  '50 minutes'],\n",
       " ['context : ciprofloxacin is used to treat a wide variety of infections, including infections of bones and joints, endocarditis, gastroenteritis, malignant otitis externa, respiratory tract infections, cellulitis, urinary tract infections, prostatitis, anthrax, and chancroid. query : what infections does ciprofloxacin treat',\n",
       "  'bones and joints.'],\n",
       " ['context : collins, new york. collins is a town in erie county, new york, united states. the town is on the south border of the county and is considered to be one of the southtowns of erie county. the population at the 2010 census was 6,601. query : what county is collins ny',\n",
       "  'erie'],\n",
       " ['context : according to the times, a beef quesarito costs $1.99 and contains 650 calories, 34 grams of total fat; a shredded chicken quesarito costs $2.79 and has 620 calories and 30 grams of total fat; and a steak quesarito costs $2.99 and holds 640 calories and 31 grams of total fat. so move over doritos locos tacos. query : calories in steak quesarito',\n",
       "  '640'],\n",
       " ['context : he’s a three-time grammy award nominee, a pioneer and one of the most popular and respected tejano artists in history. after 60 years as a singer and musician, bobby butler, the legendary “el charro negro” (the black cowboy), is retiring after one final performance june 17 in his longtime home of san angelo. “along with the help of god, i’ve done it all,” butler said. query : who is bobbie butler',\n",
       "  'a singer and musician.'],\n",
       " [\"context : making the world better, one answer at a time. the receptor in the reflex arc of a stretch reflex are 'muscle spindles' which are spindle shaped receptors distributed throughout the belly of the muscle. query : stretch reflex receptors are called\",\n",
       "  'muscle spindles'],\n",
       " ['context : duration and treatment. with an average lifespan after onset of 5 to 7 years, the progress of dementia with lewy bodies is relentless; however, the rate of decline varies with each person. dlb does not follow a pattern of stages as is seen in some other dementias. death usually occurs from pneumonia or other illness. query : how long is the life span of a dementia person',\n",
       "  '5 to 7 years'],\n",
       " ['context : how ahi is used. the ahi is used to classify the severity of your sleep apnea, according to the following criteria for adults: normal: fewer than 5 events per hour of sleep. mild: 5-14.9 events per hour of sleep. moderate: 15-29.9 events per hour of sleep. severe: greater than 30 events per hour of sleep. query : what is a normal ahi',\n",
       "  'it is fewer than 5 events per hour of sleep.'],\n",
       " ['context : comparison of 1 square yard with some imperial and metric units of area. the square yard (northern india: gaj) is an imperial unit of area, formerly used in most of the english-speaking world but now generally replaced by the square metre outside of the u.s., canada and the u.k. query : what is one square yard',\n",
       "  'an imperial unit of area.'],\n",
       " [\"context : however, he does think that this move may be a precursor to netflix putting the kibosh on multiple users sharing just one account. as netflix's terms of use now stands, customers can use six authorized, netflix-ready devices. this means that friends living in different locations can share the cost of one account as long as no more than two streams are going at once. query : how many devices can you use netflix on\",\n",
       "  'you can use six authorized, netflix-ready devices.'],\n",
       " ['context : closest airport to deridder, la. the closest airport is lake charles regional airport (lch). distance from lake charles regional airport to deridder is 80,4 kilometers (50,0 miles). lake charles regional airport is located approximately 9,9 kilometers (6,1 miles) south of lake charles and about 19,3 kilometers (12,0 miles) southeast of sulphur. query : what is closest airport to deridder, la',\n",
       "  'lake charles regional airport'],\n",
       " [\"context : the quiet man cottage museum is housed in a replica of the white o'morn cottage seen in john ford's famous film. located in cong village, county mayo, the idyllic backdrop for many of the quiet man scenes. query : where was the quiet man's cottage located\",\n",
       "  'the quiet man cottage museum is located in cong village, county mayo.'],\n",
       " ['context : the plot focuses on the team working cases and on the personal lives of the characters, depicting the hardened life and statutory requirements of a profiler. the show spawned two spin-offs: criminal minds: suspect behavior (2011) and criminal minds: beyond borders (2016). on may 6, 2016, cbs renewed the show for a twelfth season, which is set to premiere on september 28, 2016. query : when is new criminal minds on',\n",
       "  'may 6, 2016'],\n",
       " ['context : pediatrics is a collaborative specialty -- pediatricians work with other medical specialists and healthcare professionals to provide for the health and emotional needs of children. education: query : is pediatrics considered a specialty',\n",
       "  'yes'],\n",
       " ['context : two of the most popular dishes in the chinese-american canon have similar names. “mein” means noodles, so whether you order chow mein or lo mein, you’ll end up with egg-enhanced wheat noodles on your plate. but the dishes are prepared differently, which is why chow mein has the slight edge from a health standpoint. query : is lo mein a popular chinese food',\n",
       "  'yes,lo mein a popular chinese food.'],\n",
       " ['context : perhaps the most important parameter is temperature – chicken eggs should be incubated at a temperature between 99 and 102 degrees fahrenheit (99.5 is often considered to be ideal) and 50 to 65 percent relative humidity (60 percent is often considered the ideal).uring the final three days of incubation, the eggs should ideally be located in a slightly cooler (98.5 degrees) and more humid (65 percent relative humidity or greater) environment to facilitate successful hatching. query : what temperature to incubate chicken eggs?',\n",
       "  'between 99 and 102 degrees fahrenheit (99.5 is often considered to be ideal).'],\n",
       " ['context : what are proanthocyanidins? proanthocyanidins or condensed tannins, also calledpycno-genols and leukocyanidins, are polyphenolic compounds (in particular they are a flavonoid subgroup) widely distributed in the plant kingdom, second only to lignin as the most abundant phenol in nature. query : what are proanthocyanidins',\n",
       "  'proanthocyanidins are polyphenolic compounds widely distributed in the plant kingdom.'],\n",
       " ['context : 1 with immediate and antibiotic-free treatment, strep throat can improve in two to five days, up to a week.  immediate treatment of strep throat is very crucial not just for quick recovery, but because an untreated case of strep throat can lead to further complications. query : how long strep throat symptoms last',\n",
       "  'in two to five days, up to a week.'],\n",
       " ['context : put chicken in kettle; add water and ... reduce heat and simmer 1 hour. remove from heat; ... is cool, remove meat from bones and dice. you can cook rice in broth. query : how long to simmer chicken',\n",
       "  '1 hour.'],\n",
       " ['context : if you ignore the earth s orbit around the sun the moon takes 27 32 days to go 360 degrees around us in other words the time it takes to cover 360 degrees of the celestial sphere but since we orbit the sun the moon has to travel farther than 360 degrees to reach the same point with respect to the earth and sun query : how long does it take for moon to orbit earth',\n",
       "  '27.32 days'],\n",
       " ['context : mangroves are trees and shrubs that have adapted to life in a saltwater environment. t here are about 80 different species of mangrove trees. all of these trees grow in areas with low-oxygen soil, where slow-moving waters allow fine sediments to accumulate. mangrove forests only grow at tropical and subtropical latitudes near the equator because they cannot withstand freezing temperatures. query : what is mangroves',\n",
       "  'there are trees and shrubs that have adapted to life in a saltwater environment.'],\n",
       " ['context : webster dictionary(0.00 / 0 votes)rate this definition: pelt(noun) the skin of a beast with the hair on; a raw or undressed hide; a skin preserved with the hairy or woolly covering on it. query : what is a pelt',\n",
       "  'the skin of a beast with the hair on.'],\n",
       " ['context : what is fleet glycerin suppositories pediatric (glycerin rectal)? glycerin rectal is used as a laxative. it works by causing the intestines to hold more water, which softens the stool. glycerin rectal is used to treat occasional constipation or to cleanse the bowel before a rectal exam or other intestinal procedure. query : what pediatric suppository is given for constipation',\n",
       "  'glycerin rectal'],\n",
       " ['context : the national association of professional process servers can! as stated on their website, “napps was founded in 1982 by a group of concerned business owners. this group met in las vegas in october of 1982 to form a nationwide organization to fight proposed federal legislation adverse to the process serving industry.”. query : what is napps',\n",
       "  'national association of professional process servers'],\n",
       " ['context : vote for this answer. gandhi, the 1982 biographical film about mohandas (mahatma) gandhi directed by richard attenborough. approximately 300,000 extras were used in the funeral scene, the most for any film according to guinness world records.. query : which movie had the highest number of extras in a scene',\n",
       "  'gandhi'],\n",
       " ['context : the creation of a single european economic area based on a common market was the fundamental objective of the treaty of rome [see section 2.1]. query : is eu a common market',\n",
       "  'yes, eu is a common market.'],\n",
       " ['context : malden is a city in middlesex county, massachusetts, united states. at the time of the 2010 united states census, the population was at 59,450 people. in 2009, malden was named the best place to raise your kids in massachusetts by bloomberg businessweek. query : malden mass what county',\n",
       "  'middlesex'],\n",
       " ['context : efs profile educational furniture solutions, llc was founded in 1998 and quickly gained a reputation for exceeding client expectations. the sole purpose of efs is to provide unparalleled products and service to the education marketplace. currently efs operates in pennsylvania, new jersey and delaware. efs has worked extensively on thousands of projects ranging in size from one classroom to entire buildings. query : when was efs founded',\n",
       "  'efs profile educational furniture solutions, llc was founded in 1998.']]"
      ]
     },
     "execution_count": 11,
     "metadata": {},
     "output_type": "execute_result"
    }
   ],
   "source": [
    "result[:30]"
   ]
  },
  {
   "cell_type": "code",
   "execution_count": null,
   "metadata": {},
   "outputs": [],
   "source": []
  },
  {
   "cell_type": "code",
   "execution_count": null,
   "metadata": {},
   "outputs": [],
   "source": []
  },
  {
   "cell_type": "code",
   "execution_count": 12,
   "metadata": {},
   "outputs": [],
   "source": [
    "train_df = pd.DataFrame(result , columns = ['Text', 'Answer'])"
   ]
  },
  {
   "cell_type": "code",
   "execution_count": 13,
   "metadata": {},
   "outputs": [],
   "source": [
    "train_df.to_csv('marco2.csv', index=False)"
   ]
  },
  {
   "cell_type": "code",
   "execution_count": null,
   "metadata": {},
   "outputs": [],
   "source": []
  },
  {
   "cell_type": "code",
   "execution_count": null,
   "metadata": {},
   "outputs": [],
   "source": []
  },
  {
   "cell_type": "code",
   "execution_count": 9,
   "metadata": {},
   "outputs": [
    {
     "name": "stdout",
     "output_type": "stream",
     "text": [
      "['$43,746 for the 2014-2015 academic year.']\n",
      "[{'is_selected': 0, 'passage_text': 'the cost of attending new york university is comparable to that of other selective private institutions new york university charges tuition and registration fees on a per unit basis for 2015 2016 the tuition rate is expected to be $ 1616 per unit plus registration and service feesthe estimated total tuition for the ms program is $ 51654 the board of trustees of new york university reserves the right to alter tuition and feesfinal tuition and fees for the 2015 16 academic year will be made official by april of this yearhe board of trustees of new york university reserves the right to alter tuition and fees final tuition and fees for the 2015 16 academic year will be made official by april of this year', 'url': 'http://cusp.nyu.edu/tuition-and-fees/'}, {'is_selected': 1, 'passage_text': 'tuition for new york university is $ 43746 for the 2014 2015 academic year this is 73 % more expensive than the national average private non profit four year college tuition of $ 25240he net out of pocket total cost you end up paying or financing though student loans is known as the net price the reported new york university net price for in state students $ 34268 for the 2013 2014 academic year this net price includes housing and meal expenses', 'url': 'http://www.collegecalc.org/colleges/new-york/new-york-university/'}, {'is_selected': 0, 'passage_text': 'the cost is $ 23628 and 117 % more expensive than the average new york tuition of $ 20118 for 4 year colleges tuition ranks 172nd in new york amongst 4 year colleges for affordability and is the 16th most expensive 4 year college in the stateprice does not vary by residence the school charges an additional fees of $ 2424 in addition to tuition bringing the total effective in state tuition to $ 46170he net out of pocket total cost you end up paying or financing though student loans is known as the net price the reported new york university net price for in state students $ 34268 for the 2013 2014 academic year this net price includes housing and meal expenses', 'url': 'http://www.collegecalc.org/colleges/new-york/new-york-university/'}, {'is_selected': 0, 'passage_text': '$ 470 nonreturnable registration and services fee per point for registration after first point $ 66 the above table represents the tuition and fees for a graduate social work student enrolling in the 2015 2016 academic yearnew york university and the silver school of social work reserve the right to change its courses programs tuition and fees at any time 470 nonreturnable registration and services fee per point for registration after first point $ 66 the above table represents the tuition and fees for a graduate social work student enrolling in the 2015 2016 academic year', 'url': 'http://socialwork.nyu.edu/admissions/msw/tuition-fees.html'}, {'is_selected': 0, 'passage_text': 'at the current published rates an estimated total tuition fees and living expense price for a 4 year bachelor s degree at new york university is $ 256088 for students graduating in normal timehe net out of pocket total cost you end up paying or financing though student loans is known as the net price the reported new york university net price for in state students $ 34268 for the 2013 2014 academic year this net price includes housing and meal expenses', 'url': 'http://www.collegecalc.org/colleges/new-york/new-york-university/'}, {'is_selected': 0, 'passage_text': '$ 51958 this includes tuition and registration fees for executive masters students excluding nurse leaders fees also include a one time $ 1500 empa program fee a typical part time student enrolls in 2 courses per semester each academic yeara typical full time student enrolls in 4 courses per semester each academic year 2015 2016 tuition per credit $ 1589his includes tuition and registration fees for executive masters students excluding nurse leaders fees also include a one time $ 1500 empa program fee a typical part time student enrolls in 2 courses per semester each academic year', 'url': 'http://wagner.nyu.edu/admissions/financialaid'}, {'is_selected': 0, 'passage_text': 'all fees are payable at the time of registration the office of the bursar is located at 25 west fourth street checks and drafts are to be drawn to the order of new york university for the exact amount of the tuition and fees requiredate payment of tuition fee $ 25 late registration fee commencing with the second week of classes $ 50 late registration fee commencing with the fifth week of classes $ 100 deposit upon acceptance nonreturnable $ 500 housing deposit if applicable upon acceptance nonreturnable $ 1000', 'url': 'http://bulletin.cas.nyu.edu/page/financial.aid'}, {'is_selected': 0, 'passage_text': 'nyu students in the halcyon days when tuition was only $ 50k per year nyu students in the halcyon days when tuition was only $ 50k per year it s no secret that matriculating at nyu is breathtakingly expensivenyu will cost you your arms legs soul is not breaking newsyu students in the halcyon days when tuition was only $ 50k per year nyu students in the halcyon days when tuition was only $ 50k per year it s no secret that matriculating at nyu is breathtakingly expensive', 'url': 'http://gothamist.com/2015/03/24/nyu_expensive.php'}, {'is_selected': 0, 'passage_text': 'with this plan you budget the cost of your tuition and or housing after deducting any financial aid you will be receiving and or any payments you have made directly to nyu a nonrefundable enrollment fee of $ 50 is required when applying for the fall spring tuitionpay planate payment of tuition fee $ 25 late registration fee commencing with the second week of classes $ 50 late registration fee commencing with the fifth week of classes $ 100 deposit upon acceptance nonreturnable $ 500 housing deposit if applicable upon acceptance nonreturnable $ 1000', 'url': 'http://bulletin.cas.nyu.edu/page/financial.aid'}, {'is_selected': 0, 'passage_text': 'the net out of pocket total cost you end up paying or financing though student loans is known as the net price the reported new york university net price for in state students $ 34268 for the 2013 2014 academic year this net price includes housing and meal expenseshe net out of pocket total cost you end up paying or financing though student loans is known as the net price the reported new york university net price for in state students $ 34268 for the 2013 2014 academic year this net price includes housing and meal expenses', 'url': 'http://www.collegecalc.org/colleges/new-york/new-york-university/'}]\n",
      "{'is_selected': 1, 'passage_text': 'tuition for new york university is $ 43746 for the 2014 2015 academic year this is 73 % more expensive than the national average private non profit four year college tuition of $ 25240he net out of pocket total cost you end up paying or financing though student loans is known as the net price the reported new york university net price for in state students $ 34268 for the 2013 2014 academic year this net price includes housing and meal expenses', 'url': 'http://www.collegecalc.org/colleges/new-york/new-york-university/'}\n",
      "nyu tuition cost\n"
     ]
    }
   ],
   "source": [
    "print(data['answers']['100000'])\n",
    "print(data['passages']['100000'])\n",
    "for p in data['passages']['100000']:\n",
    "    if p['is_selected'] == 1:\n",
    "        print(p)\n",
    "print(data['query']['100000'])"
   ]
  },
  {
   "cell_type": "code",
   "execution_count": null,
   "metadata": {},
   "outputs": [],
   "source": []
  },
  {
   "cell_type": "code",
   "execution_count": null,
   "metadata": {},
   "outputs": [],
   "source": []
  }
 ],
 "metadata": {
  "kernelspec": {
   "display_name": "Python 3",
   "language": "python",
   "name": "python3"
  },
  "language_info": {
   "codemirror_mode": {
    "name": "ipython",
    "version": 3
   },
   "file_extension": ".py",
   "mimetype": "text/x-python",
   "name": "python",
   "nbconvert_exporter": "python",
   "pygments_lexer": "ipython3",
   "version": "3.8.3"
  }
 },
 "nbformat": 4,
 "nbformat_minor": 4
}
